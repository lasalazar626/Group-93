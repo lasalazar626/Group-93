{
  "nbformat": 4,
  "nbformat_minor": 0,
  "metadata": {
    "colab": {
      "name": "Assessor Data Cleaning - 2010.ipynb",
      "provenance": [],
      "authorship_tag": "ABX9TyN+j6mQ9r/CYN+bAUZSfzuh",
      "include_colab_link": true
    },
    "kernelspec": {
      "name": "python3",
      "display_name": "Python 3"
    },
    "language_info": {
      "name": "python"
    }
  },
  "cells": [
    {
      "cell_type": "markdown",
      "metadata": {
        "id": "view-in-github",
        "colab_type": "text"
      },
      "source": [
        "<a href=\"https://colab.research.google.com/github/sorayabailey23/Group-93/blob/main/Assessor_Data_Cleaning_2010.ipynb\" target=\"_parent\"><img src=\"https://colab.research.google.com/assets/colab-badge.svg\" alt=\"Open In Colab\"/></a>"
      ]
    },
    {
      "cell_type": "markdown",
      "metadata": {
        "id": "NCkY_HRffOx3"
      },
      "source": [
        "# Assessor Data Cleaning - 2010"
      ]
    },
    {
      "cell_type": "code",
      "metadata": {
        "colab": {
          "base_uri": "https://localhost:8080/"
        },
        "id": "-VAEn9kMc05w",
        "outputId": "904e949b-f091-4904-95f1-17497dfed883"
      },
      "source": [
        "#importing libraries \n",
        "\n",
        "from google.colab import drive\n",
        "drive.mount('/content/gdrive')"
      ],
      "execution_count": 182,
      "outputs": [
        {
          "output_type": "stream",
          "text": [
            "Drive already mounted at /content/gdrive; to attempt to forcibly remount, call drive.mount(\"/content/gdrive\", force_remount=True).\n"
          ],
          "name": "stdout"
        }
      ]
    },
    {
      "cell_type": "code",
      "metadata": {
        "id": "ljH4c6VVc-Yc"
      },
      "source": [
        "import numpy as np\n",
        "import pandas as pd\n",
        "import math"
      ],
      "execution_count": 183,
      "outputs": []
    },
    {
      "cell_type": "markdown",
      "metadata": {
        "id": "JuXhCc6DnxXp"
      },
      "source": [
        "##Uploading + Exploring the Data \n",
        "\n",
        "I'll first upload the raw data and see what features it includes.\n"
      ]
    },
    {
      "cell_type": "code",
      "metadata": {
        "colab": {
          "base_uri": "https://localhost:8080/"
        },
        "id": "lxrs7T_IddbX",
        "outputId": "94195e94-617b-474c-c04d-c73c50d64ba0"
      },
      "source": [
        "#Importing data from 2010 in Los Angeles \n",
        "records_df = pd.read_csv(\"gdrive/My Drive/Team 93 Capstone Project/data/Assessor_Parcels_Data_2010.csv\")"
      ],
      "execution_count": 184,
      "outputs": [
        {
          "output_type": "stream",
          "text": [
            "/usr/local/lib/python3.7/dist-packages/IPython/core/interactiveshell.py:2718: DtypeWarning: Columns (37) have mixed types.Specify dtype option on import or set low_memory=False.\n",
            "  interactivity=interactivity, compiler=compiler, result=result)\n"
          ],
          "name": "stderr"
        }
      ]
    },
    {
      "cell_type": "code",
      "metadata": {
        "colab": {
          "base_uri": "https://localhost:8080/",
          "height": 496
        },
        "id": "vMCCCrxGflQ0",
        "outputId": "2ae047c9-ad28-4556-dfdb-f460f688a557"
      },
      "source": [
        "records_df.head()"
      ],
      "execution_count": 185,
      "outputs": [
        {
          "output_type": "execute_result",
          "data": {
            "text/html": [
              "<div>\n",
              "<style scoped>\n",
              "    .dataframe tbody tr th:only-of-type {\n",
              "        vertical-align: middle;\n",
              "    }\n",
              "\n",
              "    .dataframe tbody tr th {\n",
              "        vertical-align: top;\n",
              "    }\n",
              "\n",
              "    .dataframe thead th {\n",
              "        text-align: right;\n",
              "    }\n",
              "</style>\n",
              "<table border=\"1\" class=\"dataframe\">\n",
              "  <thead>\n",
              "    <tr style=\"text-align: right;\">\n",
              "      <th></th>\n",
              "      <th>Unnamed: 0</th>\n",
              "      <th>situszip</th>\n",
              "      <th>taxratearea_city</th>\n",
              "      <th>ain</th>\n",
              "      <th>rollyear</th>\n",
              "      <th>taxratearea</th>\n",
              "      <th>assessorid</th>\n",
              "      <th>usetype</th>\n",
              "      <th>usecode</th>\n",
              "      <th>usecodedescchar1</th>\n",
              "      <th>usecodedescchar2</th>\n",
              "      <th>usecodedescchar3</th>\n",
              "      <th>usecodedescchar4</th>\n",
              "      <th>totbuildingdatalines</th>\n",
              "      <th>yearbuilt</th>\n",
              "      <th>effectiveyearbuilt</th>\n",
              "      <th>sqftmain</th>\n",
              "      <th>bedrooms</th>\n",
              "      <th>bathrooms</th>\n",
              "      <th>units</th>\n",
              "      <th>recordingdate</th>\n",
              "      <th>roll_landvalue</th>\n",
              "      <th>roll_landbaseyear</th>\n",
              "      <th>roll_impvalue</th>\n",
              "      <th>roll_impbaseyear</th>\n",
              "      <th>roll_totlandimp</th>\n",
              "      <th>roll_homeownersexemp</th>\n",
              "      <th>roll_realestateexemp</th>\n",
              "      <th>roll_fixturevalue</th>\n",
              "      <th>roll_fixtureexemp</th>\n",
              "      <th>roll_perspropvalue</th>\n",
              "      <th>roll_perspropexemp</th>\n",
              "      <th>istaxableparcel</th>\n",
              "      <th>roll_totalvalue</th>\n",
              "      <th>roll_totalexemption</th>\n",
              "      <th>nettaxablevalue</th>\n",
              "      <th>parcelclassification</th>\n",
              "      <th>adminregion</th>\n",
              "      <th>cluster</th>\n",
              "      <th>parcelboundarydescription</th>\n",
              "      <th>situshouseno</th>\n",
              "      <th>situsfraction</th>\n",
              "      <th>situsdirection</th>\n",
              "      <th>situsstreet</th>\n",
              "      <th>situsunit</th>\n",
              "      <th>situscity</th>\n",
              "      <th>rowid</th>\n",
              "      <th>center_lat</th>\n",
              "      <th>center_lon</th>\n",
              "      <th>location_1</th>\n",
              "      <th>propertylocation</th>\n",
              "      <th>situszip5</th>\n",
              "    </tr>\n",
              "  </thead>\n",
              "  <tbody>\n",
              "    <tr>\n",
              "      <th>0</th>\n",
              "      <td>0</td>\n",
              "      <td></td>\n",
              "      <td>LOS ANGELES</td>\n",
              "      <td>2137011901</td>\n",
              "      <td>2010</td>\n",
              "      <td>16</td>\n",
              "      <td>2137-011-901</td>\n",
              "      <td>OTH</td>\n",
              "      <td>8800</td>\n",
              "      <td>Miscellaneous</td>\n",
              "      <td>Government Owned Property</td>\n",
              "      <td></td>\n",
              "      <td></td>\n",
              "      <td>0</td>\n",
              "      <td>0</td>\n",
              "      <td>0</td>\n",
              "      <td>0</td>\n",
              "      <td>0</td>\n",
              "      <td>0</td>\n",
              "      <td>0</td>\n",
              "      <td>19590311</td>\n",
              "      <td>0</td>\n",
              "      <td>1975</td>\n",
              "      <td>0</td>\n",
              "      <td>1975</td>\n",
              "      <td>0</td>\n",
              "      <td>0</td>\n",
              "      <td>0</td>\n",
              "      <td>0</td>\n",
              "      <td>0</td>\n",
              "      <td>0</td>\n",
              "      <td>0</td>\n",
              "      <td>N</td>\n",
              "      <td>0</td>\n",
              "      <td>0</td>\n",
              "      <td>0</td>\n",
              "      <td>Public (non-taxable government-owned)</td>\n",
              "      <td>02</td>\n",
              "      <td>2150</td>\n",
              "      <td>TRACT # 19212 SW 5 FT MEASURED RADIALLY TO SW...</td>\n",
              "      <td>0</td>\n",
              "      <td></td>\n",
              "      <td></td>\n",
              "      <td></td>\n",
              "      <td></td>\n",
              "      <td></td>\n",
              "      <td>20102137011901</td>\n",
              "      <td>34.195156</td>\n",
              "      <td>-118.580389</td>\n",
              "      <td>{'latitude': '34.19515585', 'longitude': '-118...</td>\n",
              "      <td>NaN</td>\n",
              "      <td>NaN</td>\n",
              "    </tr>\n",
              "    <tr>\n",
              "      <th>1</th>\n",
              "      <td>1</td>\n",
              "      <td></td>\n",
              "      <td>LOS ANGELES</td>\n",
              "      <td>2137011904</td>\n",
              "      <td>2010</td>\n",
              "      <td>16</td>\n",
              "      <td>2137-011-904</td>\n",
              "      <td>OTH</td>\n",
              "      <td>8800</td>\n",
              "      <td>Miscellaneous</td>\n",
              "      <td>Government Owned Property</td>\n",
              "      <td></td>\n",
              "      <td></td>\n",
              "      <td>0</td>\n",
              "      <td>0</td>\n",
              "      <td>0</td>\n",
              "      <td>0</td>\n",
              "      <td>0</td>\n",
              "      <td>0</td>\n",
              "      <td>0</td>\n",
              "      <td>19590818</td>\n",
              "      <td>0</td>\n",
              "      <td>1975</td>\n",
              "      <td>0</td>\n",
              "      <td>1975</td>\n",
              "      <td>0</td>\n",
              "      <td>0</td>\n",
              "      <td>0</td>\n",
              "      <td>0</td>\n",
              "      <td>0</td>\n",
              "      <td>0</td>\n",
              "      <td>0</td>\n",
              "      <td>N</td>\n",
              "      <td>0</td>\n",
              "      <td>0</td>\n",
              "      <td>0</td>\n",
              "      <td>Public (non-taxable government-owned)</td>\n",
              "      <td>02</td>\n",
              "      <td>2150</td>\n",
              "      <td>TRACT # 19212 SW 5 FT MEASURED RADIALLY TO SW ...</td>\n",
              "      <td>0</td>\n",
              "      <td></td>\n",
              "      <td></td>\n",
              "      <td></td>\n",
              "      <td></td>\n",
              "      <td></td>\n",
              "      <td>20102137011904</td>\n",
              "      <td>34.195082</td>\n",
              "      <td>-118.580164</td>\n",
              "      <td>{'latitude': '34.19508201', 'longitude': '-118...</td>\n",
              "      <td>NaN</td>\n",
              "      <td>NaN</td>\n",
              "    </tr>\n",
              "    <tr>\n",
              "      <th>2</th>\n",
              "      <td>2</td>\n",
              "      <td></td>\n",
              "      <td>LOS ANGELES</td>\n",
              "      <td>2137015902</td>\n",
              "      <td>2010</td>\n",
              "      <td>16</td>\n",
              "      <td>2137-015-902</td>\n",
              "      <td>OTH</td>\n",
              "      <td>8800</td>\n",
              "      <td>Miscellaneous</td>\n",
              "      <td>Government Owned Property</td>\n",
              "      <td></td>\n",
              "      <td></td>\n",
              "      <td>0</td>\n",
              "      <td>0</td>\n",
              "      <td>0</td>\n",
              "      <td>0</td>\n",
              "      <td>0</td>\n",
              "      <td>0</td>\n",
              "      <td>0</td>\n",
              "      <td>19670245</td>\n",
              "      <td>0</td>\n",
              "      <td>1975</td>\n",
              "      <td>0</td>\n",
              "      <td>0</td>\n",
              "      <td>0</td>\n",
              "      <td>0</td>\n",
              "      <td>0</td>\n",
              "      <td>0</td>\n",
              "      <td>0</td>\n",
              "      <td>0</td>\n",
              "      <td>0</td>\n",
              "      <td>N</td>\n",
              "      <td>0</td>\n",
              "      <td>0</td>\n",
              "      <td>0</td>\n",
              "      <td>Public (non-taxable government-owned)</td>\n",
              "      <td>02</td>\n",
              "      <td>2150</td>\n",
              "      <td>TR=10287 VAC ST AND POR OF LOTS 17 THRU 20 AND...</td>\n",
              "      <td>0</td>\n",
              "      <td></td>\n",
              "      <td></td>\n",
              "      <td></td>\n",
              "      <td></td>\n",
              "      <td></td>\n",
              "      <td>20102137015902</td>\n",
              "      <td>34.200038</td>\n",
              "      <td>-118.582999</td>\n",
              "      <td>{'latitude': '34.20003843', 'longitude': '-118...</td>\n",
              "      <td>NaN</td>\n",
              "      <td>NaN</td>\n",
              "    </tr>\n",
              "    <tr>\n",
              "      <th>3</th>\n",
              "      <td>3</td>\n",
              "      <td></td>\n",
              "      <td>LOS ANGELES</td>\n",
              "      <td>2137019905</td>\n",
              "      <td>2010</td>\n",
              "      <td>16</td>\n",
              "      <td>2137-019-905</td>\n",
              "      <td>OTH</td>\n",
              "      <td>8800</td>\n",
              "      <td>Miscellaneous</td>\n",
              "      <td>Government Owned Property</td>\n",
              "      <td></td>\n",
              "      <td></td>\n",
              "      <td>0</td>\n",
              "      <td>0</td>\n",
              "      <td>0</td>\n",
              "      <td>0</td>\n",
              "      <td>0</td>\n",
              "      <td>0</td>\n",
              "      <td>0</td>\n",
              "      <td>19821015</td>\n",
              "      <td>0</td>\n",
              "      <td>1985</td>\n",
              "      <td>0</td>\n",
              "      <td>1975</td>\n",
              "      <td>0</td>\n",
              "      <td>0</td>\n",
              "      <td>0</td>\n",
              "      <td>0</td>\n",
              "      <td>0</td>\n",
              "      <td>0</td>\n",
              "      <td>0</td>\n",
              "      <td>N</td>\n",
              "      <td>0</td>\n",
              "      <td>0</td>\n",
              "      <td>0</td>\n",
              "      <td>Public (non-taxable government-owned)</td>\n",
              "      <td>02</td>\n",
              "      <td>2150</td>\n",
              "      <td>TR=1339*N 100 FT OF S 385.07 FT (EX OF ST) OF ...</td>\n",
              "      <td>0</td>\n",
              "      <td></td>\n",
              "      <td></td>\n",
              "      <td></td>\n",
              "      <td></td>\n",
              "      <td></td>\n",
              "      <td>20102137019905</td>\n",
              "      <td>34.198327</td>\n",
              "      <td>-118.587824</td>\n",
              "      <td>{'latitude': '34.19832711', 'longitude': '-118...</td>\n",
              "      <td>NaN</td>\n",
              "      <td>NaN</td>\n",
              "    </tr>\n",
              "    <tr>\n",
              "      <th>4</th>\n",
              "      <td>4</td>\n",
              "      <td></td>\n",
              "      <td>LOS ANGELES</td>\n",
              "      <td>2137019906</td>\n",
              "      <td>2010</td>\n",
              "      <td>16</td>\n",
              "      <td>2137-019-906</td>\n",
              "      <td>VAC</td>\n",
              "      <td>010V</td>\n",
              "      <td>Residential</td>\n",
              "      <td>Single Family Residence</td>\n",
              "      <td></td>\n",
              "      <td>Vacant Land</td>\n",
              "      <td>0</td>\n",
              "      <td>0</td>\n",
              "      <td>0</td>\n",
              "      <td>0</td>\n",
              "      <td>0</td>\n",
              "      <td>0</td>\n",
              "      <td>0</td>\n",
              "      <td>19860224</td>\n",
              "      <td>0</td>\n",
              "      <td>1986</td>\n",
              "      <td>0</td>\n",
              "      <td>1975</td>\n",
              "      <td>0</td>\n",
              "      <td>0</td>\n",
              "      <td>0</td>\n",
              "      <td>0</td>\n",
              "      <td>0</td>\n",
              "      <td>0</td>\n",
              "      <td>0</td>\n",
              "      <td>N</td>\n",
              "      <td>0</td>\n",
              "      <td>0</td>\n",
              "      <td>0</td>\n",
              "      <td>Public (non-taxable government-owned)</td>\n",
              "      <td>02</td>\n",
              "      <td>2150</td>\n",
              "      <td>TR=1339*N 100 FT OF S 87.07 FT (EX OF ST) OF L...</td>\n",
              "      <td>0</td>\n",
              "      <td></td>\n",
              "      <td></td>\n",
              "      <td></td>\n",
              "      <td></td>\n",
              "      <td></td>\n",
              "      <td>20102137019906</td>\n",
              "      <td>34.198877</td>\n",
              "      <td>-118.587825</td>\n",
              "      <td>{'latitude': '34.19887669', 'longitude': '-118...</td>\n",
              "      <td>NaN</td>\n",
              "      <td>NaN</td>\n",
              "    </tr>\n",
              "  </tbody>\n",
              "</table>\n",
              "</div>"
            ],
            "text/plain": [
              "   Unnamed: 0 situszip  ... propertylocation  situszip5\n",
              "0           0           ...              NaN        NaN\n",
              "1           1           ...              NaN        NaN\n",
              "2           2           ...              NaN        NaN\n",
              "3           3           ...              NaN        NaN\n",
              "4           4           ...              NaN        NaN\n",
              "\n",
              "[5 rows x 52 columns]"
            ]
          },
          "metadata": {
            "tags": []
          },
          "execution_count": 185
        }
      ]
    },
    {
      "cell_type": "code",
      "metadata": {
        "colab": {
          "base_uri": "https://localhost:8080/"
        },
        "id": "gQbh0Kgye-UL",
        "outputId": "f691c1e0-004d-43dc-afbe-5251c262c2cc"
      },
      "source": [
        "records_df.columns"
      ],
      "execution_count": 186,
      "outputs": [
        {
          "output_type": "execute_result",
          "data": {
            "text/plain": [
              "Index(['Unnamed: 0', 'situszip', 'taxratearea_city', 'ain', 'rollyear',\n",
              "       'taxratearea', 'assessorid', 'usetype', 'usecode', 'usecodedescchar1',\n",
              "       'usecodedescchar2', 'usecodedescchar3', 'usecodedescchar4',\n",
              "       'totbuildingdatalines', 'yearbuilt', 'effectiveyearbuilt', 'sqftmain',\n",
              "       'bedrooms', 'bathrooms', 'units', 'recordingdate', 'roll_landvalue',\n",
              "       'roll_landbaseyear', 'roll_impvalue', 'roll_impbaseyear',\n",
              "       'roll_totlandimp', 'roll_homeownersexemp', 'roll_realestateexemp',\n",
              "       'roll_fixturevalue', 'roll_fixtureexemp', 'roll_perspropvalue',\n",
              "       'roll_perspropexemp', 'istaxableparcel', 'roll_totalvalue',\n",
              "       'roll_totalexemption', 'nettaxablevalue', 'parcelclassification',\n",
              "       'adminregion', 'cluster', 'parcelboundarydescription', 'situshouseno',\n",
              "       'situsfraction', 'situsdirection', 'situsstreet', 'situsunit',\n",
              "       'situscity', 'rowid', 'center_lat', 'center_lon', 'location_1',\n",
              "       'propertylocation', 'situszip5'],\n",
              "      dtype='object')"
            ]
          },
          "metadata": {
            "tags": []
          },
          "execution_count": 186
        }
      ]
    },
    {
      "cell_type": "code",
      "metadata": {
        "colab": {
          "base_uri": "https://localhost:8080/"
        },
        "id": "lfqk_ipUfD13",
        "outputId": "6811ad7f-6e1e-466f-cfae-5161ee2af220"
      },
      "source": [
        "#verifying that we pulled data for the correct city and no others\n",
        "records_df[\"taxratearea_city\"].unique()"
      ],
      "execution_count": 187,
      "outputs": [
        {
          "output_type": "execute_result",
          "data": {
            "text/plain": [
              "array(['LOS ANGELES'], dtype=object)"
            ]
          },
          "metadata": {
            "tags": []
          },
          "execution_count": 187
        }
      ]
    },
    {
      "cell_type": "code",
      "metadata": {
        "colab": {
          "base_uri": "https://localhost:8080/"
        },
        "id": "M2J81KULgBsX",
        "outputId": "7452f827-044d-4406-9a23-4706d4c18ccd"
      },
      "source": [
        "records_df.info()"
      ],
      "execution_count": 188,
      "outputs": [
        {
          "output_type": "stream",
          "text": [
            "<class 'pandas.core.frame.DataFrame'>\n",
            "RangeIndex: 790018 entries, 0 to 790017\n",
            "Data columns (total 52 columns):\n",
            " #   Column                     Non-Null Count   Dtype  \n",
            "---  ------                     --------------   -----  \n",
            " 0   Unnamed: 0                 790018 non-null  int64  \n",
            " 1   situszip                   790018 non-null  object \n",
            " 2   taxratearea_city           790018 non-null  object \n",
            " 3   ain                        790018 non-null  int64  \n",
            " 4   rollyear                   790018 non-null  int64  \n",
            " 5   taxratearea                790018 non-null  int64  \n",
            " 6   assessorid                 790018 non-null  object \n",
            " 7   usetype                    789810 non-null  object \n",
            " 8   usecode                    790018 non-null  object \n",
            " 9   usecodedescchar1           789810 non-null  object \n",
            " 10  usecodedescchar2           789810 non-null  object \n",
            " 11  usecodedescchar3           789810 non-null  object \n",
            " 12  usecodedescchar4           789810 non-null  object \n",
            " 13  totbuildingdatalines       790018 non-null  int64  \n",
            " 14  yearbuilt                  790018 non-null  int64  \n",
            " 15  effectiveyearbuilt         790018 non-null  int64  \n",
            " 16  sqftmain                   790018 non-null  int64  \n",
            " 17  bedrooms                   790018 non-null  int64  \n",
            " 18  bathrooms                  790018 non-null  int64  \n",
            " 19  units                      790018 non-null  int64  \n",
            " 20  recordingdate              790018 non-null  int64  \n",
            " 21  roll_landvalue             790018 non-null  int64  \n",
            " 22  roll_landbaseyear          790018 non-null  int64  \n",
            " 23  roll_impvalue              790018 non-null  int64  \n",
            " 24  roll_impbaseyear           790018 non-null  int64  \n",
            " 25  roll_totlandimp            790018 non-null  int64  \n",
            " 26  roll_homeownersexemp       790018 non-null  int64  \n",
            " 27  roll_realestateexemp       790018 non-null  int64  \n",
            " 28  roll_fixturevalue          790018 non-null  int64  \n",
            " 29  roll_fixtureexemp          790018 non-null  int64  \n",
            " 30  roll_perspropvalue         790018 non-null  int64  \n",
            " 31  roll_perspropexemp         790018 non-null  int64  \n",
            " 32  istaxableparcel            790018 non-null  object \n",
            " 33  roll_totalvalue            790018 non-null  int64  \n",
            " 34  roll_totalexemption        790018 non-null  int64  \n",
            " 35  nettaxablevalue            790018 non-null  int64  \n",
            " 36  parcelclassification       790018 non-null  object \n",
            " 37  adminregion                790018 non-null  object \n",
            " 38  cluster                    790018 non-null  int64  \n",
            " 39  parcelboundarydescription  790018 non-null  object \n",
            " 40  situshouseno               790018 non-null  int64  \n",
            " 41  situsfraction              790018 non-null  object \n",
            " 42  situsdirection             790018 non-null  object \n",
            " 43  situsstreet                790018 non-null  object \n",
            " 44  situsunit                  790018 non-null  object \n",
            " 45  situscity                  790018 non-null  object \n",
            " 46  rowid                      790018 non-null  int64  \n",
            " 47  center_lat                 789880 non-null  float64\n",
            " 48  center_lon                 789880 non-null  float64\n",
            " 49  location_1                 789880 non-null  object \n",
            " 50  propertylocation           747306 non-null  object \n",
            " 51  situszip5                  747298 non-null  float64\n",
            "dtypes: float64(3), int64(29), object(20)\n",
            "memory usage: 313.4+ MB\n"
          ],
          "name": "stdout"
        }
      ]
    },
    {
      "cell_type": "markdown",
      "metadata": {
        "id": "YnAWXm-moobd"
      },
      "source": [
        "## Relevance \n",
        "\n",
        "The dataset includes a lot of information that I don't need. For this section, I'll \n",
        "\n",
        "\n",
        "1.   Drop the columns that I don't need \n",
        "2.   Check the remaining columns for unique values\n",
        "1.   Handle missing values, including dropping data that does not include zip codes\n",
        "\n",
        "\n",
        "\n",
        "\n"
      ]
    },
    {
      "cell_type": "markdown",
      "metadata": {
        "id": "7gfuNxT-vPjj"
      },
      "source": [
        "###Determining which columns to drop"
      ]
    },
    {
      "cell_type": "code",
      "metadata": {
        "id": "eADWVKnugHQ_"
      },
      "source": [
        "#dropping irrelevant columns\n",
        "\n",
        "records_df = records_df.drop(columns=['Unnamed: 0', 'situszip','ain',\n",
        "       'taxratearea', 'usetype', 'usecode','usecodedescchar3', 'usecodedescchar4',\n",
        "       'totbuildingdatalines', 'yearbuilt', 'effectiveyearbuilt', 'sqftmain',\n",
        "       'bedrooms', 'bathrooms', 'units', 'recordingdate', 'roll_landvalue',\n",
        "       'roll_landbaseyear', 'roll_impvalue', 'roll_impbaseyear',\n",
        "       'roll_totlandimp', 'roll_homeownersexemp', 'roll_realestateexemp',\n",
        "       'roll_fixturevalue', 'roll_fixtureexemp', 'roll_perspropvalue',\n",
        "       'roll_perspropexemp', 'istaxableparcel', 'roll_totalvalue',\n",
        "       'roll_totalexemption',\n",
        "       'adminregion', 'cluster', 'parcelboundarydescription', 'situshouseno',\n",
        "       'situsfraction', 'situsdirection', 'situsstreet', 'situsunit',\n",
        "       'situscity', 'rowid', 'center_lat', 'center_lon', 'location_1','propertylocation', \"parcelclassification\"])\n"
      ],
      "execution_count": 189,
      "outputs": []
    },
    {
      "cell_type": "code",
      "metadata": {
        "colab": {
          "base_uri": "https://localhost:8080/",
          "height": 204
        },
        "id": "eO3Qf49aiSfa",
        "outputId": "686eeb0b-706d-43df-a09e-e01b65d3da7b"
      },
      "source": [
        "records_df.head()"
      ],
      "execution_count": 190,
      "outputs": [
        {
          "output_type": "execute_result",
          "data": {
            "text/html": [
              "<div>\n",
              "<style scoped>\n",
              "    .dataframe tbody tr th:only-of-type {\n",
              "        vertical-align: middle;\n",
              "    }\n",
              "\n",
              "    .dataframe tbody tr th {\n",
              "        vertical-align: top;\n",
              "    }\n",
              "\n",
              "    .dataframe thead th {\n",
              "        text-align: right;\n",
              "    }\n",
              "</style>\n",
              "<table border=\"1\" class=\"dataframe\">\n",
              "  <thead>\n",
              "    <tr style=\"text-align: right;\">\n",
              "      <th></th>\n",
              "      <th>taxratearea_city</th>\n",
              "      <th>rollyear</th>\n",
              "      <th>assessorid</th>\n",
              "      <th>usecodedescchar1</th>\n",
              "      <th>usecodedescchar2</th>\n",
              "      <th>nettaxablevalue</th>\n",
              "      <th>situszip5</th>\n",
              "    </tr>\n",
              "  </thead>\n",
              "  <tbody>\n",
              "    <tr>\n",
              "      <th>0</th>\n",
              "      <td>LOS ANGELES</td>\n",
              "      <td>2010</td>\n",
              "      <td>2137-011-901</td>\n",
              "      <td>Miscellaneous</td>\n",
              "      <td>Government Owned Property</td>\n",
              "      <td>0</td>\n",
              "      <td>NaN</td>\n",
              "    </tr>\n",
              "    <tr>\n",
              "      <th>1</th>\n",
              "      <td>LOS ANGELES</td>\n",
              "      <td>2010</td>\n",
              "      <td>2137-011-904</td>\n",
              "      <td>Miscellaneous</td>\n",
              "      <td>Government Owned Property</td>\n",
              "      <td>0</td>\n",
              "      <td>NaN</td>\n",
              "    </tr>\n",
              "    <tr>\n",
              "      <th>2</th>\n",
              "      <td>LOS ANGELES</td>\n",
              "      <td>2010</td>\n",
              "      <td>2137-015-902</td>\n",
              "      <td>Miscellaneous</td>\n",
              "      <td>Government Owned Property</td>\n",
              "      <td>0</td>\n",
              "      <td>NaN</td>\n",
              "    </tr>\n",
              "    <tr>\n",
              "      <th>3</th>\n",
              "      <td>LOS ANGELES</td>\n",
              "      <td>2010</td>\n",
              "      <td>2137-019-905</td>\n",
              "      <td>Miscellaneous</td>\n",
              "      <td>Government Owned Property</td>\n",
              "      <td>0</td>\n",
              "      <td>NaN</td>\n",
              "    </tr>\n",
              "    <tr>\n",
              "      <th>4</th>\n",
              "      <td>LOS ANGELES</td>\n",
              "      <td>2010</td>\n",
              "      <td>2137-019-906</td>\n",
              "      <td>Residential</td>\n",
              "      <td>Single Family Residence</td>\n",
              "      <td>0</td>\n",
              "      <td>NaN</td>\n",
              "    </tr>\n",
              "  </tbody>\n",
              "</table>\n",
              "</div>"
            ],
            "text/plain": [
              "  taxratearea_city  rollyear  ... nettaxablevalue situszip5\n",
              "0      LOS ANGELES      2010  ...               0       NaN\n",
              "1      LOS ANGELES      2010  ...               0       NaN\n",
              "2      LOS ANGELES      2010  ...               0       NaN\n",
              "3      LOS ANGELES      2010  ...               0       NaN\n",
              "4      LOS ANGELES      2010  ...               0       NaN\n",
              "\n",
              "[5 rows x 7 columns]"
            ]
          },
          "metadata": {
            "tags": []
          },
          "execution_count": 190
        }
      ]
    },
    {
      "cell_type": "code",
      "metadata": {
        "id": "dTZFuqdtjZhG"
      },
      "source": [
        "#renaming columns to more recongizable names\n",
        "records_df.columns=[\"city\", \"year\", \"assessor_id\",\"general_use\", \"specific_use\",\"net_value\", \"zip_code\"]"
      ],
      "execution_count": 192,
      "outputs": []
    },
    {
      "cell_type": "markdown",
      "metadata": {
        "id": "7CDOlnKKy3QF"
      },
      "source": [
        "###Handling Missing Values in [\"assessor_id\"] (none!)"
      ]
    },
    {
      "cell_type": "code",
      "metadata": {
        "colab": {
          "base_uri": "https://localhost:8080/"
        },
        "id": "hd6pxjgay4UW",
        "outputId": "42faab7e-04a4-488e-b209-934e5d8410a2"
      },
      "source": [
        "len(records_df['assessor_id'].unique())"
      ],
      "execution_count": 193,
      "outputs": [
        {
          "output_type": "execute_result",
          "data": {
            "text/plain": [
              "790018"
            ]
          },
          "metadata": {
            "tags": []
          },
          "execution_count": 193
        }
      ]
    },
    {
      "cell_type": "code",
      "metadata": {
        "colab": {
          "base_uri": "https://localhost:8080/"
        },
        "id": "y7h03GazzKd_",
        "outputId": "ce6ddd36-735d-458c-ac10-3a996124d618"
      },
      "source": [
        "records_df['assessor_id'].isnull().sum()"
      ],
      "execution_count": 194,
      "outputs": [
        {
          "output_type": "execute_result",
          "data": {
            "text/plain": [
              "0"
            ]
          },
          "metadata": {
            "tags": []
          },
          "execution_count": 194
        }
      ]
    },
    {
      "cell_type": "code",
      "metadata": {
        "id": "2cFxx0KyzW7m"
      },
      "source": [
        "#this series is good to go"
      ],
      "execution_count": 195,
      "outputs": []
    },
    {
      "cell_type": "markdown",
      "metadata": {
        "id": "ReWrRY0oporI"
      },
      "source": [
        "### Handling Missing Values in [\"general_use\"]"
      ]
    },
    {
      "cell_type": "code",
      "metadata": {
        "colab": {
          "base_uri": "https://localhost:8080/"
        },
        "id": "l4e1TOk4jt9R",
        "outputId": "727645ec-c835-44ca-c06b-44c067023b04"
      },
      "source": [
        "#we have entries w/ nan and (unavailable) string\n",
        "records_df[\"general_use\"].unique()"
      ],
      "execution_count": 196,
      "outputs": [
        {
          "output_type": "execute_result",
          "data": {
            "text/plain": [
              "array(['Miscellaneous', 'Residential', 'Industrial', 'Commercial',\n",
              "       'Recreational', 'Institutional', nan, '(unavailable)', 'Dry Farm',\n",
              "       'Irrigated Farm'], dtype=object)"
            ]
          },
          "metadata": {
            "tags": []
          },
          "execution_count": 196
        }
      ]
    },
    {
      "cell_type": "code",
      "metadata": {
        "colab": {
          "base_uri": "https://localhost:8080/"
        },
        "id": "WDSETMuEmk0f",
        "outputId": "4a3390ba-41ae-4c51-cbcf-03326c182ed8"
      },
      "source": [
        "#checking how many nans in general_use\n",
        "records_df['general_use'].isnull().sum()"
      ],
      "execution_count": 197,
      "outputs": [
        {
          "output_type": "execute_result",
          "data": {
            "text/plain": [
              "208"
            ]
          },
          "metadata": {
            "tags": []
          },
          "execution_count": 197
        }
      ]
    },
    {
      "cell_type": "code",
      "metadata": {
        "colab": {
          "base_uri": "https://localhost:8080/"
        },
        "id": "piYOjeBwnJDo",
        "outputId": "2404cad4-4579-46a7-f4a5-79e38dcf12db"
      },
      "source": [
        "#replacing nan with (unavailable)\n",
        "records_df[\"general_use\"] = records_df[\"general_use\"].fillna('(unavailable)')\n",
        "records_df[\"general_use\"].unique()"
      ],
      "execution_count": 198,
      "outputs": [
        {
          "output_type": "execute_result",
          "data": {
            "text/plain": [
              "array(['Miscellaneous', 'Residential', 'Industrial', 'Commercial',\n",
              "       'Recreational', 'Institutional', '(unavailable)', 'Dry Farm',\n",
              "       'Irrigated Farm'], dtype=object)"
            ]
          },
          "metadata": {
            "tags": []
          },
          "execution_count": 198
        }
      ]
    },
    {
      "cell_type": "markdown",
      "metadata": {
        "id": "0GufVSxFqCKE"
      },
      "source": [
        "###Handling Missing Values in [\"specific_use\"]"
      ]
    },
    {
      "cell_type": "code",
      "metadata": {
        "colab": {
          "base_uri": "https://localhost:8080/"
        },
        "id": "HAHuT5nbluSs",
        "outputId": "134cf559-713d-41f5-8706-3e4e619da02b"
      },
      "source": [
        "#there is an empty string in this column that we should replace with nan or Not Available \n",
        "records_df[\"specific_use\"].unique()"
      ],
      "execution_count": 199,
      "outputs": [
        {
          "output_type": "execute_result",
          "data": {
            "text/plain": [
              "array(['Government Owned Property', 'Single Family Residence',\n",
              "       'Industrial', 'Store Combination',\n",
              "       'Parking Lot (Commercial Use Property)', 'Privately Owned',\n",
              "       'Utility', 'Shopping Center (Neighborhood, Community)',\n",
              "       'Five or More Units or Apartments (Any Combination)',\n",
              "       'Club, Lodge Hall, Fraternal Organization', 'Commercial', 'Church',\n",
              "       'Four Units  (Any Combination)', nan, '(unavailable)',\n",
              "       'Double, Duplex, or Two Units', 'Open Storage',\n",
              "       'Shopping Center (Regional)', 'Cemetery, Mausoleum, Mortuary',\n",
              "       'Waste', 'Three Units (Any Combination)',\n",
              "       'Parking Lot (Industrial Use Property)', 'Office Building',\n",
              "       'Rights of Way', ' ', 'Store', 'Camp', 'Petroleum and Gas',\n",
              "       'Homes for Aged and Others', 'School (Private)',\n",
              "       \"Children's Day Care Center\",\n",
              "       'Auto, Recreation Equipment, Construction Equipment Sales and Service',\n",
              "       'Restaurant, Cocktail Lounge', 'Professional Building',\n",
              "       'Bowling Alley', 'Supermarket', 'Service Station',\n",
              "       'Warehousing, Distribution, Storage', 'Hotel and Motel',\n",
              "       'Hospital', 'Manufactured Home', 'Light Manufacturing',\n",
              "       'Non-Auto Service and Repair Shop, Paint Shop, or Laundry',\n",
              "       'Animal Kennel', 'Heavy Manufacturing', 'Bank, Savings and Loan',\n",
              "       'Department Store', 'Athletic and Amusement Facility',\n",
              "       'College, University (Private)', 'Nursery or Greenhouse',\n",
              "       'Motion Picture, Radio and Television Industry', 'Golf Course',\n",
              "       'Skating Rink', 'Manufactured Home Park', 'Theater', 'Lumber Yard',\n",
              "       'Food Processing Plant', 'Rooming/Boarding House',\n",
              "       'Mineral Processing', 'Wholesale and Manufacturing Outlet',\n",
              "       'Dump Site', 'Poultry, etc.', 'Rivers and Lakes', 'Desert',\n",
              "       'Dairy', 'Race Track', 'Pipeline, Canal', 'Pasture',\n",
              "       'Fruits and Nuts', 'Water Recreation', 'Senior Day Care Center',\n",
              "       'Field Crops'], dtype=object)"
            ]
          },
          "metadata": {
            "tags": []
          },
          "execution_count": 199
        }
      ]
    },
    {
      "cell_type": "code",
      "metadata": {
        "id": "jq8kMCG_rEXt"
      },
      "source": [
        "records_df[\"specific_use\"]= records_df[\"specific_use\"].fillna('(unavailable)')"
      ],
      "execution_count": 200,
      "outputs": []
    },
    {
      "cell_type": "code",
      "metadata": {
        "colab": {
          "base_uri": "https://localhost:8080/"
        },
        "id": "uh9gY_ejrrnt",
        "outputId": "58ad74ff-477d-4bbb-c715-5c6a2bd37719"
      },
      "source": [
        "records_df[\"specific_use\"].unique()"
      ],
      "execution_count": 201,
      "outputs": [
        {
          "output_type": "execute_result",
          "data": {
            "text/plain": [
              "array(['Government Owned Property', 'Single Family Residence',\n",
              "       'Industrial', 'Store Combination',\n",
              "       'Parking Lot (Commercial Use Property)', 'Privately Owned',\n",
              "       'Utility', 'Shopping Center (Neighborhood, Community)',\n",
              "       'Five or More Units or Apartments (Any Combination)',\n",
              "       'Club, Lodge Hall, Fraternal Organization', 'Commercial', 'Church',\n",
              "       'Four Units  (Any Combination)', '(unavailable)',\n",
              "       'Double, Duplex, or Two Units', 'Open Storage',\n",
              "       'Shopping Center (Regional)', 'Cemetery, Mausoleum, Mortuary',\n",
              "       'Waste', 'Three Units (Any Combination)',\n",
              "       'Parking Lot (Industrial Use Property)', 'Office Building',\n",
              "       'Rights of Way', ' ', 'Store', 'Camp', 'Petroleum and Gas',\n",
              "       'Homes for Aged and Others', 'School (Private)',\n",
              "       \"Children's Day Care Center\",\n",
              "       'Auto, Recreation Equipment, Construction Equipment Sales and Service',\n",
              "       'Restaurant, Cocktail Lounge', 'Professional Building',\n",
              "       'Bowling Alley', 'Supermarket', 'Service Station',\n",
              "       'Warehousing, Distribution, Storage', 'Hotel and Motel',\n",
              "       'Hospital', 'Manufactured Home', 'Light Manufacturing',\n",
              "       'Non-Auto Service and Repair Shop, Paint Shop, or Laundry',\n",
              "       'Animal Kennel', 'Heavy Manufacturing', 'Bank, Savings and Loan',\n",
              "       'Department Store', 'Athletic and Amusement Facility',\n",
              "       'College, University (Private)', 'Nursery or Greenhouse',\n",
              "       'Motion Picture, Radio and Television Industry', 'Golf Course',\n",
              "       'Skating Rink', 'Manufactured Home Park', 'Theater', 'Lumber Yard',\n",
              "       'Food Processing Plant', 'Rooming/Boarding House',\n",
              "       'Mineral Processing', 'Wholesale and Manufacturing Outlet',\n",
              "       'Dump Site', 'Poultry, etc.', 'Rivers and Lakes', 'Desert',\n",
              "       'Dairy', 'Race Track', 'Pipeline, Canal', 'Pasture',\n",
              "       'Fruits and Nuts', 'Water Recreation', 'Senior Day Care Center',\n",
              "       'Field Crops'], dtype=object)"
            ]
          },
          "metadata": {
            "tags": []
          },
          "execution_count": 201
        }
      ]
    },
    {
      "cell_type": "code",
      "metadata": {
        "id": "4sHTl22Hr2_S"
      },
      "source": [
        ""
      ],
      "execution_count": 201,
      "outputs": []
    },
    {
      "cell_type": "markdown",
      "metadata": {
        "id": "mY0BFDoXsguv"
      },
      "source": [
        ""
      ]
    },
    {
      "cell_type": "markdown",
      "metadata": {
        "id": "Z7qACCGMsjCh"
      },
      "source": [
        "###Handling Missing Values in [\"net_value\"]"
      ]
    },
    {
      "cell_type": "code",
      "metadata": {
        "colab": {
          "base_uri": "https://localhost:8080/"
        },
        "id": "HrviLMgEsqx0",
        "outputId": "bb01734e-74f9-4998-b969-6079c95ed743"
      },
      "source": [
        "#this is good to go\n",
        "records_df['net_value']"
      ],
      "execution_count": 204,
      "outputs": [
        {
          "output_type": "execute_result",
          "data": {
            "text/plain": [
              "0              0\n",
              "1              0\n",
              "2              0\n",
              "3              0\n",
              "4              0\n",
              "           ...  \n",
              "790013    276700\n",
              "790014    295900\n",
              "790015     62825\n",
              "790016    267400\n",
              "790017    398000\n",
              "Name: net_value, Length: 790018, dtype: int64"
            ]
          },
          "metadata": {
            "tags": []
          },
          "execution_count": 204
        }
      ]
    },
    {
      "cell_type": "markdown",
      "metadata": {
        "id": "-e6SP1P5tWl2"
      },
      "source": [
        "###Handling Missing Values in [\"zip_code\"]"
      ]
    },
    {
      "cell_type": "code",
      "metadata": {
        "colab": {
          "base_uri": "https://localhost:8080/"
        },
        "id": "c25sl2oHtsKp",
        "outputId": "f8f00aec-326e-4ccd-dfc1-4e573930e701"
      },
      "source": [
        "#good to go\n",
        "records_df['zip_code'].unique()"
      ],
      "execution_count": 205,
      "outputs": [
        {
          "output_type": "execute_result",
          "data": {
            "text/plain": [
              "array([   nan, 91604., 90035., 90043., 91364., 91335., 91306., 91367.,\n",
              "       91303., 91307., 91356., 91316., 91325., 91406., 91343., 91405.,\n",
              "       91402., 90045., 91423., 91411., 91401., 90230., 91403., 91436.,\n",
              "       91346., 90210., 90077., 90049., 91605., 91352., 91331., 90001.,\n",
              "       91606., 90066., 99606., 91066., 91006., 91601., 90068., 91607.,\n",
              "       91602., 91499., 90046., 91342., 91340., 91040., 91311., 91042.,\n",
              "       91024., 91214., 91344., 91345., 91353., 91504., 91505., 93510.,\n",
              "       91612., 90601., 91608., 90064., 91387., 91324., 91329., 91326.,\n",
              "       93063., 91304., 91301., 90056., 90302., 90047., 90036., 90293.,\n",
              "       90291., 90040., 90009., 90304., 90245., 90016., 90232., 90034.,\n",
              "       90025., 90094., 90292., 90041., 90042., 90015., 90057., 90011.,\n",
              "       90005., 90063., 90012., 92008., 90037., 90031., 90006., 90023.,\n",
              "       90065., 90019., 90013., 90014., 95648., 90017., 90405., 90026.,\n",
              "       90007., 90402., 90403., 90297., 90067., 90024., 90212., 90069.,\n",
              "       90048., 90211., 90062., 94513., 90095., 90039., 90022., 90027.,\n",
              "       90631., 90272., 90020., 94707., 90270., 90053., 90290., 90265.,\n",
              "       90044., 90003., 90058., 90018., 90008., 90240., 90089., 90028.,\n",
              "       90021., 90029., 90010., 90038., 90004., 90079., 90071., 90033.,\n",
              "       91792., 92806., 92801., 94087., 90032., 91205., 91204., 92646.,\n",
              "       91030., 91201., 91206., 91105., 91101., 90052., 90002., 90059.,\n",
              "       90061., 90051., 90248., 90501., 90247., 90745., 90813., 90744.,\n",
              "       90746., 90502., 90731., 90717., 90710., 90712., 90732., 90734.,\n",
              "       90815., 92805., 90748., 90733., 90822., 90275., 92802., 91302.])"
            ]
          },
          "metadata": {
            "tags": []
          },
          "execution_count": 205
        }
      ]
    },
    {
      "cell_type": "markdown",
      "metadata": {
        "id": "ts4jqOcDvaDz"
      },
      "source": [
        ""
      ]
    },
    {
      "cell_type": "markdown",
      "metadata": {
        "id": "lY2D0rTM1LBf"
      },
      "source": [
        "###Dropping Data w/o Zip Codes"
      ]
    },
    {
      "cell_type": "code",
      "metadata": {
        "id": "iGDU6SRZ1V2_"
      },
      "source": [
        "records_df = records_df[records_df['zip_code'].notna()]"
      ],
      "execution_count": 206,
      "outputs": []
    },
    {
      "cell_type": "code",
      "metadata": {
        "colab": {
          "base_uri": "https://localhost:8080/",
          "height": 0
        },
        "id": "txKUvLdi38Lc",
        "outputId": "59a099a2-11ce-43ad-d97f-0069dab7ed8c"
      },
      "source": [
        "records_df.reset_index()"
      ],
      "execution_count": 207,
      "outputs": [
        {
          "output_type": "execute_result",
          "data": {
            "text/html": [
              "<div>\n",
              "<style scoped>\n",
              "    .dataframe tbody tr th:only-of-type {\n",
              "        vertical-align: middle;\n",
              "    }\n",
              "\n",
              "    .dataframe tbody tr th {\n",
              "        vertical-align: top;\n",
              "    }\n",
              "\n",
              "    .dataframe thead th {\n",
              "        text-align: right;\n",
              "    }\n",
              "</style>\n",
              "<table border=\"1\" class=\"dataframe\">\n",
              "  <thead>\n",
              "    <tr style=\"text-align: right;\">\n",
              "      <th></th>\n",
              "      <th>index</th>\n",
              "      <th>city</th>\n",
              "      <th>year</th>\n",
              "      <th>assessor_id</th>\n",
              "      <th>general_use</th>\n",
              "      <th>specific_use</th>\n",
              "      <th>net_value</th>\n",
              "      <th>zip_code</th>\n",
              "    </tr>\n",
              "  </thead>\n",
              "  <tbody>\n",
              "    <tr>\n",
              "      <th>0</th>\n",
              "      <td>134</td>\n",
              "      <td>LOS ANGELES</td>\n",
              "      <td>2010</td>\n",
              "      <td>2368-002-003</td>\n",
              "      <td>Commercial</td>\n",
              "      <td>Commercial</td>\n",
              "      <td>455441</td>\n",
              "      <td>91604.0</td>\n",
              "    </tr>\n",
              "    <tr>\n",
              "      <th>1</th>\n",
              "      <td>421</td>\n",
              "      <td>LOS ANGELES</td>\n",
              "      <td>2010</td>\n",
              "      <td>4305-007-001</td>\n",
              "      <td>Commercial</td>\n",
              "      <td>Store</td>\n",
              "      <td>559830</td>\n",
              "      <td>90035.0</td>\n",
              "    </tr>\n",
              "    <tr>\n",
              "      <th>2</th>\n",
              "      <td>516</td>\n",
              "      <td>LOS ANGELES</td>\n",
              "      <td>2010</td>\n",
              "      <td>5013-019-033</td>\n",
              "      <td>Commercial</td>\n",
              "      <td>Commercial</td>\n",
              "      <td>303510</td>\n",
              "      <td>90043.0</td>\n",
              "    </tr>\n",
              "    <tr>\n",
              "      <th>3</th>\n",
              "      <td>741</td>\n",
              "      <td>LOS ANGELES</td>\n",
              "      <td>2010</td>\n",
              "      <td>2040-032-015</td>\n",
              "      <td>Commercial</td>\n",
              "      <td>Store</td>\n",
              "      <td>800000</td>\n",
              "      <td>91364.0</td>\n",
              "    </tr>\n",
              "    <tr>\n",
              "      <th>4</th>\n",
              "      <td>767</td>\n",
              "      <td>LOS ANGELES</td>\n",
              "      <td>2010</td>\n",
              "      <td>2132-011-025</td>\n",
              "      <td>Residential</td>\n",
              "      <td>Single Family Residence</td>\n",
              "      <td>205877</td>\n",
              "      <td>91335.0</td>\n",
              "    </tr>\n",
              "    <tr>\n",
              "      <th>...</th>\n",
              "      <td>...</td>\n",
              "      <td>...</td>\n",
              "      <td>...</td>\n",
              "      <td>...</td>\n",
              "      <td>...</td>\n",
              "      <td>...</td>\n",
              "      <td>...</td>\n",
              "      <td>...</td>\n",
              "    </tr>\n",
              "    <tr>\n",
              "      <th>747293</th>\n",
              "      <td>790013</td>\n",
              "      <td>LOS ANGELES</td>\n",
              "      <td>2010</td>\n",
              "      <td>2132-007-010</td>\n",
              "      <td>Residential</td>\n",
              "      <td>Single Family Residence</td>\n",
              "      <td>276700</td>\n",
              "      <td>91335.0</td>\n",
              "    </tr>\n",
              "    <tr>\n",
              "      <th>747294</th>\n",
              "      <td>790014</td>\n",
              "      <td>LOS ANGELES</td>\n",
              "      <td>2010</td>\n",
              "      <td>2132-007-013</td>\n",
              "      <td>Residential</td>\n",
              "      <td>Single Family Residence</td>\n",
              "      <td>295900</td>\n",
              "      <td>91335.0</td>\n",
              "    </tr>\n",
              "    <tr>\n",
              "      <th>747295</th>\n",
              "      <td>790015</td>\n",
              "      <td>LOS ANGELES</td>\n",
              "      <td>2010</td>\n",
              "      <td>2132-007-011</td>\n",
              "      <td>Residential</td>\n",
              "      <td>Single Family Residence</td>\n",
              "      <td>62825</td>\n",
              "      <td>91335.0</td>\n",
              "    </tr>\n",
              "    <tr>\n",
              "      <th>747296</th>\n",
              "      <td>790016</td>\n",
              "      <td>LOS ANGELES</td>\n",
              "      <td>2010</td>\n",
              "      <td>2132-007-012</td>\n",
              "      <td>Residential</td>\n",
              "      <td>Single Family Residence</td>\n",
              "      <td>267400</td>\n",
              "      <td>91335.0</td>\n",
              "    </tr>\n",
              "    <tr>\n",
              "      <th>747297</th>\n",
              "      <td>790017</td>\n",
              "      <td>LOS ANGELES</td>\n",
              "      <td>2010</td>\n",
              "      <td>2132-007-007</td>\n",
              "      <td>Residential</td>\n",
              "      <td>Single Family Residence</td>\n",
              "      <td>398000</td>\n",
              "      <td>91335.0</td>\n",
              "    </tr>\n",
              "  </tbody>\n",
              "</table>\n",
              "<p>747298 rows × 8 columns</p>\n",
              "</div>"
            ],
            "text/plain": [
              "         index         city  year  ...             specific_use net_value zip_code\n",
              "0          134  LOS ANGELES  2010  ...               Commercial    455441  91604.0\n",
              "1          421  LOS ANGELES  2010  ...                    Store    559830  90035.0\n",
              "2          516  LOS ANGELES  2010  ...               Commercial    303510  90043.0\n",
              "3          741  LOS ANGELES  2010  ...                    Store    800000  91364.0\n",
              "4          767  LOS ANGELES  2010  ...  Single Family Residence    205877  91335.0\n",
              "...        ...          ...   ...  ...                      ...       ...      ...\n",
              "747293  790013  LOS ANGELES  2010  ...  Single Family Residence    276700  91335.0\n",
              "747294  790014  LOS ANGELES  2010  ...  Single Family Residence    295900  91335.0\n",
              "747295  790015  LOS ANGELES  2010  ...  Single Family Residence     62825  91335.0\n",
              "747296  790016  LOS ANGELES  2010  ...  Single Family Residence    267400  91335.0\n",
              "747297  790017  LOS ANGELES  2010  ...  Single Family Residence    398000  91335.0\n",
              "\n",
              "[747298 rows x 8 columns]"
            ]
          },
          "metadata": {
            "tags": []
          },
          "execution_count": 207
        }
      ]
    },
    {
      "cell_type": "markdown",
      "metadata": {
        "id": "4fo0OhJa1UPA"
      },
      "source": [
        ""
      ]
    },
    {
      "cell_type": "markdown",
      "metadata": {
        "id": "6JgE_Lf0vcMY"
      },
      "source": [
        "##Consistency\n",
        "Now that I've handles missing values, I will check consistency over: \n",
        "\n",
        "\n",
        "1.   Data type\n",
        "2.   Categorical \n",
        "2.  Referential integrity\n",
        "\n",
        "\n"
      ]
    },
    {
      "cell_type": "markdown",
      "metadata": {
        "id": "QXWw3cnZzgKu"
      },
      "source": [
        "###Data type"
      ]
    },
    {
      "cell_type": "code",
      "metadata": {
        "colab": {
          "base_uri": "https://localhost:8080/"
        },
        "id": "c1uhByKgzy8L",
        "outputId": "240f6820-3193-401f-c1d3-0210cd962f89"
      },
      "source": [
        "records_df.info()"
      ],
      "execution_count": 208,
      "outputs": [
        {
          "output_type": "stream",
          "text": [
            "<class 'pandas.core.frame.DataFrame'>\n",
            "Int64Index: 747298 entries, 134 to 790017\n",
            "Data columns (total 7 columns):\n",
            " #   Column        Non-Null Count   Dtype  \n",
            "---  ------        --------------   -----  \n",
            " 0   city          747298 non-null  object \n",
            " 1   year          747298 non-null  int64  \n",
            " 2   assessor_id   747298 non-null  object \n",
            " 3   general_use   747298 non-null  object \n",
            " 4   specific_use  747298 non-null  object \n",
            " 5   net_value     747298 non-null  int64  \n",
            " 6   zip_code      747298 non-null  float64\n",
            "dtypes: float64(1), int64(2), object(4)\n",
            "memory usage: 45.6+ MB\n"
          ],
          "name": "stdout"
        }
      ]
    },
    {
      "cell_type": "code",
      "metadata": {
        "colab": {
          "base_uri": "https://localhost:8080/"
        },
        "id": "-2O6lEu0z68z",
        "outputId": "44f9e2ed-f4ef-483d-9bbe-ba3d7d839d79"
      },
      "source": [
        "#changing to category type \n",
        "records_df[\"assessor_id\"] = records_df[\"assessor_id\"].astype(\"category\")\n",
        "records_df[\"general_use\"] = records_df[\"general_use\"].astype(\"category\")\n",
        "records_df[\"specific_use\"] = records_df[\"specific_use\"].astype(\"category\")\n",
        "\n",
        "#since all NaN have been removed, change type of zip code column to int. this may change later\n",
        "records_df[\"zip_code\"] = records_df[\"zip_code\"].astype(\"int\")\n",
        "\n",
        "#change year to datetime format\n",
        "records_df[\"year\"] = pd.to_datetime(records_df['year'], format='%Y')"
      ],
      "execution_count": 215,
      "outputs": [
        {
          "output_type": "stream",
          "text": [
            "/usr/local/lib/python3.7/dist-packages/ipykernel_launcher.py:2: SettingWithCopyWarning: \n",
            "A value is trying to be set on a copy of a slice from a DataFrame.\n",
            "Try using .loc[row_indexer,col_indexer] = value instead\n",
            "\n",
            "See the caveats in the documentation: https://pandas.pydata.org/pandas-docs/stable/user_guide/indexing.html#returning-a-view-versus-a-copy\n",
            "  \n",
            "/usr/local/lib/python3.7/dist-packages/ipykernel_launcher.py:3: SettingWithCopyWarning: \n",
            "A value is trying to be set on a copy of a slice from a DataFrame.\n",
            "Try using .loc[row_indexer,col_indexer] = value instead\n",
            "\n",
            "See the caveats in the documentation: https://pandas.pydata.org/pandas-docs/stable/user_guide/indexing.html#returning-a-view-versus-a-copy\n",
            "  This is separate from the ipykernel package so we can avoid doing imports until\n",
            "/usr/local/lib/python3.7/dist-packages/ipykernel_launcher.py:4: SettingWithCopyWarning: \n",
            "A value is trying to be set on a copy of a slice from a DataFrame.\n",
            "Try using .loc[row_indexer,col_indexer] = value instead\n",
            "\n",
            "See the caveats in the documentation: https://pandas.pydata.org/pandas-docs/stable/user_guide/indexing.html#returning-a-view-versus-a-copy\n",
            "  after removing the cwd from sys.path.\n",
            "/usr/local/lib/python3.7/dist-packages/ipykernel_launcher.py:7: SettingWithCopyWarning: \n",
            "A value is trying to be set on a copy of a slice from a DataFrame.\n",
            "Try using .loc[row_indexer,col_indexer] = value instead\n",
            "\n",
            "See the caveats in the documentation: https://pandas.pydata.org/pandas-docs/stable/user_guide/indexing.html#returning-a-view-versus-a-copy\n",
            "  import sys\n",
            "/usr/local/lib/python3.7/dist-packages/ipykernel_launcher.py:10: SettingWithCopyWarning: \n",
            "A value is trying to be set on a copy of a slice from a DataFrame.\n",
            "Try using .loc[row_indexer,col_indexer] = value instead\n",
            "\n",
            "See the caveats in the documentation: https://pandas.pydata.org/pandas-docs/stable/user_guide/indexing.html#returning-a-view-versus-a-copy\n",
            "  # Remove the CWD from sys.path while we load stuff.\n"
          ],
          "name": "stderr"
        }
      ]
    },
    {
      "cell_type": "code",
      "metadata": {
        "colab": {
          "base_uri": "https://localhost:8080/"
        },
        "id": "Lqz_AATz7DwX",
        "outputId": "ceb6b1b0-559d-4e3a-a9b1-7f66c7b458e7"
      },
      "source": [
        "records_df[\"year\"] = records_df[\"year\"].dt.year"
      ],
      "execution_count": 217,
      "outputs": [
        {
          "output_type": "stream",
          "text": [
            "/usr/local/lib/python3.7/dist-packages/ipykernel_launcher.py:1: SettingWithCopyWarning: \n",
            "A value is trying to be set on a copy of a slice from a DataFrame.\n",
            "Try using .loc[row_indexer,col_indexer] = value instead\n",
            "\n",
            "See the caveats in the documentation: https://pandas.pydata.org/pandas-docs/stable/user_guide/indexing.html#returning-a-view-versus-a-copy\n",
            "  \"\"\"Entry point for launching an IPython kernel.\n"
          ],
          "name": "stderr"
        }
      ]
    },
    {
      "cell_type": "code",
      "metadata": {
        "id": "9PAqITdm7J0q"
      },
      "source": [
        "records_df = records_df.drop(columns=['year_expanded'])"
      ],
      "execution_count": 223,
      "outputs": []
    },
    {
      "cell_type": "code",
      "metadata": {
        "colab": {
          "base_uri": "https://localhost:8080/"
        },
        "id": "Utix0Z9B81v6",
        "outputId": "8d199903-c091-4ae9-a190-5ccf50c70bfd"
      },
      "source": [
        "records_df.info()"
      ],
      "execution_count": 224,
      "outputs": [
        {
          "output_type": "stream",
          "text": [
            "<class 'pandas.core.frame.DataFrame'>\n",
            "Int64Index: 747298 entries, 134 to 790017\n",
            "Data columns (total 7 columns):\n",
            " #   Column        Non-Null Count   Dtype   \n",
            "---  ------        --------------   -----   \n",
            " 0   city          747298 non-null  object  \n",
            " 1   year          747298 non-null  int64   \n",
            " 2   assessor_id   747298 non-null  category\n",
            " 3   general_use   747298 non-null  category\n",
            " 4   specific_use  747298 non-null  category\n",
            " 5   net_value     747298 non-null  int64   \n",
            " 6   zip_code      747298 non-null  int64   \n",
            "dtypes: category(3), int64(3), object(1)\n",
            "memory usage: 58.5+ MB\n"
          ],
          "name": "stdout"
        }
      ]
    },
    {
      "cell_type": "markdown",
      "metadata": {
        "id": "bzxGEx1u9j9Q"
      },
      "source": [
        "###Categorical Consistency "
      ]
    },
    {
      "cell_type": "code",
      "metadata": {
        "colab": {
          "base_uri": "https://localhost:8080/"
        },
        "id": "x7CqQViw9m2f",
        "outputId": "86017d0d-8533-40ec-a549-2e0df21cce34"
      },
      "source": [
        "#consistent \n",
        "records_df[\"general_use\"].unique()"
      ],
      "execution_count": 226,
      "outputs": [
        {
          "output_type": "execute_result",
          "data": {
            "text/plain": [
              "['Commercial', 'Residential', 'Institutional', 'Recreational', 'Industrial', 'Miscellaneous', '(unavailable)', 'Irrigated Farm', 'Dry Farm']\n",
              "Categories (9, object): ['Commercial', 'Residential', 'Institutional', 'Recreational', ...,\n",
              "                         'Miscellaneous', '(unavailable)', 'Irrigated Farm', 'Dry Farm']"
            ]
          },
          "metadata": {
            "tags": []
          },
          "execution_count": 226
        }
      ]
    },
    {
      "cell_type": "code",
      "metadata": {
        "colab": {
          "base_uri": "https://localhost:8080/"
        },
        "id": "bMibny9_9_5R",
        "outputId": "bea60d80-0ce7-429f-bdfa-11f6ec6de741"
      },
      "source": [
        "#consistent \n",
        "records_df[\"specific_use\"]"
      ],
      "execution_count": 229,
      "outputs": [
        {
          "output_type": "execute_result",
          "data": {
            "text/plain": [
              "134                    Commercial\n",
              "421                         Store\n",
              "516                    Commercial\n",
              "741                         Store\n",
              "767       Single Family Residence\n",
              "                   ...           \n",
              "790013    Single Family Residence\n",
              "790014    Single Family Residence\n",
              "790015    Single Family Residence\n",
              "790016    Single Family Residence\n",
              "790017    Single Family Residence\n",
              "Name: specific_use, Length: 747298, dtype: category\n",
              "Categories (69, object): [' ', '(unavailable)', 'Animal Kennel',\n",
              "                          'Athletic and Amusement Facility', ..., 'Warehousing, Distribution, Storage', 'Waste',\n",
              "                          'Water Recreation', 'Wholesale and Manufacturing Outlet']"
            ]
          },
          "metadata": {
            "tags": []
          },
          "execution_count": 229
        }
      ]
    },
    {
      "cell_type": "markdown",
      "metadata": {
        "id": "zXeLAAXO-jbL"
      },
      "source": [
        "###  Referential integrity"
      ]
    },
    {
      "cell_type": "code",
      "metadata": {
        "id": "9lA8x_6G-qgS"
      },
      "source": [
        "#making the assessor_id a unique ID per parcel per year\n",
        "records_df['assessor_id'] = records_df[\"assessor_id\"].apply(lambda x: x +\"-2010\")"
      ],
      "execution_count": 231,
      "outputs": []
    },
    {
      "cell_type": "code",
      "metadata": {
        "colab": {
          "base_uri": "https://localhost:8080/",
          "height": 419
        },
        "id": "n_OkPZtP-xy-",
        "outputId": "85799778-b64e-4cb8-9f52-533baa493b9c"
      },
      "source": [
        "records_df"
      ],
      "execution_count": 232,
      "outputs": [
        {
          "output_type": "execute_result",
          "data": {
            "text/html": [
              "<div>\n",
              "<style scoped>\n",
              "    .dataframe tbody tr th:only-of-type {\n",
              "        vertical-align: middle;\n",
              "    }\n",
              "\n",
              "    .dataframe tbody tr th {\n",
              "        vertical-align: top;\n",
              "    }\n",
              "\n",
              "    .dataframe thead th {\n",
              "        text-align: right;\n",
              "    }\n",
              "</style>\n",
              "<table border=\"1\" class=\"dataframe\">\n",
              "  <thead>\n",
              "    <tr style=\"text-align: right;\">\n",
              "      <th></th>\n",
              "      <th>city</th>\n",
              "      <th>year</th>\n",
              "      <th>assessor_id</th>\n",
              "      <th>general_use</th>\n",
              "      <th>specific_use</th>\n",
              "      <th>net_value</th>\n",
              "      <th>zip_code</th>\n",
              "    </tr>\n",
              "  </thead>\n",
              "  <tbody>\n",
              "    <tr>\n",
              "      <th>134</th>\n",
              "      <td>LOS ANGELES</td>\n",
              "      <td>2010</td>\n",
              "      <td>2368-002-003-2010</td>\n",
              "      <td>Commercial</td>\n",
              "      <td>Commercial</td>\n",
              "      <td>455441</td>\n",
              "      <td>91604</td>\n",
              "    </tr>\n",
              "    <tr>\n",
              "      <th>421</th>\n",
              "      <td>LOS ANGELES</td>\n",
              "      <td>2010</td>\n",
              "      <td>4305-007-001-2010</td>\n",
              "      <td>Commercial</td>\n",
              "      <td>Store</td>\n",
              "      <td>559830</td>\n",
              "      <td>90035</td>\n",
              "    </tr>\n",
              "    <tr>\n",
              "      <th>516</th>\n",
              "      <td>LOS ANGELES</td>\n",
              "      <td>2010</td>\n",
              "      <td>5013-019-033-2010</td>\n",
              "      <td>Commercial</td>\n",
              "      <td>Commercial</td>\n",
              "      <td>303510</td>\n",
              "      <td>90043</td>\n",
              "    </tr>\n",
              "    <tr>\n",
              "      <th>741</th>\n",
              "      <td>LOS ANGELES</td>\n",
              "      <td>2010</td>\n",
              "      <td>2040-032-015-2010</td>\n",
              "      <td>Commercial</td>\n",
              "      <td>Store</td>\n",
              "      <td>800000</td>\n",
              "      <td>91364</td>\n",
              "    </tr>\n",
              "    <tr>\n",
              "      <th>767</th>\n",
              "      <td>LOS ANGELES</td>\n",
              "      <td>2010</td>\n",
              "      <td>2132-011-025-2010</td>\n",
              "      <td>Residential</td>\n",
              "      <td>Single Family Residence</td>\n",
              "      <td>205877</td>\n",
              "      <td>91335</td>\n",
              "    </tr>\n",
              "    <tr>\n",
              "      <th>...</th>\n",
              "      <td>...</td>\n",
              "      <td>...</td>\n",
              "      <td>...</td>\n",
              "      <td>...</td>\n",
              "      <td>...</td>\n",
              "      <td>...</td>\n",
              "      <td>...</td>\n",
              "    </tr>\n",
              "    <tr>\n",
              "      <th>790013</th>\n",
              "      <td>LOS ANGELES</td>\n",
              "      <td>2010</td>\n",
              "      <td>2132-007-010-2010</td>\n",
              "      <td>Residential</td>\n",
              "      <td>Single Family Residence</td>\n",
              "      <td>276700</td>\n",
              "      <td>91335</td>\n",
              "    </tr>\n",
              "    <tr>\n",
              "      <th>790014</th>\n",
              "      <td>LOS ANGELES</td>\n",
              "      <td>2010</td>\n",
              "      <td>2132-007-013-2010</td>\n",
              "      <td>Residential</td>\n",
              "      <td>Single Family Residence</td>\n",
              "      <td>295900</td>\n",
              "      <td>91335</td>\n",
              "    </tr>\n",
              "    <tr>\n",
              "      <th>790015</th>\n",
              "      <td>LOS ANGELES</td>\n",
              "      <td>2010</td>\n",
              "      <td>2132-007-011-2010</td>\n",
              "      <td>Residential</td>\n",
              "      <td>Single Family Residence</td>\n",
              "      <td>62825</td>\n",
              "      <td>91335</td>\n",
              "    </tr>\n",
              "    <tr>\n",
              "      <th>790016</th>\n",
              "      <td>LOS ANGELES</td>\n",
              "      <td>2010</td>\n",
              "      <td>2132-007-012-2010</td>\n",
              "      <td>Residential</td>\n",
              "      <td>Single Family Residence</td>\n",
              "      <td>267400</td>\n",
              "      <td>91335</td>\n",
              "    </tr>\n",
              "    <tr>\n",
              "      <th>790017</th>\n",
              "      <td>LOS ANGELES</td>\n",
              "      <td>2010</td>\n",
              "      <td>2132-007-007-2010</td>\n",
              "      <td>Residential</td>\n",
              "      <td>Single Family Residence</td>\n",
              "      <td>398000</td>\n",
              "      <td>91335</td>\n",
              "    </tr>\n",
              "  </tbody>\n",
              "</table>\n",
              "<p>747298 rows × 7 columns</p>\n",
              "</div>"
            ],
            "text/plain": [
              "               city  year  ... net_value zip_code\n",
              "134     LOS ANGELES  2010  ...    455441    91604\n",
              "421     LOS ANGELES  2010  ...    559830    90035\n",
              "516     LOS ANGELES  2010  ...    303510    90043\n",
              "741     LOS ANGELES  2010  ...    800000    91364\n",
              "767     LOS ANGELES  2010  ...    205877    91335\n",
              "...             ...   ...  ...       ...      ...\n",
              "790013  LOS ANGELES  2010  ...    276700    91335\n",
              "790014  LOS ANGELES  2010  ...    295900    91335\n",
              "790015  LOS ANGELES  2010  ...     62825    91335\n",
              "790016  LOS ANGELES  2010  ...    267400    91335\n",
              "790017  LOS ANGELES  2010  ...    398000    91335\n",
              "\n",
              "[747298 rows x 7 columns]"
            ]
          },
          "metadata": {
            "tags": []
          },
          "execution_count": 232
        }
      ]
    },
    {
      "cell_type": "code",
      "metadata": {
        "id": "q1rZT8Xu_C_d"
      },
      "source": [
        ""
      ],
      "execution_count": null,
      "outputs": []
    },
    {
      "cell_type": "markdown",
      "metadata": {
        "id": "aYDRoKMS_nb5"
      },
      "source": [
        "##Exporting Data"
      ]
    },
    {
      "cell_type": "code",
      "metadata": {
        "id": "Wc8-dw69_qmW"
      },
      "source": [
        "records_df.to_csv(\"gdrive/My Drive/Team 93 Capstone Project/data/Assessor_Parcels_Data_2010_CLEANED.csv\")"
      ],
      "execution_count": 235,
      "outputs": []
    },
    {
      "cell_type": "code",
      "metadata": {
        "id": "zHEo40z8_9R0"
      },
      "source": [
        ""
      ],
      "execution_count": null,
      "outputs": []
    }
  ]
}
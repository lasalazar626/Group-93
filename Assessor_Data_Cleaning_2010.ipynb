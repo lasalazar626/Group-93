{
  "nbformat": 4,
  "nbformat_minor": 0,
  "metadata": {
    "colab": {
      "name": "Assessor Data Cleaning - 2010.ipynb",
      "provenance": [],
      "authorship_tag": "ABX9TyOb0ryM2pF/P+2wP5u75pqp"
    },
    "kernelspec": {
      "name": "python3",
      "display_name": "Python 3"
    },
    "language_info": {
      "name": "python"
    }
  },
  "cells": [
    {
      "cell_type": "markdown",
      "metadata": {
        "id": "NCkY_HRffOx3"
      },
      "source": [
        "# Assessor Data Cleaning - 2010"
      ]
    },
    {
      "cell_type": "code",
      "metadata": {
        "id": "-VAEn9kMc05w",
        "colab": {
          "base_uri": "https://localhost:8080/"
        },
        "outputId": "f6c7c434-ffa7-416a-ccde-0f35c6629148"
      },
      "source": [
        "#importing libraries \n",
        "\n",
        "from google.colab import drive\n",
        "drive.mount('/content/gdrive')"
      ],
      "execution_count": null,
      "outputs": [
        {
          "output_type": "stream",
          "text": [
            "Go to this URL in a browser: https://accounts.google.com/o/oauth2/auth?client_id=947318989803-6bn6qk8qdgf4n4g3pfee6491hc0brc4i.apps.googleusercontent.com&redirect_uri=urn%3aietf%3awg%3aoauth%3a2.0%3aoob&scope=email%20https%3a%2f%2fwww.googleapis.com%2fauth%2fdocs.test%20https%3a%2f%2fwww.googleapis.com%2fauth%2fdrive%20https%3a%2f%2fwww.googleapis.com%2fauth%2fdrive.photos.readonly%20https%3a%2f%2fwww.googleapis.com%2fauth%2fpeopleapi.readonly%20https%3a%2f%2fwww.googleapis.com%2fauth%2fdrive.activity.readonly%20https%3a%2f%2fwww.googleapis.com%2fauth%2fexperimentsandconfigs%20https%3a%2f%2fwww.googleapis.com%2fauth%2fphotos.native&response_type=code\n",
            "\n",
            "Enter your authorization code:\n",
            "4/1AY0e-g4xCjuUJ7Vfrc7JgFGLCWx3CKRb78tPF3QQ9ikJFWu8GP71XqDope0\n",
            "Mounted at /content/gdrive\n"
          ],
          "name": "stdout"
        }
      ]
    },
    {
      "cell_type": "code",
      "metadata": {
        "id": "ljH4c6VVc-Yc"
      },
      "source": [
        "import numpy as np\n",
        "import pandas as pd\n",
        "import math"
      ],
      "execution_count": null,
      "outputs": []
    },
    {
      "cell_type": "markdown",
      "metadata": {
        "id": "JuXhCc6DnxXp"
      },
      "source": [
        "##Uploading + Exploring the Data \n",
        "\n",
        "I'll first upload the raw data and see what features it includes.\n"
      ]
    },
    {
      "cell_type": "code",
      "metadata": {
        "colab": {
          "base_uri": "https://localhost:8080/"
        },
        "id": "lxrs7T_IddbX",
        "outputId": "23b6bca2-b002-48e8-92a7-38191d970b8a"
      },
      "source": [
        "#Importing data from 2010 in Los Angeles \n",
        "records_df = pd.read_csv(\"gdrive/My Drive/Team 93 Capstone Project/data/Assessor_Parcels_Data_2010.csv\")"
      ],
      "execution_count": null,
      "outputs": [
        {
          "output_type": "stream",
          "text": [
            "/usr/local/lib/python3.7/dist-packages/IPython/core/interactiveshell.py:2718: DtypeWarning: Columns (37) have mixed types.Specify dtype option on import or set low_memory=False.\n",
            "  interactivity=interactivity, compiler=compiler, result=result)\n"
          ],
          "name": "stderr"
        }
      ]
    },
    {
      "cell_type": "code",
      "metadata": {
        "id": "vMCCCrxGflQ0"
      },
      "source": [
        "records_df.head()"
      ],
      "execution_count": null,
      "outputs": []
    },
    {
      "cell_type": "code",
      "metadata": {
        "id": "gQbh0Kgye-UL"
      },
      "source": [
        "records_df.columns"
      ],
      "execution_count": null,
      "outputs": []
    },
    {
      "cell_type": "code",
      "metadata": {
        "id": "lfqk_ipUfD13"
      },
      "source": [
        "#verifying that we pulled data for the correct city and no others\n",
        "records_df[\"taxratearea_city\"].unique()"
      ],
      "execution_count": null,
      "outputs": []
    },
    {
      "cell_type": "code",
      "metadata": {
        "id": "M2J81KULgBsX"
      },
      "source": [
        "records_df.info()"
      ],
      "execution_count": null,
      "outputs": []
    },
    {
      "cell_type": "markdown",
      "metadata": {
        "id": "YnAWXm-moobd"
      },
      "source": [
        "## Relevance \n",
        "\n",
        "The dataset includes a lot of information that I don't need. For this section, I'll \n",
        "\n",
        "\n",
        "1.   Drop the columns that I don't need \n",
        "2.   Check the remaining columns for unique values\n",
        "1.   Handle missing values, including dropping data that does not include zip codes\n",
        "\n",
        "\n",
        "\n",
        "\n"
      ]
    },
    {
      "cell_type": "markdown",
      "metadata": {
        "id": "7gfuNxT-vPjj"
      },
      "source": [
        "###Determining which columns to drop"
      ]
    },
    {
      "cell_type": "code",
      "metadata": {
        "id": "eADWVKnugHQ_"
      },
      "source": [
        "#dropping irrelevant columns\n",
        "\n",
        "records_df = records_df.drop(columns=['Unnamed: 0', 'situszip','ain',\n",
        "       'taxratearea', 'usetype', 'usecode','usecodedescchar3', 'usecodedescchar4',\n",
        "       'totbuildingdatalines', 'yearbuilt', 'effectiveyearbuilt', 'sqftmain',\n",
        "       'bedrooms', 'bathrooms', 'units', 'recordingdate', 'roll_landvalue',\n",
        "       'roll_landbaseyear', 'roll_impvalue', 'roll_impbaseyear',\n",
        "       'roll_totlandimp', 'roll_homeownersexemp', 'roll_realestateexemp',\n",
        "       'roll_fixturevalue', 'roll_fixtureexemp', 'roll_perspropvalue',\n",
        "       'roll_perspropexemp', 'istaxableparcel', 'roll_totalvalue',\n",
        "       'roll_totalexemption',\n",
        "       'adminregion', 'cluster', 'parcelboundarydescription', 'situshouseno',\n",
        "       'situsfraction', 'situsdirection', 'situsstreet', 'situsunit',\n",
        "       'situscity', 'rowid', 'center_lat', 'center_lon', 'location_1','propertylocation', \"parcelclassification\"])\n"
      ],
      "execution_count": null,
      "outputs": []
    },
    {
      "cell_type": "code",
      "metadata": {
        "colab": {
          "base_uri": "https://localhost:8080/"
        },
        "id": "eO3Qf49aiSfa",
        "outputId": "244c5aa1-53b8-4bb9-d76f-cd56482cd524"
      },
      "source": [
        "records_df.head()"
      ],
      "execution_count": null,
      "outputs": [
        {
          "output_type": "execute_result",
          "data": {
            "text/html": [
              "<div>\n",
              "<style scoped>\n",
              "    .dataframe tbody tr th:only-of-type {\n",
              "        vertical-align: middle;\n",
              "    }\n",
              "\n",
              "    .dataframe tbody tr th {\n",
              "        vertical-align: top;\n",
              "    }\n",
              "\n",
              "    .dataframe thead th {\n",
              "        text-align: right;\n",
              "    }\n",
              "</style>\n",
              "<table border=\"1\" class=\"dataframe\">\n",
              "  <thead>\n",
              "    <tr style=\"text-align: right;\">\n",
              "      <th></th>\n",
              "      <th>taxratearea_city</th>\n",
              "      <th>rollyear</th>\n",
              "      <th>assessorid</th>\n",
              "      <th>usecodedescchar1</th>\n",
              "      <th>usecodedescchar2</th>\n",
              "      <th>nettaxablevalue</th>\n",
              "      <th>situszip5</th>\n",
              "    </tr>\n",
              "  </thead>\n",
              "  <tbody>\n",
              "    <tr>\n",
              "      <th>0</th>\n",
              "      <td>LOS ANGELES</td>\n",
              "      <td>2010</td>\n",
              "      <td>2137-011-901</td>\n",
              "      <td>Miscellaneous</td>\n",
              "      <td>Government Owned Property</td>\n",
              "      <td>0</td>\n",
              "      <td>NaN</td>\n",
              "    </tr>\n",
              "    <tr>\n",
              "      <th>1</th>\n",
              "      <td>LOS ANGELES</td>\n",
              "      <td>2010</td>\n",
              "      <td>2137-011-904</td>\n",
              "      <td>Miscellaneous</td>\n",
              "      <td>Government Owned Property</td>\n",
              "      <td>0</td>\n",
              "      <td>NaN</td>\n",
              "    </tr>\n",
              "    <tr>\n",
              "      <th>2</th>\n",
              "      <td>LOS ANGELES</td>\n",
              "      <td>2010</td>\n",
              "      <td>2137-015-902</td>\n",
              "      <td>Miscellaneous</td>\n",
              "      <td>Government Owned Property</td>\n",
              "      <td>0</td>\n",
              "      <td>NaN</td>\n",
              "    </tr>\n",
              "    <tr>\n",
              "      <th>3</th>\n",
              "      <td>LOS ANGELES</td>\n",
              "      <td>2010</td>\n",
              "      <td>2137-019-905</td>\n",
              "      <td>Miscellaneous</td>\n",
              "      <td>Government Owned Property</td>\n",
              "      <td>0</td>\n",
              "      <td>NaN</td>\n",
              "    </tr>\n",
              "    <tr>\n",
              "      <th>4</th>\n",
              "      <td>LOS ANGELES</td>\n",
              "      <td>2010</td>\n",
              "      <td>2137-019-906</td>\n",
              "      <td>Residential</td>\n",
              "      <td>Single Family Residence</td>\n",
              "      <td>0</td>\n",
              "      <td>NaN</td>\n",
              "    </tr>\n",
              "  </tbody>\n",
              "</table>\n",
              "</div>"
            ],
            "text/plain": [
              "  taxratearea_city  rollyear  ... nettaxablevalue situszip5\n",
              "0      LOS ANGELES      2010  ...               0       NaN\n",
              "1      LOS ANGELES      2010  ...               0       NaN\n",
              "2      LOS ANGELES      2010  ...               0       NaN\n",
              "3      LOS ANGELES      2010  ...               0       NaN\n",
              "4      LOS ANGELES      2010  ...               0       NaN\n",
              "\n",
              "[5 rows x 7 columns]"
            ]
          },
          "metadata": {
            "tags": []
          },
          "execution_count": 6
        }
      ]
    },
    {
      "cell_type": "code",
      "metadata": {
        "id": "dTZFuqdtjZhG"
      },
      "source": [
        "#renaming columns to more recongizable names\n",
        "records_df.columns=[\"city\", \"year\", \"assessor_id\",\"general_use\", \"specific_use\",\"net_value\", \"zip_code\"]"
      ],
      "execution_count": null,
      "outputs": []
    },
    {
      "cell_type": "markdown",
      "metadata": {
        "id": "7CDOlnKKy3QF"
      },
      "source": [
        "###Handling Missing Values in [\"assessor_id\"] (none!)"
      ]
    },
    {
      "cell_type": "code",
      "metadata": {
        "colab": {
          "base_uri": "https://localhost:8080/"
        },
        "id": "hd6pxjgay4UW",
        "outputId": "b55fd0fa-628e-4820-e003-6555051ff284"
      },
      "source": [
        "len(records_df['assessor_id'].unique())"
      ],
      "execution_count": null,
      "outputs": [
        {
          "output_type": "execute_result",
          "data": {
            "text/plain": [
              "790018"
            ]
          },
          "metadata": {
            "tags": []
          },
          "execution_count": 8
        }
      ]
    },
    {
      "cell_type": "code",
      "metadata": {
        "colab": {
          "base_uri": "https://localhost:8080/"
        },
        "id": "y7h03GazzKd_",
        "outputId": "6d48390b-2ff9-459c-c968-67bec42aff0d"
      },
      "source": [
        "records_df['assessor_id'].isnull().sum()"
      ],
      "execution_count": null,
      "outputs": [
        {
          "output_type": "execute_result",
          "data": {
            "text/plain": [
              "0"
            ]
          },
          "metadata": {
            "tags": []
          },
          "execution_count": 9
        }
      ]
    },
    {
      "cell_type": "code",
      "metadata": {
        "id": "2cFxx0KyzW7m"
      },
      "source": [
        "#this series is good to go"
      ],
      "execution_count": null,
      "outputs": []
    },
    {
      "cell_type": "markdown",
      "metadata": {
        "id": "ReWrRY0oporI"
      },
      "source": [
        "### Handling Missing Values in [\"general_use\"]"
      ]
    },
    {
      "cell_type": "code",
      "metadata": {
        "colab": {
          "base_uri": "https://localhost:8080/"
        },
        "id": "l4e1TOk4jt9R",
        "outputId": "979a58e0-1f0a-4937-e057-bbd6a18d1cf7"
      },
      "source": [
        "#we have entries w/ nan and (unavailable) string\n",
        "records_df[\"general_use\"].unique()"
      ],
      "execution_count": null,
      "outputs": [
        {
          "output_type": "execute_result",
          "data": {
            "text/plain": [
              "array(['Miscellaneous', 'Residential', 'Industrial', 'Commercial',\n",
              "       'Recreational', 'Institutional', nan, '(unavailable)', 'Dry Farm',\n",
              "       'Irrigated Farm'], dtype=object)"
            ]
          },
          "metadata": {
            "tags": []
          },
          "execution_count": 11
        }
      ]
    },
    {
      "cell_type": "code",
      "metadata": {
        "colab": {
          "base_uri": "https://localhost:8080/"
        },
        "id": "WDSETMuEmk0f",
        "outputId": "784bf43b-bb69-49a1-c746-e4647f9367ae"
      },
      "source": [
        "#checking how many nans in general_use\n",
        "records_df['general_use'].isnull().sum()"
      ],
      "execution_count": null,
      "outputs": [
        {
          "output_type": "execute_result",
          "data": {
            "text/plain": [
              "208"
            ]
          },
          "metadata": {
            "tags": []
          },
          "execution_count": 12
        }
      ]
    },
    {
      "cell_type": "code",
      "metadata": {
        "colab": {
          "base_uri": "https://localhost:8080/"
        },
        "id": "piYOjeBwnJDo",
        "outputId": "dd3ffa68-37cc-4d1c-8fc8-c73d516244c8"
      },
      "source": [
        "#replacing nan with (unavailable)\n",
        "records_df[\"general_use\"] = records_df[\"general_use\"].fillna('(unavailable)')\n",
        "records_df[\"general_use\"].unique()"
      ],
      "execution_count": null,
      "outputs": [
        {
          "output_type": "execute_result",
          "data": {
            "text/plain": [
              "array(['Miscellaneous', 'Residential', 'Industrial', 'Commercial',\n",
              "       'Recreational', 'Institutional', '(unavailable)', 'Dry Farm',\n",
              "       'Irrigated Farm'], dtype=object)"
            ]
          },
          "metadata": {
            "tags": []
          },
          "execution_count": 13
        }
      ]
    },
    {
      "cell_type": "markdown",
      "metadata": {
        "id": "0GufVSxFqCKE"
      },
      "source": [
        "###Handling Missing Values in [\"specific_use\"]"
      ]
    },
    {
      "cell_type": "code",
      "metadata": {
        "colab": {
          "base_uri": "https://localhost:8080/"
        },
        "id": "HAHuT5nbluSs",
        "outputId": "a5b08578-8d40-446f-a3f1-f0b29bdea18e"
      },
      "source": [
        "#there is an empty string in this column that we should replace with nan or Not Available \n",
        "records_df[\"specific_use\"].unique()"
      ],
      "execution_count": null,
      "outputs": [
        {
          "output_type": "execute_result",
          "data": {
            "text/plain": [
              "array(['Government Owned Property', 'Single Family Residence',\n",
              "       'Industrial', 'Store Combination',\n",
              "       'Parking Lot (Commercial Use Property)', 'Privately Owned',\n",
              "       'Utility', 'Shopping Center (Neighborhood, Community)',\n",
              "       'Five or More Units or Apartments (Any Combination)',\n",
              "       'Club, Lodge Hall, Fraternal Organization', 'Commercial', 'Church',\n",
              "       'Four Units  (Any Combination)', nan, '(unavailable)',\n",
              "       'Double, Duplex, or Two Units', 'Open Storage',\n",
              "       'Shopping Center (Regional)', 'Cemetery, Mausoleum, Mortuary',\n",
              "       'Waste', 'Three Units (Any Combination)',\n",
              "       'Parking Lot (Industrial Use Property)', 'Office Building',\n",
              "       'Rights of Way', ' ', 'Store', 'Camp', 'Petroleum and Gas',\n",
              "       'Homes for Aged and Others', 'School (Private)',\n",
              "       \"Children's Day Care Center\",\n",
              "       'Auto, Recreation Equipment, Construction Equipment Sales and Service',\n",
              "       'Restaurant, Cocktail Lounge', 'Professional Building',\n",
              "       'Bowling Alley', 'Supermarket', 'Service Station',\n",
              "       'Warehousing, Distribution, Storage', 'Hotel and Motel',\n",
              "       'Hospital', 'Manufactured Home', 'Light Manufacturing',\n",
              "       'Non-Auto Service and Repair Shop, Paint Shop, or Laundry',\n",
              "       'Animal Kennel', 'Heavy Manufacturing', 'Bank, Savings and Loan',\n",
              "       'Department Store', 'Athletic and Amusement Facility',\n",
              "       'College, University (Private)', 'Nursery or Greenhouse',\n",
              "       'Motion Picture, Radio and Television Industry', 'Golf Course',\n",
              "       'Skating Rink', 'Manufactured Home Park', 'Theater', 'Lumber Yard',\n",
              "       'Food Processing Plant', 'Rooming/Boarding House',\n",
              "       'Mineral Processing', 'Wholesale and Manufacturing Outlet',\n",
              "       'Dump Site', 'Poultry, etc.', 'Rivers and Lakes', 'Desert',\n",
              "       'Dairy', 'Race Track', 'Pipeline, Canal', 'Pasture',\n",
              "       'Fruits and Nuts', 'Water Recreation', 'Senior Day Care Center',\n",
              "       'Field Crops'], dtype=object)"
            ]
          },
          "metadata": {
            "tags": []
          },
          "execution_count": 14
        }
      ]
    },
    {
      "cell_type": "code",
      "metadata": {
        "id": "jq8kMCG_rEXt"
      },
      "source": [
        "records_df[\"specific_use\"]= records_df[\"specific_use\"].fillna('(unavailable)')"
      ],
      "execution_count": null,
      "outputs": []
    },
    {
      "cell_type": "code",
      "metadata": {
        "colab": {
          "base_uri": "https://localhost:8080/"
        },
        "id": "uh9gY_ejrrnt",
        "outputId": "cdc90b3f-c035-4c3c-8ff8-8b99d324c168"
      },
      "source": [
        "records_df[\"specific_use\"].unique()"
      ],
      "execution_count": null,
      "outputs": [
        {
          "output_type": "execute_result",
          "data": {
            "text/plain": [
              "array(['Government Owned Property', 'Single Family Residence',\n",
              "       'Industrial', 'Store Combination',\n",
              "       'Parking Lot (Commercial Use Property)', 'Privately Owned',\n",
              "       'Utility', 'Shopping Center (Neighborhood, Community)',\n",
              "       'Five or More Units or Apartments (Any Combination)',\n",
              "       'Club, Lodge Hall, Fraternal Organization', 'Commercial', 'Church',\n",
              "       'Four Units  (Any Combination)', '(unavailable)',\n",
              "       'Double, Duplex, or Two Units', 'Open Storage',\n",
              "       'Shopping Center (Regional)', 'Cemetery, Mausoleum, Mortuary',\n",
              "       'Waste', 'Three Units (Any Combination)',\n",
              "       'Parking Lot (Industrial Use Property)', 'Office Building',\n",
              "       'Rights of Way', ' ', 'Store', 'Camp', 'Petroleum and Gas',\n",
              "       'Homes for Aged and Others', 'School (Private)',\n",
              "       \"Children's Day Care Center\",\n",
              "       'Auto, Recreation Equipment, Construction Equipment Sales and Service',\n",
              "       'Restaurant, Cocktail Lounge', 'Professional Building',\n",
              "       'Bowling Alley', 'Supermarket', 'Service Station',\n",
              "       'Warehousing, Distribution, Storage', 'Hotel and Motel',\n",
              "       'Hospital', 'Manufactured Home', 'Light Manufacturing',\n",
              "       'Non-Auto Service and Repair Shop, Paint Shop, or Laundry',\n",
              "       'Animal Kennel', 'Heavy Manufacturing', 'Bank, Savings and Loan',\n",
              "       'Department Store', 'Athletic and Amusement Facility',\n",
              "       'College, University (Private)', 'Nursery or Greenhouse',\n",
              "       'Motion Picture, Radio and Television Industry', 'Golf Course',\n",
              "       'Skating Rink', 'Manufactured Home Park', 'Theater', 'Lumber Yard',\n",
              "       'Food Processing Plant', 'Rooming/Boarding House',\n",
              "       'Mineral Processing', 'Wholesale and Manufacturing Outlet',\n",
              "       'Dump Site', 'Poultry, etc.', 'Rivers and Lakes', 'Desert',\n",
              "       'Dairy', 'Race Track', 'Pipeline, Canal', 'Pasture',\n",
              "       'Fruits and Nuts', 'Water Recreation', 'Senior Day Care Center',\n",
              "       'Field Crops'], dtype=object)"
            ]
          },
          "metadata": {
            "tags": []
          },
          "execution_count": 16
        }
      ]
    },
    {
      "cell_type": "code",
      "metadata": {
        "id": "4sHTl22Hr2_S"
      },
      "source": [
        ""
      ],
      "execution_count": null,
      "outputs": []
    },
    {
      "cell_type": "markdown",
      "metadata": {
        "id": "mY0BFDoXsguv"
      },
      "source": [
        ""
      ]
    },
    {
      "cell_type": "markdown",
      "metadata": {
        "id": "Z7qACCGMsjCh"
      },
      "source": [
        "###Handling Missing Values in [\"net_value\"]"
      ]
    },
    {
      "cell_type": "code",
      "metadata": {
        "colab": {
          "base_uri": "https://localhost:8080/"
        },
        "id": "HrviLMgEsqx0",
        "outputId": "7116d787-5fb4-4b8b-f123-f06ea0b5dbcd"
      },
      "source": [
        "#this is good to go\n",
        "records_df['net_value']"
      ],
      "execution_count": null,
      "outputs": [
        {
          "output_type": "execute_result",
          "data": {
            "text/plain": [
              "0              0\n",
              "1              0\n",
              "2              0\n",
              "3              0\n",
              "4              0\n",
              "           ...  \n",
              "790013    276700\n",
              "790014    295900\n",
              "790015     62825\n",
              "790016    267400\n",
              "790017    398000\n",
              "Name: net_value, Length: 790018, dtype: int64"
            ]
          },
          "metadata": {
            "tags": []
          },
          "execution_count": 17
        }
      ]
    },
    {
      "cell_type": "markdown",
      "metadata": {
        "id": "-e6SP1P5tWl2"
      },
      "source": [
        "###Handling Missing Values in [\"zip_code\"]"
      ]
    },
    {
      "cell_type": "code",
      "metadata": {
        "colab": {
          "base_uri": "https://localhost:8080/"
        },
        "id": "c25sl2oHtsKp",
        "outputId": "a7034f36-9687-4c78-f22d-084a18653abd"
      },
      "source": [
        "#good to go\n",
        "records_df['zip_code'].unique()"
      ],
      "execution_count": null,
      "outputs": [
        {
          "output_type": "execute_result",
          "data": {
            "text/plain": [
              "array([   nan, 91604., 90035., 90043., 91364., 91335., 91306., 91367.,\n",
              "       91303., 91307., 91356., 91316., 91325., 91406., 91343., 91405.,\n",
              "       91402., 90045., 91423., 91411., 91401., 90230., 91403., 91436.,\n",
              "       91346., 90210., 90077., 90049., 91605., 91352., 91331., 90001.,\n",
              "       91606., 90066., 99606., 91066., 91006., 91601., 90068., 91607.,\n",
              "       91602., 91499., 90046., 91342., 91340., 91040., 91311., 91042.,\n",
              "       91024., 91214., 91344., 91345., 91353., 91504., 91505., 93510.,\n",
              "       91612., 90601., 91608., 90064., 91387., 91324., 91329., 91326.,\n",
              "       93063., 91304., 91301., 90056., 90302., 90047., 90036., 90293.,\n",
              "       90291., 90040., 90009., 90304., 90245., 90016., 90232., 90034.,\n",
              "       90025., 90094., 90292., 90041., 90042., 90015., 90057., 90011.,\n",
              "       90005., 90063., 90012., 92008., 90037., 90031., 90006., 90023.,\n",
              "       90065., 90019., 90013., 90014., 95648., 90017., 90405., 90026.,\n",
              "       90007., 90402., 90403., 90297., 90067., 90024., 90212., 90069.,\n",
              "       90048., 90211., 90062., 94513., 90095., 90039., 90022., 90027.,\n",
              "       90631., 90272., 90020., 94707., 90270., 90053., 90290., 90265.,\n",
              "       90044., 90003., 90058., 90018., 90008., 90240., 90089., 90028.,\n",
              "       90021., 90029., 90010., 90038., 90004., 90079., 90071., 90033.,\n",
              "       91792., 92806., 92801., 94087., 90032., 91205., 91204., 92646.,\n",
              "       91030., 91201., 91206., 91105., 91101., 90052., 90002., 90059.,\n",
              "       90061., 90051., 90248., 90501., 90247., 90745., 90813., 90744.,\n",
              "       90746., 90502., 90731., 90717., 90710., 90712., 90732., 90734.,\n",
              "       90815., 92805., 90748., 90733., 90822., 90275., 92802., 91302.])"
            ]
          },
          "metadata": {
            "tags": []
          },
          "execution_count": 18
        }
      ]
    },
    {
      "cell_type": "markdown",
      "metadata": {
        "id": "ts4jqOcDvaDz"
      },
      "source": [
        ""
      ]
    },
    {
      "cell_type": "markdown",
      "metadata": {
        "id": "lY2D0rTM1LBf"
      },
      "source": [
        "###Dropping Data w/o Zip Codes"
      ]
    },
    {
      "cell_type": "code",
      "metadata": {
        "id": "iGDU6SRZ1V2_"
      },
      "source": [
        "records_df = records_df[records_df['zip_code'].notna()]"
      ],
      "execution_count": null,
      "outputs": []
    },
    {
      "cell_type": "code",
      "metadata": {
        "colab": {
          "base_uri": "https://localhost:8080/",
          "height": 164
        },
        "id": "txKUvLdi38Lc",
        "outputId": "9b894dae-49d6-4f8d-9684-394b69b346b3"
      },
      "source": [
        "records_df = records_df.reset_index()"
      ],
      "execution_count": null,
      "outputs": [
        {
          "output_type": "error",
          "ename": "TypeError",
          "evalue": "ignored",
          "traceback": [
            "\u001b[0;31m---------------------------------------------------------------------------\u001b[0m",
            "\u001b[0;31mTypeError\u001b[0m                                 Traceback (most recent call last)",
            "\u001b[0;32m<ipython-input-22-e92843dcba74>\u001b[0m in \u001b[0;36m<module>\u001b[0;34m()\u001b[0m\n\u001b[0;32m----> 1\u001b[0;31m \u001b[0mrecords_df\u001b[0m \u001b[0;34m=\u001b[0m \u001b[0mrecords_df\u001b[0m\u001b[0;34m.\u001b[0m\u001b[0mreset_index\u001b[0m\u001b[0;34m(\u001b[0m\u001b[0;34m)\u001b[0m\u001b[0;34m.\u001b[0m\u001b[0mdrop\u001b[0m\u001b[0;34m(\u001b[0m\u001b[0mcolumn\u001b[0m\u001b[0;34m=\u001b[0m\u001b[0;34m\"index\"\u001b[0m\u001b[0;34m)\u001b[0m\u001b[0;34m\u001b[0m\u001b[0;34m\u001b[0m\u001b[0m\n\u001b[0m",
            "\u001b[0;31mTypeError\u001b[0m: drop() got an unexpected keyword argument 'column'"
          ]
        }
      ]
    },
    {
      "cell_type": "code",
      "metadata": {
        "id": "RKWQUBiv_zPX"
      },
      "source": [
        "records_df = records_df.drop(columns=\"index\")"
      ],
      "execution_count": null,
      "outputs": []
    },
    {
      "cell_type": "code",
      "metadata": {
        "colab": {
          "base_uri": "https://localhost:8080/",
          "height": 419
        },
        "id": "9IBNCpxAACqe",
        "outputId": "50aff8ae-cdd3-4a27-cf81-68d6e1755eb7"
      },
      "source": [
        "records_df"
      ],
      "execution_count": null,
      "outputs": [
        {
          "output_type": "execute_result",
          "data": {
            "text/html": [
              "<div>\n",
              "<style scoped>\n",
              "    .dataframe tbody tr th:only-of-type {\n",
              "        vertical-align: middle;\n",
              "    }\n",
              "\n",
              "    .dataframe tbody tr th {\n",
              "        vertical-align: top;\n",
              "    }\n",
              "\n",
              "    .dataframe thead th {\n",
              "        text-align: right;\n",
              "    }\n",
              "</style>\n",
              "<table border=\"1\" class=\"dataframe\">\n",
              "  <thead>\n",
              "    <tr style=\"text-align: right;\">\n",
              "      <th></th>\n",
              "      <th>city</th>\n",
              "      <th>year</th>\n",
              "      <th>assessor_id</th>\n",
              "      <th>general_use</th>\n",
              "      <th>specific_use</th>\n",
              "      <th>net_value</th>\n",
              "      <th>zip_code</th>\n",
              "    </tr>\n",
              "  </thead>\n",
              "  <tbody>\n",
              "    <tr>\n",
              "      <th>0</th>\n",
              "      <td>LOS ANGELES</td>\n",
              "      <td>2010</td>\n",
              "      <td>2368-002-003</td>\n",
              "      <td>Commercial</td>\n",
              "      <td>Commercial</td>\n",
              "      <td>455441</td>\n",
              "      <td>91604.0</td>\n",
              "    </tr>\n",
              "    <tr>\n",
              "      <th>1</th>\n",
              "      <td>LOS ANGELES</td>\n",
              "      <td>2010</td>\n",
              "      <td>4305-007-001</td>\n",
              "      <td>Commercial</td>\n",
              "      <td>Store</td>\n",
              "      <td>559830</td>\n",
              "      <td>90035.0</td>\n",
              "    </tr>\n",
              "    <tr>\n",
              "      <th>2</th>\n",
              "      <td>LOS ANGELES</td>\n",
              "      <td>2010</td>\n",
              "      <td>5013-019-033</td>\n",
              "      <td>Commercial</td>\n",
              "      <td>Commercial</td>\n",
              "      <td>303510</td>\n",
              "      <td>90043.0</td>\n",
              "    </tr>\n",
              "    <tr>\n",
              "      <th>3</th>\n",
              "      <td>LOS ANGELES</td>\n",
              "      <td>2010</td>\n",
              "      <td>2040-032-015</td>\n",
              "      <td>Commercial</td>\n",
              "      <td>Store</td>\n",
              "      <td>800000</td>\n",
              "      <td>91364.0</td>\n",
              "    </tr>\n",
              "    <tr>\n",
              "      <th>4</th>\n",
              "      <td>LOS ANGELES</td>\n",
              "      <td>2010</td>\n",
              "      <td>2132-011-025</td>\n",
              "      <td>Residential</td>\n",
              "      <td>Single Family Residence</td>\n",
              "      <td>205877</td>\n",
              "      <td>91335.0</td>\n",
              "    </tr>\n",
              "    <tr>\n",
              "      <th>...</th>\n",
              "      <td>...</td>\n",
              "      <td>...</td>\n",
              "      <td>...</td>\n",
              "      <td>...</td>\n",
              "      <td>...</td>\n",
              "      <td>...</td>\n",
              "      <td>...</td>\n",
              "    </tr>\n",
              "    <tr>\n",
              "      <th>747293</th>\n",
              "      <td>LOS ANGELES</td>\n",
              "      <td>2010</td>\n",
              "      <td>2132-007-010</td>\n",
              "      <td>Residential</td>\n",
              "      <td>Single Family Residence</td>\n",
              "      <td>276700</td>\n",
              "      <td>91335.0</td>\n",
              "    </tr>\n",
              "    <tr>\n",
              "      <th>747294</th>\n",
              "      <td>LOS ANGELES</td>\n",
              "      <td>2010</td>\n",
              "      <td>2132-007-013</td>\n",
              "      <td>Residential</td>\n",
              "      <td>Single Family Residence</td>\n",
              "      <td>295900</td>\n",
              "      <td>91335.0</td>\n",
              "    </tr>\n",
              "    <tr>\n",
              "      <th>747295</th>\n",
              "      <td>LOS ANGELES</td>\n",
              "      <td>2010</td>\n",
              "      <td>2132-007-011</td>\n",
              "      <td>Residential</td>\n",
              "      <td>Single Family Residence</td>\n",
              "      <td>62825</td>\n",
              "      <td>91335.0</td>\n",
              "    </tr>\n",
              "    <tr>\n",
              "      <th>747296</th>\n",
              "      <td>LOS ANGELES</td>\n",
              "      <td>2010</td>\n",
              "      <td>2132-007-012</td>\n",
              "      <td>Residential</td>\n",
              "      <td>Single Family Residence</td>\n",
              "      <td>267400</td>\n",
              "      <td>91335.0</td>\n",
              "    </tr>\n",
              "    <tr>\n",
              "      <th>747297</th>\n",
              "      <td>LOS ANGELES</td>\n",
              "      <td>2010</td>\n",
              "      <td>2132-007-007</td>\n",
              "      <td>Residential</td>\n",
              "      <td>Single Family Residence</td>\n",
              "      <td>398000</td>\n",
              "      <td>91335.0</td>\n",
              "    </tr>\n",
              "  </tbody>\n",
              "</table>\n",
              "<p>747298 rows × 7 columns</p>\n",
              "</div>"
            ],
            "text/plain": [
              "               city  year  ... net_value zip_code\n",
              "0       LOS ANGELES  2010  ...    455441  91604.0\n",
              "1       LOS ANGELES  2010  ...    559830  90035.0\n",
              "2       LOS ANGELES  2010  ...    303510  90043.0\n",
              "3       LOS ANGELES  2010  ...    800000  91364.0\n",
              "4       LOS ANGELES  2010  ...    205877  91335.0\n",
              "...             ...   ...  ...       ...      ...\n",
              "747293  LOS ANGELES  2010  ...    276700  91335.0\n",
              "747294  LOS ANGELES  2010  ...    295900  91335.0\n",
              "747295  LOS ANGELES  2010  ...     62825  91335.0\n",
              "747296  LOS ANGELES  2010  ...    267400  91335.0\n",
              "747297  LOS ANGELES  2010  ...    398000  91335.0\n",
              "\n",
              "[747298 rows x 7 columns]"
            ]
          },
          "metadata": {
            "tags": []
          },
          "execution_count": 24
        }
      ]
    },
    {
      "cell_type": "markdown",
      "metadata": {
        "id": "6JgE_Lf0vcMY"
      },
      "source": [
        "##Consistency\n",
        "Now that I've handles missing values, I will check consistency over: \n",
        "\n",
        "\n",
        "1.   Data type\n",
        "2.   Categorical \n",
        "2.  Referential integrity\n",
        "\n",
        "\n"
      ]
    },
    {
      "cell_type": "markdown",
      "metadata": {
        "id": "QXWw3cnZzgKu"
      },
      "source": [
        "###Data type"
      ]
    },
    {
      "cell_type": "code",
      "metadata": {
        "colab": {
          "base_uri": "https://localhost:8080/"
        },
        "id": "c1uhByKgzy8L",
        "outputId": "0f8f7831-f896-4a2e-ed4f-9ff071af6b69"
      },
      "source": [
        "records_df.info()"
      ],
      "execution_count": null,
      "outputs": [
        {
          "output_type": "stream",
          "text": [
            "<class 'pandas.core.frame.DataFrame'>\n",
            "RangeIndex: 747298 entries, 0 to 747297\n",
            "Data columns (total 7 columns):\n",
            " #   Column        Non-Null Count   Dtype  \n",
            "---  ------        --------------   -----  \n",
            " 0   city          747298 non-null  object \n",
            " 1   year          747298 non-null  int64  \n",
            " 2   assessor_id   747298 non-null  object \n",
            " 3   general_use   747298 non-null  object \n",
            " 4   specific_use  747298 non-null  object \n",
            " 5   net_value     747298 non-null  int64  \n",
            " 6   zip_code      747298 non-null  float64\n",
            "dtypes: float64(1), int64(2), object(4)\n",
            "memory usage: 39.9+ MB\n"
          ],
          "name": "stdout"
        }
      ]
    },
    {
      "cell_type": "code",
      "metadata": {
        "id": "-2O6lEu0z68z"
      },
      "source": [
        "#changing to category type \n",
        "records_df[\"assessor_id\"] = records_df[\"assessor_id\"].astype(\"category\")\n",
        "records_df[\"general_use\"] = records_df[\"general_use\"].astype(\"category\")\n",
        "records_df[\"specific_use\"] = records_df[\"specific_use\"].astype(\"category\")\n",
        "\n",
        "#since all NaN have been removed, change type of zip code column to int. this may change later\n",
        "records_df[\"zip_code\"] = records_df[\"zip_code\"].astype(\"int\")\n",
        "\n",
        "#change year to datetime format\n",
        "records_df[\"year\"] = pd.to_datetime(records_df['year'], format='%Y')"
      ],
      "execution_count": null,
      "outputs": []
    },
    {
      "cell_type": "code",
      "metadata": {
        "id": "Lqz_AATz7DwX"
      },
      "source": [
        "records_df[\"year\"] = records_df[\"year\"].dt.year"
      ],
      "execution_count": null,
      "outputs": []
    },
    {
      "cell_type": "code",
      "metadata": {
        "colab": {
          "base_uri": "https://localhost:8080/"
        },
        "id": "Utix0Z9B81v6",
        "outputId": "5a2ab0b2-8d26-471b-b5f9-73ca05264b55"
      },
      "source": [
        "records_df.info()"
      ],
      "execution_count": null,
      "outputs": [
        {
          "output_type": "stream",
          "text": [
            "<class 'pandas.core.frame.DataFrame'>\n",
            "RangeIndex: 747298 entries, 0 to 747297\n",
            "Data columns (total 7 columns):\n",
            " #   Column        Non-Null Count   Dtype   \n",
            "---  ------        --------------   -----   \n",
            " 0   city          747298 non-null  object  \n",
            " 1   year          747298 non-null  int64   \n",
            " 2   assessor_id   747298 non-null  category\n",
            " 3   general_use   747298 non-null  category\n",
            " 4   specific_use  747298 non-null  category\n",
            " 5   net_value     747298 non-null  int64   \n",
            " 6   zip_code      747298 non-null  int64   \n",
            "dtypes: category(3), int64(3), object(1)\n",
            "memory usage: 52.8+ MB\n"
          ],
          "name": "stdout"
        }
      ]
    },
    {
      "cell_type": "markdown",
      "metadata": {
        "id": "bzxGEx1u9j9Q"
      },
      "source": [
        "###Categorical Consistency "
      ]
    },
    {
      "cell_type": "code",
      "metadata": {
        "colab": {
          "base_uri": "https://localhost:8080/"
        },
        "id": "x7CqQViw9m2f",
        "outputId": "4179813a-8498-4109-c089-2741d861f3d7"
      },
      "source": [
        "#consistent \n",
        "records_df[\"general_use\"].unique()"
      ],
      "execution_count": null,
      "outputs": [
        {
          "output_type": "execute_result",
          "data": {
            "text/plain": [
              "['Commercial', 'Residential', 'Institutional', 'Recreational', 'Industrial', 'Miscellaneous', '(unavailable)', 'Irrigated Farm', 'Dry Farm']\n",
              "Categories (9, object): ['Commercial', 'Residential', 'Institutional', 'Recreational', ...,\n",
              "                         'Miscellaneous', '(unavailable)', 'Irrigated Farm', 'Dry Farm']"
            ]
          },
          "metadata": {
            "tags": []
          },
          "execution_count": 29
        }
      ]
    },
    {
      "cell_type": "code",
      "metadata": {
        "colab": {
          "base_uri": "https://localhost:8080/"
        },
        "id": "bMibny9_9_5R",
        "outputId": "c000061d-0705-4261-bf3d-7466bce95b5b"
      },
      "source": [
        "#consistent \n",
        "records_df[\"specific_use\"]"
      ],
      "execution_count": null,
      "outputs": [
        {
          "output_type": "execute_result",
          "data": {
            "text/plain": [
              "0                      Commercial\n",
              "1                           Store\n",
              "2                      Commercial\n",
              "3                           Store\n",
              "4         Single Family Residence\n",
              "                   ...           \n",
              "747293    Single Family Residence\n",
              "747294    Single Family Residence\n",
              "747295    Single Family Residence\n",
              "747296    Single Family Residence\n",
              "747297    Single Family Residence\n",
              "Name: specific_use, Length: 747298, dtype: category\n",
              "Categories (69, object): [' ', '(unavailable)', 'Animal Kennel',\n",
              "                          'Athletic and Amusement Facility', ..., 'Warehousing, Distribution, Storage', 'Waste',\n",
              "                          'Water Recreation', 'Wholesale and Manufacturing Outlet']"
            ]
          },
          "metadata": {
            "tags": []
          },
          "execution_count": 30
        }
      ]
    },
    {
      "cell_type": "markdown",
      "metadata": {
        "id": "zXeLAAXO-jbL"
      },
      "source": [
        "###  Referential integrity"
      ]
    },
    {
      "cell_type": "code",
      "metadata": {
        "id": "9lA8x_6G-qgS"
      },
      "source": [
        "#making the assessor_id a unique ID per parcel per year\n",
        "records_df['assessor_id'] = records_df[\"assessor_id\"].apply(lambda x: x +\"-2010\")"
      ],
      "execution_count": null,
      "outputs": []
    },
    {
      "cell_type": "code",
      "metadata": {
        "colab": {
          "base_uri": "https://localhost:8080/",
          "height": 419
        },
        "id": "n_OkPZtP-xy-",
        "outputId": "dadc1fbc-7285-4f0c-a9ce-f5834b85f327"
      },
      "source": [
        "records_df"
      ],
      "execution_count": null,
      "outputs": [
        {
          "output_type": "execute_result",
          "data": {
            "text/html": [
              "<div>\n",
              "<style scoped>\n",
              "    .dataframe tbody tr th:only-of-type {\n",
              "        vertical-align: middle;\n",
              "    }\n",
              "\n",
              "    .dataframe tbody tr th {\n",
              "        vertical-align: top;\n",
              "    }\n",
              "\n",
              "    .dataframe thead th {\n",
              "        text-align: right;\n",
              "    }\n",
              "</style>\n",
              "<table border=\"1\" class=\"dataframe\">\n",
              "  <thead>\n",
              "    <tr style=\"text-align: right;\">\n",
              "      <th></th>\n",
              "      <th>city</th>\n",
              "      <th>year</th>\n",
              "      <th>assessor_id</th>\n",
              "      <th>general_use</th>\n",
              "      <th>specific_use</th>\n",
              "      <th>net_value</th>\n",
              "      <th>zip_code</th>\n",
              "    </tr>\n",
              "  </thead>\n",
              "  <tbody>\n",
              "    <tr>\n",
              "      <th>0</th>\n",
              "      <td>LOS ANGELES</td>\n",
              "      <td>2010</td>\n",
              "      <td>2368-002-003-2010</td>\n",
              "      <td>Commercial</td>\n",
              "      <td>Commercial</td>\n",
              "      <td>455441</td>\n",
              "      <td>91604</td>\n",
              "    </tr>\n",
              "    <tr>\n",
              "      <th>1</th>\n",
              "      <td>LOS ANGELES</td>\n",
              "      <td>2010</td>\n",
              "      <td>4305-007-001-2010</td>\n",
              "      <td>Commercial</td>\n",
              "      <td>Store</td>\n",
              "      <td>559830</td>\n",
              "      <td>90035</td>\n",
              "    </tr>\n",
              "    <tr>\n",
              "      <th>2</th>\n",
              "      <td>LOS ANGELES</td>\n",
              "      <td>2010</td>\n",
              "      <td>5013-019-033-2010</td>\n",
              "      <td>Commercial</td>\n",
              "      <td>Commercial</td>\n",
              "      <td>303510</td>\n",
              "      <td>90043</td>\n",
              "    </tr>\n",
              "    <tr>\n",
              "      <th>3</th>\n",
              "      <td>LOS ANGELES</td>\n",
              "      <td>2010</td>\n",
              "      <td>2040-032-015-2010</td>\n",
              "      <td>Commercial</td>\n",
              "      <td>Store</td>\n",
              "      <td>800000</td>\n",
              "      <td>91364</td>\n",
              "    </tr>\n",
              "    <tr>\n",
              "      <th>4</th>\n",
              "      <td>LOS ANGELES</td>\n",
              "      <td>2010</td>\n",
              "      <td>2132-011-025-2010</td>\n",
              "      <td>Residential</td>\n",
              "      <td>Single Family Residence</td>\n",
              "      <td>205877</td>\n",
              "      <td>91335</td>\n",
              "    </tr>\n",
              "    <tr>\n",
              "      <th>...</th>\n",
              "      <td>...</td>\n",
              "      <td>...</td>\n",
              "      <td>...</td>\n",
              "      <td>...</td>\n",
              "      <td>...</td>\n",
              "      <td>...</td>\n",
              "      <td>...</td>\n",
              "    </tr>\n",
              "    <tr>\n",
              "      <th>747293</th>\n",
              "      <td>LOS ANGELES</td>\n",
              "      <td>2010</td>\n",
              "      <td>2132-007-010-2010</td>\n",
              "      <td>Residential</td>\n",
              "      <td>Single Family Residence</td>\n",
              "      <td>276700</td>\n",
              "      <td>91335</td>\n",
              "    </tr>\n",
              "    <tr>\n",
              "      <th>747294</th>\n",
              "      <td>LOS ANGELES</td>\n",
              "      <td>2010</td>\n",
              "      <td>2132-007-013-2010</td>\n",
              "      <td>Residential</td>\n",
              "      <td>Single Family Residence</td>\n",
              "      <td>295900</td>\n",
              "      <td>91335</td>\n",
              "    </tr>\n",
              "    <tr>\n",
              "      <th>747295</th>\n",
              "      <td>LOS ANGELES</td>\n",
              "      <td>2010</td>\n",
              "      <td>2132-007-011-2010</td>\n",
              "      <td>Residential</td>\n",
              "      <td>Single Family Residence</td>\n",
              "      <td>62825</td>\n",
              "      <td>91335</td>\n",
              "    </tr>\n",
              "    <tr>\n",
              "      <th>747296</th>\n",
              "      <td>LOS ANGELES</td>\n",
              "      <td>2010</td>\n",
              "      <td>2132-007-012-2010</td>\n",
              "      <td>Residential</td>\n",
              "      <td>Single Family Residence</td>\n",
              "      <td>267400</td>\n",
              "      <td>91335</td>\n",
              "    </tr>\n",
              "    <tr>\n",
              "      <th>747297</th>\n",
              "      <td>LOS ANGELES</td>\n",
              "      <td>2010</td>\n",
              "      <td>2132-007-007-2010</td>\n",
              "      <td>Residential</td>\n",
              "      <td>Single Family Residence</td>\n",
              "      <td>398000</td>\n",
              "      <td>91335</td>\n",
              "    </tr>\n",
              "  </tbody>\n",
              "</table>\n",
              "<p>747298 rows × 7 columns</p>\n",
              "</div>"
            ],
            "text/plain": [
              "               city  year  ... net_value zip_code\n",
              "0       LOS ANGELES  2010  ...    455441    91604\n",
              "1       LOS ANGELES  2010  ...    559830    90035\n",
              "2       LOS ANGELES  2010  ...    303510    90043\n",
              "3       LOS ANGELES  2010  ...    800000    91364\n",
              "4       LOS ANGELES  2010  ...    205877    91335\n",
              "...             ...   ...  ...       ...      ...\n",
              "747293  LOS ANGELES  2010  ...    276700    91335\n",
              "747294  LOS ANGELES  2010  ...    295900    91335\n",
              "747295  LOS ANGELES  2010  ...     62825    91335\n",
              "747296  LOS ANGELES  2010  ...    267400    91335\n",
              "747297  LOS ANGELES  2010  ...    398000    91335\n",
              "\n",
              "[747298 rows x 7 columns]"
            ]
          },
          "metadata": {
            "tags": []
          },
          "execution_count": 32
        }
      ]
    },
    {
      "cell_type": "code",
      "metadata": {
        "id": "v9NXZGW_GjUR",
        "colab": {
          "base_uri": "https://localhost:8080/",
          "height": 419
        },
        "outputId": "9d153f37-c745-4d6a-86a1-a41978c4195b"
      },
      "source": [
        "records_df"
      ],
      "execution_count": null,
      "outputs": [
        {
          "output_type": "execute_result",
          "data": {
            "text/html": [
              "<div>\n",
              "<style scoped>\n",
              "    .dataframe tbody tr th:only-of-type {\n",
              "        vertical-align: middle;\n",
              "    }\n",
              "\n",
              "    .dataframe tbody tr th {\n",
              "        vertical-align: top;\n",
              "    }\n",
              "\n",
              "    .dataframe thead th {\n",
              "        text-align: right;\n",
              "    }\n",
              "</style>\n",
              "<table border=\"1\" class=\"dataframe\">\n",
              "  <thead>\n",
              "    <tr style=\"text-align: right;\">\n",
              "      <th></th>\n",
              "      <th>city</th>\n",
              "      <th>year</th>\n",
              "      <th>assessor_id</th>\n",
              "      <th>general_use</th>\n",
              "      <th>specific_use</th>\n",
              "      <th>net_value</th>\n",
              "      <th>zip_code</th>\n",
              "    </tr>\n",
              "  </thead>\n",
              "  <tbody>\n",
              "    <tr>\n",
              "      <th>0</th>\n",
              "      <td>LOS ANGELES</td>\n",
              "      <td>2010</td>\n",
              "      <td>2368-002-003-2010</td>\n",
              "      <td>Commercial</td>\n",
              "      <td>Commercial</td>\n",
              "      <td>455441</td>\n",
              "      <td>91604</td>\n",
              "    </tr>\n",
              "    <tr>\n",
              "      <th>1</th>\n",
              "      <td>LOS ANGELES</td>\n",
              "      <td>2010</td>\n",
              "      <td>4305-007-001-2010</td>\n",
              "      <td>Commercial</td>\n",
              "      <td>Store</td>\n",
              "      <td>559830</td>\n",
              "      <td>90035</td>\n",
              "    </tr>\n",
              "    <tr>\n",
              "      <th>2</th>\n",
              "      <td>LOS ANGELES</td>\n",
              "      <td>2010</td>\n",
              "      <td>5013-019-033-2010</td>\n",
              "      <td>Commercial</td>\n",
              "      <td>Commercial</td>\n",
              "      <td>303510</td>\n",
              "      <td>90043</td>\n",
              "    </tr>\n",
              "    <tr>\n",
              "      <th>3</th>\n",
              "      <td>LOS ANGELES</td>\n",
              "      <td>2010</td>\n",
              "      <td>2040-032-015-2010</td>\n",
              "      <td>Commercial</td>\n",
              "      <td>Store</td>\n",
              "      <td>800000</td>\n",
              "      <td>91364</td>\n",
              "    </tr>\n",
              "    <tr>\n",
              "      <th>4</th>\n",
              "      <td>LOS ANGELES</td>\n",
              "      <td>2010</td>\n",
              "      <td>2132-011-025-2010</td>\n",
              "      <td>Residential</td>\n",
              "      <td>Single Family Residence</td>\n",
              "      <td>205877</td>\n",
              "      <td>91335</td>\n",
              "    </tr>\n",
              "    <tr>\n",
              "      <th>...</th>\n",
              "      <td>...</td>\n",
              "      <td>...</td>\n",
              "      <td>...</td>\n",
              "      <td>...</td>\n",
              "      <td>...</td>\n",
              "      <td>...</td>\n",
              "      <td>...</td>\n",
              "    </tr>\n",
              "    <tr>\n",
              "      <th>747293</th>\n",
              "      <td>LOS ANGELES</td>\n",
              "      <td>2010</td>\n",
              "      <td>2132-007-010-2010</td>\n",
              "      <td>Residential</td>\n",
              "      <td>Single Family Residence</td>\n",
              "      <td>276700</td>\n",
              "      <td>91335</td>\n",
              "    </tr>\n",
              "    <tr>\n",
              "      <th>747294</th>\n",
              "      <td>LOS ANGELES</td>\n",
              "      <td>2010</td>\n",
              "      <td>2132-007-013-2010</td>\n",
              "      <td>Residential</td>\n",
              "      <td>Single Family Residence</td>\n",
              "      <td>295900</td>\n",
              "      <td>91335</td>\n",
              "    </tr>\n",
              "    <tr>\n",
              "      <th>747295</th>\n",
              "      <td>LOS ANGELES</td>\n",
              "      <td>2010</td>\n",
              "      <td>2132-007-011-2010</td>\n",
              "      <td>Residential</td>\n",
              "      <td>Single Family Residence</td>\n",
              "      <td>62825</td>\n",
              "      <td>91335</td>\n",
              "    </tr>\n",
              "    <tr>\n",
              "      <th>747296</th>\n",
              "      <td>LOS ANGELES</td>\n",
              "      <td>2010</td>\n",
              "      <td>2132-007-012-2010</td>\n",
              "      <td>Residential</td>\n",
              "      <td>Single Family Residence</td>\n",
              "      <td>267400</td>\n",
              "      <td>91335</td>\n",
              "    </tr>\n",
              "    <tr>\n",
              "      <th>747297</th>\n",
              "      <td>LOS ANGELES</td>\n",
              "      <td>2010</td>\n",
              "      <td>2132-007-007-2010</td>\n",
              "      <td>Residential</td>\n",
              "      <td>Single Family Residence</td>\n",
              "      <td>398000</td>\n",
              "      <td>91335</td>\n",
              "    </tr>\n",
              "  </tbody>\n",
              "</table>\n",
              "<p>747298 rows × 7 columns</p>\n",
              "</div>"
            ],
            "text/plain": [
              "               city  year  ... net_value zip_code\n",
              "0       LOS ANGELES  2010  ...    455441    91604\n",
              "1       LOS ANGELES  2010  ...    559830    90035\n",
              "2       LOS ANGELES  2010  ...    303510    90043\n",
              "3       LOS ANGELES  2010  ...    800000    91364\n",
              "4       LOS ANGELES  2010  ...    205877    91335\n",
              "...             ...   ...  ...       ...      ...\n",
              "747293  LOS ANGELES  2010  ...    276700    91335\n",
              "747294  LOS ANGELES  2010  ...    295900    91335\n",
              "747295  LOS ANGELES  2010  ...     62825    91335\n",
              "747296  LOS ANGELES  2010  ...    267400    91335\n",
              "747297  LOS ANGELES  2010  ...    398000    91335\n",
              "\n",
              "[747298 rows x 7 columns]"
            ]
          },
          "metadata": {
            "tags": []
          },
          "execution_count": 34
        }
      ]
    },
    {
      "cell_type": "code",
      "metadata": {
        "id": "O03mpL60AnF7"
      },
      "source": [
        ""
      ],
      "execution_count": null,
      "outputs": []
    },
    {
      "cell_type": "markdown",
      "metadata": {
        "id": "aYDRoKMS_nb5"
      },
      "source": [
        "##Exporting Data"
      ]
    },
    {
      "cell_type": "code",
      "metadata": {
        "id": "Wc8-dw69_qmW"
      },
      "source": [
        "records_df.to_csv(\"gdrive/My Drive/Team 93 Capstone Project/data/Assessor_Parcels_Data_2010_CLEANED.csv\")"
      ],
      "execution_count": null,
      "outputs": []
    },
    {
      "cell_type": "code",
      "metadata": {
        "id": "zHEo40z8_9R0"
      },
      "source": [
        ""
      ],
      "execution_count": null,
      "outputs": []
    }
  ]
}
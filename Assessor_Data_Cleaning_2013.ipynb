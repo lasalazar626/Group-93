{
  "nbformat": 4,
  "nbformat_minor": 0,
  "metadata": {
    "colab": {
      "name": "Assessor Data Cleaning - 2013.ipynb",
      "provenance": [],
      "collapsed_sections": [],
      "authorship_tag": "ABX9TyMBIw1Q507dV9zGKFRUAigS",
      "include_colab_link": true
    },
    "kernelspec": {
      "name": "python3",
      "display_name": "Python 3"
    },
    "language_info": {
      "name": "python"
    }
  },
  "cells": [
    {
      "cell_type": "markdown",
      "metadata": {
        "id": "view-in-github",
        "colab_type": "text"
      },
      "source": [
        "<a href=\"https://colab.research.google.com/github/sorayabailey23/Group-93/blob/main/Assessor_Data_Cleaning_2013.ipynb\" target=\"_parent\"><img src=\"https://colab.research.google.com/assets/colab-badge.svg\" alt=\"Open In Colab\"/></a>"
      ]
    },
    {
      "cell_type": "markdown",
      "metadata": {
        "id": "NCkY_HRffOx3"
      },
      "source": [
        "# Assessor Data Cleaning - 2013\n",
        "\n",
        "---\n",
        "\n"
      ]
    },
    {
      "cell_type": "code",
      "metadata": {
        "colab": {
          "base_uri": "https://localhost:8080/"
        },
        "id": "-VAEn9kMc05w",
        "outputId": "5c7f9254-e673-46f9-a3fe-143a74b8d225"
      },
      "source": [
        "#importing libraries + drive\n",
        "\n",
        "from google.colab import drive\n",
        "drive.mount('/content/gdrive')"
      ],
      "execution_count": 1,
      "outputs": [
        {
          "output_type": "stream",
          "text": [
            "Mounted at /content/gdrive\n"
          ],
          "name": "stdout"
        }
      ]
    },
    {
      "cell_type": "code",
      "metadata": {
        "id": "ljH4c6VVc-Yc"
      },
      "source": [
        "import numpy as np\n",
        "import pandas as pd\n",
        "import math"
      ],
      "execution_count": 2,
      "outputs": []
    },
    {
      "cell_type": "markdown",
      "metadata": {
        "id": "JuXhCc6DnxXp"
      },
      "source": [
        "##Uploading + Exploring the Data \n",
        "\n",
        "I'll first upload the raw data and see what features it includes.\n"
      ]
    },
    {
      "cell_type": "code",
      "metadata": {
        "colab": {
          "base_uri": "https://localhost:8080/"
        },
        "id": "lxrs7T_IddbX",
        "outputId": "4abe0ec6-3717-4d29-843d-f7a0d713a593"
      },
      "source": [
        "#Importing data from 2011 in Los Angeles \n",
        "records_df = pd.read_csv(\"gdrive/My Drive/Team 93 Capstone Project/data/Assessor_Parcels_Data_2013.csv\")"
      ],
      "execution_count": 3,
      "outputs": [
        {
          "output_type": "stream",
          "text": [
            "/usr/local/lib/python3.7/dist-packages/IPython/core/interactiveshell.py:2718: DtypeWarning: Columns (37) have mixed types.Specify dtype option on import or set low_memory=False.\n",
            "  interactivity=interactivity, compiler=compiler, result=result)\n"
          ],
          "name": "stderr"
        }
      ]
    },
    {
      "cell_type": "code",
      "metadata": {
        "colab": {
          "base_uri": "https://localhost:8080/",
          "height": 496
        },
        "id": "vMCCCrxGflQ0",
        "outputId": "ca8c04de-0175-43a3-9add-6b6d0c41cad1"
      },
      "source": [
        "records_df.head()"
      ],
      "execution_count": 4,
      "outputs": [
        {
          "output_type": "execute_result",
          "data": {
            "text/html": [
              "<div>\n",
              "<style scoped>\n",
              "    .dataframe tbody tr th:only-of-type {\n",
              "        vertical-align: middle;\n",
              "    }\n",
              "\n",
              "    .dataframe tbody tr th {\n",
              "        vertical-align: top;\n",
              "    }\n",
              "\n",
              "    .dataframe thead th {\n",
              "        text-align: right;\n",
              "    }\n",
              "</style>\n",
              "<table border=\"1\" class=\"dataframe\">\n",
              "  <thead>\n",
              "    <tr style=\"text-align: right;\">\n",
              "      <th></th>\n",
              "      <th>Unnamed: 0</th>\n",
              "      <th>situszip</th>\n",
              "      <th>taxratearea_city</th>\n",
              "      <th>ain</th>\n",
              "      <th>rollyear</th>\n",
              "      <th>taxratearea</th>\n",
              "      <th>assessorid</th>\n",
              "      <th>usetype</th>\n",
              "      <th>usecode</th>\n",
              "      <th>usecodedescchar1</th>\n",
              "      <th>usecodedescchar2</th>\n",
              "      <th>usecodedescchar3</th>\n",
              "      <th>usecodedescchar4</th>\n",
              "      <th>totbuildingdatalines</th>\n",
              "      <th>yearbuilt</th>\n",
              "      <th>effectiveyearbuilt</th>\n",
              "      <th>sqftmain</th>\n",
              "      <th>bedrooms</th>\n",
              "      <th>bathrooms</th>\n",
              "      <th>units</th>\n",
              "      <th>recordingdate</th>\n",
              "      <th>roll_landvalue</th>\n",
              "      <th>roll_landbaseyear</th>\n",
              "      <th>roll_impvalue</th>\n",
              "      <th>roll_impbaseyear</th>\n",
              "      <th>roll_totlandimp</th>\n",
              "      <th>roll_homeownersexemp</th>\n",
              "      <th>roll_realestateexemp</th>\n",
              "      <th>roll_fixturevalue</th>\n",
              "      <th>roll_fixtureexemp</th>\n",
              "      <th>roll_perspropvalue</th>\n",
              "      <th>roll_perspropexemp</th>\n",
              "      <th>istaxableparcel</th>\n",
              "      <th>roll_totalvalue</th>\n",
              "      <th>roll_totalexemption</th>\n",
              "      <th>nettaxablevalue</th>\n",
              "      <th>parcelclassification</th>\n",
              "      <th>adminregion</th>\n",
              "      <th>cluster</th>\n",
              "      <th>parcelboundarydescription</th>\n",
              "      <th>situshouseno</th>\n",
              "      <th>situsfraction</th>\n",
              "      <th>situsdirection</th>\n",
              "      <th>situsstreet</th>\n",
              "      <th>situsunit</th>\n",
              "      <th>situscity</th>\n",
              "      <th>rowid</th>\n",
              "      <th>center_lat</th>\n",
              "      <th>center_lon</th>\n",
              "      <th>location_1</th>\n",
              "      <th>propertylocation</th>\n",
              "      <th>situszip5</th>\n",
              "    </tr>\n",
              "  </thead>\n",
              "  <tbody>\n",
              "    <tr>\n",
              "      <th>0</th>\n",
              "      <td>0</td>\n",
              "      <td></td>\n",
              "      <td>LOS ANGELES</td>\n",
              "      <td>2137011901</td>\n",
              "      <td>2013</td>\n",
              "      <td>16</td>\n",
              "      <td>2137-011-901</td>\n",
              "      <td>OTH</td>\n",
              "      <td>8800</td>\n",
              "      <td>Miscellaneous</td>\n",
              "      <td>Government Owned Property</td>\n",
              "      <td></td>\n",
              "      <td></td>\n",
              "      <td>0</td>\n",
              "      <td>0</td>\n",
              "      <td>0</td>\n",
              "      <td>0</td>\n",
              "      <td>0</td>\n",
              "      <td>0</td>\n",
              "      <td>0</td>\n",
              "      <td>19590311</td>\n",
              "      <td>0</td>\n",
              "      <td>1975</td>\n",
              "      <td>0</td>\n",
              "      <td>1975</td>\n",
              "      <td>0</td>\n",
              "      <td>0</td>\n",
              "      <td>0</td>\n",
              "      <td>0</td>\n",
              "      <td>0</td>\n",
              "      <td>0</td>\n",
              "      <td>0</td>\n",
              "      <td>N</td>\n",
              "      <td>0</td>\n",
              "      <td>0</td>\n",
              "      <td>0</td>\n",
              "      <td>Public (non-taxable government-owned)</td>\n",
              "      <td>02</td>\n",
              "      <td>2150</td>\n",
              "      <td>TRACT # 19212 SW 5 FT MEASURED RADIALLY TO SW...</td>\n",
              "      <td>0</td>\n",
              "      <td></td>\n",
              "      <td></td>\n",
              "      <td></td>\n",
              "      <td></td>\n",
              "      <td></td>\n",
              "      <td>20132137011901</td>\n",
              "      <td>34.195156</td>\n",
              "      <td>-118.580389</td>\n",
              "      <td>{'latitude': '34.19515585', 'longitude': '-118...</td>\n",
              "      <td>NaN</td>\n",
              "      <td>NaN</td>\n",
              "    </tr>\n",
              "    <tr>\n",
              "      <th>1</th>\n",
              "      <td>1</td>\n",
              "      <td></td>\n",
              "      <td>LOS ANGELES</td>\n",
              "      <td>2137011904</td>\n",
              "      <td>2013</td>\n",
              "      <td>16</td>\n",
              "      <td>2137-011-904</td>\n",
              "      <td>OTH</td>\n",
              "      <td>8800</td>\n",
              "      <td>Miscellaneous</td>\n",
              "      <td>Government Owned Property</td>\n",
              "      <td></td>\n",
              "      <td></td>\n",
              "      <td>0</td>\n",
              "      <td>0</td>\n",
              "      <td>0</td>\n",
              "      <td>0</td>\n",
              "      <td>0</td>\n",
              "      <td>0</td>\n",
              "      <td>0</td>\n",
              "      <td>19590818</td>\n",
              "      <td>0</td>\n",
              "      <td>1975</td>\n",
              "      <td>0</td>\n",
              "      <td>1975</td>\n",
              "      <td>0</td>\n",
              "      <td>0</td>\n",
              "      <td>0</td>\n",
              "      <td>0</td>\n",
              "      <td>0</td>\n",
              "      <td>0</td>\n",
              "      <td>0</td>\n",
              "      <td>N</td>\n",
              "      <td>0</td>\n",
              "      <td>0</td>\n",
              "      <td>0</td>\n",
              "      <td>Public (non-taxable government-owned)</td>\n",
              "      <td>02</td>\n",
              "      <td>2150</td>\n",
              "      <td>TRACT # 19212 SW 5 FT MEASURED RADIALLY TO SW ...</td>\n",
              "      <td>0</td>\n",
              "      <td></td>\n",
              "      <td></td>\n",
              "      <td></td>\n",
              "      <td></td>\n",
              "      <td></td>\n",
              "      <td>20132137011904</td>\n",
              "      <td>34.195082</td>\n",
              "      <td>-118.580164</td>\n",
              "      <td>{'latitude': '34.19508201', 'longitude': '-118...</td>\n",
              "      <td>NaN</td>\n",
              "      <td>NaN</td>\n",
              "    </tr>\n",
              "    <tr>\n",
              "      <th>2</th>\n",
              "      <td>2</td>\n",
              "      <td></td>\n",
              "      <td>LOS ANGELES</td>\n",
              "      <td>2137015902</td>\n",
              "      <td>2013</td>\n",
              "      <td>16</td>\n",
              "      <td>2137-015-902</td>\n",
              "      <td>OTH</td>\n",
              "      <td>8800</td>\n",
              "      <td>Miscellaneous</td>\n",
              "      <td>Government Owned Property</td>\n",
              "      <td></td>\n",
              "      <td></td>\n",
              "      <td>0</td>\n",
              "      <td>0</td>\n",
              "      <td>0</td>\n",
              "      <td>0</td>\n",
              "      <td>0</td>\n",
              "      <td>0</td>\n",
              "      <td>0</td>\n",
              "      <td>19670245</td>\n",
              "      <td>0</td>\n",
              "      <td>1975</td>\n",
              "      <td>0</td>\n",
              "      <td>0</td>\n",
              "      <td>0</td>\n",
              "      <td>0</td>\n",
              "      <td>0</td>\n",
              "      <td>0</td>\n",
              "      <td>0</td>\n",
              "      <td>0</td>\n",
              "      <td>0</td>\n",
              "      <td>N</td>\n",
              "      <td>0</td>\n",
              "      <td>0</td>\n",
              "      <td>0</td>\n",
              "      <td>Public (non-taxable government-owned)</td>\n",
              "      <td>02</td>\n",
              "      <td>2150</td>\n",
              "      <td>TR=10287 VAC ST AND POR OF LOTS 17 THRU 20 AND...</td>\n",
              "      <td>0</td>\n",
              "      <td></td>\n",
              "      <td></td>\n",
              "      <td></td>\n",
              "      <td></td>\n",
              "      <td></td>\n",
              "      <td>20132137015902</td>\n",
              "      <td>34.200038</td>\n",
              "      <td>-118.582999</td>\n",
              "      <td>{'latitude': '34.20003843', 'longitude': '-118...</td>\n",
              "      <td>NaN</td>\n",
              "      <td>NaN</td>\n",
              "    </tr>\n",
              "    <tr>\n",
              "      <th>3</th>\n",
              "      <td>3</td>\n",
              "      <td></td>\n",
              "      <td>LOS ANGELES</td>\n",
              "      <td>2137019903</td>\n",
              "      <td>2013</td>\n",
              "      <td>16</td>\n",
              "      <td>2137-019-903</td>\n",
              "      <td>OTH</td>\n",
              "      <td>8800</td>\n",
              "      <td>Miscellaneous</td>\n",
              "      <td>Government Owned Property</td>\n",
              "      <td></td>\n",
              "      <td></td>\n",
              "      <td>0</td>\n",
              "      <td>0</td>\n",
              "      <td>0</td>\n",
              "      <td>0</td>\n",
              "      <td>0</td>\n",
              "      <td>0</td>\n",
              "      <td>0</td>\n",
              "      <td>19800523</td>\n",
              "      <td>0</td>\n",
              "      <td>1980</td>\n",
              "      <td>0</td>\n",
              "      <td>1975</td>\n",
              "      <td>0</td>\n",
              "      <td>0</td>\n",
              "      <td>0</td>\n",
              "      <td>0</td>\n",
              "      <td>0</td>\n",
              "      <td>0</td>\n",
              "      <td>0</td>\n",
              "      <td>N</td>\n",
              "      <td>0</td>\n",
              "      <td>0</td>\n",
              "      <td>0</td>\n",
              "      <td>Public (non-taxable government-owned)</td>\n",
              "      <td>02</td>\n",
              "      <td>2150</td>\n",
              "      <td>*TR=1339*S 285.07 FT (EX OF STS) OF LOT   48</td>\n",
              "      <td>0</td>\n",
              "      <td></td>\n",
              "      <td></td>\n",
              "      <td></td>\n",
              "      <td></td>\n",
              "      <td></td>\n",
              "      <td>20132137019903</td>\n",
              "      <td>34.197830</td>\n",
              "      <td>-118.587828</td>\n",
              "      <td>{'latitude': '34.19783011', 'longitude': '-118...</td>\n",
              "      <td>NaN</td>\n",
              "      <td>NaN</td>\n",
              "    </tr>\n",
              "    <tr>\n",
              "      <th>4</th>\n",
              "      <td>4</td>\n",
              "      <td></td>\n",
              "      <td>LOS ANGELES</td>\n",
              "      <td>2138029902</td>\n",
              "      <td>2013</td>\n",
              "      <td>16</td>\n",
              "      <td>2138-029-902</td>\n",
              "      <td>OTH</td>\n",
              "      <td>8800</td>\n",
              "      <td>Miscellaneous</td>\n",
              "      <td>Government Owned Property</td>\n",
              "      <td></td>\n",
              "      <td></td>\n",
              "      <td>0</td>\n",
              "      <td>0</td>\n",
              "      <td>0</td>\n",
              "      <td>0</td>\n",
              "      <td>0</td>\n",
              "      <td>0</td>\n",
              "      <td>0</td>\n",
              "      <td>19450126</td>\n",
              "      <td>0</td>\n",
              "      <td>1975</td>\n",
              "      <td>0</td>\n",
              "      <td>0</td>\n",
              "      <td>0</td>\n",
              "      <td>0</td>\n",
              "      <td>0</td>\n",
              "      <td>0</td>\n",
              "      <td>0</td>\n",
              "      <td>0</td>\n",
              "      <td>0</td>\n",
              "      <td>N</td>\n",
              "      <td>0</td>\n",
              "      <td>0</td>\n",
              "      <td>0</td>\n",
              "      <td>Public (non-taxable government-owned)</td>\n",
              "      <td>02</td>\n",
              "      <td>2150</td>\n",
              "      <td>TR=7348 EX OF ST LOTS 11 AND 12 AND ALL OF LOT...</td>\n",
              "      <td>0</td>\n",
              "      <td></td>\n",
              "      <td></td>\n",
              "      <td></td>\n",
              "      <td></td>\n",
              "      <td></td>\n",
              "      <td>20132138029902</td>\n",
              "      <td>34.195232</td>\n",
              "      <td>-118.589554</td>\n",
              "      <td>{'latitude': '34.19523174', 'longitude': '-118...</td>\n",
              "      <td>NaN</td>\n",
              "      <td>NaN</td>\n",
              "    </tr>\n",
              "  </tbody>\n",
              "</table>\n",
              "</div>"
            ],
            "text/plain": [
              "   Unnamed: 0 situszip  ... propertylocation  situszip5\n",
              "0           0           ...              NaN        NaN\n",
              "1           1           ...              NaN        NaN\n",
              "2           2           ...              NaN        NaN\n",
              "3           3           ...              NaN        NaN\n",
              "4           4           ...              NaN        NaN\n",
              "\n",
              "[5 rows x 52 columns]"
            ]
          },
          "metadata": {
            "tags": []
          },
          "execution_count": 4
        }
      ]
    },
    {
      "cell_type": "code",
      "metadata": {
        "colab": {
          "base_uri": "https://localhost:8080/"
        },
        "id": "gQbh0Kgye-UL",
        "outputId": "cb41f91e-bb42-4823-e9d2-a799595c9be5"
      },
      "source": [
        "records_df.columns"
      ],
      "execution_count": 5,
      "outputs": [
        {
          "output_type": "execute_result",
          "data": {
            "text/plain": [
              "Index(['Unnamed: 0', 'situszip', 'taxratearea_city', 'ain', 'rollyear',\n",
              "       'taxratearea', 'assessorid', 'usetype', 'usecode', 'usecodedescchar1',\n",
              "       'usecodedescchar2', 'usecodedescchar3', 'usecodedescchar4',\n",
              "       'totbuildingdatalines', 'yearbuilt', 'effectiveyearbuilt', 'sqftmain',\n",
              "       'bedrooms', 'bathrooms', 'units', 'recordingdate', 'roll_landvalue',\n",
              "       'roll_landbaseyear', 'roll_impvalue', 'roll_impbaseyear',\n",
              "       'roll_totlandimp', 'roll_homeownersexemp', 'roll_realestateexemp',\n",
              "       'roll_fixturevalue', 'roll_fixtureexemp', 'roll_perspropvalue',\n",
              "       'roll_perspropexemp', 'istaxableparcel', 'roll_totalvalue',\n",
              "       'roll_totalexemption', 'nettaxablevalue', 'parcelclassification',\n",
              "       'adminregion', 'cluster', 'parcelboundarydescription', 'situshouseno',\n",
              "       'situsfraction', 'situsdirection', 'situsstreet', 'situsunit',\n",
              "       'situscity', 'rowid', 'center_lat', 'center_lon', 'location_1',\n",
              "       'propertylocation', 'situszip5'],\n",
              "      dtype='object')"
            ]
          },
          "metadata": {
            "tags": []
          },
          "execution_count": 5
        }
      ]
    },
    {
      "cell_type": "code",
      "metadata": {
        "colab": {
          "base_uri": "https://localhost:8080/"
        },
        "id": "lfqk_ipUfD13",
        "outputId": "9d424e0c-49ed-4524-d56b-9c27e8889e78"
      },
      "source": [
        "#verifying that we pulled data for the correct city + year \n",
        "records_df[\"taxratearea_city\"].unique()"
      ],
      "execution_count": 6,
      "outputs": [
        {
          "output_type": "execute_result",
          "data": {
            "text/plain": [
              "array(['LOS ANGELES'], dtype=object)"
            ]
          },
          "metadata": {
            "tags": []
          },
          "execution_count": 6
        }
      ]
    },
    {
      "cell_type": "code",
      "metadata": {
        "colab": {
          "base_uri": "https://localhost:8080/"
        },
        "id": "GYuUpNCe4QkN",
        "outputId": "72e44e52-4453-4d23-ece4-af772e294795"
      },
      "source": [
        "records_df[\"rollyear\"].unique()"
      ],
      "execution_count": 7,
      "outputs": [
        {
          "output_type": "execute_result",
          "data": {
            "text/plain": [
              "array([2013])"
            ]
          },
          "metadata": {
            "tags": []
          },
          "execution_count": 7
        }
      ]
    },
    {
      "cell_type": "code",
      "metadata": {
        "colab": {
          "base_uri": "https://localhost:8080/"
        },
        "id": "M2J81KULgBsX",
        "outputId": "9bb776b9-73f6-4b5b-c17a-84a8f3ddb0ff"
      },
      "source": [
        "records_df.info()"
      ],
      "execution_count": 8,
      "outputs": [
        {
          "output_type": "stream",
          "text": [
            "<class 'pandas.core.frame.DataFrame'>\n",
            "RangeIndex: 794566 entries, 0 to 794565\n",
            "Data columns (total 52 columns):\n",
            " #   Column                     Non-Null Count   Dtype  \n",
            "---  ------                     --------------   -----  \n",
            " 0   Unnamed: 0                 794566 non-null  int64  \n",
            " 1   situszip                   794566 non-null  object \n",
            " 2   taxratearea_city           794566 non-null  object \n",
            " 3   ain                        794566 non-null  int64  \n",
            " 4   rollyear                   794566 non-null  int64  \n",
            " 5   taxratearea                794566 non-null  int64  \n",
            " 6   assessorid                 794566 non-null  object \n",
            " 7   usetype                    794547 non-null  object \n",
            " 8   usecode                    794566 non-null  object \n",
            " 9   usecodedescchar1           794547 non-null  object \n",
            " 10  usecodedescchar2           794547 non-null  object \n",
            " 11  usecodedescchar3           794547 non-null  object \n",
            " 12  usecodedescchar4           794547 non-null  object \n",
            " 13  totbuildingdatalines       794566 non-null  int64  \n",
            " 14  yearbuilt                  794566 non-null  int64  \n",
            " 15  effectiveyearbuilt         794566 non-null  int64  \n",
            " 16  sqftmain                   794566 non-null  int64  \n",
            " 17  bedrooms                   794566 non-null  int64  \n",
            " 18  bathrooms                  794566 non-null  int64  \n",
            " 19  units                      794566 non-null  int64  \n",
            " 20  recordingdate              794566 non-null  int64  \n",
            " 21  roll_landvalue             794566 non-null  int64  \n",
            " 22  roll_landbaseyear          794566 non-null  int64  \n",
            " 23  roll_impvalue              794566 non-null  int64  \n",
            " 24  roll_impbaseyear           794566 non-null  int64  \n",
            " 25  roll_totlandimp            794566 non-null  int64  \n",
            " 26  roll_homeownersexemp       794566 non-null  int64  \n",
            " 27  roll_realestateexemp       794566 non-null  int64  \n",
            " 28  roll_fixturevalue          794566 non-null  int64  \n",
            " 29  roll_fixtureexemp          794566 non-null  int64  \n",
            " 30  roll_perspropvalue         794566 non-null  int64  \n",
            " 31  roll_perspropexemp         794566 non-null  int64  \n",
            " 32  istaxableparcel            794566 non-null  object \n",
            " 33  roll_totalvalue            794566 non-null  int64  \n",
            " 34  roll_totalexemption        794566 non-null  int64  \n",
            " 35  nettaxablevalue            794566 non-null  int64  \n",
            " 36  parcelclassification       794566 non-null  object \n",
            " 37  adminregion                794566 non-null  object \n",
            " 38  cluster                    794566 non-null  int64  \n",
            " 39  parcelboundarydescription  794566 non-null  object \n",
            " 40  situshouseno               794566 non-null  int64  \n",
            " 41  situsfraction              794566 non-null  object \n",
            " 42  situsdirection             794566 non-null  object \n",
            " 43  situsstreet                794566 non-null  object \n",
            " 44  situsunit                  794566 non-null  object \n",
            " 45  situscity                  794566 non-null  object \n",
            " 46  rowid                      794566 non-null  int64  \n",
            " 47  center_lat                 794470 non-null  float64\n",
            " 48  center_lon                 794470 non-null  float64\n",
            " 49  location_1                 794470 non-null  object \n",
            " 50  propertylocation           753705 non-null  object \n",
            " 51  situszip5                  753696 non-null  float64\n",
            "dtypes: float64(3), int64(29), object(20)\n",
            "memory usage: 315.2+ MB\n"
          ],
          "name": "stdout"
        }
      ]
    },
    {
      "cell_type": "markdown",
      "metadata": {
        "id": "YnAWXm-moobd"
      },
      "source": [
        "## Relevance \n",
        "\n",
        "The dataset includes a lot of information that I don't need. For this section, I'll \n",
        "\n",
        "\n",
        "1.   Drop the columns that I don't need \n",
        "2.   Check the remaining columns for unique values\n",
        "1.   Handle missing values, including dropping data that does not include zip codes\n",
        "\n",
        "\n",
        "\n",
        "\n"
      ]
    },
    {
      "cell_type": "markdown",
      "metadata": {
        "id": "7gfuNxT-vPjj"
      },
      "source": [
        "###Determining which columns to drop"
      ]
    },
    {
      "cell_type": "code",
      "metadata": {
        "id": "eADWVKnugHQ_"
      },
      "source": [
        "#dropping irrelevant columns\n",
        "\n",
        "records_df = records_df.drop(columns=['Unnamed: 0', 'situszip','ain',\n",
        "       'taxratearea', 'usetype', 'usecode','usecodedescchar3', 'usecodedescchar4',\n",
        "       'totbuildingdatalines', 'yearbuilt', 'effectiveyearbuilt', 'sqftmain',\n",
        "       'bedrooms', 'bathrooms', 'units', 'recordingdate', 'roll_landvalue',\n",
        "       'roll_landbaseyear', 'roll_impvalue', 'roll_impbaseyear',\n",
        "       'roll_totlandimp', 'roll_homeownersexemp', 'roll_realestateexemp',\n",
        "       'roll_fixturevalue', 'roll_fixtureexemp', 'roll_perspropvalue',\n",
        "       'roll_perspropexemp', 'istaxableparcel', 'roll_totalvalue',\n",
        "       'roll_totalexemption',\n",
        "       'adminregion', 'cluster', 'parcelboundarydescription', 'situshouseno',\n",
        "       'situsfraction', 'situsdirection', 'situsstreet', 'situsunit',\n",
        "       'situscity', 'rowid', 'center_lat', 'center_lon', 'location_1','propertylocation', \"parcelclassification\"])\n"
      ],
      "execution_count": 9,
      "outputs": []
    },
    {
      "cell_type": "code",
      "metadata": {
        "colab": {
          "base_uri": "https://localhost:8080/",
          "height": 204
        },
        "id": "eO3Qf49aiSfa",
        "outputId": "5f7fb5ab-6597-4c7d-b2b0-8ca9f70a53c9"
      },
      "source": [
        "records_df.head()"
      ],
      "execution_count": 10,
      "outputs": [
        {
          "output_type": "execute_result",
          "data": {
            "text/html": [
              "<div>\n",
              "<style scoped>\n",
              "    .dataframe tbody tr th:only-of-type {\n",
              "        vertical-align: middle;\n",
              "    }\n",
              "\n",
              "    .dataframe tbody tr th {\n",
              "        vertical-align: top;\n",
              "    }\n",
              "\n",
              "    .dataframe thead th {\n",
              "        text-align: right;\n",
              "    }\n",
              "</style>\n",
              "<table border=\"1\" class=\"dataframe\">\n",
              "  <thead>\n",
              "    <tr style=\"text-align: right;\">\n",
              "      <th></th>\n",
              "      <th>taxratearea_city</th>\n",
              "      <th>rollyear</th>\n",
              "      <th>assessorid</th>\n",
              "      <th>usecodedescchar1</th>\n",
              "      <th>usecodedescchar2</th>\n",
              "      <th>nettaxablevalue</th>\n",
              "      <th>situszip5</th>\n",
              "    </tr>\n",
              "  </thead>\n",
              "  <tbody>\n",
              "    <tr>\n",
              "      <th>0</th>\n",
              "      <td>LOS ANGELES</td>\n",
              "      <td>2013</td>\n",
              "      <td>2137-011-901</td>\n",
              "      <td>Miscellaneous</td>\n",
              "      <td>Government Owned Property</td>\n",
              "      <td>0</td>\n",
              "      <td>NaN</td>\n",
              "    </tr>\n",
              "    <tr>\n",
              "      <th>1</th>\n",
              "      <td>LOS ANGELES</td>\n",
              "      <td>2013</td>\n",
              "      <td>2137-011-904</td>\n",
              "      <td>Miscellaneous</td>\n",
              "      <td>Government Owned Property</td>\n",
              "      <td>0</td>\n",
              "      <td>NaN</td>\n",
              "    </tr>\n",
              "    <tr>\n",
              "      <th>2</th>\n",
              "      <td>LOS ANGELES</td>\n",
              "      <td>2013</td>\n",
              "      <td>2137-015-902</td>\n",
              "      <td>Miscellaneous</td>\n",
              "      <td>Government Owned Property</td>\n",
              "      <td>0</td>\n",
              "      <td>NaN</td>\n",
              "    </tr>\n",
              "    <tr>\n",
              "      <th>3</th>\n",
              "      <td>LOS ANGELES</td>\n",
              "      <td>2013</td>\n",
              "      <td>2137-019-903</td>\n",
              "      <td>Miscellaneous</td>\n",
              "      <td>Government Owned Property</td>\n",
              "      <td>0</td>\n",
              "      <td>NaN</td>\n",
              "    </tr>\n",
              "    <tr>\n",
              "      <th>4</th>\n",
              "      <td>LOS ANGELES</td>\n",
              "      <td>2013</td>\n",
              "      <td>2138-029-902</td>\n",
              "      <td>Miscellaneous</td>\n",
              "      <td>Government Owned Property</td>\n",
              "      <td>0</td>\n",
              "      <td>NaN</td>\n",
              "    </tr>\n",
              "  </tbody>\n",
              "</table>\n",
              "</div>"
            ],
            "text/plain": [
              "  taxratearea_city  rollyear  ... nettaxablevalue situszip5\n",
              "0      LOS ANGELES      2013  ...               0       NaN\n",
              "1      LOS ANGELES      2013  ...               0       NaN\n",
              "2      LOS ANGELES      2013  ...               0       NaN\n",
              "3      LOS ANGELES      2013  ...               0       NaN\n",
              "4      LOS ANGELES      2013  ...               0       NaN\n",
              "\n",
              "[5 rows x 7 columns]"
            ]
          },
          "metadata": {
            "tags": []
          },
          "execution_count": 10
        }
      ]
    },
    {
      "cell_type": "code",
      "metadata": {
        "id": "dTZFuqdtjZhG"
      },
      "source": [
        "#renaming columns to more recongizable names\n",
        "records_df.columns=[\"city\", \"year\", \"assessor_id\",\"general_use\", \"specific_use\",\"net_value\", \"zip_code\"]"
      ],
      "execution_count": 11,
      "outputs": []
    },
    {
      "cell_type": "markdown",
      "metadata": {
        "id": "7CDOlnKKy3QF"
      },
      "source": [
        "###Handling Missing Values in [\"assessor_id\"] (none!)"
      ]
    },
    {
      "cell_type": "code",
      "metadata": {
        "colab": {
          "base_uri": "https://localhost:8080/"
        },
        "id": "hd6pxjgay4UW",
        "outputId": "b170bf9d-cb4c-42e6-8ff9-1d9064fb73a4"
      },
      "source": [
        "len(records_df['assessor_id'].unique())"
      ],
      "execution_count": 12,
      "outputs": [
        {
          "output_type": "execute_result",
          "data": {
            "text/plain": [
              "794566"
            ]
          },
          "metadata": {
            "tags": []
          },
          "execution_count": 12
        }
      ]
    },
    {
      "cell_type": "code",
      "metadata": {
        "colab": {
          "base_uri": "https://localhost:8080/"
        },
        "id": "y7h03GazzKd_",
        "outputId": "eb221243-4e11-42bd-a78b-5b6f733cedad"
      },
      "source": [
        "records_df['assessor_id'].isnull().sum()"
      ],
      "execution_count": 13,
      "outputs": [
        {
          "output_type": "execute_result",
          "data": {
            "text/plain": [
              "0"
            ]
          },
          "metadata": {
            "tags": []
          },
          "execution_count": 13
        }
      ]
    },
    {
      "cell_type": "code",
      "metadata": {
        "id": "2cFxx0KyzW7m"
      },
      "source": [
        "#this series is good to go"
      ],
      "execution_count": null,
      "outputs": []
    },
    {
      "cell_type": "markdown",
      "metadata": {
        "id": "ReWrRY0oporI"
      },
      "source": [
        "### Handling Missing Values in [\"general_use\"]"
      ]
    },
    {
      "cell_type": "code",
      "metadata": {
        "colab": {
          "base_uri": "https://localhost:8080/"
        },
        "id": "l4e1TOk4jt9R",
        "outputId": "61b19281-4313-4f4d-d06b-106654eaa0b1"
      },
      "source": [
        "#we have entries w/ nan and (unavailable) string\n",
        "records_df[\"general_use\"].unique()"
      ],
      "execution_count": 14,
      "outputs": [
        {
          "output_type": "execute_result",
          "data": {
            "text/plain": [
              "array(['Miscellaneous', 'Industrial', 'Residential', 'Commercial',\n",
              "       'Recreational', 'Institutional', 'Dry Farm', '(unavailable)', nan,\n",
              "       'Irrigated Farm'], dtype=object)"
            ]
          },
          "metadata": {
            "tags": []
          },
          "execution_count": 14
        }
      ]
    },
    {
      "cell_type": "code",
      "metadata": {
        "colab": {
          "base_uri": "https://localhost:8080/"
        },
        "id": "WDSETMuEmk0f",
        "outputId": "91a9cad9-4a09-42f5-8c8d-f90e01917ed5"
      },
      "source": [
        "#checking how many nans in general_use\n",
        "records_df['general_use'].isnull().sum()"
      ],
      "execution_count": 15,
      "outputs": [
        {
          "output_type": "execute_result",
          "data": {
            "text/plain": [
              "19"
            ]
          },
          "metadata": {
            "tags": []
          },
          "execution_count": 15
        }
      ]
    },
    {
      "cell_type": "code",
      "metadata": {
        "colab": {
          "base_uri": "https://localhost:8080/"
        },
        "id": "piYOjeBwnJDo",
        "outputId": "f144f5ab-da01-4963-fa00-23b8b449d63e"
      },
      "source": [
        "#replacing nan with (unavailable)\n",
        "records_df[\"general_use\"] = records_df[\"general_use\"].fillna('(unavailable)')\n",
        "records_df[\"general_use\"].unique()"
      ],
      "execution_count": 16,
      "outputs": [
        {
          "output_type": "execute_result",
          "data": {
            "text/plain": [
              "array(['Miscellaneous', 'Industrial', 'Residential', 'Commercial',\n",
              "       'Recreational', 'Institutional', 'Dry Farm', '(unavailable)',\n",
              "       'Irrigated Farm'], dtype=object)"
            ]
          },
          "metadata": {
            "tags": []
          },
          "execution_count": 16
        }
      ]
    },
    {
      "cell_type": "markdown",
      "metadata": {
        "id": "0GufVSxFqCKE"
      },
      "source": [
        "###Handling Missing Values in [\"specific_use\"]"
      ]
    },
    {
      "cell_type": "code",
      "metadata": {
        "colab": {
          "base_uri": "https://localhost:8080/"
        },
        "id": "HAHuT5nbluSs",
        "outputId": "c5fbe93c-b4e3-4899-a517-e143c420fe97"
      },
      "source": [
        "#there is an empty string in this column that we should replace with nan or Not Available \n",
        "records_df[\"specific_use\"].unique()"
      ],
      "execution_count": 17,
      "outputs": [
        {
          "output_type": "execute_result",
          "data": {
            "text/plain": [
              "array(['Government Owned Property', 'Industrial',\n",
              "       'Single Family Residence', 'Heavy Manufacturing',\n",
              "       'Five or More Units or Apartments (Any Combination)',\n",
              "       'Parking Lot (Commercial Use Property)',\n",
              "       'Auto, Recreation Equipment, Construction Equipment Sales and Service',\n",
              "       'Utility', 'Light Manufacturing', 'Privately Owned',\n",
              "       'Club, Lodge Hall, Fraternal Organization', 'Open Storage',\n",
              "       'Church', 'Commercial', 'Store', 'Waste', 'Desert',\n",
              "       'Shopping Center (Regional)',\n",
              "       'Shopping Center (Neighborhood, Community)',\n",
              "       'Double, Duplex, or Two Units', 'Cemetery, Mausoleum, Mortuary',\n",
              "       'Three Units (Any Combination)',\n",
              "       'Parking Lot (Industrial Use Property)', 'Pasture',\n",
              "       'Office Building', 'Hotel and Motel', 'Supermarket',\n",
              "       'Store Combination', 'Golf Course', '(unavailable)',\n",
              "       'Four Units  (Any Combination)', 'Service Station', ' ',\n",
              "       'School (Private)', 'Petroleum and Gas', 'Hospital',\n",
              "       'Warehousing, Distribution, Storage',\n",
              "       'Motion Picture, Radio and Television Industry', nan,\n",
              "       \"Children's Day Care Center\", 'Restaurant, Cocktail Lounge',\n",
              "       'Professional Building', 'Bowling Alley', 'Manufactured Home',\n",
              "       'Non-Auto Service and Repair Shop, Paint Shop, or Laundry',\n",
              "       'Animal Kennel', 'Bank, Savings and Loan', 'Department Store',\n",
              "       'Athletic and Amusement Facility', 'College, University (Private)',\n",
              "       'Homes for Aged and Others', 'Nursery or Greenhouse',\n",
              "       'Skating Rink', 'Manufactured Home Park', 'Theater', 'Lumber Yard',\n",
              "       'Food Processing Plant', 'Rights of Way', 'Rooming/Boarding House',\n",
              "       'Mineral Processing', 'Wholesale and Manufacturing Outlet',\n",
              "       'Dump Site', 'Poultry, etc.', 'Rivers and Lakes', 'Dairy',\n",
              "       'Race Track', 'Pipeline, Canal', 'Camp', 'Fruits and Nuts',\n",
              "       'Water Recreation', 'Senior Day Care Center', 'Field Crops'],\n",
              "      dtype=object)"
            ]
          },
          "metadata": {
            "tags": []
          },
          "execution_count": 17
        }
      ]
    },
    {
      "cell_type": "code",
      "metadata": {
        "id": "jq8kMCG_rEXt"
      },
      "source": [
        "records_df[\"specific_use\"]= records_df[\"specific_use\"].fillna('(unavailable)')"
      ],
      "execution_count": 18,
      "outputs": []
    },
    {
      "cell_type": "code",
      "metadata": {
        "colab": {
          "base_uri": "https://localhost:8080/"
        },
        "id": "uh9gY_ejrrnt",
        "outputId": "8c63eb65-7649-494b-d89f-e02bb4a7f464"
      },
      "source": [
        "records_df[\"specific_use\"].unique()"
      ],
      "execution_count": 19,
      "outputs": [
        {
          "output_type": "execute_result",
          "data": {
            "text/plain": [
              "array(['Government Owned Property', 'Industrial',\n",
              "       'Single Family Residence', 'Heavy Manufacturing',\n",
              "       'Five or More Units or Apartments (Any Combination)',\n",
              "       'Parking Lot (Commercial Use Property)',\n",
              "       'Auto, Recreation Equipment, Construction Equipment Sales and Service',\n",
              "       'Utility', 'Light Manufacturing', 'Privately Owned',\n",
              "       'Club, Lodge Hall, Fraternal Organization', 'Open Storage',\n",
              "       'Church', 'Commercial', 'Store', 'Waste', 'Desert',\n",
              "       'Shopping Center (Regional)',\n",
              "       'Shopping Center (Neighborhood, Community)',\n",
              "       'Double, Duplex, or Two Units', 'Cemetery, Mausoleum, Mortuary',\n",
              "       'Three Units (Any Combination)',\n",
              "       'Parking Lot (Industrial Use Property)', 'Pasture',\n",
              "       'Office Building', 'Hotel and Motel', 'Supermarket',\n",
              "       'Store Combination', 'Golf Course', '(unavailable)',\n",
              "       'Four Units  (Any Combination)', 'Service Station', ' ',\n",
              "       'School (Private)', 'Petroleum and Gas', 'Hospital',\n",
              "       'Warehousing, Distribution, Storage',\n",
              "       'Motion Picture, Radio and Television Industry',\n",
              "       \"Children's Day Care Center\", 'Restaurant, Cocktail Lounge',\n",
              "       'Professional Building', 'Bowling Alley', 'Manufactured Home',\n",
              "       'Non-Auto Service and Repair Shop, Paint Shop, or Laundry',\n",
              "       'Animal Kennel', 'Bank, Savings and Loan', 'Department Store',\n",
              "       'Athletic and Amusement Facility', 'College, University (Private)',\n",
              "       'Homes for Aged and Others', 'Nursery or Greenhouse',\n",
              "       'Skating Rink', 'Manufactured Home Park', 'Theater', 'Lumber Yard',\n",
              "       'Food Processing Plant', 'Rights of Way', 'Rooming/Boarding House',\n",
              "       'Mineral Processing', 'Wholesale and Manufacturing Outlet',\n",
              "       'Dump Site', 'Poultry, etc.', 'Rivers and Lakes', 'Dairy',\n",
              "       'Race Track', 'Pipeline, Canal', 'Camp', 'Fruits and Nuts',\n",
              "       'Water Recreation', 'Senior Day Care Center', 'Field Crops'],\n",
              "      dtype=object)"
            ]
          },
          "metadata": {
            "tags": []
          },
          "execution_count": 19
        }
      ]
    },
    {
      "cell_type": "markdown",
      "metadata": {
        "id": "Z7qACCGMsjCh"
      },
      "source": [
        "###Handling Missing Values in [\"net_value\"]"
      ]
    },
    {
      "cell_type": "code",
      "metadata": {
        "colab": {
          "base_uri": "https://localhost:8080/"
        },
        "id": "HrviLMgEsqx0",
        "outputId": "dfe1d151-af21-4498-fa4c-dc14fb8fa6d7"
      },
      "source": [
        "#this is good to go\n",
        "records_df['net_value'].isnull().sum()"
      ],
      "execution_count": 20,
      "outputs": [
        {
          "output_type": "execute_result",
          "data": {
            "text/plain": [
              "0"
            ]
          },
          "metadata": {
            "tags": []
          },
          "execution_count": 20
        }
      ]
    },
    {
      "cell_type": "markdown",
      "metadata": {
        "id": "-e6SP1P5tWl2"
      },
      "source": [
        "###Handling Missing Values in [\"zip_code\"]"
      ]
    },
    {
      "cell_type": "code",
      "metadata": {
        "colab": {
          "base_uri": "https://localhost:8080/"
        },
        "id": "c25sl2oHtsKp",
        "outputId": "3a9a54a1-c277-4a47-9c19-1a0f7f709957"
      },
      "source": [
        "#good to go\n",
        "records_df['zip_code'].unique()"
      ],
      "execution_count": 21,
      "outputs": [
        {
          "output_type": "execute_result",
          "data": {
            "text/plain": [
              "array([   nan, 91601., 91604., 91342., 90035., 90036., 90038., 90069.,\n",
              "       90003., 91335., 91306., 91367., 91303., 91307., 91364., 91356.,\n",
              "       91406., 91316., 91411., 91325., 91343., 91405., 91402., 90045.,\n",
              "       91423., 91401., 90230., 91403., 91436., 91346., 90210., 91602.,\n",
              "       91243., 90077., 90049., 91605., 91352., 91331., 90001., 91606.,\n",
              "       90066., 91066., 99606., 91006., 90068., 91607., 91499., 91064.,\n",
              "       90046., 91340., 91040., 91311., 91042., 91024., 91214., 91344.,\n",
              "       91345., 91353., 91504., 91505., 93510., 91612., 90601., 91608.,\n",
              "       90064., 91387., 91324., 91329., 91326., 91362., 93063., 91330.,\n",
              "       91304., 91301., 90043., 90056., 90302., 90047., 90293., 90291.,\n",
              "       90040., 90009., 90245., 90232., 90016., 90034., 90025., 90094.,\n",
              "       90292., 90041., 90015., 90057., 90011., 90005., 90063., 92008.,\n",
              "       90037., 90031., 90006., 90023., 90065., 90012., 90019., 90014.,\n",
              "       90013., 95648., 90017., 90405., 90026., 90007., 90402., 90403.,\n",
              "       90290., 90297., 90067., 90024., 90212., 90048., 90211., 90062.,\n",
              "       94513., 90095., 90039., 90631., 90027., 90022., 90272., 90020.,\n",
              "       94707., 90270., 90053., 90265., 90044., 90042., 90058., 90018.,\n",
              "       90008., 90089., 90028., 90021., 90029., 90010., 90004., 90079.,\n",
              "       90071., 90033., 92806., 92801., 90032., 91204., 91205., 91030.,\n",
              "       91201., 91206., 91105., 91101., 90209., 90052., 90002., 90059.,\n",
              "       90061., 90051., 90248., 90501., 90247., 90813., 90745., 90744.,\n",
              "       90810., 90746., 90502., 90731., 90717., 90710., 90712., 90732.,\n",
              "       90734., 90815., 92805., 90748., 90733., 90822., 90275., 92802.,\n",
              "       91302.])"
            ]
          },
          "metadata": {
            "tags": []
          },
          "execution_count": 21
        }
      ]
    },
    {
      "cell_type": "markdown",
      "metadata": {
        "id": "ts4jqOcDvaDz"
      },
      "source": [
        ""
      ]
    },
    {
      "cell_type": "markdown",
      "metadata": {
        "id": "lY2D0rTM1LBf"
      },
      "source": [
        "###Dropping Data w/o Zip Codes"
      ]
    },
    {
      "cell_type": "code",
      "metadata": {
        "id": "iGDU6SRZ1V2_"
      },
      "source": [
        "records_df = records_df[records_df['zip_code'].notna()]"
      ],
      "execution_count": 22,
      "outputs": []
    },
    {
      "cell_type": "code",
      "metadata": {
        "id": "txKUvLdi38Lc"
      },
      "source": [
        "records_df = records_df.reset_index()\n",
        "records_df = records_df.drop(columns=['index'])"
      ],
      "execution_count": 23,
      "outputs": []
    },
    {
      "cell_type": "markdown",
      "metadata": {
        "id": "6JgE_Lf0vcMY"
      },
      "source": [
        "##Consistency\n",
        "Now that I've handles missing values, I will check consistency over: \n",
        "\n",
        "\n",
        "1.   Data type\n",
        "2.   Categorical \n",
        "2.  Referential integrity\n",
        "\n",
        "\n"
      ]
    },
    {
      "cell_type": "markdown",
      "metadata": {
        "id": "QXWw3cnZzgKu"
      },
      "source": [
        "###Data type"
      ]
    },
    {
      "cell_type": "code",
      "metadata": {
        "colab": {
          "base_uri": "https://localhost:8080/"
        },
        "id": "c1uhByKgzy8L",
        "outputId": "4fce68d4-7988-4bc7-c332-da4298fae348"
      },
      "source": [
        "records_df.info()"
      ],
      "execution_count": 24,
      "outputs": [
        {
          "output_type": "stream",
          "text": [
            "<class 'pandas.core.frame.DataFrame'>\n",
            "RangeIndex: 753696 entries, 0 to 753695\n",
            "Data columns (total 7 columns):\n",
            " #   Column        Non-Null Count   Dtype  \n",
            "---  ------        --------------   -----  \n",
            " 0   city          753696 non-null  object \n",
            " 1   year          753696 non-null  int64  \n",
            " 2   assessor_id   753696 non-null  object \n",
            " 3   general_use   753696 non-null  object \n",
            " 4   specific_use  753696 non-null  object \n",
            " 5   net_value     753696 non-null  int64  \n",
            " 6   zip_code      753696 non-null  float64\n",
            "dtypes: float64(1), int64(2), object(4)\n",
            "memory usage: 40.3+ MB\n"
          ],
          "name": "stdout"
        }
      ]
    },
    {
      "cell_type": "code",
      "metadata": {
        "id": "-2O6lEu0z68z"
      },
      "source": [
        "#changing to category type \n",
        "records_df[\"assessor_id\"] = records_df[\"assessor_id\"].astype(\"category\")\n",
        "records_df[\"general_use\"] = records_df[\"general_use\"].astype(\"category\")\n",
        "records_df[\"specific_use\"] = records_df[\"specific_use\"].astype(\"category\")\n",
        "\n",
        "#since all NaN have been removed, change type of zip code column to int. this may change later\n",
        "records_df[\"zip_code\"] = records_df[\"zip_code\"].astype(\"int\")\n",
        "\n",
        "#change year to datetime format\n",
        "records_df[\"year\"] = pd.to_datetime(records_df['year'], format='%Y')"
      ],
      "execution_count": 25,
      "outputs": []
    },
    {
      "cell_type": "code",
      "metadata": {
        "id": "Lqz_AATz7DwX"
      },
      "source": [
        "records_df[\"year\"] = records_df[\"year\"].dt.year"
      ],
      "execution_count": 26,
      "outputs": []
    },
    {
      "cell_type": "code",
      "metadata": {
        "colab": {
          "base_uri": "https://localhost:8080/",
          "height": 419
        },
        "id": "_xgmtqrP9K7G",
        "outputId": "4b677698-0dee-4b25-b7ab-c3d7fed91365"
      },
      "source": [
        "records_df"
      ],
      "execution_count": 27,
      "outputs": [
        {
          "output_type": "execute_result",
          "data": {
            "text/html": [
              "<div>\n",
              "<style scoped>\n",
              "    .dataframe tbody tr th:only-of-type {\n",
              "        vertical-align: middle;\n",
              "    }\n",
              "\n",
              "    .dataframe tbody tr th {\n",
              "        vertical-align: top;\n",
              "    }\n",
              "\n",
              "    .dataframe thead th {\n",
              "        text-align: right;\n",
              "    }\n",
              "</style>\n",
              "<table border=\"1\" class=\"dataframe\">\n",
              "  <thead>\n",
              "    <tr style=\"text-align: right;\">\n",
              "      <th></th>\n",
              "      <th>city</th>\n",
              "      <th>year</th>\n",
              "      <th>assessor_id</th>\n",
              "      <th>general_use</th>\n",
              "      <th>specific_use</th>\n",
              "      <th>net_value</th>\n",
              "      <th>zip_code</th>\n",
              "    </tr>\n",
              "  </thead>\n",
              "  <tbody>\n",
              "    <tr>\n",
              "      <th>0</th>\n",
              "      <td>LOS ANGELES</td>\n",
              "      <td>2013</td>\n",
              "      <td>2350-018-082</td>\n",
              "      <td>Commercial</td>\n",
              "      <td>Store</td>\n",
              "      <td>5000000</td>\n",
              "      <td>91601</td>\n",
              "    </tr>\n",
              "    <tr>\n",
              "      <th>1</th>\n",
              "      <td>LOS ANGELES</td>\n",
              "      <td>2013</td>\n",
              "      <td>2362-016-087</td>\n",
              "      <td>Residential</td>\n",
              "      <td>Single Family Residence</td>\n",
              "      <td>468180</td>\n",
              "      <td>91604</td>\n",
              "    </tr>\n",
              "    <tr>\n",
              "      <th>2</th>\n",
              "      <td>LOS ANGELES</td>\n",
              "      <td>2013</td>\n",
              "      <td>2612-019-001</td>\n",
              "      <td>Residential</td>\n",
              "      <td>Single Family Residence</td>\n",
              "      <td>265854</td>\n",
              "      <td>91342</td>\n",
              "    </tr>\n",
              "    <tr>\n",
              "      <th>3</th>\n",
              "      <td>LOS ANGELES</td>\n",
              "      <td>2013</td>\n",
              "      <td>4303-035-025</td>\n",
              "      <td>Commercial</td>\n",
              "      <td>Store</td>\n",
              "      <td>430720</td>\n",
              "      <td>90035</td>\n",
              "    </tr>\n",
              "    <tr>\n",
              "      <th>4</th>\n",
              "      <td>LOS ANGELES</td>\n",
              "      <td>2013</td>\n",
              "      <td>5526-037-015</td>\n",
              "      <td>Commercial</td>\n",
              "      <td>Commercial</td>\n",
              "      <td>249570</td>\n",
              "      <td>90036</td>\n",
              "    </tr>\n",
              "    <tr>\n",
              "      <th>...</th>\n",
              "      <td>...</td>\n",
              "      <td>...</td>\n",
              "      <td>...</td>\n",
              "      <td>...</td>\n",
              "      <td>...</td>\n",
              "      <td>...</td>\n",
              "      <td>...</td>\n",
              "    </tr>\n",
              "    <tr>\n",
              "      <th>753691</th>\n",
              "      <td>LOS ANGELES</td>\n",
              "      <td>2013</td>\n",
              "      <td>2132-007-008</td>\n",
              "      <td>Residential</td>\n",
              "      <td>Single Family Residence</td>\n",
              "      <td>65056</td>\n",
              "      <td>91335</td>\n",
              "    </tr>\n",
              "    <tr>\n",
              "      <th>753692</th>\n",
              "      <td>LOS ANGELES</td>\n",
              "      <td>2013</td>\n",
              "      <td>2132-007-009</td>\n",
              "      <td>Residential</td>\n",
              "      <td>Single Family Residence</td>\n",
              "      <td>345421</td>\n",
              "      <td>91335</td>\n",
              "    </tr>\n",
              "    <tr>\n",
              "      <th>753693</th>\n",
              "      <td>LOS ANGELES</td>\n",
              "      <td>2013</td>\n",
              "      <td>2132-007-007</td>\n",
              "      <td>Residential</td>\n",
              "      <td>Single Family Residence</td>\n",
              "      <td>415000</td>\n",
              "      <td>91335</td>\n",
              "    </tr>\n",
              "    <tr>\n",
              "      <th>753694</th>\n",
              "      <td>LOS ANGELES</td>\n",
              "      <td>2013</td>\n",
              "      <td>2132-007-013</td>\n",
              "      <td>Residential</td>\n",
              "      <td>Single Family Residence</td>\n",
              "      <td>350000</td>\n",
              "      <td>91335</td>\n",
              "    </tr>\n",
              "    <tr>\n",
              "      <th>753695</th>\n",
              "      <td>LOS ANGELES</td>\n",
              "      <td>2013</td>\n",
              "      <td>2132-007-011</td>\n",
              "      <td>Residential</td>\n",
              "      <td>Single Family Residence</td>\n",
              "      <td>65853</td>\n",
              "      <td>91335</td>\n",
              "    </tr>\n",
              "  </tbody>\n",
              "</table>\n",
              "<p>753696 rows × 7 columns</p>\n",
              "</div>"
            ],
            "text/plain": [
              "               city  year  ... net_value zip_code\n",
              "0       LOS ANGELES  2013  ...   5000000    91601\n",
              "1       LOS ANGELES  2013  ...    468180    91604\n",
              "2       LOS ANGELES  2013  ...    265854    91342\n",
              "3       LOS ANGELES  2013  ...    430720    90035\n",
              "4       LOS ANGELES  2013  ...    249570    90036\n",
              "...             ...   ...  ...       ...      ...\n",
              "753691  LOS ANGELES  2013  ...     65056    91335\n",
              "753692  LOS ANGELES  2013  ...    345421    91335\n",
              "753693  LOS ANGELES  2013  ...    415000    91335\n",
              "753694  LOS ANGELES  2013  ...    350000    91335\n",
              "753695  LOS ANGELES  2013  ...     65853    91335\n",
              "\n",
              "[753696 rows x 7 columns]"
            ]
          },
          "metadata": {
            "tags": []
          },
          "execution_count": 27
        }
      ]
    },
    {
      "cell_type": "code",
      "metadata": {
        "colab": {
          "base_uri": "https://localhost:8080/"
        },
        "id": "Utix0Z9B81v6",
        "outputId": "b7b4fdc3-4108-49af-829b-6cc7f987f2fa"
      },
      "source": [
        "records_df.info()"
      ],
      "execution_count": 28,
      "outputs": [
        {
          "output_type": "stream",
          "text": [
            "<class 'pandas.core.frame.DataFrame'>\n",
            "RangeIndex: 753696 entries, 0 to 753695\n",
            "Data columns (total 7 columns):\n",
            " #   Column        Non-Null Count   Dtype   \n",
            "---  ------        --------------   -----   \n",
            " 0   city          753696 non-null  object  \n",
            " 1   year          753696 non-null  int64   \n",
            " 2   assessor_id   753696 non-null  category\n",
            " 3   general_use   753696 non-null  category\n",
            " 4   specific_use  753696 non-null  category\n",
            " 5   net_value     753696 non-null  int64   \n",
            " 6   zip_code      753696 non-null  int64   \n",
            "dtypes: category(3), int64(3), object(1)\n",
            "memory usage: 53.1+ MB\n"
          ],
          "name": "stdout"
        }
      ]
    },
    {
      "cell_type": "markdown",
      "metadata": {
        "id": "bzxGEx1u9j9Q"
      },
      "source": [
        "###Categorical Consistency "
      ]
    },
    {
      "cell_type": "code",
      "metadata": {
        "colab": {
          "base_uri": "https://localhost:8080/"
        },
        "id": "x7CqQViw9m2f",
        "outputId": "d74d5606-3c4e-46f1-bcaf-374e704636c3"
      },
      "source": [
        "#consistent \n",
        "records_df[\"general_use\"].unique()"
      ],
      "execution_count": 29,
      "outputs": [
        {
          "output_type": "execute_result",
          "data": {
            "text/plain": [
              "['Commercial', 'Residential', 'Industrial', 'Institutional', 'Recreational', 'Miscellaneous', '(unavailable)', 'Irrigated Farm', 'Dry Farm']\n",
              "Categories (9, object): ['Commercial', 'Residential', 'Industrial', 'Institutional', ...,\n",
              "                         'Miscellaneous', '(unavailable)', 'Irrigated Farm', 'Dry Farm']"
            ]
          },
          "metadata": {
            "tags": []
          },
          "execution_count": 29
        }
      ]
    },
    {
      "cell_type": "code",
      "metadata": {
        "colab": {
          "base_uri": "https://localhost:8080/"
        },
        "id": "bMibny9_9_5R",
        "outputId": "4a9d2826-b81e-49e9-d136-d2db19c13b3d"
      },
      "source": [
        "#consistent \n",
        "records_df[\"specific_use\"]"
      ],
      "execution_count": 30,
      "outputs": [
        {
          "output_type": "execute_result",
          "data": {
            "text/plain": [
              "0                           Store\n",
              "1         Single Family Residence\n",
              "2         Single Family Residence\n",
              "3                           Store\n",
              "4                      Commercial\n",
              "                   ...           \n",
              "753691    Single Family Residence\n",
              "753692    Single Family Residence\n",
              "753693    Single Family Residence\n",
              "753694    Single Family Residence\n",
              "753695    Single Family Residence\n",
              "Name: specific_use, Length: 753696, dtype: category\n",
              "Categories (69, object): [' ', '(unavailable)', 'Animal Kennel',\n",
              "                          'Athletic and Amusement Facility', ..., 'Warehousing, Distribution, Storage', 'Waste',\n",
              "                          'Water Recreation', 'Wholesale and Manufacturing Outlet']"
            ]
          },
          "metadata": {
            "tags": []
          },
          "execution_count": 30
        }
      ]
    },
    {
      "cell_type": "markdown",
      "metadata": {
        "id": "zXeLAAXO-jbL"
      },
      "source": [
        "###  Referential integrity"
      ]
    },
    {
      "cell_type": "code",
      "metadata": {
        "id": "9lA8x_6G-qgS"
      },
      "source": [
        "#making the assessor_id a unique ID per parcel per year\n",
        "records_df['assessor_id'] = records_df[\"assessor_id\"].apply(lambda x: x +\"-2013\")"
      ],
      "execution_count": 31,
      "outputs": []
    },
    {
      "cell_type": "code",
      "metadata": {
        "colab": {
          "base_uri": "https://localhost:8080/",
          "height": 419
        },
        "id": "n_OkPZtP-xy-",
        "outputId": "f4202439-4e11-46cc-b1d6-6eed9e43cc94"
      },
      "source": [
        "records_df"
      ],
      "execution_count": 32,
      "outputs": [
        {
          "output_type": "execute_result",
          "data": {
            "text/html": [
              "<div>\n",
              "<style scoped>\n",
              "    .dataframe tbody tr th:only-of-type {\n",
              "        vertical-align: middle;\n",
              "    }\n",
              "\n",
              "    .dataframe tbody tr th {\n",
              "        vertical-align: top;\n",
              "    }\n",
              "\n",
              "    .dataframe thead th {\n",
              "        text-align: right;\n",
              "    }\n",
              "</style>\n",
              "<table border=\"1\" class=\"dataframe\">\n",
              "  <thead>\n",
              "    <tr style=\"text-align: right;\">\n",
              "      <th></th>\n",
              "      <th>city</th>\n",
              "      <th>year</th>\n",
              "      <th>assessor_id</th>\n",
              "      <th>general_use</th>\n",
              "      <th>specific_use</th>\n",
              "      <th>net_value</th>\n",
              "      <th>zip_code</th>\n",
              "    </tr>\n",
              "  </thead>\n",
              "  <tbody>\n",
              "    <tr>\n",
              "      <th>0</th>\n",
              "      <td>LOS ANGELES</td>\n",
              "      <td>2013</td>\n",
              "      <td>2350-018-082-2013</td>\n",
              "      <td>Commercial</td>\n",
              "      <td>Store</td>\n",
              "      <td>5000000</td>\n",
              "      <td>91601</td>\n",
              "    </tr>\n",
              "    <tr>\n",
              "      <th>1</th>\n",
              "      <td>LOS ANGELES</td>\n",
              "      <td>2013</td>\n",
              "      <td>2362-016-087-2013</td>\n",
              "      <td>Residential</td>\n",
              "      <td>Single Family Residence</td>\n",
              "      <td>468180</td>\n",
              "      <td>91604</td>\n",
              "    </tr>\n",
              "    <tr>\n",
              "      <th>2</th>\n",
              "      <td>LOS ANGELES</td>\n",
              "      <td>2013</td>\n",
              "      <td>2612-019-001-2013</td>\n",
              "      <td>Residential</td>\n",
              "      <td>Single Family Residence</td>\n",
              "      <td>265854</td>\n",
              "      <td>91342</td>\n",
              "    </tr>\n",
              "    <tr>\n",
              "      <th>3</th>\n",
              "      <td>LOS ANGELES</td>\n",
              "      <td>2013</td>\n",
              "      <td>4303-035-025-2013</td>\n",
              "      <td>Commercial</td>\n",
              "      <td>Store</td>\n",
              "      <td>430720</td>\n",
              "      <td>90035</td>\n",
              "    </tr>\n",
              "    <tr>\n",
              "      <th>4</th>\n",
              "      <td>LOS ANGELES</td>\n",
              "      <td>2013</td>\n",
              "      <td>5526-037-015-2013</td>\n",
              "      <td>Commercial</td>\n",
              "      <td>Commercial</td>\n",
              "      <td>249570</td>\n",
              "      <td>90036</td>\n",
              "    </tr>\n",
              "    <tr>\n",
              "      <th>...</th>\n",
              "      <td>...</td>\n",
              "      <td>...</td>\n",
              "      <td>...</td>\n",
              "      <td>...</td>\n",
              "      <td>...</td>\n",
              "      <td>...</td>\n",
              "      <td>...</td>\n",
              "    </tr>\n",
              "    <tr>\n",
              "      <th>753691</th>\n",
              "      <td>LOS ANGELES</td>\n",
              "      <td>2013</td>\n",
              "      <td>2132-007-008-2013</td>\n",
              "      <td>Residential</td>\n",
              "      <td>Single Family Residence</td>\n",
              "      <td>65056</td>\n",
              "      <td>91335</td>\n",
              "    </tr>\n",
              "    <tr>\n",
              "      <th>753692</th>\n",
              "      <td>LOS ANGELES</td>\n",
              "      <td>2013</td>\n",
              "      <td>2132-007-009-2013</td>\n",
              "      <td>Residential</td>\n",
              "      <td>Single Family Residence</td>\n",
              "      <td>345421</td>\n",
              "      <td>91335</td>\n",
              "    </tr>\n",
              "    <tr>\n",
              "      <th>753693</th>\n",
              "      <td>LOS ANGELES</td>\n",
              "      <td>2013</td>\n",
              "      <td>2132-007-007-2013</td>\n",
              "      <td>Residential</td>\n",
              "      <td>Single Family Residence</td>\n",
              "      <td>415000</td>\n",
              "      <td>91335</td>\n",
              "    </tr>\n",
              "    <tr>\n",
              "      <th>753694</th>\n",
              "      <td>LOS ANGELES</td>\n",
              "      <td>2013</td>\n",
              "      <td>2132-007-013-2013</td>\n",
              "      <td>Residential</td>\n",
              "      <td>Single Family Residence</td>\n",
              "      <td>350000</td>\n",
              "      <td>91335</td>\n",
              "    </tr>\n",
              "    <tr>\n",
              "      <th>753695</th>\n",
              "      <td>LOS ANGELES</td>\n",
              "      <td>2013</td>\n",
              "      <td>2132-007-011-2013</td>\n",
              "      <td>Residential</td>\n",
              "      <td>Single Family Residence</td>\n",
              "      <td>65853</td>\n",
              "      <td>91335</td>\n",
              "    </tr>\n",
              "  </tbody>\n",
              "</table>\n",
              "<p>753696 rows × 7 columns</p>\n",
              "</div>"
            ],
            "text/plain": [
              "               city  year  ... net_value zip_code\n",
              "0       LOS ANGELES  2013  ...   5000000    91601\n",
              "1       LOS ANGELES  2013  ...    468180    91604\n",
              "2       LOS ANGELES  2013  ...    265854    91342\n",
              "3       LOS ANGELES  2013  ...    430720    90035\n",
              "4       LOS ANGELES  2013  ...    249570    90036\n",
              "...             ...   ...  ...       ...      ...\n",
              "753691  LOS ANGELES  2013  ...     65056    91335\n",
              "753692  LOS ANGELES  2013  ...    345421    91335\n",
              "753693  LOS ANGELES  2013  ...    415000    91335\n",
              "753694  LOS ANGELES  2013  ...    350000    91335\n",
              "753695  LOS ANGELES  2013  ...     65853    91335\n",
              "\n",
              "[753696 rows x 7 columns]"
            ]
          },
          "metadata": {
            "tags": []
          },
          "execution_count": 32
        }
      ]
    },
    {
      "cell_type": "markdown",
      "metadata": {
        "id": "aYDRoKMS_nb5"
      },
      "source": [
        "##Exporting Data"
      ]
    },
    {
      "cell_type": "code",
      "metadata": {
        "id": "Wc8-dw69_qmW"
      },
      "source": [
        "records_df.to_csv(\"gdrive/My Drive/Team 93 Capstone Project/data/Assessor_Parcels_Data_2013_CLEANED.csv\")"
      ],
      "execution_count": 34,
      "outputs": []
    },
    {
      "cell_type": "code",
      "metadata": {
        "id": "zHEo40z8_9R0"
      },
      "source": [
        ""
      ],
      "execution_count": null,
      "outputs": []
    }
  ]
}
{
  "nbformat": 4,
  "nbformat_minor": 0,
  "metadata": {
    "colab": {
      "name": "Assessor Data Cleaning - Merging Datasets.ipynb",
      "provenance": [],
      "collapsed_sections": [],
      "authorship_tag": "ABX9TyM5J5hfFsv0hQf23vhI4hLM",
      "include_colab_link": true
    },
    "kernelspec": {
      "name": "python3",
      "display_name": "Python 3"
    },
    "language_info": {
      "name": "python"
    }
  },
  "cells": [
    {
      "cell_type": "markdown",
      "metadata": {
        "id": "view-in-github",
        "colab_type": "text"
      },
      "source": [
        "<a href=\"https://colab.research.google.com/github/sorayabailey23/Group-93/blob/main/Assessor_Data_Cleaning_Merging_Datasets.ipynb\" target=\"_parent\"><img src=\"https://colab.research.google.com/assets/colab-badge.svg\" alt=\"Open In Colab\"/></a>"
      ]
    },
    {
      "cell_type": "markdown",
      "metadata": {
        "id": "NCkY_HRffOx3"
      },
      "source": [
        "# Assessor Data Cleaning - Merging Datasets\n",
        "---\n",
        "\n"
      ]
    },
    {
      "cell_type": "code",
      "metadata": {
        "colab": {
          "base_uri": "https://localhost:8080/"
        },
        "id": "-VAEn9kMc05w",
        "outputId": "f45c232f-f010-49eb-acdd-6cc9581d16c4"
      },
      "source": [
        "#importing libraries + drive\n",
        "\n",
        "from google.colab import drive\n",
        "drive.mount('/content/gdrive')"
      ],
      "execution_count": null,
      "outputs": [
        {
          "output_type": "stream",
          "text": [
            "Mounted at /content/gdrive\n"
          ],
          "name": "stdout"
        }
      ]
    },
    {
      "cell_type": "code",
      "metadata": {
        "id": "ljH4c6VVc-Yc"
      },
      "source": [
        "import numpy as np\n",
        "import pandas as pd\n"
      ],
      "execution_count": null,
      "outputs": []
    },
    {
      "cell_type": "markdown",
      "metadata": {
        "id": "JuXhCc6DnxXp"
      },
      "source": [
        "##Uploading Data + Merging Datasets\n"
      ]
    },
    {
      "cell_type": "code",
      "metadata": {
        "id": "lxrs7T_IddbX"
      },
      "source": [
        "#Importing data for each year using for loop. storing df in a list temporarily \n",
        "years = [\"2010\", \"2011\", \"2012\", \"2013\", \"2014\", \"2015\", \"2016\", \"2017\", \"2018\", \"2019\", \"2020\"]\n",
        "df_list = []\n",
        "\n",
        "for year in years:\n",
        "  converted = int(year)\n",
        "  df_converted = pd.read_csv(\"gdrive/My Drive/Team 93 Capstone Project/data/Assessor_Parcels_Data_\"+year+\"_CLEANED.csv\")\n",
        "  df_list.append(df_converted)"
      ],
      "execution_count": null,
      "outputs": []
    },
    {
      "cell_type": "code",
      "metadata": {
        "id": "YlYOC6c-c8S-"
      },
      "source": [
        "len(df_list)"
      ],
      "execution_count": null,
      "outputs": []
    },
    {
      "cell_type": "code",
      "metadata": {
        "id": "vMCCCrxGflQ0"
      },
      "source": [
        "#merging all df along rows using concat\n",
        "df_merged = pd.concat([df_list[0],df_list[1], df_list[2], df_list[3], df_list[4], df_list[5], df_list[6],df_list[7],df_list[8], df_list[9], \n",
        "                       df_list[10]]) "
      ],
      "execution_count": null,
      "outputs": []
    },
    {
      "cell_type": "code",
      "metadata": {
        "id": "isbND8HRAWZK"
      },
      "source": [
        "#droping weird unnamed column\n",
        "df_merged = df_merged.drop(columns=[\"Unnamed: 0\"])"
      ],
      "execution_count": null,
      "outputs": []
    },
    {
      "cell_type": "code",
      "metadata": {
        "id": "cwTYoRMHDB1B"
      },
      "source": [
        "df_merged"
      ],
      "execution_count": null,
      "outputs": []
    },
    {
      "cell_type": "code",
      "metadata": {
        "id": "0oSonbooA_Jk"
      },
      "source": [
        "df_merged.dtypes"
      ],
      "execution_count": null,
      "outputs": []
    },
    {
      "cell_type": "markdown",
      "metadata": {
        "id": "sObYTI27ieEP"
      },
      "source": [
        "###Dealing with random zip code changes\n"
      ]
    },
    {
      "cell_type": "code",
      "metadata": {
        "id": "Nw4Vcbm9eQjX"
      },
      "source": [
        "df_merged = pd.read_csv(\"gdrive/My Drive/Team 93 Capstone Project/data/Assessor_Parcels_Data_2010 to 2020.csv\")"
      ],
      "execution_count": null,
      "outputs": []
    },
    {
      "cell_type": "code",
      "metadata": {
        "id": "XkfwTegYeep5"
      },
      "source": [
        "\n",
        "\n",
        "df_merged[\"zip_code\"]=df_merged[\"zip_code\"].astype(\"string\")"
      ],
      "execution_count": null,
      "outputs": []
    },
    {
      "cell_type": "code",
      "metadata": {
        "id": "AzWmV018gsWV"
      },
      "source": [
        "df_merged[\"zip_code\"]=df_merged[\"zip_code\"].str.replace(\"10069\", \"90069\")"
      ],
      "execution_count": null,
      "outputs": []
    },
    {
      "cell_type": "code",
      "metadata": {
        "id": "Mm2b-7G7hDuK"
      },
      "source": [
        "df_merged[\"zip_code\"]=df_merged[\"zip_code\"].str.replace(\"19343\", \"91343\").replace(\"60038\", \"90038\")"
      ],
      "execution_count": null,
      "outputs": []
    },
    {
      "cell_type": "code",
      "metadata": {
        "id": "IeCEqvrWhbWn"
      },
      "source": [
        "df_merged[\"zip_code\"]=df_merged[\"zip_code\"].astype(\"int\")"
      ],
      "execution_count": null,
      "outputs": []
    },
    {
      "cell_type": "code",
      "metadata": {
        "colab": {
          "base_uri": "https://localhost:8080/"
        },
        "id": "d2sA3b4Xhmyh",
        "outputId": "e5aaf2e9-1c21-4311-f42e-c8367dbca25e"
      },
      "source": [
        "df_merged[\"zip_code\"].unique()"
      ],
      "execution_count": null,
      "outputs": [
        {
          "output_type": "execute_result",
          "data": {
            "text/plain": [
              "array([91604, 90035, 90043, 91364, 91335, 91306, 91367, 91303, 91307,\n",
              "       91356, 91316, 91325, 91406, 91343, 91405, 91402, 90045, 91423,\n",
              "       91411, 91401, 90230, 91403, 91436, 91346, 90210, 90077, 90049,\n",
              "       91605, 91352, 91331, 90001, 91606, 90066, 99606, 91066, 91006,\n",
              "       91601, 90068, 91607, 91602, 91499, 90046, 91342, 91340, 91040,\n",
              "       91311, 91042, 91024, 91214, 91344, 91345, 91353, 91504, 91505,\n",
              "       93510, 91612, 90601, 91608, 90064, 91387, 91324, 91329, 91326,\n",
              "       93063, 91304, 91301, 90056, 90302, 90047, 90036, 90293, 90291,\n",
              "       90040, 90009, 90304, 90245, 90016, 90232, 90034, 90025, 90094,\n",
              "       90292, 90041, 90042, 90015, 90057, 90011, 90005, 90063, 90012,\n",
              "       92008, 90037, 90031, 90006, 90023, 90065, 90019, 90013, 90014,\n",
              "       95648, 90017, 90405, 90026, 90007, 90402, 90403, 90297, 90067,\n",
              "       90024, 90212, 90069, 90048, 90211, 90062, 94513, 90095, 90039,\n",
              "       90022, 90027, 90631, 90272, 90020, 94707, 90270, 90053, 90290,\n",
              "       90265, 90044, 90003, 90058, 90018, 90008, 90240, 90089, 90028,\n",
              "       90021, 90029, 90010, 90038, 90004, 90079, 90071, 90033, 91792,\n",
              "       92806, 92801, 94087, 90032, 91205, 91204, 92646, 91030, 91201,\n",
              "       91206, 91105, 91101, 90052, 90002, 90059, 90061, 90051, 90248,\n",
              "       90501, 90247, 90745, 90813, 90744, 90746, 90502, 90731, 90717,\n",
              "       90710, 90712, 90732, 90734, 90815, 92805, 90748, 90733, 90822,\n",
              "       90275, 92802, 91302, 91330, 90209, 90810, 90701, 91243, 91064,\n",
              "       91362, 90239, 90401, 91360, 91502, 91361, 90055])"
            ]
          },
          "metadata": {
            "tags": []
          },
          "execution_count": 22
        }
      ]
    },
    {
      "cell_type": "code",
      "metadata": {
        "colab": {
          "base_uri": "https://localhost:8080/",
          "height": 419
        },
        "id": "iUfELxN4hws9",
        "outputId": "749a17b9-5bec-4b5b-d05f-95f1a76fb531"
      },
      "source": [
        "df_merged.sort_values(by=\"zip_code\")"
      ],
      "execution_count": null,
      "outputs": [
        {
          "output_type": "execute_result",
          "data": {
            "text/html": [
              "<div>\n",
              "<style scoped>\n",
              "    .dataframe tbody tr th:only-of-type {\n",
              "        vertical-align: middle;\n",
              "    }\n",
              "\n",
              "    .dataframe tbody tr th {\n",
              "        vertical-align: top;\n",
              "    }\n",
              "\n",
              "    .dataframe thead th {\n",
              "        text-align: right;\n",
              "    }\n",
              "</style>\n",
              "<table border=\"1\" class=\"dataframe\">\n",
              "  <thead>\n",
              "    <tr style=\"text-align: right;\">\n",
              "      <th></th>\n",
              "      <th>Unnamed: 0</th>\n",
              "      <th>city</th>\n",
              "      <th>year</th>\n",
              "      <th>assessor_id</th>\n",
              "      <th>general_use</th>\n",
              "      <th>specific_use</th>\n",
              "      <th>net_value</th>\n",
              "      <th>zip_code</th>\n",
              "    </tr>\n",
              "  </thead>\n",
              "  <tbody>\n",
              "    <tr>\n",
              "      <th>5714911</th>\n",
              "      <td>444168</td>\n",
              "      <td>LOS ANGELES</td>\n",
              "      <td>2017</td>\n",
              "      <td>6023-018-003-2017</td>\n",
              "      <td>Residential</td>\n",
              "      <td>Single Family Residence</td>\n",
              "      <td>136892.0</td>\n",
              "      <td>90001</td>\n",
              "    </tr>\n",
              "    <tr>\n",
              "      <th>6418165</th>\n",
              "      <td>389985</td>\n",
              "      <td>LOS ANGELES</td>\n",
              "      <td>2018</td>\n",
              "      <td>6007-004-009-2018</td>\n",
              "      <td>Industrial</td>\n",
              "      <td>Warehousing, Distribution, Storage</td>\n",
              "      <td>555318.0</td>\n",
              "      <td>90001</td>\n",
              "    </tr>\n",
              "    <tr>\n",
              "      <th>5705806</th>\n",
              "      <td>435063</td>\n",
              "      <td>LOS ANGELES</td>\n",
              "      <td>2017</td>\n",
              "      <td>6007-017-021-2017</td>\n",
              "      <td>Industrial</td>\n",
              "      <td>Heavy Manufacturing</td>\n",
              "      <td>2157714.0</td>\n",
              "      <td>90001</td>\n",
              "    </tr>\n",
              "    <tr>\n",
              "      <th>6418159</th>\n",
              "      <td>389979</td>\n",
              "      <td>LOS ANGELES</td>\n",
              "      <td>2018</td>\n",
              "      <td>6007-006-016-2018</td>\n",
              "      <td>Industrial</td>\n",
              "      <td>Light Manufacturing</td>\n",
              "      <td>490017.0</td>\n",
              "      <td>90001</td>\n",
              "    </tr>\n",
              "    <tr>\n",
              "      <th>5705807</th>\n",
              "      <td>435064</td>\n",
              "      <td>LOS ANGELES</td>\n",
              "      <td>2017</td>\n",
              "      <td>6007-017-015-2017</td>\n",
              "      <td>Industrial</td>\n",
              "      <td>Light Manufacturing</td>\n",
              "      <td>675387.0</td>\n",
              "      <td>90001</td>\n",
              "    </tr>\n",
              "    <tr>\n",
              "      <th>...</th>\n",
              "      <td>...</td>\n",
              "      <td>...</td>\n",
              "      <td>...</td>\n",
              "      <td>...</td>\n",
              "      <td>...</td>\n",
              "      <td>...</td>\n",
              "      <td>...</td>\n",
              "      <td>...</td>\n",
              "    </tr>\n",
              "    <tr>\n",
              "      <th>5892141</th>\n",
              "      <td>621398</td>\n",
              "      <td>LOS ANGELES</td>\n",
              "      <td>2017</td>\n",
              "      <td>2325-018-002-2017</td>\n",
              "      <td>Residential</td>\n",
              "      <td>Single Family Residence</td>\n",
              "      <td>291022.0</td>\n",
              "      <td>99606</td>\n",
              "    </tr>\n",
              "    <tr>\n",
              "      <th>3094425</th>\n",
              "      <td>89134</td>\n",
              "      <td>LOS ANGELES</td>\n",
              "      <td>2014</td>\n",
              "      <td>2325-018-002-2014</td>\n",
              "      <td>Residential</td>\n",
              "      <td>Single Family Residence</td>\n",
              "      <td>275528.0</td>\n",
              "      <td>99606</td>\n",
              "    </tr>\n",
              "    <tr>\n",
              "      <th>6604115</th>\n",
              "      <td>575935</td>\n",
              "      <td>LOS ANGELES</td>\n",
              "      <td>2018</td>\n",
              "      <td>2325-018-002-2018</td>\n",
              "      <td>Residential</td>\n",
              "      <td>Single Family Residence</td>\n",
              "      <td>296842.0</td>\n",
              "      <td>99606</td>\n",
              "    </tr>\n",
              "    <tr>\n",
              "      <th>1588040</th>\n",
              "      <td>89140</td>\n",
              "      <td>LOS ANGELES</td>\n",
              "      <td>2012</td>\n",
              "      <td>2325-018-002-2012</td>\n",
              "      <td>Residential</td>\n",
              "      <td>Single Family Residence</td>\n",
              "      <td>237000.0</td>\n",
              "      <td>99606</td>\n",
              "    </tr>\n",
              "    <tr>\n",
              "      <th>2340774</th>\n",
              "      <td>89179</td>\n",
              "      <td>LOS ANGELES</td>\n",
              "      <td>2013</td>\n",
              "      <td>2325-018-002-2013</td>\n",
              "      <td>Residential</td>\n",
              "      <td>Single Family Residence</td>\n",
              "      <td>253000.0</td>\n",
              "      <td>99606</td>\n",
              "    </tr>\n",
              "  </tbody>\n",
              "</table>\n",
              "<p>8310940 rows × 8 columns</p>\n",
              "</div>"
            ],
            "text/plain": [
              "         Unnamed: 0         city  ...  net_value zip_code\n",
              "5714911      444168  LOS ANGELES  ...   136892.0    90001\n",
              "6418165      389985  LOS ANGELES  ...   555318.0    90001\n",
              "5705806      435063  LOS ANGELES  ...  2157714.0    90001\n",
              "6418159      389979  LOS ANGELES  ...   490017.0    90001\n",
              "5705807      435064  LOS ANGELES  ...   675387.0    90001\n",
              "...             ...          ...  ...        ...      ...\n",
              "5892141      621398  LOS ANGELES  ...   291022.0    99606\n",
              "3094425       89134  LOS ANGELES  ...   275528.0    99606\n",
              "6604115      575935  LOS ANGELES  ...   296842.0    99606\n",
              "1588040       89140  LOS ANGELES  ...   237000.0    99606\n",
              "2340774       89179  LOS ANGELES  ...   253000.0    99606\n",
              "\n",
              "[8310940 rows x 8 columns]"
            ]
          },
          "metadata": {
            "tags": []
          },
          "execution_count": 23
        }
      ]
    },
    {
      "cell_type": "code",
      "metadata": {
        "id": "J-jRENhOh5we"
      },
      "source": [
        "df_merged = df_merged.drop(columns=\"Unnamed: 0\")"
      ],
      "execution_count": null,
      "outputs": []
    },
    {
      "cell_type": "code",
      "metadata": {
        "colab": {
          "base_uri": "https://localhost:8080/",
          "height": 419
        },
        "id": "WNBW-sEHiEsa",
        "outputId": "11afaa9b-0537-496d-a057-e1614fa4659b"
      },
      "source": [
        "df_merged"
      ],
      "execution_count": null,
      "outputs": [
        {
          "output_type": "execute_result",
          "data": {
            "text/html": [
              "<div>\n",
              "<style scoped>\n",
              "    .dataframe tbody tr th:only-of-type {\n",
              "        vertical-align: middle;\n",
              "    }\n",
              "\n",
              "    .dataframe tbody tr th {\n",
              "        vertical-align: top;\n",
              "    }\n",
              "\n",
              "    .dataframe thead th {\n",
              "        text-align: right;\n",
              "    }\n",
              "</style>\n",
              "<table border=\"1\" class=\"dataframe\">\n",
              "  <thead>\n",
              "    <tr style=\"text-align: right;\">\n",
              "      <th></th>\n",
              "      <th>city</th>\n",
              "      <th>year</th>\n",
              "      <th>assessor_id</th>\n",
              "      <th>general_use</th>\n",
              "      <th>specific_use</th>\n",
              "      <th>net_value</th>\n",
              "      <th>zip_code</th>\n",
              "    </tr>\n",
              "  </thead>\n",
              "  <tbody>\n",
              "    <tr>\n",
              "      <th>0</th>\n",
              "      <td>LOS ANGELES</td>\n",
              "      <td>2010</td>\n",
              "      <td>2368-002-003-2010</td>\n",
              "      <td>Commercial</td>\n",
              "      <td>Commercial</td>\n",
              "      <td>455441.0</td>\n",
              "      <td>91604</td>\n",
              "    </tr>\n",
              "    <tr>\n",
              "      <th>1</th>\n",
              "      <td>LOS ANGELES</td>\n",
              "      <td>2010</td>\n",
              "      <td>4305-007-001-2010</td>\n",
              "      <td>Commercial</td>\n",
              "      <td>Store</td>\n",
              "      <td>559830.0</td>\n",
              "      <td>90035</td>\n",
              "    </tr>\n",
              "    <tr>\n",
              "      <th>2</th>\n",
              "      <td>LOS ANGELES</td>\n",
              "      <td>2010</td>\n",
              "      <td>5013-019-033-2010</td>\n",
              "      <td>Commercial</td>\n",
              "      <td>Commercial</td>\n",
              "      <td>303510.0</td>\n",
              "      <td>90043</td>\n",
              "    </tr>\n",
              "    <tr>\n",
              "      <th>3</th>\n",
              "      <td>LOS ANGELES</td>\n",
              "      <td>2010</td>\n",
              "      <td>2040-032-015-2010</td>\n",
              "      <td>Commercial</td>\n",
              "      <td>Store</td>\n",
              "      <td>800000.0</td>\n",
              "      <td>91364</td>\n",
              "    </tr>\n",
              "    <tr>\n",
              "      <th>4</th>\n",
              "      <td>LOS ANGELES</td>\n",
              "      <td>2010</td>\n",
              "      <td>2132-011-025-2010</td>\n",
              "      <td>Residential</td>\n",
              "      <td>Single Family Residence</td>\n",
              "      <td>205877.0</td>\n",
              "      <td>91335</td>\n",
              "    </tr>\n",
              "    <tr>\n",
              "      <th>...</th>\n",
              "      <td>...</td>\n",
              "      <td>...</td>\n",
              "      <td>...</td>\n",
              "      <td>...</td>\n",
              "      <td>...</td>\n",
              "      <td>...</td>\n",
              "      <td>...</td>\n",
              "    </tr>\n",
              "    <tr>\n",
              "      <th>8310935</th>\n",
              "      <td>LOS ANGELES</td>\n",
              "      <td>2020</td>\n",
              "      <td>7559-039-161-2020</td>\n",
              "      <td>Residential</td>\n",
              "      <td>Single Family Residence</td>\n",
              "      <td>281430.0</td>\n",
              "      <td>90732</td>\n",
              "    </tr>\n",
              "    <tr>\n",
              "      <th>8310936</th>\n",
              "      <td>LOS ANGELES</td>\n",
              "      <td>2020</td>\n",
              "      <td>7562-008-014-2020</td>\n",
              "      <td>Residential</td>\n",
              "      <td>Single Family Residence</td>\n",
              "      <td>106377.0</td>\n",
              "      <td>90732</td>\n",
              "    </tr>\n",
              "    <tr>\n",
              "      <th>8310937</th>\n",
              "      <td>LOS ANGELES</td>\n",
              "      <td>2020</td>\n",
              "      <td>7559-014-037-2020</td>\n",
              "      <td>Residential</td>\n",
              "      <td>Single Family Residence</td>\n",
              "      <td>418726.0</td>\n",
              "      <td>90732</td>\n",
              "    </tr>\n",
              "    <tr>\n",
              "      <th>8310938</th>\n",
              "      <td>LOS ANGELES</td>\n",
              "      <td>2020</td>\n",
              "      <td>7563-011-011-2020</td>\n",
              "      <td>Residential</td>\n",
              "      <td>Single Family Residence</td>\n",
              "      <td>805073.0</td>\n",
              "      <td>90732</td>\n",
              "    </tr>\n",
              "    <tr>\n",
              "      <th>8310939</th>\n",
              "      <td>LOS ANGELES</td>\n",
              "      <td>2020</td>\n",
              "      <td>7559-040-109-2020</td>\n",
              "      <td>Residential</td>\n",
              "      <td>Single Family Residence</td>\n",
              "      <td>189093.0</td>\n",
              "      <td>90732</td>\n",
              "    </tr>\n",
              "  </tbody>\n",
              "</table>\n",
              "<p>8310940 rows × 7 columns</p>\n",
              "</div>"
            ],
            "text/plain": [
              "                city  year  ... net_value zip_code\n",
              "0        LOS ANGELES  2010  ...  455441.0    91604\n",
              "1        LOS ANGELES  2010  ...  559830.0    90035\n",
              "2        LOS ANGELES  2010  ...  303510.0    90043\n",
              "3        LOS ANGELES  2010  ...  800000.0    91364\n",
              "4        LOS ANGELES  2010  ...  205877.0    91335\n",
              "...              ...   ...  ...       ...      ...\n",
              "8310935  LOS ANGELES  2020  ...  281430.0    90732\n",
              "8310936  LOS ANGELES  2020  ...  106377.0    90732\n",
              "8310937  LOS ANGELES  2020  ...  418726.0    90732\n",
              "8310938  LOS ANGELES  2020  ...  805073.0    90732\n",
              "8310939  LOS ANGELES  2020  ...  189093.0    90732\n",
              "\n",
              "[8310940 rows x 7 columns]"
            ]
          },
          "metadata": {
            "tags": []
          },
          "execution_count": 26
        }
      ]
    },
    {
      "cell_type": "markdown",
      "metadata": {
        "id": "qkFQgBLYGLOy"
      },
      "source": [
        "##Looking at Unique Values"
      ]
    },
    {
      "cell_type": "code",
      "metadata": {
        "id": "2NReK4boTh88"
      },
      "source": [
        "df_merged[\"year\"].unique()"
      ],
      "execution_count": null,
      "outputs": []
    },
    {
      "cell_type": "code",
      "metadata": {
        "id": "dV-mj4Mwd1uX"
      },
      "source": [
        "df_merged[\"city\"].unique()"
      ],
      "execution_count": null,
      "outputs": []
    },
    {
      "cell_type": "code",
      "metadata": {
        "id": "kqabPJ_WGl7z"
      },
      "source": [
        "\n",
        "df_merged[\"general_use\"].unique()"
      ],
      "execution_count": null,
      "outputs": []
    },
    {
      "cell_type": "code",
      "metadata": {
        "id": "EnVUSMjALPaP"
      },
      "source": [
        "#replacing missing w/ unavailable in general_use column\n",
        "df_merged[\"general_use\"] = df_merged[\"general_use\"].str.replace(\"(missing)\", \"(unavailable)\").replace(\"((unavailable))\", \"(unavailable)\")"
      ],
      "execution_count": null,
      "outputs": []
    },
    {
      "cell_type": "code",
      "metadata": {
        "id": "jevS4DW2LmG1"
      },
      "source": [
        "df_merged[\"general_use\"].unique()"
      ],
      "execution_count": null,
      "outputs": []
    },
    {
      "cell_type": "code",
      "metadata": {
        "id": "GjVrkUFvGyyY"
      },
      "source": [
        "df_merged[\"specific_use\"].unique()"
      ],
      "execution_count": null,
      "outputs": []
    },
    {
      "cell_type": "code",
      "metadata": {
        "id": "FoWMPlRLHFyc"
      },
      "source": [
        "#cleaning up specific-use - replacing (missing) w/ (unavailable) \n",
        "\n",
        "df_merged[\"specific_use\"] = df_merged[\"specific_use\"].str.replace(\"(missing)\", \"(unavailable)\").replace(\" \", \"(unavailable)\").replace(\"((unavailable))\",  \"(unavailable)\")\n",
        "                                                                                                                                      \n",
        "df_merged[\"specific_use\"].unique()"
      ],
      "execution_count": null,
      "outputs": []
    },
    {
      "cell_type": "code",
      "metadata": {
        "id": "h5YFrfB5K1Uc"
      },
      "source": [
        "#capturing list of zip codes. there are 199 total\n",
        "zip_codes = df_merged[\"zip_code\"].unique()\n",
        "zip_codes = [int(x) for x in zip_codes]\n",
        "zip_codes "
      ],
      "execution_count": null,
      "outputs": []
    },
    {
      "cell_type": "code",
      "metadata": {
        "id": "KI-F3bL0d7Xz"
      },
      "source": [
        "len(zip_codes)"
      ],
      "execution_count": null,
      "outputs": []
    },
    {
      "cell_type": "markdown",
      "metadata": {
        "id": "AafOxzxkDLVJ"
      },
      "source": [
        "##Changing Data Types"
      ]
    },
    {
      "cell_type": "code",
      "metadata": {
        "id": "Mx-duvwCBDas"
      },
      "source": [
        "df_merged[\"city\"] = df_merged[\"city\"].astype(\"category\")\n",
        "df_merged[\"general_use\"] = df_merged[\"general_use\"].astype(\"category\")\n",
        "df_merged[\"specific_use\"] = df_merged[\"specific_use\"].astype(\"category\")\n",
        "df_merged[\"zip_code\"] = df_merged[\"zip_code\"].astype(int)"
      ],
      "execution_count": null,
      "outputs": []
    },
    {
      "cell_type": "code",
      "metadata": {
        "id": "vocYt__eEeNc"
      },
      "source": [
        "df_merged.dtypes"
      ],
      "execution_count": null,
      "outputs": []
    },
    {
      "cell_type": "code",
      "metadata": {
        "id": "tCmdT8qXOnHx"
      },
      "source": [
        ""
      ],
      "execution_count": null,
      "outputs": []
    },
    {
      "cell_type": "markdown",
      "metadata": {
        "id": "-1YOepM1Oytj"
      },
      "source": [
        "##Data Dictionary"
      ]
    },
    {
      "cell_type": "code",
      "metadata": {
        "id": "DPXq7bMSO36w"
      },
      "source": [
        "df_merged"
      ],
      "execution_count": null,
      "outputs": []
    },
    {
      "cell_type": "code",
      "metadata": {
        "id": "j-jEUE-ui7iX"
      },
      "source": [
        "df_merged[\"net_value\"].mean()"
      ],
      "execution_count": null,
      "outputs": []
    },
    {
      "cell_type": "markdown",
      "metadata": {
        "id": "I31xdvpWiyCx"
      },
      "source": [
        "df_merged[\"net_value\"].describe"
      ]
    },
    {
      "cell_type": "markdown",
      "metadata": {
        "id": "34cSbmTCO9OU"
      },
      "source": [
        "###***Data Features***\n",
        "\n",
        "*   **City**: Incorporated city name based on tax rate area. *Dtype: String/Category*\n",
        "*   **Year**: Assessment roll year. *Dtype: int*\n",
        "*   **Assessor_Id**: Unique 10-digit number assigned to each individual parcel in Los Angeles County. Final four digits represents the year the assessment occured. *Dtype: String*\n",
        "*   **General_Use**:\tThe type of property - 'Residential', 'Commercial', 'Industrial', 'Miscellaneous','Institutional', 'Recreational', 'Dry Farm', 'Irrigated Farm. *Dtype: String/Category*\n",
        "*   **Specific_Use**: More specific use of the property. *Dtype: String/Category*\n",
        "*   **Net_value**: Total value of propery minus any tax exemption values *dtype: float*\n",
        "*   **Zip_Code**: Five digit zip code of the property's location *dtype: int*\n",
        "\n",
        "\n",
        "\n",
        "\n",
        "\n",
        "\n",
        "\n",
        "\n",
        "\n",
        "\n"
      ]
    },
    {
      "cell_type": "markdown",
      "metadata": {
        "id": "dabGSgI-Sq1n"
      },
      "source": [
        "##Exporting Data"
      ]
    },
    {
      "cell_type": "code",
      "metadata": {
        "id": "6BcYc7eeSovR"
      },
      "source": [
        "df_merged.to_csv(\"gdrive/My Drive/Team 93 Capstone Project/data/Assessor_Parcels_Data_2010 to 2020.csv\")"
      ],
      "execution_count": null,
      "outputs": []
    },
    {
      "cell_type": "code",
      "metadata": {
        "id": "670kISwpS7r5"
      },
      "source": [
        ""
      ],
      "execution_count": null,
      "outputs": []
    }
  ]
}
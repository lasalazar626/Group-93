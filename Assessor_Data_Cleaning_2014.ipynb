{
  "nbformat": 4,
  "nbformat_minor": 0,
  "metadata": {
    "colab": {
      "name": "Assessor Data Cleaning - 2014.ipynb",
      "provenance": [],
      "collapsed_sections": [],
      "authorship_tag": "ABX9TyOKSeR9V3NIH9N/9sIjrRrJ",
      "include_colab_link": true
    },
    "kernelspec": {
      "name": "python3",
      "display_name": "Python 3"
    },
    "language_info": {
      "name": "python"
    }
  },
  "cells": [
    {
      "cell_type": "markdown",
      "metadata": {
        "id": "view-in-github",
        "colab_type": "text"
      },
      "source": [
        "<a href=\"https://colab.research.google.com/github/sorayabailey23/Group-93/blob/main/Assessor_Data_Cleaning_2014.ipynb\" target=\"_parent\"><img src=\"https://colab.research.google.com/assets/colab-badge.svg\" alt=\"Open In Colab\"/></a>"
      ]
    },
    {
      "cell_type": "markdown",
      "metadata": {
        "id": "NCkY_HRffOx3"
      },
      "source": [
        "# Assessor Data Cleaning - 2014\n",
        "\n",
        "---\n",
        "\n"
      ]
    },
    {
      "cell_type": "code",
      "metadata": {
        "colab": {
          "base_uri": "https://localhost:8080/"
        },
        "id": "-VAEn9kMc05w",
        "outputId": "db520361-2337-4978-f3e2-d2d722985269"
      },
      "source": [
        "#importing libraries + drive\n",
        "\n",
        "from google.colab import drive\n",
        "drive.mount('/content/gdrive')"
      ],
      "execution_count": 1,
      "outputs": [
        {
          "output_type": "stream",
          "text": [
            "Mounted at /content/gdrive\n"
          ],
          "name": "stdout"
        }
      ]
    },
    {
      "cell_type": "code",
      "metadata": {
        "id": "ljH4c6VVc-Yc"
      },
      "source": [
        "import numpy as np\n",
        "import pandas as pd\n",
        "import math"
      ],
      "execution_count": 2,
      "outputs": []
    },
    {
      "cell_type": "markdown",
      "metadata": {
        "id": "JuXhCc6DnxXp"
      },
      "source": [
        "##Uploading + Exploring the Data \n",
        "\n",
        "I'll first upload the raw data and see what features it includes.\n"
      ]
    },
    {
      "cell_type": "code",
      "metadata": {
        "colab": {
          "base_uri": "https://localhost:8080/"
        },
        "id": "lxrs7T_IddbX",
        "outputId": "a174b7f6-a2fc-4015-e61c-a8b572b9429d"
      },
      "source": [
        "#Importing data from 2014 in Los Angeles \n",
        "records_df = pd.read_csv(\"gdrive/My Drive/Team 93 Capstone Project/data/Assessor_Parcels_Data_2014.csv\")"
      ],
      "execution_count": 3,
      "outputs": [
        {
          "output_type": "stream",
          "text": [
            "/usr/local/lib/python3.7/dist-packages/IPython/core/interactiveshell.py:2718: DtypeWarning: Columns (37) have mixed types.Specify dtype option on import or set low_memory=False.\n",
            "  interactivity=interactivity, compiler=compiler, result=result)\n"
          ],
          "name": "stderr"
        }
      ]
    },
    {
      "cell_type": "code",
      "metadata": {
        "colab": {
          "base_uri": "https://localhost:8080/",
          "height": 496
        },
        "id": "vMCCCrxGflQ0",
        "outputId": "52896708-1796-4313-e9eb-fcca65f1da19"
      },
      "source": [
        "records_df.head()"
      ],
      "execution_count": 4,
      "outputs": [
        {
          "output_type": "execute_result",
          "data": {
            "text/html": [
              "<div>\n",
              "<style scoped>\n",
              "    .dataframe tbody tr th:only-of-type {\n",
              "        vertical-align: middle;\n",
              "    }\n",
              "\n",
              "    .dataframe tbody tr th {\n",
              "        vertical-align: top;\n",
              "    }\n",
              "\n",
              "    .dataframe thead th {\n",
              "        text-align: right;\n",
              "    }\n",
              "</style>\n",
              "<table border=\"1\" class=\"dataframe\">\n",
              "  <thead>\n",
              "    <tr style=\"text-align: right;\">\n",
              "      <th></th>\n",
              "      <th>Unnamed: 0</th>\n",
              "      <th>situszip</th>\n",
              "      <th>taxratearea_city</th>\n",
              "      <th>ain</th>\n",
              "      <th>rollyear</th>\n",
              "      <th>taxratearea</th>\n",
              "      <th>assessorid</th>\n",
              "      <th>usetype</th>\n",
              "      <th>usecode</th>\n",
              "      <th>usecodedescchar1</th>\n",
              "      <th>usecodedescchar2</th>\n",
              "      <th>usecodedescchar3</th>\n",
              "      <th>usecodedescchar4</th>\n",
              "      <th>totbuildingdatalines</th>\n",
              "      <th>yearbuilt</th>\n",
              "      <th>effectiveyearbuilt</th>\n",
              "      <th>sqftmain</th>\n",
              "      <th>bedrooms</th>\n",
              "      <th>bathrooms</th>\n",
              "      <th>units</th>\n",
              "      <th>recordingdate</th>\n",
              "      <th>roll_landvalue</th>\n",
              "      <th>roll_landbaseyear</th>\n",
              "      <th>roll_impvalue</th>\n",
              "      <th>roll_impbaseyear</th>\n",
              "      <th>roll_totlandimp</th>\n",
              "      <th>roll_homeownersexemp</th>\n",
              "      <th>roll_realestateexemp</th>\n",
              "      <th>roll_fixturevalue</th>\n",
              "      <th>roll_fixtureexemp</th>\n",
              "      <th>roll_perspropvalue</th>\n",
              "      <th>roll_perspropexemp</th>\n",
              "      <th>istaxableparcel</th>\n",
              "      <th>roll_totalvalue</th>\n",
              "      <th>roll_totalexemption</th>\n",
              "      <th>nettaxablevalue</th>\n",
              "      <th>parcelclassification</th>\n",
              "      <th>adminregion</th>\n",
              "      <th>cluster</th>\n",
              "      <th>parcelboundarydescription</th>\n",
              "      <th>situshouseno</th>\n",
              "      <th>situsfraction</th>\n",
              "      <th>situsdirection</th>\n",
              "      <th>situsstreet</th>\n",
              "      <th>situsunit</th>\n",
              "      <th>situscity</th>\n",
              "      <th>rowid</th>\n",
              "      <th>center_lat</th>\n",
              "      <th>center_lon</th>\n",
              "      <th>location_1</th>\n",
              "      <th>propertylocation</th>\n",
              "      <th>situszip5</th>\n",
              "    </tr>\n",
              "  </thead>\n",
              "  <tbody>\n",
              "    <tr>\n",
              "      <th>0</th>\n",
              "      <td>0</td>\n",
              "      <td></td>\n",
              "      <td>LOS ANGELES</td>\n",
              "      <td>2136015905</td>\n",
              "      <td>2014</td>\n",
              "      <td>16</td>\n",
              "      <td>2136-015-905</td>\n",
              "      <td>OTH</td>\n",
              "      <td>8800</td>\n",
              "      <td>Miscellaneous</td>\n",
              "      <td>Government Owned Property</td>\n",
              "      <td></td>\n",
              "      <td></td>\n",
              "      <td>0</td>\n",
              "      <td>0</td>\n",
              "      <td>0</td>\n",
              "      <td>0</td>\n",
              "      <td>0</td>\n",
              "      <td>0</td>\n",
              "      <td>0</td>\n",
              "      <td>19580729</td>\n",
              "      <td>0</td>\n",
              "      <td>1975</td>\n",
              "      <td>0</td>\n",
              "      <td>0</td>\n",
              "      <td>0</td>\n",
              "      <td>0</td>\n",
              "      <td>0</td>\n",
              "      <td>0</td>\n",
              "      <td>0</td>\n",
              "      <td>0</td>\n",
              "      <td>0</td>\n",
              "      <td>N</td>\n",
              "      <td>0</td>\n",
              "      <td>0</td>\n",
              "      <td>0</td>\n",
              "      <td>Public (non-taxable government-owned)</td>\n",
              "      <td>02</td>\n",
              "      <td>2150</td>\n",
              "      <td>FOR DESC SEE ASSESSOR'S MAPS POR LOT 889 TR 10...</td>\n",
              "      <td>0</td>\n",
              "      <td></td>\n",
              "      <td></td>\n",
              "      <td></td>\n",
              "      <td></td>\n",
              "      <td></td>\n",
              "      <td>20142136015905</td>\n",
              "      <td>34.194269</td>\n",
              "      <td>-118.578992</td>\n",
              "      <td>{'latitude': '34.19426932', 'longitude': '-118...</td>\n",
              "      <td>NaN</td>\n",
              "      <td>NaN</td>\n",
              "    </tr>\n",
              "    <tr>\n",
              "      <th>1</th>\n",
              "      <td>1</td>\n",
              "      <td></td>\n",
              "      <td>LOS ANGELES</td>\n",
              "      <td>2137011901</td>\n",
              "      <td>2014</td>\n",
              "      <td>16</td>\n",
              "      <td>2137-011-901</td>\n",
              "      <td>OTH</td>\n",
              "      <td>8800</td>\n",
              "      <td>Miscellaneous</td>\n",
              "      <td>Government Owned Property</td>\n",
              "      <td></td>\n",
              "      <td></td>\n",
              "      <td>0</td>\n",
              "      <td>0</td>\n",
              "      <td>0</td>\n",
              "      <td>0</td>\n",
              "      <td>0</td>\n",
              "      <td>0</td>\n",
              "      <td>0</td>\n",
              "      <td>19590311</td>\n",
              "      <td>0</td>\n",
              "      <td>1975</td>\n",
              "      <td>0</td>\n",
              "      <td>1975</td>\n",
              "      <td>0</td>\n",
              "      <td>0</td>\n",
              "      <td>0</td>\n",
              "      <td>0</td>\n",
              "      <td>0</td>\n",
              "      <td>0</td>\n",
              "      <td>0</td>\n",
              "      <td>N</td>\n",
              "      <td>0</td>\n",
              "      <td>0</td>\n",
              "      <td>0</td>\n",
              "      <td>Public (non-taxable government-owned)</td>\n",
              "      <td>02</td>\n",
              "      <td>2150</td>\n",
              "      <td>TRACT # 19212 SW 5 FT MEASURED RADIALLY TO SW...</td>\n",
              "      <td>0</td>\n",
              "      <td></td>\n",
              "      <td></td>\n",
              "      <td></td>\n",
              "      <td></td>\n",
              "      <td></td>\n",
              "      <td>20142137011901</td>\n",
              "      <td>34.195156</td>\n",
              "      <td>-118.580389</td>\n",
              "      <td>{'latitude': '34.19515585', 'longitude': '-118...</td>\n",
              "      <td>NaN</td>\n",
              "      <td>NaN</td>\n",
              "    </tr>\n",
              "    <tr>\n",
              "      <th>2</th>\n",
              "      <td>2</td>\n",
              "      <td></td>\n",
              "      <td>LOS ANGELES</td>\n",
              "      <td>2137015902</td>\n",
              "      <td>2014</td>\n",
              "      <td>16</td>\n",
              "      <td>2137-015-902</td>\n",
              "      <td>OTH</td>\n",
              "      <td>8800</td>\n",
              "      <td>Miscellaneous</td>\n",
              "      <td>Government Owned Property</td>\n",
              "      <td></td>\n",
              "      <td></td>\n",
              "      <td>0</td>\n",
              "      <td>0</td>\n",
              "      <td>0</td>\n",
              "      <td>0</td>\n",
              "      <td>0</td>\n",
              "      <td>0</td>\n",
              "      <td>0</td>\n",
              "      <td>19670245</td>\n",
              "      <td>0</td>\n",
              "      <td>1975</td>\n",
              "      <td>0</td>\n",
              "      <td>0</td>\n",
              "      <td>0</td>\n",
              "      <td>0</td>\n",
              "      <td>0</td>\n",
              "      <td>0</td>\n",
              "      <td>0</td>\n",
              "      <td>0</td>\n",
              "      <td>0</td>\n",
              "      <td>N</td>\n",
              "      <td>0</td>\n",
              "      <td>0</td>\n",
              "      <td>0</td>\n",
              "      <td>Public (non-taxable government-owned)</td>\n",
              "      <td>02</td>\n",
              "      <td>2150</td>\n",
              "      <td>TR=10287 VAC ST AND POR OF LOTS 17 THRU 20 AND...</td>\n",
              "      <td>0</td>\n",
              "      <td></td>\n",
              "      <td></td>\n",
              "      <td></td>\n",
              "      <td></td>\n",
              "      <td></td>\n",
              "      <td>20142137015902</td>\n",
              "      <td>34.200038</td>\n",
              "      <td>-118.582999</td>\n",
              "      <td>{'latitude': '34.20003843', 'longitude': '-118...</td>\n",
              "      <td>NaN</td>\n",
              "      <td>NaN</td>\n",
              "    </tr>\n",
              "    <tr>\n",
              "      <th>3</th>\n",
              "      <td>3</td>\n",
              "      <td></td>\n",
              "      <td>LOS ANGELES</td>\n",
              "      <td>2146016020</td>\n",
              "      <td>2014</td>\n",
              "      <td>16</td>\n",
              "      <td>2146-016-020</td>\n",
              "      <td>VAC</td>\n",
              "      <td>010V</td>\n",
              "      <td>Residential</td>\n",
              "      <td>Single Family Residence</td>\n",
              "      <td></td>\n",
              "      <td>Vacant Land</td>\n",
              "      <td>0</td>\n",
              "      <td>0</td>\n",
              "      <td>0</td>\n",
              "      <td>0</td>\n",
              "      <td>0</td>\n",
              "      <td>0</td>\n",
              "      <td>0</td>\n",
              "      <td>20030304</td>\n",
              "      <td>26873</td>\n",
              "      <td>2003</td>\n",
              "      <td>0</td>\n",
              "      <td>2003</td>\n",
              "      <td>26873</td>\n",
              "      <td>0</td>\n",
              "      <td>0</td>\n",
              "      <td>0</td>\n",
              "      <td>0</td>\n",
              "      <td>0</td>\n",
              "      <td>0</td>\n",
              "      <td>Y</td>\n",
              "      <td>26873</td>\n",
              "      <td>0</td>\n",
              "      <td>26873</td>\n",
              "      <td></td>\n",
              "      <td>02</td>\n",
              "      <td>2163</td>\n",
              "      <td>*LAND DESC IN DOC 0002484, 76-4-26 *TR=22481*P...</td>\n",
              "      <td>0</td>\n",
              "      <td></td>\n",
              "      <td></td>\n",
              "      <td></td>\n",
              "      <td></td>\n",
              "      <td></td>\n",
              "      <td>20142146016020</td>\n",
              "      <td>34.177912</td>\n",
              "      <td>-118.606336</td>\n",
              "      <td>{'latitude': '34.17791177', 'longitude': '-118...</td>\n",
              "      <td>NaN</td>\n",
              "      <td>NaN</td>\n",
              "    </tr>\n",
              "    <tr>\n",
              "      <th>4</th>\n",
              "      <td>4</td>\n",
              "      <td></td>\n",
              "      <td>LOS ANGELES</td>\n",
              "      <td>2149019020</td>\n",
              "      <td>2014</td>\n",
              "      <td>16</td>\n",
              "      <td>2149-019-020</td>\n",
              "      <td>C/I</td>\n",
              "      <td>2720</td>\n",
              "      <td>Commercial</td>\n",
              "      <td>Parking Lot (Commercial Use Property)</td>\n",
              "      <td>Parking Structures - Patron or Employee</td>\n",
              "      <td>One Story</td>\n",
              "      <td>1</td>\n",
              "      <td>2008</td>\n",
              "      <td>2008</td>\n",
              "      <td>0</td>\n",
              "      <td>0</td>\n",
              "      <td>0</td>\n",
              "      <td>0</td>\n",
              "      <td>20080707</td>\n",
              "      <td>8298929</td>\n",
              "      <td>2009</td>\n",
              "      <td>22060447</td>\n",
              "      <td>2009</td>\n",
              "      <td>30359376</td>\n",
              "      <td>0</td>\n",
              "      <td>0</td>\n",
              "      <td>0</td>\n",
              "      <td>0</td>\n",
              "      <td>0</td>\n",
              "      <td>0</td>\n",
              "      <td>Y</td>\n",
              "      <td>30359376</td>\n",
              "      <td>0</td>\n",
              "      <td>30359376</td>\n",
              "      <td></td>\n",
              "      <td>23</td>\n",
              "      <td>23662</td>\n",
              "      <td>TR=52799 LOT 4</td>\n",
              "      <td>0</td>\n",
              "      <td></td>\n",
              "      <td></td>\n",
              "      <td></td>\n",
              "      <td></td>\n",
              "      <td></td>\n",
              "      <td>20142149019020</td>\n",
              "      <td>34.174931</td>\n",
              "      <td>-118.593036</td>\n",
              "      <td>{'latitude': '34.17493089', 'longitude': '-118...</td>\n",
              "      <td>NaN</td>\n",
              "      <td>NaN</td>\n",
              "    </tr>\n",
              "  </tbody>\n",
              "</table>\n",
              "</div>"
            ],
            "text/plain": [
              "   Unnamed: 0 situszip  ... propertylocation  situszip5\n",
              "0           0           ...              NaN        NaN\n",
              "1           1           ...              NaN        NaN\n",
              "2           2           ...              NaN        NaN\n",
              "3           3           ...              NaN        NaN\n",
              "4           4           ...              NaN        NaN\n",
              "\n",
              "[5 rows x 52 columns]"
            ]
          },
          "metadata": {
            "tags": []
          },
          "execution_count": 4
        }
      ]
    },
    {
      "cell_type": "code",
      "metadata": {
        "colab": {
          "base_uri": "https://localhost:8080/"
        },
        "id": "gQbh0Kgye-UL",
        "outputId": "2debf685-e358-4733-b470-964ac5a726c3"
      },
      "source": [
        "records_df.columns"
      ],
      "execution_count": 5,
      "outputs": [
        {
          "output_type": "execute_result",
          "data": {
            "text/plain": [
              "Index(['Unnamed: 0', 'situszip', 'taxratearea_city', 'ain', 'rollyear',\n",
              "       'taxratearea', 'assessorid', 'usetype', 'usecode', 'usecodedescchar1',\n",
              "       'usecodedescchar2', 'usecodedescchar3', 'usecodedescchar4',\n",
              "       'totbuildingdatalines', 'yearbuilt', 'effectiveyearbuilt', 'sqftmain',\n",
              "       'bedrooms', 'bathrooms', 'units', 'recordingdate', 'roll_landvalue',\n",
              "       'roll_landbaseyear', 'roll_impvalue', 'roll_impbaseyear',\n",
              "       'roll_totlandimp', 'roll_homeownersexemp', 'roll_realestateexemp',\n",
              "       'roll_fixturevalue', 'roll_fixtureexemp', 'roll_perspropvalue',\n",
              "       'roll_perspropexemp', 'istaxableparcel', 'roll_totalvalue',\n",
              "       'roll_totalexemption', 'nettaxablevalue', 'parcelclassification',\n",
              "       'adminregion', 'cluster', 'parcelboundarydescription', 'situshouseno',\n",
              "       'situsfraction', 'situsdirection', 'situsstreet', 'situsunit',\n",
              "       'situscity', 'rowid', 'center_lat', 'center_lon', 'location_1',\n",
              "       'propertylocation', 'situszip5'],\n",
              "      dtype='object')"
            ]
          },
          "metadata": {
            "tags": []
          },
          "execution_count": 5
        }
      ]
    },
    {
      "cell_type": "code",
      "metadata": {
        "colab": {
          "base_uri": "https://localhost:8080/"
        },
        "id": "lfqk_ipUfD13",
        "outputId": "f8a2246b-b393-48e4-cbc5-fbc45bcb44e3"
      },
      "source": [
        "#verifying that we pulled data for the correct city + year \n",
        "records_df[\"taxratearea_city\"].unique()"
      ],
      "execution_count": 6,
      "outputs": [
        {
          "output_type": "execute_result",
          "data": {
            "text/plain": [
              "array(['LOS ANGELES'], dtype=object)"
            ]
          },
          "metadata": {
            "tags": []
          },
          "execution_count": 6
        }
      ]
    },
    {
      "cell_type": "code",
      "metadata": {
        "colab": {
          "base_uri": "https://localhost:8080/"
        },
        "id": "GYuUpNCe4QkN",
        "outputId": "50066de2-4a2c-46b8-f621-a77c10cf7a69"
      },
      "source": [
        "records_df[\"rollyear\"].unique()"
      ],
      "execution_count": 7,
      "outputs": [
        {
          "output_type": "execute_result",
          "data": {
            "text/plain": [
              "array([2014])"
            ]
          },
          "metadata": {
            "tags": []
          },
          "execution_count": 7
        }
      ]
    },
    {
      "cell_type": "code",
      "metadata": {
        "colab": {
          "base_uri": "https://localhost:8080/"
        },
        "id": "M2J81KULgBsX",
        "outputId": "d3aa08d5-b37d-421e-b355-b58b725a314e"
      },
      "source": [
        "records_df.info()"
      ],
      "execution_count": 8,
      "outputs": [
        {
          "output_type": "stream",
          "text": [
            "<class 'pandas.core.frame.DataFrame'>\n",
            "RangeIndex: 794829 entries, 0 to 794828\n",
            "Data columns (total 52 columns):\n",
            " #   Column                     Non-Null Count   Dtype  \n",
            "---  ------                     --------------   -----  \n",
            " 0   Unnamed: 0                 794829 non-null  int64  \n",
            " 1   situszip                   794829 non-null  object \n",
            " 2   taxratearea_city           794829 non-null  object \n",
            " 3   ain                        794829 non-null  int64  \n",
            " 4   rollyear                   794829 non-null  int64  \n",
            " 5   taxratearea                794829 non-null  int64  \n",
            " 6   assessorid                 794829 non-null  object \n",
            " 7   usetype                    794814 non-null  object \n",
            " 8   usecode                    794829 non-null  object \n",
            " 9   usecodedescchar1           794814 non-null  object \n",
            " 10  usecodedescchar2           794814 non-null  object \n",
            " 11  usecodedescchar3           794814 non-null  object \n",
            " 12  usecodedescchar4           794814 non-null  object \n",
            " 13  totbuildingdatalines       794829 non-null  int64  \n",
            " 14  yearbuilt                  794829 non-null  int64  \n",
            " 15  effectiveyearbuilt         794829 non-null  int64  \n",
            " 16  sqftmain                   794829 non-null  int64  \n",
            " 17  bedrooms                   794829 non-null  int64  \n",
            " 18  bathrooms                  794829 non-null  int64  \n",
            " 19  units                      794829 non-null  int64  \n",
            " 20  recordingdate              794829 non-null  int64  \n",
            " 21  roll_landvalue             794829 non-null  int64  \n",
            " 22  roll_landbaseyear          794829 non-null  int64  \n",
            " 23  roll_impvalue              794829 non-null  int64  \n",
            " 24  roll_impbaseyear           794829 non-null  int64  \n",
            " 25  roll_totlandimp            794829 non-null  int64  \n",
            " 26  roll_homeownersexemp       794829 non-null  int64  \n",
            " 27  roll_realestateexemp       794829 non-null  int64  \n",
            " 28  roll_fixturevalue          794829 non-null  int64  \n",
            " 29  roll_fixtureexemp          794829 non-null  int64  \n",
            " 30  roll_perspropvalue         794829 non-null  int64  \n",
            " 31  roll_perspropexemp         794829 non-null  int64  \n",
            " 32  istaxableparcel            794829 non-null  object \n",
            " 33  roll_totalvalue            794829 non-null  int64  \n",
            " 34  roll_totalexemption        794829 non-null  int64  \n",
            " 35  nettaxablevalue            794829 non-null  int64  \n",
            " 36  parcelclassification       794829 non-null  object \n",
            " 37  adminregion                794829 non-null  object \n",
            " 38  cluster                    794829 non-null  int64  \n",
            " 39  parcelboundarydescription  794829 non-null  object \n",
            " 40  situshouseno               794829 non-null  int64  \n",
            " 41  situsfraction              794829 non-null  object \n",
            " 42  situsdirection             794829 non-null  object \n",
            " 43  situsstreet                794829 non-null  object \n",
            " 44  situsunit                  794829 non-null  object \n",
            " 45  situscity                  794829 non-null  object \n",
            " 46  rowid                      794829 non-null  int64  \n",
            " 47  center_lat                 794761 non-null  float64\n",
            " 48  center_lon                 794761 non-null  float64\n",
            " 49  location_1                 794761 non-null  object \n",
            " 50  propertylocation           754258 non-null  object \n",
            " 51  situszip5                  754246 non-null  float64\n",
            "dtypes: float64(3), int64(29), object(20)\n",
            "memory usage: 315.3+ MB\n"
          ],
          "name": "stdout"
        }
      ]
    },
    {
      "cell_type": "markdown",
      "metadata": {
        "id": "YnAWXm-moobd"
      },
      "source": [
        "## Relevance \n",
        "\n",
        "The dataset includes a lot of information that I don't need. For this section, I'll \n",
        "\n",
        "\n",
        "1.   Drop the columns that I don't need \n",
        "2.   Check the remaining columns for unique values\n",
        "1.   Handle missing values, including dropping data that does not include zip codes\n",
        "\n",
        "\n",
        "\n",
        "\n"
      ]
    },
    {
      "cell_type": "markdown",
      "metadata": {
        "id": "7gfuNxT-vPjj"
      },
      "source": [
        "###Determining which columns to drop"
      ]
    },
    {
      "cell_type": "code",
      "metadata": {
        "id": "eADWVKnugHQ_"
      },
      "source": [
        "#dropping irrelevant columns\n",
        "\n",
        "records_df = records_df.drop(columns=['Unnamed: 0', 'situszip','ain',\n",
        "       'taxratearea', 'usetype', 'usecode','usecodedescchar3', 'usecodedescchar4',\n",
        "       'totbuildingdatalines', 'yearbuilt', 'effectiveyearbuilt', 'sqftmain',\n",
        "       'bedrooms', 'bathrooms', 'units', 'recordingdate', 'roll_landvalue',\n",
        "       'roll_landbaseyear', 'roll_impvalue', 'roll_impbaseyear',\n",
        "       'roll_totlandimp', 'roll_homeownersexemp', 'roll_realestateexemp',\n",
        "       'roll_fixturevalue', 'roll_fixtureexemp', 'roll_perspropvalue',\n",
        "       'roll_perspropexemp', 'istaxableparcel', 'roll_totalvalue',\n",
        "       'roll_totalexemption',\n",
        "       'adminregion', 'cluster', 'parcelboundarydescription', 'situshouseno',\n",
        "       'situsfraction', 'situsdirection', 'situsstreet', 'situsunit',\n",
        "       'situscity', 'rowid', 'center_lat', 'center_lon', 'location_1','propertylocation', \"parcelclassification\"])\n"
      ],
      "execution_count": 9,
      "outputs": []
    },
    {
      "cell_type": "code",
      "metadata": {
        "colab": {
          "base_uri": "https://localhost:8080/",
          "height": 204
        },
        "id": "eO3Qf49aiSfa",
        "outputId": "45ece5e9-c6e1-44f8-d718-8f011432f028"
      },
      "source": [
        "records_df.head()"
      ],
      "execution_count": 10,
      "outputs": [
        {
          "output_type": "execute_result",
          "data": {
            "text/html": [
              "<div>\n",
              "<style scoped>\n",
              "    .dataframe tbody tr th:only-of-type {\n",
              "        vertical-align: middle;\n",
              "    }\n",
              "\n",
              "    .dataframe tbody tr th {\n",
              "        vertical-align: top;\n",
              "    }\n",
              "\n",
              "    .dataframe thead th {\n",
              "        text-align: right;\n",
              "    }\n",
              "</style>\n",
              "<table border=\"1\" class=\"dataframe\">\n",
              "  <thead>\n",
              "    <tr style=\"text-align: right;\">\n",
              "      <th></th>\n",
              "      <th>taxratearea_city</th>\n",
              "      <th>rollyear</th>\n",
              "      <th>assessorid</th>\n",
              "      <th>usecodedescchar1</th>\n",
              "      <th>usecodedescchar2</th>\n",
              "      <th>nettaxablevalue</th>\n",
              "      <th>situszip5</th>\n",
              "    </tr>\n",
              "  </thead>\n",
              "  <tbody>\n",
              "    <tr>\n",
              "      <th>0</th>\n",
              "      <td>LOS ANGELES</td>\n",
              "      <td>2014</td>\n",
              "      <td>2136-015-905</td>\n",
              "      <td>Miscellaneous</td>\n",
              "      <td>Government Owned Property</td>\n",
              "      <td>0</td>\n",
              "      <td>NaN</td>\n",
              "    </tr>\n",
              "    <tr>\n",
              "      <th>1</th>\n",
              "      <td>LOS ANGELES</td>\n",
              "      <td>2014</td>\n",
              "      <td>2137-011-901</td>\n",
              "      <td>Miscellaneous</td>\n",
              "      <td>Government Owned Property</td>\n",
              "      <td>0</td>\n",
              "      <td>NaN</td>\n",
              "    </tr>\n",
              "    <tr>\n",
              "      <th>2</th>\n",
              "      <td>LOS ANGELES</td>\n",
              "      <td>2014</td>\n",
              "      <td>2137-015-902</td>\n",
              "      <td>Miscellaneous</td>\n",
              "      <td>Government Owned Property</td>\n",
              "      <td>0</td>\n",
              "      <td>NaN</td>\n",
              "    </tr>\n",
              "    <tr>\n",
              "      <th>3</th>\n",
              "      <td>LOS ANGELES</td>\n",
              "      <td>2014</td>\n",
              "      <td>2146-016-020</td>\n",
              "      <td>Residential</td>\n",
              "      <td>Single Family Residence</td>\n",
              "      <td>26873</td>\n",
              "      <td>NaN</td>\n",
              "    </tr>\n",
              "    <tr>\n",
              "      <th>4</th>\n",
              "      <td>LOS ANGELES</td>\n",
              "      <td>2014</td>\n",
              "      <td>2149-019-020</td>\n",
              "      <td>Commercial</td>\n",
              "      <td>Parking Lot (Commercial Use Property)</td>\n",
              "      <td>30359376</td>\n",
              "      <td>NaN</td>\n",
              "    </tr>\n",
              "  </tbody>\n",
              "</table>\n",
              "</div>"
            ],
            "text/plain": [
              "  taxratearea_city  rollyear  ... nettaxablevalue situszip5\n",
              "0      LOS ANGELES      2014  ...               0       NaN\n",
              "1      LOS ANGELES      2014  ...               0       NaN\n",
              "2      LOS ANGELES      2014  ...               0       NaN\n",
              "3      LOS ANGELES      2014  ...           26873       NaN\n",
              "4      LOS ANGELES      2014  ...        30359376       NaN\n",
              "\n",
              "[5 rows x 7 columns]"
            ]
          },
          "metadata": {
            "tags": []
          },
          "execution_count": 10
        }
      ]
    },
    {
      "cell_type": "code",
      "metadata": {
        "id": "dTZFuqdtjZhG"
      },
      "source": [
        "#renaming columns to more recongizable names\n",
        "records_df.columns=[\"city\", \"year\", \"assessor_id\",\"general_use\", \"specific_use\",\"net_value\", \"zip_code\"]"
      ],
      "execution_count": 11,
      "outputs": []
    },
    {
      "cell_type": "markdown",
      "metadata": {
        "id": "7CDOlnKKy3QF"
      },
      "source": [
        "###Handling Missing Values in [\"assessor_id\"] (none!)"
      ]
    },
    {
      "cell_type": "code",
      "metadata": {
        "colab": {
          "base_uri": "https://localhost:8080/"
        },
        "id": "hd6pxjgay4UW",
        "outputId": "5237e3f6-2d45-468d-d66b-da2fcef96f1b"
      },
      "source": [
        "len(records_df['assessor_id'].unique())"
      ],
      "execution_count": 12,
      "outputs": [
        {
          "output_type": "execute_result",
          "data": {
            "text/plain": [
              "794829"
            ]
          },
          "metadata": {
            "tags": []
          },
          "execution_count": 12
        }
      ]
    },
    {
      "cell_type": "code",
      "metadata": {
        "colab": {
          "base_uri": "https://localhost:8080/"
        },
        "id": "y7h03GazzKd_",
        "outputId": "42361592-2d3c-4a52-98b2-732b3bbb0c15"
      },
      "source": [
        "records_df['assessor_id'].isnull().sum()"
      ],
      "execution_count": 13,
      "outputs": [
        {
          "output_type": "execute_result",
          "data": {
            "text/plain": [
              "0"
            ]
          },
          "metadata": {
            "tags": []
          },
          "execution_count": 13
        }
      ]
    },
    {
      "cell_type": "code",
      "metadata": {
        "id": "2cFxx0KyzW7m"
      },
      "source": [
        "#this series is good to go"
      ],
      "execution_count": null,
      "outputs": []
    },
    {
      "cell_type": "markdown",
      "metadata": {
        "id": "ReWrRY0oporI"
      },
      "source": [
        "### Handling Missing Values in [\"general_use\"]"
      ]
    },
    {
      "cell_type": "code",
      "metadata": {
        "colab": {
          "base_uri": "https://localhost:8080/"
        },
        "id": "l4e1TOk4jt9R",
        "outputId": "63e4ed01-069d-4e00-ae52-2f0424bbcdb7"
      },
      "source": [
        "#we have entries w/ nan and (unavailable) string\n",
        "records_df[\"general_use\"].unique()"
      ],
      "execution_count": 14,
      "outputs": [
        {
          "output_type": "execute_result",
          "data": {
            "text/plain": [
              "array(['Miscellaneous', 'Residential', 'Commercial', 'Industrial',\n",
              "       'Institutional', 'Dry Farm', 'Recreational', '(unavailable)', nan,\n",
              "       'Irrigated Farm'], dtype=object)"
            ]
          },
          "metadata": {
            "tags": []
          },
          "execution_count": 14
        }
      ]
    },
    {
      "cell_type": "code",
      "metadata": {
        "colab": {
          "base_uri": "https://localhost:8080/"
        },
        "id": "WDSETMuEmk0f",
        "outputId": "0ea290ce-c81d-4140-e45e-dd4cd1f46d38"
      },
      "source": [
        "#checking how many nans in general_use\n",
        "records_df['general_use'].isnull().sum()"
      ],
      "execution_count": 15,
      "outputs": [
        {
          "output_type": "execute_result",
          "data": {
            "text/plain": [
              "15"
            ]
          },
          "metadata": {
            "tags": []
          },
          "execution_count": 15
        }
      ]
    },
    {
      "cell_type": "code",
      "metadata": {
        "colab": {
          "base_uri": "https://localhost:8080/"
        },
        "id": "piYOjeBwnJDo",
        "outputId": "0c389ebd-bfe0-41b4-b4b8-84446e8e94a6"
      },
      "source": [
        "#replacing nan with (unavailable)\n",
        "records_df[\"general_use\"] = records_df[\"general_use\"].fillna('(unavailable)')\n",
        "records_df[\"general_use\"].unique()"
      ],
      "execution_count": 16,
      "outputs": [
        {
          "output_type": "execute_result",
          "data": {
            "text/plain": [
              "array(['Miscellaneous', 'Residential', 'Commercial', 'Industrial',\n",
              "       'Institutional', 'Dry Farm', 'Recreational', '(unavailable)',\n",
              "       'Irrigated Farm'], dtype=object)"
            ]
          },
          "metadata": {
            "tags": []
          },
          "execution_count": 16
        }
      ]
    },
    {
      "cell_type": "markdown",
      "metadata": {
        "id": "0GufVSxFqCKE"
      },
      "source": [
        "###Handling Missing Values in [\"specific_use\"]"
      ]
    },
    {
      "cell_type": "code",
      "metadata": {
        "colab": {
          "base_uri": "https://localhost:8080/"
        },
        "id": "HAHuT5nbluSs",
        "outputId": "f54d561e-855d-481e-d9e3-c5227fc64f70"
      },
      "source": [
        "#there is an empty string in this column that we should replace with nan or Not Available \n",
        "records_df[\"specific_use\"].unique()"
      ],
      "execution_count": 17,
      "outputs": [
        {
          "output_type": "execute_result",
          "data": {
            "text/plain": [
              "array(['Government Owned Property', 'Single Family Residence',\n",
              "       'Parking Lot (Commercial Use Property)', 'Industrial',\n",
              "       'Heavy Manufacturing', 'Store', 'Office Building',\n",
              "       'Auto, Recreation Equipment, Construction Equipment Sales and Service',\n",
              "       'Utility', 'Double, Duplex, or Two Units', 'Commercial',\n",
              "       'Five or More Units or Apartments (Any Combination)', 'Church',\n",
              "       'Light Manufacturing', 'Waste', 'Shopping Center (Regional)',\n",
              "       'Shopping Center (Neighborhood, Community)', 'School (Private)',\n",
              "       'Cemetery, Mausoleum, Mortuary', 'Rights of Way',\n",
              "       'Three Units (Any Combination)',\n",
              "       'Parking Lot (Industrial Use Property)', 'Pasture', 'Supermarket',\n",
              "       'Hotel and Motel', 'Golf Course', 'Service Station', ' ',\n",
              "       'Four Units  (Any Combination)', '(unavailable)',\n",
              "       'Rooming/Boarding House', nan,\n",
              "       'Warehousing, Distribution, Storage', \"Children's Day Care Center\",\n",
              "       'Restaurant, Cocktail Lounge', 'Bowling Alley',\n",
              "       'Professional Building',\n",
              "       'Club, Lodge Hall, Fraternal Organization', 'Store Combination',\n",
              "       'Hospital', 'Manufactured Home',\n",
              "       'Non-Auto Service and Repair Shop, Paint Shop, or Laundry',\n",
              "       'Animal Kennel', 'Bank, Savings and Loan', 'Department Store',\n",
              "       'Athletic and Amusement Facility', 'College, University (Private)',\n",
              "       'Homes for Aged and Others', 'Nursery or Greenhouse',\n",
              "       'Motion Picture, Radio and Television Industry', 'Skating Rink',\n",
              "       'Privately Owned', 'Manufactured Home Park', 'Open Storage',\n",
              "       'Theater', 'Lumber Yard', 'Food Processing Plant',\n",
              "       'Mineral Processing', 'Wholesale and Manufacturing Outlet',\n",
              "       'Dump Site', 'Poultry, etc.', 'Rivers and Lakes', 'Desert',\n",
              "       'Dairy', 'Race Track', 'Senior Day Care Center', 'Pipeline, Canal',\n",
              "       'Camp', 'Fruits and Nuts', 'Water Recreation', 'Petroleum and Gas',\n",
              "       'Field Crops'], dtype=object)"
            ]
          },
          "metadata": {
            "tags": []
          },
          "execution_count": 17
        }
      ]
    },
    {
      "cell_type": "code",
      "metadata": {
        "id": "jq8kMCG_rEXt"
      },
      "source": [
        "records_df[\"specific_use\"]= records_df[\"specific_use\"].fillna('(unavailable)')"
      ],
      "execution_count": 18,
      "outputs": []
    },
    {
      "cell_type": "code",
      "metadata": {
        "colab": {
          "base_uri": "https://localhost:8080/"
        },
        "id": "uh9gY_ejrrnt",
        "outputId": "38575876-be7c-41e6-e247-73bc7220e24e"
      },
      "source": [
        "records_df[\"specific_use\"].unique()"
      ],
      "execution_count": 19,
      "outputs": [
        {
          "output_type": "execute_result",
          "data": {
            "text/plain": [
              "array(['Government Owned Property', 'Single Family Residence',\n",
              "       'Parking Lot (Commercial Use Property)', 'Industrial',\n",
              "       'Heavy Manufacturing', 'Store', 'Office Building',\n",
              "       'Auto, Recreation Equipment, Construction Equipment Sales and Service',\n",
              "       'Utility', 'Double, Duplex, or Two Units', 'Commercial',\n",
              "       'Five or More Units or Apartments (Any Combination)', 'Church',\n",
              "       'Light Manufacturing', 'Waste', 'Shopping Center (Regional)',\n",
              "       'Shopping Center (Neighborhood, Community)', 'School (Private)',\n",
              "       'Cemetery, Mausoleum, Mortuary', 'Rights of Way',\n",
              "       'Three Units (Any Combination)',\n",
              "       'Parking Lot (Industrial Use Property)', 'Pasture', 'Supermarket',\n",
              "       'Hotel and Motel', 'Golf Course', 'Service Station', ' ',\n",
              "       'Four Units  (Any Combination)', '(unavailable)',\n",
              "       'Rooming/Boarding House', 'Warehousing, Distribution, Storage',\n",
              "       \"Children's Day Care Center\", 'Restaurant, Cocktail Lounge',\n",
              "       'Bowling Alley', 'Professional Building',\n",
              "       'Club, Lodge Hall, Fraternal Organization', 'Store Combination',\n",
              "       'Hospital', 'Manufactured Home',\n",
              "       'Non-Auto Service and Repair Shop, Paint Shop, or Laundry',\n",
              "       'Animal Kennel', 'Bank, Savings and Loan', 'Department Store',\n",
              "       'Athletic and Amusement Facility', 'College, University (Private)',\n",
              "       'Homes for Aged and Others', 'Nursery or Greenhouse',\n",
              "       'Motion Picture, Radio and Television Industry', 'Skating Rink',\n",
              "       'Privately Owned', 'Manufactured Home Park', 'Open Storage',\n",
              "       'Theater', 'Lumber Yard', 'Food Processing Plant',\n",
              "       'Mineral Processing', 'Wholesale and Manufacturing Outlet',\n",
              "       'Dump Site', 'Poultry, etc.', 'Rivers and Lakes', 'Desert',\n",
              "       'Dairy', 'Race Track', 'Senior Day Care Center', 'Pipeline, Canal',\n",
              "       'Camp', 'Fruits and Nuts', 'Water Recreation', 'Petroleum and Gas',\n",
              "       'Field Crops'], dtype=object)"
            ]
          },
          "metadata": {
            "tags": []
          },
          "execution_count": 19
        }
      ]
    },
    {
      "cell_type": "markdown",
      "metadata": {
        "id": "Z7qACCGMsjCh"
      },
      "source": [
        "###Handling Missing Values in [\"net_value\"]"
      ]
    },
    {
      "cell_type": "code",
      "metadata": {
        "colab": {
          "base_uri": "https://localhost:8080/"
        },
        "id": "HrviLMgEsqx0",
        "outputId": "d70939a8-040d-49f6-c3f5-5e90a9049208"
      },
      "source": [
        "#this is good to go\n",
        "records_df['net_value'].isnull().sum()"
      ],
      "execution_count": 20,
      "outputs": [
        {
          "output_type": "execute_result",
          "data": {
            "text/plain": [
              "0"
            ]
          },
          "metadata": {
            "tags": []
          },
          "execution_count": 20
        }
      ]
    },
    {
      "cell_type": "markdown",
      "metadata": {
        "id": "-e6SP1P5tWl2"
      },
      "source": [
        "###Handling Missing Values in [\"zip_code\"]"
      ]
    },
    {
      "cell_type": "code",
      "metadata": {
        "colab": {
          "base_uri": "https://localhost:8080/"
        },
        "id": "c25sl2oHtsKp",
        "outputId": "31340211-a64a-462a-868d-5cf34a72eef9"
      },
      "source": [
        "#good to go\n",
        "records_df['zip_code'].unique()"
      ],
      "execution_count": 21,
      "outputs": [
        {
          "output_type": "execute_result",
          "data": {
            "text/plain": [
              "array([   nan, 91356., 91316., 91604., 91342., 90043., 90039., 90036.,\n",
              "       90069., 90003., 91307., 91335., 91306., 91367., 91303., 91364.,\n",
              "       91402., 91411., 91325., 91406., 91405., 91343., 90045., 91423.,\n",
              "       91401., 90230., 91403., 91436., 91346., 90210., 91607., 91243.,\n",
              "       90077., 90049., 91605., 91352., 91331., 90001., 91606., 90066.,\n",
              "       91066., 99606., 91006., 91601., 90068., 91602., 91499., 91064.,\n",
              "       91340., 90046., 91040., 91311., 91042., 91024., 91214., 91344.,\n",
              "       91345., 91353., 91504., 91505., 93510., 91612., 90601., 91608.,\n",
              "       90064., 91387., 91324., 91329., 91326., 91362., 93063., 91330.,\n",
              "       91304., 91301., 90056., 90302., 90047., 90293., 90291., 90040.,\n",
              "       90009., 90245., 90016., 90232., 90034., 90025., 90094., 90292.,\n",
              "       90041., 90015., 90057., 90011., 90063., 90005., 92008., 90037.,\n",
              "       90031., 90006., 90023., 90012., 90019., 90065., 90013., 90014.,\n",
              "       95648., 90017., 90405., 90026., 90007., 90402., 90403., 90297.,\n",
              "       90290., 90035., 90067., 90024., 90212., 90048., 90211., 90062.,\n",
              "       94513., 90095., 90027., 90631., 90022., 90272., 90020., 94707.,\n",
              "       90270., 90053., 90265., 90044., 90042., 90058., 90018., 90008.,\n",
              "       90089., 90028., 90021., 90029., 90010., 90038., 90004., 90079.,\n",
              "       90071., 90033., 92806., 92801., 90032., 91204., 91205., 91030.,\n",
              "       91201., 91206., 91105., 91101., 90209., 90052., 90002., 90059.,\n",
              "       90061., 90051., 90248., 90501., 90247., 90744., 90813., 90745.,\n",
              "       90810., 90746., 90502., 90717., 90710., 90712., 90732., 90731.,\n",
              "       90734., 90815., 92805., 90748., 90733., 90822., 90275., 92802.,\n",
              "       91302.])"
            ]
          },
          "metadata": {
            "tags": []
          },
          "execution_count": 21
        }
      ]
    },
    {
      "cell_type": "markdown",
      "metadata": {
        "id": "ts4jqOcDvaDz"
      },
      "source": [
        ""
      ]
    },
    {
      "cell_type": "markdown",
      "metadata": {
        "id": "lY2D0rTM1LBf"
      },
      "source": [
        "###Dropping Data w/o Zip Codes"
      ]
    },
    {
      "cell_type": "code",
      "metadata": {
        "id": "iGDU6SRZ1V2_"
      },
      "source": [
        "records_df = records_df[records_df['zip_code'].notna()]"
      ],
      "execution_count": 22,
      "outputs": []
    },
    {
      "cell_type": "code",
      "metadata": {
        "id": "txKUvLdi38Lc"
      },
      "source": [
        "records_df = records_df.reset_index()\n",
        "records_df = records_df.drop(columns=['index'])"
      ],
      "execution_count": 23,
      "outputs": []
    },
    {
      "cell_type": "markdown",
      "metadata": {
        "id": "6JgE_Lf0vcMY"
      },
      "source": [
        "##Consistency\n",
        "Now that I've handles missing values, I will check consistency over: \n",
        "\n",
        "\n",
        "1.   Data type\n",
        "2.   Categorical \n",
        "2.  Referential integrity\n",
        "\n",
        "\n"
      ]
    },
    {
      "cell_type": "markdown",
      "metadata": {
        "id": "QXWw3cnZzgKu"
      },
      "source": [
        "###Data type"
      ]
    },
    {
      "cell_type": "code",
      "metadata": {
        "colab": {
          "base_uri": "https://localhost:8080/"
        },
        "id": "c1uhByKgzy8L",
        "outputId": "ef6694d2-91fd-4b84-9424-fd1c5e11da1f"
      },
      "source": [
        "records_df.info()"
      ],
      "execution_count": 24,
      "outputs": [
        {
          "output_type": "stream",
          "text": [
            "<class 'pandas.core.frame.DataFrame'>\n",
            "RangeIndex: 754246 entries, 0 to 754245\n",
            "Data columns (total 7 columns):\n",
            " #   Column        Non-Null Count   Dtype  \n",
            "---  ------        --------------   -----  \n",
            " 0   city          754246 non-null  object \n",
            " 1   year          754246 non-null  int64  \n",
            " 2   assessor_id   754246 non-null  object \n",
            " 3   general_use   754246 non-null  object \n",
            " 4   specific_use  754246 non-null  object \n",
            " 5   net_value     754246 non-null  int64  \n",
            " 6   zip_code      754246 non-null  float64\n",
            "dtypes: float64(1), int64(2), object(4)\n",
            "memory usage: 40.3+ MB\n"
          ],
          "name": "stdout"
        }
      ]
    },
    {
      "cell_type": "code",
      "metadata": {
        "id": "-2O6lEu0z68z"
      },
      "source": [
        "#changing to category type \n",
        "records_df[\"assessor_id\"] = records_df[\"assessor_id\"].astype(\"category\")\n",
        "records_df[\"general_use\"] = records_df[\"general_use\"].astype(\"category\")\n",
        "records_df[\"specific_use\"] = records_df[\"specific_use\"].astype(\"category\")\n",
        "\n",
        "#since all NaN have been removed, change type of zip code column to int. this may change later\n",
        "records_df[\"zip_code\"] = records_df[\"zip_code\"].astype(\"int\")\n",
        "\n",
        "#change year to datetime format\n",
        "records_df[\"year\"] = pd.to_datetime(records_df['year'], format='%Y')"
      ],
      "execution_count": 25,
      "outputs": []
    },
    {
      "cell_type": "code",
      "metadata": {
        "id": "Lqz_AATz7DwX"
      },
      "source": [
        "records_df[\"year\"] = records_df[\"year\"].dt.year"
      ],
      "execution_count": 26,
      "outputs": []
    },
    {
      "cell_type": "code",
      "metadata": {
        "colab": {
          "base_uri": "https://localhost:8080/",
          "height": 419
        },
        "id": "_xgmtqrP9K7G",
        "outputId": "5c9bd99a-8286-45f6-95cb-0271068551ff"
      },
      "source": [
        "records_df"
      ],
      "execution_count": 27,
      "outputs": [
        {
          "output_type": "execute_result",
          "data": {
            "text/html": [
              "<div>\n",
              "<style scoped>\n",
              "    .dataframe tbody tr th:only-of-type {\n",
              "        vertical-align: middle;\n",
              "    }\n",
              "\n",
              "    .dataframe tbody tr th {\n",
              "        vertical-align: top;\n",
              "    }\n",
              "\n",
              "    .dataframe thead th {\n",
              "        text-align: right;\n",
              "    }\n",
              "</style>\n",
              "<table border=\"1\" class=\"dataframe\">\n",
              "  <thead>\n",
              "    <tr style=\"text-align: right;\">\n",
              "      <th></th>\n",
              "      <th>city</th>\n",
              "      <th>year</th>\n",
              "      <th>assessor_id</th>\n",
              "      <th>general_use</th>\n",
              "      <th>specific_use</th>\n",
              "      <th>net_value</th>\n",
              "      <th>zip_code</th>\n",
              "    </tr>\n",
              "  </thead>\n",
              "  <tbody>\n",
              "    <tr>\n",
              "      <th>0</th>\n",
              "      <td>LOS ANGELES</td>\n",
              "      <td>2014</td>\n",
              "      <td>2163-001-016</td>\n",
              "      <td>Commercial</td>\n",
              "      <td>Store</td>\n",
              "      <td>744787</td>\n",
              "      <td>91356</td>\n",
              "    </tr>\n",
              "    <tr>\n",
              "      <th>1</th>\n",
              "      <td>LOS ANGELES</td>\n",
              "      <td>2014</td>\n",
              "      <td>2162-012-083</td>\n",
              "      <td>Commercial</td>\n",
              "      <td>Office Building</td>\n",
              "      <td>6810000</td>\n",
              "      <td>91316</td>\n",
              "    </tr>\n",
              "    <tr>\n",
              "      <th>2</th>\n",
              "      <td>LOS ANGELES</td>\n",
              "      <td>2014</td>\n",
              "      <td>2362-016-087</td>\n",
              "      <td>Residential</td>\n",
              "      <td>Single Family Residence</td>\n",
              "      <td>2078000</td>\n",
              "      <td>91604</td>\n",
              "    </tr>\n",
              "    <tr>\n",
              "      <th>3</th>\n",
              "      <td>LOS ANGELES</td>\n",
              "      <td>2014</td>\n",
              "      <td>2603-026-008</td>\n",
              "      <td>Residential</td>\n",
              "      <td>Single Family Residence</td>\n",
              "      <td>442000</td>\n",
              "      <td>91342</td>\n",
              "    </tr>\n",
              "    <tr>\n",
              "      <th>4</th>\n",
              "      <td>LOS ANGELES</td>\n",
              "      <td>2014</td>\n",
              "      <td>5013-019-033</td>\n",
              "      <td>Commercial</td>\n",
              "      <td>Commercial</td>\n",
              "      <td>281271</td>\n",
              "      <td>90043</td>\n",
              "    </tr>\n",
              "    <tr>\n",
              "      <th>...</th>\n",
              "      <td>...</td>\n",
              "      <td>...</td>\n",
              "      <td>...</td>\n",
              "      <td>...</td>\n",
              "      <td>...</td>\n",
              "      <td>...</td>\n",
              "      <td>...</td>\n",
              "    </tr>\n",
              "    <tr>\n",
              "      <th>754241</th>\n",
              "      <td>LOS ANGELES</td>\n",
              "      <td>2014</td>\n",
              "      <td>2132-007-011</td>\n",
              "      <td>Residential</td>\n",
              "      <td>Single Family Residence</td>\n",
              "      <td>66151</td>\n",
              "      <td>91335</td>\n",
              "    </tr>\n",
              "    <tr>\n",
              "      <th>754242</th>\n",
              "      <td>LOS ANGELES</td>\n",
              "      <td>2014</td>\n",
              "      <td>2132-007-008</td>\n",
              "      <td>Residential</td>\n",
              "      <td>Single Family Residence</td>\n",
              "      <td>65351</td>\n",
              "      <td>91335</td>\n",
              "    </tr>\n",
              "    <tr>\n",
              "      <th>754243</th>\n",
              "      <td>LOS ANGELES</td>\n",
              "      <td>2014</td>\n",
              "      <td>2132-007-007</td>\n",
              "      <td>Residential</td>\n",
              "      <td>Single Family Residence</td>\n",
              "      <td>434000</td>\n",
              "      <td>91335</td>\n",
              "    </tr>\n",
              "    <tr>\n",
              "      <th>754244</th>\n",
              "      <td>LOS ANGELES</td>\n",
              "      <td>2014</td>\n",
              "      <td>2132-007-012</td>\n",
              "      <td>Residential</td>\n",
              "      <td>Single Family Residence</td>\n",
              "      <td>358000</td>\n",
              "      <td>91335</td>\n",
              "    </tr>\n",
              "    <tr>\n",
              "      <th>754245</th>\n",
              "      <td>LOS ANGELES</td>\n",
              "      <td>2014</td>\n",
              "      <td>2132-007-013</td>\n",
              "      <td>Residential</td>\n",
              "      <td>Single Family Residence</td>\n",
              "      <td>341543</td>\n",
              "      <td>91335</td>\n",
              "    </tr>\n",
              "  </tbody>\n",
              "</table>\n",
              "<p>754246 rows × 7 columns</p>\n",
              "</div>"
            ],
            "text/plain": [
              "               city  year  ... net_value zip_code\n",
              "0       LOS ANGELES  2014  ...    744787    91356\n",
              "1       LOS ANGELES  2014  ...   6810000    91316\n",
              "2       LOS ANGELES  2014  ...   2078000    91604\n",
              "3       LOS ANGELES  2014  ...    442000    91342\n",
              "4       LOS ANGELES  2014  ...    281271    90043\n",
              "...             ...   ...  ...       ...      ...\n",
              "754241  LOS ANGELES  2014  ...     66151    91335\n",
              "754242  LOS ANGELES  2014  ...     65351    91335\n",
              "754243  LOS ANGELES  2014  ...    434000    91335\n",
              "754244  LOS ANGELES  2014  ...    358000    91335\n",
              "754245  LOS ANGELES  2014  ...    341543    91335\n",
              "\n",
              "[754246 rows x 7 columns]"
            ]
          },
          "metadata": {
            "tags": []
          },
          "execution_count": 27
        }
      ]
    },
    {
      "cell_type": "code",
      "metadata": {
        "colab": {
          "base_uri": "https://localhost:8080/"
        },
        "id": "Utix0Z9B81v6",
        "outputId": "e48071d7-cf26-4f36-df41-e0846a2312e0"
      },
      "source": [
        "records_df.info()"
      ],
      "execution_count": 28,
      "outputs": [
        {
          "output_type": "stream",
          "text": [
            "<class 'pandas.core.frame.DataFrame'>\n",
            "RangeIndex: 754246 entries, 0 to 754245\n",
            "Data columns (total 7 columns):\n",
            " #   Column        Non-Null Count   Dtype   \n",
            "---  ------        --------------   -----   \n",
            " 0   city          754246 non-null  object  \n",
            " 1   year          754246 non-null  int64   \n",
            " 2   assessor_id   754246 non-null  category\n",
            " 3   general_use   754246 non-null  category\n",
            " 4   specific_use  754246 non-null  category\n",
            " 5   net_value     754246 non-null  int64   \n",
            " 6   zip_code      754246 non-null  int64   \n",
            "dtypes: category(3), int64(3), object(1)\n",
            "memory usage: 53.1+ MB\n"
          ],
          "name": "stdout"
        }
      ]
    },
    {
      "cell_type": "markdown",
      "metadata": {
        "id": "bzxGEx1u9j9Q"
      },
      "source": [
        "###Categorical Consistency "
      ]
    },
    {
      "cell_type": "code",
      "metadata": {
        "colab": {
          "base_uri": "https://localhost:8080/"
        },
        "id": "x7CqQViw9m2f",
        "outputId": "9f8fe9a9-08e0-4c6d-dcfb-8162842731d6"
      },
      "source": [
        "#consistent \n",
        "records_df[\"general_use\"].unique()"
      ],
      "execution_count": 29,
      "outputs": [
        {
          "output_type": "execute_result",
          "data": {
            "text/plain": [
              "['Commercial', 'Residential', 'Industrial', 'Institutional', 'Recreational', 'Miscellaneous', '(unavailable)', 'Irrigated Farm', 'Dry Farm']\n",
              "Categories (9, object): ['Commercial', 'Residential', 'Industrial', 'Institutional', ...,\n",
              "                         'Miscellaneous', '(unavailable)', 'Irrigated Farm', 'Dry Farm']"
            ]
          },
          "metadata": {
            "tags": []
          },
          "execution_count": 29
        }
      ]
    },
    {
      "cell_type": "code",
      "metadata": {
        "colab": {
          "base_uri": "https://localhost:8080/"
        },
        "id": "bMibny9_9_5R",
        "outputId": "a40caca1-0c4f-46c1-f6bc-b2844707b36e"
      },
      "source": [
        "#consistent \n",
        "records_df[\"specific_use\"]"
      ],
      "execution_count": 30,
      "outputs": [
        {
          "output_type": "execute_result",
          "data": {
            "text/plain": [
              "0                           Store\n",
              "1                 Office Building\n",
              "2         Single Family Residence\n",
              "3         Single Family Residence\n",
              "4                      Commercial\n",
              "                   ...           \n",
              "754241    Single Family Residence\n",
              "754242    Single Family Residence\n",
              "754243    Single Family Residence\n",
              "754244    Single Family Residence\n",
              "754245    Single Family Residence\n",
              "Name: specific_use, Length: 754246, dtype: category\n",
              "Categories (69, object): [' ', '(unavailable)', 'Animal Kennel',\n",
              "                          'Athletic and Amusement Facility', ..., 'Warehousing, Distribution, Storage', 'Waste',\n",
              "                          'Water Recreation', 'Wholesale and Manufacturing Outlet']"
            ]
          },
          "metadata": {
            "tags": []
          },
          "execution_count": 30
        }
      ]
    },
    {
      "cell_type": "markdown",
      "metadata": {
        "id": "zXeLAAXO-jbL"
      },
      "source": [
        "###  Referential integrity"
      ]
    },
    {
      "cell_type": "code",
      "metadata": {
        "id": "9lA8x_6G-qgS"
      },
      "source": [
        "#making the assessor_id a unique ID per parcel per year\n",
        "records_df['assessor_id'] = records_df[\"assessor_id\"].apply(lambda x: x +\"-2014\")"
      ],
      "execution_count": 31,
      "outputs": []
    },
    {
      "cell_type": "code",
      "metadata": {
        "colab": {
          "base_uri": "https://localhost:8080/",
          "height": 419
        },
        "id": "n_OkPZtP-xy-",
        "outputId": "c852fea1-7daa-4efd-c696-860abb625790"
      },
      "source": [
        "records_df"
      ],
      "execution_count": 32,
      "outputs": [
        {
          "output_type": "execute_result",
          "data": {
            "text/html": [
              "<div>\n",
              "<style scoped>\n",
              "    .dataframe tbody tr th:only-of-type {\n",
              "        vertical-align: middle;\n",
              "    }\n",
              "\n",
              "    .dataframe tbody tr th {\n",
              "        vertical-align: top;\n",
              "    }\n",
              "\n",
              "    .dataframe thead th {\n",
              "        text-align: right;\n",
              "    }\n",
              "</style>\n",
              "<table border=\"1\" class=\"dataframe\">\n",
              "  <thead>\n",
              "    <tr style=\"text-align: right;\">\n",
              "      <th></th>\n",
              "      <th>city</th>\n",
              "      <th>year</th>\n",
              "      <th>assessor_id</th>\n",
              "      <th>general_use</th>\n",
              "      <th>specific_use</th>\n",
              "      <th>net_value</th>\n",
              "      <th>zip_code</th>\n",
              "    </tr>\n",
              "  </thead>\n",
              "  <tbody>\n",
              "    <tr>\n",
              "      <th>0</th>\n",
              "      <td>LOS ANGELES</td>\n",
              "      <td>2014</td>\n",
              "      <td>2163-001-016-2014</td>\n",
              "      <td>Commercial</td>\n",
              "      <td>Store</td>\n",
              "      <td>744787</td>\n",
              "      <td>91356</td>\n",
              "    </tr>\n",
              "    <tr>\n",
              "      <th>1</th>\n",
              "      <td>LOS ANGELES</td>\n",
              "      <td>2014</td>\n",
              "      <td>2162-012-083-2014</td>\n",
              "      <td>Commercial</td>\n",
              "      <td>Office Building</td>\n",
              "      <td>6810000</td>\n",
              "      <td>91316</td>\n",
              "    </tr>\n",
              "    <tr>\n",
              "      <th>2</th>\n",
              "      <td>LOS ANGELES</td>\n",
              "      <td>2014</td>\n",
              "      <td>2362-016-087-2014</td>\n",
              "      <td>Residential</td>\n",
              "      <td>Single Family Residence</td>\n",
              "      <td>2078000</td>\n",
              "      <td>91604</td>\n",
              "    </tr>\n",
              "    <tr>\n",
              "      <th>3</th>\n",
              "      <td>LOS ANGELES</td>\n",
              "      <td>2014</td>\n",
              "      <td>2603-026-008-2014</td>\n",
              "      <td>Residential</td>\n",
              "      <td>Single Family Residence</td>\n",
              "      <td>442000</td>\n",
              "      <td>91342</td>\n",
              "    </tr>\n",
              "    <tr>\n",
              "      <th>4</th>\n",
              "      <td>LOS ANGELES</td>\n",
              "      <td>2014</td>\n",
              "      <td>5013-019-033-2014</td>\n",
              "      <td>Commercial</td>\n",
              "      <td>Commercial</td>\n",
              "      <td>281271</td>\n",
              "      <td>90043</td>\n",
              "    </tr>\n",
              "    <tr>\n",
              "      <th>...</th>\n",
              "      <td>...</td>\n",
              "      <td>...</td>\n",
              "      <td>...</td>\n",
              "      <td>...</td>\n",
              "      <td>...</td>\n",
              "      <td>...</td>\n",
              "      <td>...</td>\n",
              "    </tr>\n",
              "    <tr>\n",
              "      <th>754241</th>\n",
              "      <td>LOS ANGELES</td>\n",
              "      <td>2014</td>\n",
              "      <td>2132-007-011-2014</td>\n",
              "      <td>Residential</td>\n",
              "      <td>Single Family Residence</td>\n",
              "      <td>66151</td>\n",
              "      <td>91335</td>\n",
              "    </tr>\n",
              "    <tr>\n",
              "      <th>754242</th>\n",
              "      <td>LOS ANGELES</td>\n",
              "      <td>2014</td>\n",
              "      <td>2132-007-008-2014</td>\n",
              "      <td>Residential</td>\n",
              "      <td>Single Family Residence</td>\n",
              "      <td>65351</td>\n",
              "      <td>91335</td>\n",
              "    </tr>\n",
              "    <tr>\n",
              "      <th>754243</th>\n",
              "      <td>LOS ANGELES</td>\n",
              "      <td>2014</td>\n",
              "      <td>2132-007-007-2014</td>\n",
              "      <td>Residential</td>\n",
              "      <td>Single Family Residence</td>\n",
              "      <td>434000</td>\n",
              "      <td>91335</td>\n",
              "    </tr>\n",
              "    <tr>\n",
              "      <th>754244</th>\n",
              "      <td>LOS ANGELES</td>\n",
              "      <td>2014</td>\n",
              "      <td>2132-007-012-2014</td>\n",
              "      <td>Residential</td>\n",
              "      <td>Single Family Residence</td>\n",
              "      <td>358000</td>\n",
              "      <td>91335</td>\n",
              "    </tr>\n",
              "    <tr>\n",
              "      <th>754245</th>\n",
              "      <td>LOS ANGELES</td>\n",
              "      <td>2014</td>\n",
              "      <td>2132-007-013-2014</td>\n",
              "      <td>Residential</td>\n",
              "      <td>Single Family Residence</td>\n",
              "      <td>341543</td>\n",
              "      <td>91335</td>\n",
              "    </tr>\n",
              "  </tbody>\n",
              "</table>\n",
              "<p>754246 rows × 7 columns</p>\n",
              "</div>"
            ],
            "text/plain": [
              "               city  year  ... net_value zip_code\n",
              "0       LOS ANGELES  2014  ...    744787    91356\n",
              "1       LOS ANGELES  2014  ...   6810000    91316\n",
              "2       LOS ANGELES  2014  ...   2078000    91604\n",
              "3       LOS ANGELES  2014  ...    442000    91342\n",
              "4       LOS ANGELES  2014  ...    281271    90043\n",
              "...             ...   ...  ...       ...      ...\n",
              "754241  LOS ANGELES  2014  ...     66151    91335\n",
              "754242  LOS ANGELES  2014  ...     65351    91335\n",
              "754243  LOS ANGELES  2014  ...    434000    91335\n",
              "754244  LOS ANGELES  2014  ...    358000    91335\n",
              "754245  LOS ANGELES  2014  ...    341543    91335\n",
              "\n",
              "[754246 rows x 7 columns]"
            ]
          },
          "metadata": {
            "tags": []
          },
          "execution_count": 32
        }
      ]
    },
    {
      "cell_type": "markdown",
      "metadata": {
        "id": "aYDRoKMS_nb5"
      },
      "source": [
        "##Exporting Data"
      ]
    },
    {
      "cell_type": "code",
      "metadata": {
        "id": "Wc8-dw69_qmW"
      },
      "source": [
        "records_df.to_csv(\"gdrive/My Drive/Team 93 Capstone Project/data/Assessor_Parcels_Data_2014_CLEANED.csv\")"
      ],
      "execution_count": 33,
      "outputs": []
    },
    {
      "cell_type": "code",
      "metadata": {
        "id": "zHEo40z8_9R0"
      },
      "source": [
        ""
      ],
      "execution_count": null,
      "outputs": []
    }
  ]
}
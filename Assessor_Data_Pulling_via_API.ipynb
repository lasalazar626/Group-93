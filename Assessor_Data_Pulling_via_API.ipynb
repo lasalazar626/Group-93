{
  "nbformat": 4,
  "nbformat_minor": 0,
  "metadata": {
    "colab": {
      "name": "Assessor Data Pulling via API.ipynb",
      "provenance": [],
      "authorship_tag": "ABX9TyOxhSlm6tnVmQgGxHhJ5XXS",
      "include_colab_link": true
    },
    "kernelspec": {
      "display_name": "Python 3",
      "name": "python3"
    },
    "language_info": {
      "name": "python"
    }
  },
  "cells": [
    {
      "cell_type": "markdown",
      "metadata": {
        "id": "view-in-github",
        "colab_type": "text"
      },
      "source": [
        "<a href=\"https://colab.research.google.com/github/sorayabailey23/Group-93/blob/main/Assessor_Data_Pulling_via_API.ipynb\" target=\"_parent\"><img src=\"https://colab.research.google.com/assets/colab-badge.svg\" alt=\"Open In Colab\"/></a>"
      ]
    },
    {
      "cell_type": "code",
      "metadata": {
        "colab": {
          "base_uri": "https://localhost:8080/"
        },
        "id": "bvdBC4DGHaaW",
        "outputId": "e110a2a6-27e0-4345-f293-8c99e91415c2"
      },
      "source": [
        "!pip install pandas\n"
      ],
      "execution_count": null,
      "outputs": [
        {
          "output_type": "stream",
          "text": [
            "Requirement already satisfied: pandas in /usr/local/lib/python3.7/dist-packages (1.1.5)\n",
            "Requirement already satisfied: python-dateutil>=2.7.3 in /usr/local/lib/python3.7/dist-packages (from pandas) (2.8.1)\n",
            "Requirement already satisfied: pytz>=2017.2 in /usr/local/lib/python3.7/dist-packages (from pandas) (2018.9)\n",
            "Requirement already satisfied: numpy>=1.15.4 in /usr/local/lib/python3.7/dist-packages (from pandas) (1.19.5)\n",
            "Requirement already satisfied: six>=1.5 in /usr/local/lib/python3.7/dist-packages (from python-dateutil>=2.7.3->pandas) (1.15.0)\n"
          ],
          "name": "stdout"
        }
      ]
    },
    {
      "cell_type": "code",
      "metadata": {
        "colab": {
          "base_uri": "https://localhost:8080/"
        },
        "id": "UJqC9Z_hH91E",
        "outputId": "14c3ddb6-1c65-47e6-d8f8-f88d9abcaaa0"
      },
      "source": [
        "!pip install sodapy"
      ],
      "execution_count": null,
      "outputs": [
        {
          "output_type": "stream",
          "text": [
            "Requirement already satisfied: sodapy in /usr/local/lib/python3.7/dist-packages (2.1.0)\n",
            "Requirement already satisfied: requests>=2.20.0 in /usr/local/lib/python3.7/dist-packages (from sodapy) (2.23.0)\n",
            "Requirement already satisfied: certifi>=2017.4.17 in /usr/local/lib/python3.7/dist-packages (from requests>=2.20.0->sodapy) (2020.12.5)\n",
            "Requirement already satisfied: idna<3,>=2.5 in /usr/local/lib/python3.7/dist-packages (from requests>=2.20.0->sodapy) (2.10)\n",
            "Requirement already satisfied: urllib3!=1.25.0,!=1.25.1,<1.26,>=1.21.1 in /usr/local/lib/python3.7/dist-packages (from requests>=2.20.0->sodapy) (1.24.3)\n",
            "Requirement already satisfied: chardet<4,>=3.0.2 in /usr/local/lib/python3.7/dist-packages (from requests>=2.20.0->sodapy) (3.0.4)\n"
          ],
          "name": "stdout"
        }
      ]
    },
    {
      "cell_type": "code",
      "metadata": {
        "colab": {
          "background_save": true,
          "base_uri": "https://localhost:8080/"
        },
        "id": "Amfh-cUHvPrl",
        "outputId": "0a5d5aa6-a290-48e2-b8e2-73ae2df2a46a"
      },
      "source": [
        "from google.colab import drive\n",
        "drive.mount('/content/gdrive')"
      ],
      "execution_count": null,
      "outputs": [
        {
          "output_type": "stream",
          "text": [
            "Mounted at /content/gdrive\n"
          ],
          "name": "stdout"
        }
      ]
    },
    {
      "cell_type": "code",
      "metadata": {
        "id": "_TYZPh2_ILJu"
      },
      "source": [
        "import pandas as pd\n",
        "from sodapy import Socrata\n",
        "import numpy as np\n",
        "#import os"
      ],
      "execution_count": null,
      "outputs": []
    },
    {
      "cell_type": "code",
      "metadata": {
        "id": "ZxBnP1VXk5Lx"
      },
      "source": [
        "data_url='data.lacounty.gov'\n",
        "data_set = \"9trm-uz8i\"\n",
        "app_token = \"1PDwdmUtrKeg3HhZHcSHO6LB4\"\n",
        "\n",
        "# Create the client to point to the API endpoint\n",
        "client = Socrata(data_url,app_token)      \n",
        "\n",
        "# Set the timeout to 60 seconds    \n",
        "client.timeout = 60\n",
        "\n",
        "# Retrieve the first 2000 results returned as JSON object from the API\n",
        "# The SoDaPy library converts this JSON object to a Python list of dictionaries\n",
        "#results = client.get(data_set, limit=2000)\n",
        "\n",
        "# Convert the list of dictionaries to a Pandas data frame\n",
        "#df = pd.DataFrame.from_records(results)\n"
      ],
      "execution_count": null,
      "outputs": []
    },
    {
      "cell_type": "code",
      "metadata": {
        "id": "xeZSotoYqb8J"
      },
      "source": [
        "#select=\"SpecificUseDetail2, netTaxableValue, ZIPcode5\","
      ],
      "execution_count": null,
      "outputs": []
    },
    {
      "cell_type": "code",
      "metadata": {
        "colab": {
          "base_uri": "https://localhost:8080/"
        },
        "id": "JfrQgA0Wthdh",
        "outputId": "10890ae0-6f8c-4995-969d-bcec853b1b3a"
      },
      "source": [
        "record_count = client.get(data_set,  where=\"TaxRateArea_CITY = 'LOS ANGELES' AND RollYear= 2010\" , select=\"COUNT(*)\")\n",
        "record_count"
      ],
      "execution_count": null,
      "outputs": [
        {
          "output_type": "execute_result",
          "data": {
            "text/plain": [
              "[{'COUNT': '790018'}]"
            ]
          },
          "metadata": {
            "tags": []
          },
          "execution_count": 68
        }
      ]
    },
    {
      "cell_type": "code",
      "metadata": {
        "id": "ol-I8vdOs9sq"
      },
      "source": [
        "start = 0             # Start at 0\n",
        "chunk_size = 10000     # Fetch 10000 rows at a time\n",
        "results_2010_full=[]           # Empty out our result list\n",
        "while True:\n",
        "     # Fetch the set of records starting at 'start'\n",
        "     results_2010_full.extend( client.get(data_set, where=\"TaxRateArea_CITY = 'LOS ANGELES' AND RollYear= 2010\", offset=start, limit=chunk_size))\n",
        "     # Move up the starting record\n",
        "     start = start + chunk_size\n",
        "     # If we have fetched all of the records, bail out\n",
        "     if (start > int(record_count[0]['COUNT']) ):\n",
        "        break\n",
        "# Convert the list into a data frame\n",
        "df = pd.DataFrame.from_records(results_2010_full)"
      ],
      "execution_count": null,
      "outputs": []
    },
    {
      "cell_type": "code",
      "metadata": {
        "id": "9YovO5Pbu7Kx"
      },
      "source": [
        "df.to_csv(\"gdrive/My Drive/Team 93 Capstone Project/data/Assessor_Parcels_Data_2010.csv\")"
      ],
      "execution_count": 73,
      "outputs": []
    },
    {
      "cell_type": "code",
      "metadata": {
        "id": "w-LfxWF3xvhZ"
      },
      "source": [
        "years = [\"2013\", \"2015\", \"2018\", \"2020\"]\n",
        "for year in years:\n",
        "  record_count = client.get(data_set,  where=\"TaxRateArea_CITY = 'LOS ANGELES' AND RollYear=\"+ year , select=\"COUNT(*)\")\n",
        "  start = 0             # Start at 0\n",
        "  chunk_size = 10000     # Fetch 10000 rows at a time\n",
        "  results_full=[]           # Empty out our result list\n",
        "  while True:\n",
        "     # Fetch the set of records starting at 'start'\n",
        "     results_full.extend( client.get(data_set, where=\"TaxRateArea_CITY = 'LOS ANGELES' AND RollYear=\"+ year, offset=start, limit=chunk_size))\n",
        "     # Move up the starting record\n",
        "     start = start + chunk_size\n",
        "     # If we have fetched all of the records, bail out\n",
        "     if (start > int(record_count[0]['COUNT']) ):\n",
        "        break\n",
        "  # Convert the list into a data frame\n",
        "  df = pd.DataFrame.from_records(results_full)\n",
        "  df.to_csv(\"gdrive/My Drive/Team 93 Capstone Project/data/Assessor_Parcels_Data_\"+year+\".csv\")"
      ],
      "execution_count": 76,
      "outputs": []
    },
    {
      "cell_type": "code",
      "metadata": {
        "id": "6Fwt3vXTxk7K"
      },
      "source": [
        "start = 0             # Start at 0\n",
        "chunk_size = 10000     # Fetch 10000 rows at a time\n",
        "results_2010_full=[]           # Empty out our result list\n",
        "while True:\n",
        "     # Fetch the set of records starting at 'start'\n",
        "     results_2010_full.extend( client.get(data_set, where=\"TaxRateArea_CITY = 'LOS ANGELES' AND RollYear= 2010\", offset=start, limit=chunk_size))\n",
        "     # Move up the starting record\n",
        "     start = start + chunk_size\n",
        "     # If we have fetched all of the records, bail out\n",
        "     if (start > int(record_count[0]['COUNT']) ):\n",
        "        break\n",
        "# Convert the list into a data frame\n",
        "df = pd.DataFrame.from_records(results_2010_full)"
      ],
      "execution_count": null,
      "outputs": []
    }
  ]
}
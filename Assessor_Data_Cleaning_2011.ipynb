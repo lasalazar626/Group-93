{
  "nbformat": 4,
  "nbformat_minor": 0,
  "metadata": {
    "colab": {
      "name": "Assessor Data Cleaning - 2011.ipynb",
      "provenance": [],
      "collapsed_sections": [],
      "authorship_tag": "ABX9TyOJNiznUzoXC4pgFXLvoCvx",
      "include_colab_link": true
    },
    "kernelspec": {
      "name": "python3",
      "display_name": "Python 3"
    },
    "language_info": {
      "name": "python"
    }
  },
  "cells": [
    {
      "cell_type": "markdown",
      "metadata": {
        "id": "view-in-github",
        "colab_type": "text"
      },
      "source": [
        "<a href=\"https://colab.research.google.com/github/sorayabailey23/Group-93/blob/main/Assessor_Data_Cleaning_2011.ipynb\" target=\"_parent\"><img src=\"https://colab.research.google.com/assets/colab-badge.svg\" alt=\"Open In Colab\"/></a>"
      ]
    },
    {
      "cell_type": "markdown",
      "metadata": {
        "id": "NCkY_HRffOx3"
      },
      "source": [
        "# Assessor Data Cleaning - 2011"
      ]
    },
    {
      "cell_type": "code",
      "metadata": {
        "colab": {
          "base_uri": "https://localhost:8080/"
        },
        "id": "-VAEn9kMc05w",
        "outputId": "42a623e7-f317-4a64-b9b0-ebe3f8b89949"
      },
      "source": [
        "#importing libraries + drive\n",
        "\n",
        "from google.colab import drive\n",
        "drive.mount('/content/gdrive')"
      ],
      "execution_count": null,
      "outputs": [
        {
          "output_type": "stream",
          "text": [
            "Mounted at /content/gdrive\n"
          ],
          "name": "stdout"
        }
      ]
    },
    {
      "cell_type": "code",
      "metadata": {
        "id": "ljH4c6VVc-Yc"
      },
      "source": [
        "import numpy as np\n",
        "import pandas as pd\n",
        "import math"
      ],
      "execution_count": null,
      "outputs": []
    },
    {
      "cell_type": "markdown",
      "metadata": {
        "id": "JuXhCc6DnxXp"
      },
      "source": [
        "##Uploading + Exploring the Data \n",
        "\n",
        "I'll first upload the raw data and see what features it includes.\n"
      ]
    },
    {
      "cell_type": "code",
      "metadata": {
        "colab": {
          "base_uri": "https://localhost:8080/"
        },
        "id": "lxrs7T_IddbX",
        "outputId": "7fea8104-773c-4ceb-ce52-e7eae9042523"
      },
      "source": [
        "#Importing data from 2011 in Los Angeles \n",
        "records_df = pd.read_csv(\"gdrive/My Drive/Team 93 Capstone Project/data/Assessor_Parcels_Data_2011.csv\")"
      ],
      "execution_count": null,
      "outputs": [
        {
          "output_type": "stream",
          "text": [
            "/usr/local/lib/python3.7/dist-packages/IPython/core/interactiveshell.py:2718: DtypeWarning: Columns (37) have mixed types.Specify dtype option on import or set low_memory=False.\n",
            "  interactivity=interactivity, compiler=compiler, result=result)\n"
          ],
          "name": "stderr"
        }
      ]
    },
    {
      "cell_type": "code",
      "metadata": {
        "colab": {
          "base_uri": "https://localhost:8080/",
          "height": 496
        },
        "id": "vMCCCrxGflQ0",
        "outputId": "4452a529-6beb-4d8f-8cd7-8322a5db4d7d"
      },
      "source": [
        "records_df.head()"
      ],
      "execution_count": null,
      "outputs": [
        {
          "output_type": "execute_result",
          "data": {
            "text/html": [
              "<div>\n",
              "<style scoped>\n",
              "    .dataframe tbody tr th:only-of-type {\n",
              "        vertical-align: middle;\n",
              "    }\n",
              "\n",
              "    .dataframe tbody tr th {\n",
              "        vertical-align: top;\n",
              "    }\n",
              "\n",
              "    .dataframe thead th {\n",
              "        text-align: right;\n",
              "    }\n",
              "</style>\n",
              "<table border=\"1\" class=\"dataframe\">\n",
              "  <thead>\n",
              "    <tr style=\"text-align: right;\">\n",
              "      <th></th>\n",
              "      <th>Unnamed: 0</th>\n",
              "      <th>situszip</th>\n",
              "      <th>taxratearea_city</th>\n",
              "      <th>ain</th>\n",
              "      <th>rollyear</th>\n",
              "      <th>taxratearea</th>\n",
              "      <th>assessorid</th>\n",
              "      <th>usetype</th>\n",
              "      <th>usecode</th>\n",
              "      <th>usecodedescchar1</th>\n",
              "      <th>usecodedescchar2</th>\n",
              "      <th>usecodedescchar3</th>\n",
              "      <th>usecodedescchar4</th>\n",
              "      <th>totbuildingdatalines</th>\n",
              "      <th>yearbuilt</th>\n",
              "      <th>effectiveyearbuilt</th>\n",
              "      <th>sqftmain</th>\n",
              "      <th>bedrooms</th>\n",
              "      <th>bathrooms</th>\n",
              "      <th>units</th>\n",
              "      <th>recordingdate</th>\n",
              "      <th>roll_landvalue</th>\n",
              "      <th>roll_landbaseyear</th>\n",
              "      <th>roll_impvalue</th>\n",
              "      <th>roll_impbaseyear</th>\n",
              "      <th>roll_totlandimp</th>\n",
              "      <th>roll_homeownersexemp</th>\n",
              "      <th>roll_realestateexemp</th>\n",
              "      <th>roll_fixturevalue</th>\n",
              "      <th>roll_fixtureexemp</th>\n",
              "      <th>roll_perspropvalue</th>\n",
              "      <th>roll_perspropexemp</th>\n",
              "      <th>istaxableparcel</th>\n",
              "      <th>roll_totalvalue</th>\n",
              "      <th>roll_totalexemption</th>\n",
              "      <th>nettaxablevalue</th>\n",
              "      <th>parcelclassification</th>\n",
              "      <th>adminregion</th>\n",
              "      <th>cluster</th>\n",
              "      <th>parcelboundarydescription</th>\n",
              "      <th>situshouseno</th>\n",
              "      <th>situsfraction</th>\n",
              "      <th>situsdirection</th>\n",
              "      <th>situsstreet</th>\n",
              "      <th>situsunit</th>\n",
              "      <th>situscity</th>\n",
              "      <th>rowid</th>\n",
              "      <th>center_lat</th>\n",
              "      <th>center_lon</th>\n",
              "      <th>location_1</th>\n",
              "      <th>propertylocation</th>\n",
              "      <th>situszip5</th>\n",
              "    </tr>\n",
              "  </thead>\n",
              "  <tbody>\n",
              "    <tr>\n",
              "      <th>0</th>\n",
              "      <td>0</td>\n",
              "      <td></td>\n",
              "      <td>LOS ANGELES</td>\n",
              "      <td>2137011901</td>\n",
              "      <td>2011</td>\n",
              "      <td>16</td>\n",
              "      <td>2137-011-901</td>\n",
              "      <td>OTH</td>\n",
              "      <td>8800</td>\n",
              "      <td>Miscellaneous</td>\n",
              "      <td>Government Owned Property</td>\n",
              "      <td></td>\n",
              "      <td></td>\n",
              "      <td>0</td>\n",
              "      <td>0</td>\n",
              "      <td>0</td>\n",
              "      <td>0</td>\n",
              "      <td>0</td>\n",
              "      <td>0</td>\n",
              "      <td>0</td>\n",
              "      <td>19590311</td>\n",
              "      <td>0</td>\n",
              "      <td>1975</td>\n",
              "      <td>0</td>\n",
              "      <td>1975</td>\n",
              "      <td>0</td>\n",
              "      <td>0</td>\n",
              "      <td>0</td>\n",
              "      <td>0</td>\n",
              "      <td>0</td>\n",
              "      <td>0</td>\n",
              "      <td>0</td>\n",
              "      <td>N</td>\n",
              "      <td>0</td>\n",
              "      <td>0</td>\n",
              "      <td>0</td>\n",
              "      <td>Public (non-taxable government-owned)</td>\n",
              "      <td>02</td>\n",
              "      <td>2150</td>\n",
              "      <td>TRACT # 19212 SW 5 FT MEASURED RADIALLY TO SW...</td>\n",
              "      <td>0</td>\n",
              "      <td></td>\n",
              "      <td></td>\n",
              "      <td></td>\n",
              "      <td></td>\n",
              "      <td></td>\n",
              "      <td>20112137011901</td>\n",
              "      <td>34.195156</td>\n",
              "      <td>-118.580389</td>\n",
              "      <td>{'latitude': '34.19515585', 'longitude': '-118...</td>\n",
              "      <td>NaN</td>\n",
              "      <td>NaN</td>\n",
              "    </tr>\n",
              "    <tr>\n",
              "      <th>1</th>\n",
              "      <td>1</td>\n",
              "      <td></td>\n",
              "      <td>LOS ANGELES</td>\n",
              "      <td>2137019904</td>\n",
              "      <td>2011</td>\n",
              "      <td>16</td>\n",
              "      <td>2137-019-904</td>\n",
              "      <td>OTH</td>\n",
              "      <td>8800</td>\n",
              "      <td>Miscellaneous</td>\n",
              "      <td>Government Owned Property</td>\n",
              "      <td></td>\n",
              "      <td></td>\n",
              "      <td>0</td>\n",
              "      <td>0</td>\n",
              "      <td>0</td>\n",
              "      <td>0</td>\n",
              "      <td>0</td>\n",
              "      <td>0</td>\n",
              "      <td>0</td>\n",
              "      <td>19840201</td>\n",
              "      <td>0</td>\n",
              "      <td>1984</td>\n",
              "      <td>0</td>\n",
              "      <td>1975</td>\n",
              "      <td>0</td>\n",
              "      <td>0</td>\n",
              "      <td>0</td>\n",
              "      <td>0</td>\n",
              "      <td>0</td>\n",
              "      <td>0</td>\n",
              "      <td>0</td>\n",
              "      <td>N</td>\n",
              "      <td>0</td>\n",
              "      <td>0</td>\n",
              "      <td>0</td>\n",
              "      <td>Public (non-taxable government-owned)</td>\n",
              "      <td>02</td>\n",
              "      <td>2150</td>\n",
              "      <td>TR=1339*N 100 FT OF S 485.07 FT (EX OF ST) OF ...</td>\n",
              "      <td>0</td>\n",
              "      <td></td>\n",
              "      <td></td>\n",
              "      <td></td>\n",
              "      <td></td>\n",
              "      <td></td>\n",
              "      <td>20112137019904</td>\n",
              "      <td>34.198602</td>\n",
              "      <td>-118.587825</td>\n",
              "      <td>{'latitude': '34.1986019', 'longitude': '-118....</td>\n",
              "      <td>NaN</td>\n",
              "      <td>NaN</td>\n",
              "    </tr>\n",
              "    <tr>\n",
              "      <th>2</th>\n",
              "      <td>2</td>\n",
              "      <td></td>\n",
              "      <td>LOS ANGELES</td>\n",
              "      <td>2137019906</td>\n",
              "      <td>2011</td>\n",
              "      <td>16</td>\n",
              "      <td>2137-019-906</td>\n",
              "      <td>VAC</td>\n",
              "      <td>010V</td>\n",
              "      <td>Residential</td>\n",
              "      <td>Single Family Residence</td>\n",
              "      <td></td>\n",
              "      <td>Vacant Land</td>\n",
              "      <td>0</td>\n",
              "      <td>0</td>\n",
              "      <td>0</td>\n",
              "      <td>0</td>\n",
              "      <td>0</td>\n",
              "      <td>0</td>\n",
              "      <td>0</td>\n",
              "      <td>19860224</td>\n",
              "      <td>0</td>\n",
              "      <td>1986</td>\n",
              "      <td>0</td>\n",
              "      <td>1975</td>\n",
              "      <td>0</td>\n",
              "      <td>0</td>\n",
              "      <td>0</td>\n",
              "      <td>0</td>\n",
              "      <td>0</td>\n",
              "      <td>0</td>\n",
              "      <td>0</td>\n",
              "      <td>N</td>\n",
              "      <td>0</td>\n",
              "      <td>0</td>\n",
              "      <td>0</td>\n",
              "      <td>Public (non-taxable government-owned)</td>\n",
              "      <td>02</td>\n",
              "      <td>2150</td>\n",
              "      <td>TR=1339*N 100 FT OF S 87.07 FT (EX OF ST) OF L...</td>\n",
              "      <td>0</td>\n",
              "      <td></td>\n",
              "      <td></td>\n",
              "      <td></td>\n",
              "      <td></td>\n",
              "      <td></td>\n",
              "      <td>20112137019906</td>\n",
              "      <td>34.198877</td>\n",
              "      <td>-118.587825</td>\n",
              "      <td>{'latitude': '34.19887669', 'longitude': '-118...</td>\n",
              "      <td>NaN</td>\n",
              "      <td>NaN</td>\n",
              "    </tr>\n",
              "    <tr>\n",
              "      <th>3</th>\n",
              "      <td>3</td>\n",
              "      <td></td>\n",
              "      <td>LOS ANGELES</td>\n",
              "      <td>2146002908</td>\n",
              "      <td>2011</td>\n",
              "      <td>16</td>\n",
              "      <td>2146-002-908</td>\n",
              "      <td>OTH</td>\n",
              "      <td>8800</td>\n",
              "      <td>Miscellaneous</td>\n",
              "      <td>Government Owned Property</td>\n",
              "      <td></td>\n",
              "      <td></td>\n",
              "      <td>0</td>\n",
              "      <td>0</td>\n",
              "      <td>0</td>\n",
              "      <td>0</td>\n",
              "      <td>0</td>\n",
              "      <td>0</td>\n",
              "      <td>0</td>\n",
              "      <td>19670245</td>\n",
              "      <td>0</td>\n",
              "      <td>1975</td>\n",
              "      <td>0</td>\n",
              "      <td>0</td>\n",
              "      <td>0</td>\n",
              "      <td>0</td>\n",
              "      <td>0</td>\n",
              "      <td>0</td>\n",
              "      <td>0</td>\n",
              "      <td>0</td>\n",
              "      <td>0</td>\n",
              "      <td>N</td>\n",
              "      <td>0</td>\n",
              "      <td>0</td>\n",
              "      <td>0</td>\n",
              "      <td>Public (non-taxable government-owned)</td>\n",
              "      <td>02</td>\n",
              "      <td>2163</td>\n",
              "      <td>TR=1000 THAT POR IN TRA 16 OF LOT 1013 IN CALA...</td>\n",
              "      <td>0</td>\n",
              "      <td></td>\n",
              "      <td></td>\n",
              "      <td></td>\n",
              "      <td></td>\n",
              "      <td></td>\n",
              "      <td>20112146002908</td>\n",
              "      <td>34.184850</td>\n",
              "      <td>-118.614007</td>\n",
              "      <td>{'latitude': '34.18485003', 'longitude': '-118...</td>\n",
              "      <td>NaN</td>\n",
              "      <td>NaN</td>\n",
              "    </tr>\n",
              "    <tr>\n",
              "      <th>4</th>\n",
              "      <td>4</td>\n",
              "      <td></td>\n",
              "      <td>LOS ANGELES</td>\n",
              "      <td>2146006049</td>\n",
              "      <td>2011</td>\n",
              "      <td>16</td>\n",
              "      <td>2146-006-049</td>\n",
              "      <td>C/I</td>\n",
              "      <td>1700</td>\n",
              "      <td>Commercial</td>\n",
              "      <td>Office Building</td>\n",
              "      <td></td>\n",
              "      <td>One Story</td>\n",
              "      <td>1</td>\n",
              "      <td>1985</td>\n",
              "      <td>1985</td>\n",
              "      <td>0</td>\n",
              "      <td>0</td>\n",
              "      <td>0</td>\n",
              "      <td>0</td>\n",
              "      <td>20050826</td>\n",
              "      <td>4634953</td>\n",
              "      <td>2003</td>\n",
              "      <td>1130473</td>\n",
              "      <td>2003</td>\n",
              "      <td>5765426</td>\n",
              "      <td>0</td>\n",
              "      <td>0</td>\n",
              "      <td>0</td>\n",
              "      <td>0</td>\n",
              "      <td>0</td>\n",
              "      <td>0</td>\n",
              "      <td>Y</td>\n",
              "      <td>5765426</td>\n",
              "      <td>0</td>\n",
              "      <td>5765426</td>\n",
              "      <td></td>\n",
              "      <td>23</td>\n",
              "      <td>23662</td>\n",
              "      <td>TR=32674 FOR DESC SEE ASSESSOR'S MAPS POR OF L...</td>\n",
              "      <td>0</td>\n",
              "      <td></td>\n",
              "      <td></td>\n",
              "      <td></td>\n",
              "      <td></td>\n",
              "      <td></td>\n",
              "      <td>20112146006049</td>\n",
              "      <td>34.177618</td>\n",
              "      <td>-118.603676</td>\n",
              "      <td>{'latitude': '34.17761801', 'longitude': '-118...</td>\n",
              "      <td>NaN</td>\n",
              "      <td>NaN</td>\n",
              "    </tr>\n",
              "  </tbody>\n",
              "</table>\n",
              "</div>"
            ],
            "text/plain": [
              "   Unnamed: 0 situszip  ... propertylocation  situszip5\n",
              "0           0           ...              NaN        NaN\n",
              "1           1           ...              NaN        NaN\n",
              "2           2           ...              NaN        NaN\n",
              "3           3           ...              NaN        NaN\n",
              "4           4           ...              NaN        NaN\n",
              "\n",
              "[5 rows x 52 columns]"
            ]
          },
          "metadata": {
            "tags": []
          },
          "execution_count": 5
        }
      ]
    },
    {
      "cell_type": "code",
      "metadata": {
        "colab": {
          "base_uri": "https://localhost:8080/"
        },
        "id": "gQbh0Kgye-UL",
        "outputId": "038882af-54a1-4138-8002-78b5993902c7"
      },
      "source": [
        "records_df.columns"
      ],
      "execution_count": null,
      "outputs": [
        {
          "output_type": "execute_result",
          "data": {
            "text/plain": [
              "Index(['Unnamed: 0', 'situszip', 'taxratearea_city', 'ain', 'rollyear',\n",
              "       'taxratearea', 'assessorid', 'usetype', 'usecode', 'usecodedescchar1',\n",
              "       'usecodedescchar2', 'usecodedescchar3', 'usecodedescchar4',\n",
              "       'totbuildingdatalines', 'yearbuilt', 'effectiveyearbuilt', 'sqftmain',\n",
              "       'bedrooms', 'bathrooms', 'units', 'recordingdate', 'roll_landvalue',\n",
              "       'roll_landbaseyear', 'roll_impvalue', 'roll_impbaseyear',\n",
              "       'roll_totlandimp', 'roll_homeownersexemp', 'roll_realestateexemp',\n",
              "       'roll_fixturevalue', 'roll_fixtureexemp', 'roll_perspropvalue',\n",
              "       'roll_perspropexemp', 'istaxableparcel', 'roll_totalvalue',\n",
              "       'roll_totalexemption', 'nettaxablevalue', 'parcelclassification',\n",
              "       'adminregion', 'cluster', 'parcelboundarydescription', 'situshouseno',\n",
              "       'situsfraction', 'situsdirection', 'situsstreet', 'situsunit',\n",
              "       'situscity', 'rowid', 'center_lat', 'center_lon', 'location_1',\n",
              "       'propertylocation', 'situszip5'],\n",
              "      dtype='object')"
            ]
          },
          "metadata": {
            "tags": []
          },
          "execution_count": 6
        }
      ]
    },
    {
      "cell_type": "code",
      "metadata": {
        "colab": {
          "base_uri": "https://localhost:8080/"
        },
        "id": "lfqk_ipUfD13",
        "outputId": "0791a73f-fbe1-438c-cd75-2e6eaba0655c"
      },
      "source": [
        "#verifying that we pulled data for the correct city + year \n",
        "records_df[\"taxratearea_city\"].unique()"
      ],
      "execution_count": null,
      "outputs": [
        {
          "output_type": "execute_result",
          "data": {
            "text/plain": [
              "array(['LOS ANGELES'], dtype=object)"
            ]
          },
          "metadata": {
            "tags": []
          },
          "execution_count": 7
        }
      ]
    },
    {
      "cell_type": "code",
      "metadata": {
        "colab": {
          "base_uri": "https://localhost:8080/"
        },
        "id": "GYuUpNCe4QkN",
        "outputId": "60237d2a-6f3c-49ba-b6ac-f45858a49828"
      },
      "source": [
        "records_df[\"rollyear\"].unique()"
      ],
      "execution_count": null,
      "outputs": [
        {
          "output_type": "execute_result",
          "data": {
            "text/plain": [
              "array([2011])"
            ]
          },
          "metadata": {
            "tags": []
          },
          "execution_count": 8
        }
      ]
    },
    {
      "cell_type": "code",
      "metadata": {
        "colab": {
          "base_uri": "https://localhost:8080/"
        },
        "id": "M2J81KULgBsX",
        "outputId": "e8f9f41c-e983-4ba6-ad1d-44536416ed3b"
      },
      "source": [
        "records_df.info()"
      ],
      "execution_count": null,
      "outputs": [
        {
          "output_type": "stream",
          "text": [
            "<class 'pandas.core.frame.DataFrame'>\n",
            "RangeIndex: 793192 entries, 0 to 793191\n",
            "Data columns (total 52 columns):\n",
            " #   Column                     Non-Null Count   Dtype  \n",
            "---  ------                     --------------   -----  \n",
            " 0   Unnamed: 0                 793192 non-null  int64  \n",
            " 1   situszip                   793192 non-null  object \n",
            " 2   taxratearea_city           793192 non-null  object \n",
            " 3   ain                        793192 non-null  int64  \n",
            " 4   rollyear                   793192 non-null  int64  \n",
            " 5   taxratearea                793192 non-null  int64  \n",
            " 6   assessorid                 793192 non-null  object \n",
            " 7   usetype                    792986 non-null  object \n",
            " 8   usecode                    793192 non-null  object \n",
            " 9   usecodedescchar1           792986 non-null  object \n",
            " 10  usecodedescchar2           792986 non-null  object \n",
            " 11  usecodedescchar3           792986 non-null  object \n",
            " 12  usecodedescchar4           792986 non-null  object \n",
            " 13  totbuildingdatalines       793192 non-null  int64  \n",
            " 14  yearbuilt                  793192 non-null  int64  \n",
            " 15  effectiveyearbuilt         793192 non-null  int64  \n",
            " 16  sqftmain                   793192 non-null  int64  \n",
            " 17  bedrooms                   793192 non-null  int64  \n",
            " 18  bathrooms                  793192 non-null  int64  \n",
            " 19  units                      793192 non-null  int64  \n",
            " 20  recordingdate              793192 non-null  int64  \n",
            " 21  roll_landvalue             793192 non-null  int64  \n",
            " 22  roll_landbaseyear          793192 non-null  int64  \n",
            " 23  roll_impvalue              793192 non-null  int64  \n",
            " 24  roll_impbaseyear           793192 non-null  int64  \n",
            " 25  roll_totlandimp            793192 non-null  int64  \n",
            " 26  roll_homeownersexemp       793192 non-null  int64  \n",
            " 27  roll_realestateexemp       793192 non-null  int64  \n",
            " 28  roll_fixturevalue          793192 non-null  int64  \n",
            " 29  roll_fixtureexemp          793192 non-null  int64  \n",
            " 30  roll_perspropvalue         793192 non-null  int64  \n",
            " 31  roll_perspropexemp         793192 non-null  int64  \n",
            " 32  istaxableparcel            793192 non-null  object \n",
            " 33  roll_totalvalue            793192 non-null  int64  \n",
            " 34  roll_totalexemption        793192 non-null  int64  \n",
            " 35  nettaxablevalue            793192 non-null  int64  \n",
            " 36  parcelclassification       793192 non-null  object \n",
            " 37  adminregion                793192 non-null  object \n",
            " 38  cluster                    793192 non-null  int64  \n",
            " 39  parcelboundarydescription  793192 non-null  object \n",
            " 40  situshouseno               793192 non-null  int64  \n",
            " 41  situsfraction              793192 non-null  object \n",
            " 42  situsdirection             793192 non-null  object \n",
            " 43  situsstreet                793192 non-null  object \n",
            " 44  situsunit                  793192 non-null  object \n",
            " 45  situscity                  793192 non-null  object \n",
            " 46  rowid                      793192 non-null  int64  \n",
            " 47  center_lat                 793100 non-null  float64\n",
            " 48  center_lon                 793100 non-null  float64\n",
            " 49  location_1                 793100 non-null  object \n",
            " 50  propertylocation           751611 non-null  object \n",
            " 51  situszip5                  751602 non-null  float64\n",
            "dtypes: float64(3), int64(29), object(20)\n",
            "memory usage: 314.7+ MB\n"
          ],
          "name": "stdout"
        }
      ]
    },
    {
      "cell_type": "markdown",
      "metadata": {
        "id": "YnAWXm-moobd"
      },
      "source": [
        "## Relevance \n",
        "\n",
        "The dataset includes a lot of information that I don't need. For this section, I'll \n",
        "\n",
        "\n",
        "1.   Drop the columns that I don't need \n",
        "2.   Check the remaining columns for unique values\n",
        "1.   Handle missing values, including dropping data that does not include zip codes\n",
        "\n",
        "\n",
        "\n",
        "\n"
      ]
    },
    {
      "cell_type": "markdown",
      "metadata": {
        "id": "7gfuNxT-vPjj"
      },
      "source": [
        "###Determining which columns to drop"
      ]
    },
    {
      "cell_type": "code",
      "metadata": {
        "id": "eADWVKnugHQ_"
      },
      "source": [
        "#dropping irrelevant columns\n",
        "\n",
        "records_df = records_df.drop(columns=['Unnamed: 0', 'situszip','ain',\n",
        "       'taxratearea', 'usetype', 'usecode','usecodedescchar3', 'usecodedescchar4',\n",
        "       'totbuildingdatalines', 'yearbuilt', 'effectiveyearbuilt', 'sqftmain',\n",
        "       'bedrooms', 'bathrooms', 'units', 'recordingdate', 'roll_landvalue',\n",
        "       'roll_landbaseyear', 'roll_impvalue', 'roll_impbaseyear',\n",
        "       'roll_totlandimp', 'roll_homeownersexemp', 'roll_realestateexemp',\n",
        "       'roll_fixturevalue', 'roll_fixtureexemp', 'roll_perspropvalue',\n",
        "       'roll_perspropexemp', 'istaxableparcel', 'roll_totalvalue',\n",
        "       'roll_totalexemption',\n",
        "       'adminregion', 'cluster', 'parcelboundarydescription', 'situshouseno',\n",
        "       'situsfraction', 'situsdirection', 'situsstreet', 'situsunit',\n",
        "       'situscity', 'rowid', 'center_lat', 'center_lon', 'location_1','propertylocation', \"parcelclassification\"])\n"
      ],
      "execution_count": null,
      "outputs": []
    },
    {
      "cell_type": "code",
      "metadata": {
        "colab": {
          "base_uri": "https://localhost:8080/",
          "height": 204
        },
        "id": "eO3Qf49aiSfa",
        "outputId": "48e24a9e-d835-4956-98df-85881de31785"
      },
      "source": [
        "records_df.head()"
      ],
      "execution_count": null,
      "outputs": [
        {
          "output_type": "execute_result",
          "data": {
            "text/html": [
              "<div>\n",
              "<style scoped>\n",
              "    .dataframe tbody tr th:only-of-type {\n",
              "        vertical-align: middle;\n",
              "    }\n",
              "\n",
              "    .dataframe tbody tr th {\n",
              "        vertical-align: top;\n",
              "    }\n",
              "\n",
              "    .dataframe thead th {\n",
              "        text-align: right;\n",
              "    }\n",
              "</style>\n",
              "<table border=\"1\" class=\"dataframe\">\n",
              "  <thead>\n",
              "    <tr style=\"text-align: right;\">\n",
              "      <th></th>\n",
              "      <th>taxratearea_city</th>\n",
              "      <th>rollyear</th>\n",
              "      <th>assessorid</th>\n",
              "      <th>usecodedescchar1</th>\n",
              "      <th>usecodedescchar2</th>\n",
              "      <th>nettaxablevalue</th>\n",
              "      <th>situszip5</th>\n",
              "    </tr>\n",
              "  </thead>\n",
              "  <tbody>\n",
              "    <tr>\n",
              "      <th>0</th>\n",
              "      <td>LOS ANGELES</td>\n",
              "      <td>2011</td>\n",
              "      <td>2137-011-901</td>\n",
              "      <td>Miscellaneous</td>\n",
              "      <td>Government Owned Property</td>\n",
              "      <td>0</td>\n",
              "      <td>NaN</td>\n",
              "    </tr>\n",
              "    <tr>\n",
              "      <th>1</th>\n",
              "      <td>LOS ANGELES</td>\n",
              "      <td>2011</td>\n",
              "      <td>2137-019-904</td>\n",
              "      <td>Miscellaneous</td>\n",
              "      <td>Government Owned Property</td>\n",
              "      <td>0</td>\n",
              "      <td>NaN</td>\n",
              "    </tr>\n",
              "    <tr>\n",
              "      <th>2</th>\n",
              "      <td>LOS ANGELES</td>\n",
              "      <td>2011</td>\n",
              "      <td>2137-019-906</td>\n",
              "      <td>Residential</td>\n",
              "      <td>Single Family Residence</td>\n",
              "      <td>0</td>\n",
              "      <td>NaN</td>\n",
              "    </tr>\n",
              "    <tr>\n",
              "      <th>3</th>\n",
              "      <td>LOS ANGELES</td>\n",
              "      <td>2011</td>\n",
              "      <td>2146-002-908</td>\n",
              "      <td>Miscellaneous</td>\n",
              "      <td>Government Owned Property</td>\n",
              "      <td>0</td>\n",
              "      <td>NaN</td>\n",
              "    </tr>\n",
              "    <tr>\n",
              "      <th>4</th>\n",
              "      <td>LOS ANGELES</td>\n",
              "      <td>2011</td>\n",
              "      <td>2146-006-049</td>\n",
              "      <td>Commercial</td>\n",
              "      <td>Office Building</td>\n",
              "      <td>5765426</td>\n",
              "      <td>NaN</td>\n",
              "    </tr>\n",
              "  </tbody>\n",
              "</table>\n",
              "</div>"
            ],
            "text/plain": [
              "  taxratearea_city  rollyear  ... nettaxablevalue situszip5\n",
              "0      LOS ANGELES      2011  ...               0       NaN\n",
              "1      LOS ANGELES      2011  ...               0       NaN\n",
              "2      LOS ANGELES      2011  ...               0       NaN\n",
              "3      LOS ANGELES      2011  ...               0       NaN\n",
              "4      LOS ANGELES      2011  ...         5765426       NaN\n",
              "\n",
              "[5 rows x 7 columns]"
            ]
          },
          "metadata": {
            "tags": []
          },
          "execution_count": 11
        }
      ]
    },
    {
      "cell_type": "code",
      "metadata": {
        "id": "dTZFuqdtjZhG"
      },
      "source": [
        "#renaming columns to more recongizable names\n",
        "records_df.columns=[\"city\", \"year\", \"assessor_id\",\"general_use\", \"specific_use\",\"net_value\", \"zip_code\"]"
      ],
      "execution_count": null,
      "outputs": []
    },
    {
      "cell_type": "markdown",
      "metadata": {
        "id": "7CDOlnKKy3QF"
      },
      "source": [
        "###Handling Missing Values in [\"assessor_id\"] (none!)"
      ]
    },
    {
      "cell_type": "code",
      "metadata": {
        "colab": {
          "base_uri": "https://localhost:8080/"
        },
        "id": "hd6pxjgay4UW",
        "outputId": "fff14f72-5fe8-457c-c325-7fe8933bfa13"
      },
      "source": [
        "len(records_df['assessor_id'].unique())"
      ],
      "execution_count": null,
      "outputs": [
        {
          "output_type": "execute_result",
          "data": {
            "text/plain": [
              "793192"
            ]
          },
          "metadata": {
            "tags": []
          },
          "execution_count": 13
        }
      ]
    },
    {
      "cell_type": "code",
      "metadata": {
        "colab": {
          "base_uri": "https://localhost:8080/"
        },
        "id": "y7h03GazzKd_",
        "outputId": "116956bb-7e71-4bda-f4bf-3febd5742782"
      },
      "source": [
        "records_df['assessor_id'].isnull().sum()"
      ],
      "execution_count": null,
      "outputs": [
        {
          "output_type": "execute_result",
          "data": {
            "text/plain": [
              "0"
            ]
          },
          "metadata": {
            "tags": []
          },
          "execution_count": 14
        }
      ]
    },
    {
      "cell_type": "code",
      "metadata": {
        "id": "2cFxx0KyzW7m"
      },
      "source": [
        "#this series is good to go"
      ],
      "execution_count": null,
      "outputs": []
    },
    {
      "cell_type": "markdown",
      "metadata": {
        "id": "ReWrRY0oporI"
      },
      "source": [
        "### Handling Missing Values in [\"general_use\"]"
      ]
    },
    {
      "cell_type": "code",
      "metadata": {
        "colab": {
          "base_uri": "https://localhost:8080/"
        },
        "id": "l4e1TOk4jt9R",
        "outputId": "17ea159b-0d1a-43a6-8623-eeff2a7adec1"
      },
      "source": [
        "#we have entries w/ nan and (unavailable) string\n",
        "records_df[\"general_use\"].unique()"
      ],
      "execution_count": null,
      "outputs": [
        {
          "output_type": "execute_result",
          "data": {
            "text/plain": [
              "array(['Miscellaneous', 'Residential', 'Commercial', 'Industrial',\n",
              "       'Recreational', nan, '(unavailable)', 'Dry Farm', 'Institutional',\n",
              "       'Irrigated Farm'], dtype=object)"
            ]
          },
          "metadata": {
            "tags": []
          },
          "execution_count": 15
        }
      ]
    },
    {
      "cell_type": "code",
      "metadata": {
        "colab": {
          "base_uri": "https://localhost:8080/"
        },
        "id": "WDSETMuEmk0f",
        "outputId": "e05da03e-4ca2-4e7b-c3f9-45992bbd4334"
      },
      "source": [
        "#checking how many nans in general_use\n",
        "records_df['general_use'].isnull().sum()"
      ],
      "execution_count": null,
      "outputs": [
        {
          "output_type": "execute_result",
          "data": {
            "text/plain": [
              "206"
            ]
          },
          "metadata": {
            "tags": []
          },
          "execution_count": 16
        }
      ]
    },
    {
      "cell_type": "code",
      "metadata": {
        "colab": {
          "base_uri": "https://localhost:8080/"
        },
        "id": "piYOjeBwnJDo",
        "outputId": "58aff571-e841-4b64-a2a8-49369a46c241"
      },
      "source": [
        "#replacing nan with (unavailable)\n",
        "records_df[\"general_use\"] = records_df[\"general_use\"].fillna('(unavailable)')\n",
        "records_df[\"general_use\"].unique()"
      ],
      "execution_count": null,
      "outputs": [
        {
          "output_type": "execute_result",
          "data": {
            "text/plain": [
              "array(['Miscellaneous', 'Residential', 'Commercial', 'Industrial',\n",
              "       'Recreational', '(unavailable)', 'Dry Farm', 'Institutional',\n",
              "       'Irrigated Farm'], dtype=object)"
            ]
          },
          "metadata": {
            "tags": []
          },
          "execution_count": 17
        }
      ]
    },
    {
      "cell_type": "markdown",
      "metadata": {
        "id": "0GufVSxFqCKE"
      },
      "source": [
        "###Handling Missing Values in [\"specific_use\"]"
      ]
    },
    {
      "cell_type": "code",
      "metadata": {
        "colab": {
          "base_uri": "https://localhost:8080/"
        },
        "id": "HAHuT5nbluSs",
        "outputId": "a57c4521-5fe8-4fdc-d308-dd0ec287353d"
      },
      "source": [
        "#there is an empty string in this column that we should replace with nan or Not Available \n",
        "records_df[\"specific_use\"].unique()"
      ],
      "execution_count": null,
      "outputs": [
        {
          "output_type": "execute_result",
          "data": {
            "text/plain": [
              "array(['Government Owned Property', 'Single Family Residence',\n",
              "       'Office Building', 'Parking Lot (Commercial Use Property)',\n",
              "       'Motion Picture, Radio and Television Industry',\n",
              "       'Auto, Recreation Equipment, Construction Equipment Sales and Service',\n",
              "       'Privately Owned', 'Heavy Manufacturing', 'Light Manufacturing',\n",
              "       'Utility', 'Shopping Center (Neighborhood, Community)',\n",
              "       'Five or More Units or Apartments (Any Combination)',\n",
              "       'Club, Lodge Hall, Fraternal Organization', 'Commercial',\n",
              "       'Industrial', 'Rights of Way', 'Store', nan, '(unavailable)',\n",
              "       'Desert', 'Rivers and Lakes', 'Open Storage',\n",
              "       'Double, Duplex, or Two Units', 'Waste',\n",
              "       'Three Units (Any Combination)',\n",
              "       'Parking Lot (Industrial Use Property)', ' ', 'Golf Course',\n",
              "       'Store Combination', 'Church', 'Petroleum and Gas',\n",
              "       'Four Units  (Any Combination)', 'Shopping Center (Regional)',\n",
              "       'Homes for Aged and Others', 'Mineral Processing',\n",
              "       \"Children's Day Care Center\", 'Restaurant, Cocktail Lounge',\n",
              "       'Professional Building', 'Bowling Alley', 'School (Private)',\n",
              "       'Supermarket', 'Service Station',\n",
              "       'Warehousing, Distribution, Storage', 'Hospital',\n",
              "       'Hotel and Motel', 'Manufactured Home',\n",
              "       'Cemetery, Mausoleum, Mortuary', 'Animal Kennel',\n",
              "       'Non-Auto Service and Repair Shop, Paint Shop, or Laundry',\n",
              "       'Bank, Savings and Loan', 'Department Store',\n",
              "       'Athletic and Amusement Facility', 'College, University (Private)',\n",
              "       'Nursery or Greenhouse', 'Skating Rink', 'Manufactured Home Park',\n",
              "       'Theater', 'Lumber Yard', 'Food Processing Plant',\n",
              "       'Rooming/Boarding House', 'Wholesale and Manufacturing Outlet',\n",
              "       'Dump Site', 'Poultry, etc.', 'Dairy', 'Race Track',\n",
              "       'Pipeline, Canal', 'Camp', 'Pasture', 'Fruits and Nuts',\n",
              "       'Water Recreation', 'Senior Day Care Center', 'Field Crops'],\n",
              "      dtype=object)"
            ]
          },
          "metadata": {
            "tags": []
          },
          "execution_count": 18
        }
      ]
    },
    {
      "cell_type": "code",
      "metadata": {
        "id": "jq8kMCG_rEXt"
      },
      "source": [
        "records_df[\"specific_use\"]= records_df[\"specific_use\"].fillna('(unavailable)')"
      ],
      "execution_count": null,
      "outputs": []
    },
    {
      "cell_type": "code",
      "metadata": {
        "colab": {
          "base_uri": "https://localhost:8080/"
        },
        "id": "uh9gY_ejrrnt",
        "outputId": "058f6c9e-bdf5-4b60-f9fb-4359c8a953de"
      },
      "source": [
        "records_df[\"specific_use\"].unique()"
      ],
      "execution_count": null,
      "outputs": [
        {
          "output_type": "execute_result",
          "data": {
            "text/plain": [
              "array(['Government Owned Property', 'Single Family Residence',\n",
              "       'Office Building', 'Parking Lot (Commercial Use Property)',\n",
              "       'Motion Picture, Radio and Television Industry',\n",
              "       'Auto, Recreation Equipment, Construction Equipment Sales and Service',\n",
              "       'Privately Owned', 'Heavy Manufacturing', 'Light Manufacturing',\n",
              "       'Utility', 'Shopping Center (Neighborhood, Community)',\n",
              "       'Five or More Units or Apartments (Any Combination)',\n",
              "       'Club, Lodge Hall, Fraternal Organization', 'Commercial',\n",
              "       'Industrial', 'Rights of Way', 'Store', '(unavailable)', 'Desert',\n",
              "       'Rivers and Lakes', 'Open Storage', 'Double, Duplex, or Two Units',\n",
              "       'Waste', 'Three Units (Any Combination)',\n",
              "       'Parking Lot (Industrial Use Property)', ' ', 'Golf Course',\n",
              "       'Store Combination', 'Church', 'Petroleum and Gas',\n",
              "       'Four Units  (Any Combination)', 'Shopping Center (Regional)',\n",
              "       'Homes for Aged and Others', 'Mineral Processing',\n",
              "       \"Children's Day Care Center\", 'Restaurant, Cocktail Lounge',\n",
              "       'Professional Building', 'Bowling Alley', 'School (Private)',\n",
              "       'Supermarket', 'Service Station',\n",
              "       'Warehousing, Distribution, Storage', 'Hospital',\n",
              "       'Hotel and Motel', 'Manufactured Home',\n",
              "       'Cemetery, Mausoleum, Mortuary', 'Animal Kennel',\n",
              "       'Non-Auto Service and Repair Shop, Paint Shop, or Laundry',\n",
              "       'Bank, Savings and Loan', 'Department Store',\n",
              "       'Athletic and Amusement Facility', 'College, University (Private)',\n",
              "       'Nursery or Greenhouse', 'Skating Rink', 'Manufactured Home Park',\n",
              "       'Theater', 'Lumber Yard', 'Food Processing Plant',\n",
              "       'Rooming/Boarding House', 'Wholesale and Manufacturing Outlet',\n",
              "       'Dump Site', 'Poultry, etc.', 'Dairy', 'Race Track',\n",
              "       'Pipeline, Canal', 'Camp', 'Pasture', 'Fruits and Nuts',\n",
              "       'Water Recreation', 'Senior Day Care Center', 'Field Crops'],\n",
              "      dtype=object)"
            ]
          },
          "metadata": {
            "tags": []
          },
          "execution_count": 20
        }
      ]
    },
    {
      "cell_type": "markdown",
      "metadata": {
        "id": "Z7qACCGMsjCh"
      },
      "source": [
        "###Handling Missing Values in [\"net_value\"]"
      ]
    },
    {
      "cell_type": "code",
      "metadata": {
        "colab": {
          "base_uri": "https://localhost:8080/"
        },
        "id": "HrviLMgEsqx0",
        "outputId": "15fab0ad-64ee-4c98-eb93-d2cfb21a13c7"
      },
      "source": [
        "#this is good to go\n",
        "records_df['net_value'].isnull().sum()"
      ],
      "execution_count": null,
      "outputs": [
        {
          "output_type": "execute_result",
          "data": {
            "text/plain": [
              "0"
            ]
          },
          "metadata": {
            "tags": []
          },
          "execution_count": 22
        }
      ]
    },
    {
      "cell_type": "markdown",
      "metadata": {
        "id": "-e6SP1P5tWl2"
      },
      "source": [
        "###Handling Missing Values in [\"zip_code\"]"
      ]
    },
    {
      "cell_type": "code",
      "metadata": {
        "colab": {
          "base_uri": "https://localhost:8080/"
        },
        "id": "c25sl2oHtsKp",
        "outputId": "842c96df-8080-41b8-c1cf-8e17de540938"
      },
      "source": [
        "#good to go\n",
        "records_df['zip_code'].unique()"
      ],
      "execution_count": null,
      "outputs": [
        {
          "output_type": "execute_result",
          "data": {
            "text/plain": [
              "array([   nan, 91356., 91606., 91601., 90291., 90034., 91335., 91306.,\n",
              "       91367., 91303., 91307., 91364., 91406., 91316., 91411., 91325.,\n",
              "       91343., 91405., 91402., 90045., 91403., 91401., 90230., 91423.,\n",
              "       91436., 91346., 90210., 90077., 90049., 91605., 91352., 91331.,\n",
              "       90001., 90066., 91066., 99606., 91006., 90068., 91607., 91602.,\n",
              "       91604., 91499., 91342., 90046., 91340., 91040., 91311., 91042.,\n",
              "       91024., 91214., 91344., 91345., 91353., 91504., 91505., 93510.,\n",
              "       91612., 90601., 91608., 90064., 91387., 91324., 91329., 91326.,\n",
              "       93063., 91330., 91304., 91301., 90043., 90056., 90302., 90047.,\n",
              "       90036., 90293., 90040., 90009., 90304., 90245., 90016., 90232.,\n",
              "       90025., 90094., 90292., 90041., 90042., 90015., 90057., 90011.,\n",
              "       90005., 90063., 90012., 92008., 90037., 90031., 90006., 90065.,\n",
              "       90023., 90019., 90013., 90014., 95648., 90017., 90405., 90026.,\n",
              "       90007., 90402., 90403., 90297., 90035., 90067., 90024., 90212.,\n",
              "       90048., 90069., 90211., 90062., 94513., 90095., 90039., 90027.,\n",
              "       90631., 90022., 90272., 90020., 94707., 90270., 90053., 90290.,\n",
              "       90265., 90044., 90003., 90058., 90018., 90008., 90240., 90089.,\n",
              "       90028., 90021., 90029., 90010., 90038., 90004., 90079., 90071.,\n",
              "       90033., 92806., 92801., 90032., 91204., 91205., 91030., 91201.,\n",
              "       91206., 91105., 91101., 90209., 90052., 90002., 90059., 90061.,\n",
              "       90051., 90248., 90501., 90247., 90744., 90745., 90813., 90810.,\n",
              "       90746., 90502., 90731., 90717., 90710., 90712., 90732., 90701.,\n",
              "       90734., 90815., 92805., 90748., 90733., 90822., 90275., 92802.,\n",
              "       91302.])"
            ]
          },
          "metadata": {
            "tags": []
          },
          "execution_count": 23
        }
      ]
    },
    {
      "cell_type": "markdown",
      "metadata": {
        "id": "ts4jqOcDvaDz"
      },
      "source": [
        ""
      ]
    },
    {
      "cell_type": "markdown",
      "metadata": {
        "id": "lY2D0rTM1LBf"
      },
      "source": [
        "###Dropping Data w/o Zip Codes"
      ]
    },
    {
      "cell_type": "code",
      "metadata": {
        "id": "iGDU6SRZ1V2_"
      },
      "source": [
        "records_df = records_df[records_df['zip_code'].notna()]"
      ],
      "execution_count": null,
      "outputs": []
    },
    {
      "cell_type": "code",
      "metadata": {
        "id": "txKUvLdi38Lc"
      },
      "source": [
        "records_df = records_df.reset_index()\n",
        "records_df = records_df.drop(columns=['index'])"
      ],
      "execution_count": null,
      "outputs": []
    },
    {
      "cell_type": "markdown",
      "metadata": {
        "id": "6JgE_Lf0vcMY"
      },
      "source": [
        "##Consistency\n",
        "Now that I've handles missing values, I will check consistency over: \n",
        "\n",
        "\n",
        "1.   Data type\n",
        "2.   Categorical \n",
        "2.  Referential integrity\n",
        "\n",
        "\n"
      ]
    },
    {
      "cell_type": "markdown",
      "metadata": {
        "id": "QXWw3cnZzgKu"
      },
      "source": [
        "###Data type"
      ]
    },
    {
      "cell_type": "code",
      "metadata": {
        "colab": {
          "base_uri": "https://localhost:8080/"
        },
        "id": "c1uhByKgzy8L",
        "outputId": "4afb2002-ad33-4289-bdc3-d167a0f79bed"
      },
      "source": [
        "records_df.info()"
      ],
      "execution_count": null,
      "outputs": [
        {
          "output_type": "stream",
          "text": [
            "<class 'pandas.core.frame.DataFrame'>\n",
            "RangeIndex: 751602 entries, 0 to 751601\n",
            "Data columns (total 8 columns):\n",
            " #   Column        Non-Null Count   Dtype   \n",
            "---  ------        --------------   -----   \n",
            " 0   level_0       751602 non-null  int64   \n",
            " 1   city          751602 non-null  object  \n",
            " 2   year          751602 non-null  int64   \n",
            " 3   assessor_id   751602 non-null  category\n",
            " 4   general_use   751602 non-null  category\n",
            " 5   specific_use  751602 non-null  category\n",
            " 6   net_value     751602 non-null  int64   \n",
            " 7   zip_code      751602 non-null  int64   \n",
            "dtypes: category(3), int64(4), object(1)\n",
            "memory usage: 58.7+ MB\n"
          ],
          "name": "stdout"
        }
      ]
    },
    {
      "cell_type": "code",
      "metadata": {
        "id": "-2O6lEu0z68z"
      },
      "source": [
        "#changing to category type \n",
        "records_df[\"assessor_id\"] = records_df[\"assessor_id\"].astype(\"category\")\n",
        "records_df[\"general_use\"] = records_df[\"general_use\"].astype(\"category\")\n",
        "records_df[\"specific_use\"] = records_df[\"specific_use\"].astype(\"category\")\n",
        "\n",
        "#since all NaN have been removed, change type of zip code column to int. this may change later\n",
        "records_df[\"zip_code\"] = records_df[\"zip_code\"].astype(\"int\")\n",
        "\n",
        "#change year to datetime format\n",
        "records_df[\"year\"] = pd.to_datetime(records_df['year'], format='%Y')"
      ],
      "execution_count": null,
      "outputs": []
    },
    {
      "cell_type": "code",
      "metadata": {
        "id": "Lqz_AATz7DwX"
      },
      "source": [
        "records_df[\"year\"] = records_df[\"year\"].dt.year"
      ],
      "execution_count": null,
      "outputs": []
    },
    {
      "cell_type": "code",
      "metadata": {
        "colab": {
          "base_uri": "https://localhost:8080/",
          "height": 419
        },
        "id": "_xgmtqrP9K7G",
        "outputId": "0a208c09-db6d-4275-f37a-32490b7128d6"
      },
      "source": [
        "records_df"
      ],
      "execution_count": null,
      "outputs": [
        {
          "output_type": "execute_result",
          "data": {
            "text/html": [
              "<div>\n",
              "<style scoped>\n",
              "    .dataframe tbody tr th:only-of-type {\n",
              "        vertical-align: middle;\n",
              "    }\n",
              "\n",
              "    .dataframe tbody tr th {\n",
              "        vertical-align: top;\n",
              "    }\n",
              "\n",
              "    .dataframe thead th {\n",
              "        text-align: right;\n",
              "    }\n",
              "</style>\n",
              "<table border=\"1\" class=\"dataframe\">\n",
              "  <thead>\n",
              "    <tr style=\"text-align: right;\">\n",
              "      <th></th>\n",
              "      <th>index</th>\n",
              "      <th>city</th>\n",
              "      <th>year</th>\n",
              "      <th>assessor_id</th>\n",
              "      <th>general_use</th>\n",
              "      <th>specific_use</th>\n",
              "      <th>net_value</th>\n",
              "      <th>zip_code</th>\n",
              "    </tr>\n",
              "  </thead>\n",
              "  <tbody>\n",
              "    <tr>\n",
              "      <th>0</th>\n",
              "      <td>17</td>\n",
              "      <td>LOS ANGELES</td>\n",
              "      <td>2011</td>\n",
              "      <td>2163-002-055-2011</td>\n",
              "      <td>Residential</td>\n",
              "      <td>Single Family Residence</td>\n",
              "      <td>748233</td>\n",
              "      <td>91356</td>\n",
              "    </tr>\n",
              "    <tr>\n",
              "      <th>1</th>\n",
              "      <td>122</td>\n",
              "      <td>LOS ANGELES</td>\n",
              "      <td>2011</td>\n",
              "      <td>2338-010-020-2011</td>\n",
              "      <td>Commercial</td>\n",
              "      <td>Store</td>\n",
              "      <td>200000</td>\n",
              "      <td>91606</td>\n",
              "    </tr>\n",
              "    <tr>\n",
              "      <th>2</th>\n",
              "      <td>137</td>\n",
              "      <td>LOS ANGELES</td>\n",
              "      <td>2011</td>\n",
              "      <td>2350-016-003-2011</td>\n",
              "      <td>Commercial</td>\n",
              "      <td>Commercial</td>\n",
              "      <td>106190</td>\n",
              "      <td>91601</td>\n",
              "    </tr>\n",
              "    <tr>\n",
              "      <th>3</th>\n",
              "      <td>424</td>\n",
              "      <td>LOS ANGELES</td>\n",
              "      <td>2011</td>\n",
              "      <td>4227-003-038-2011</td>\n",
              "      <td>Residential</td>\n",
              "      <td>Single Family Residence</td>\n",
              "      <td>918000</td>\n",
              "      <td>90291</td>\n",
              "    </tr>\n",
              "    <tr>\n",
              "      <th>4</th>\n",
              "      <td>436</td>\n",
              "      <td>LOS ANGELES</td>\n",
              "      <td>2011</td>\n",
              "      <td>4238-011-037-2011</td>\n",
              "      <td>Residential</td>\n",
              "      <td>Single Family Residence</td>\n",
              "      <td>3750000</td>\n",
              "      <td>90291</td>\n",
              "    </tr>\n",
              "    <tr>\n",
              "      <th>...</th>\n",
              "      <td>...</td>\n",
              "      <td>...</td>\n",
              "      <td>...</td>\n",
              "      <td>...</td>\n",
              "      <td>...</td>\n",
              "      <td>...</td>\n",
              "      <td>...</td>\n",
              "      <td>...</td>\n",
              "    </tr>\n",
              "    <tr>\n",
              "      <th>751597</th>\n",
              "      <td>793187</td>\n",
              "      <td>LOS ANGELES</td>\n",
              "      <td>2011</td>\n",
              "      <td>2132-007-013-2011</td>\n",
              "      <td>Residential</td>\n",
              "      <td>Single Family Residence</td>\n",
              "      <td>295900</td>\n",
              "      <td>91335</td>\n",
              "    </tr>\n",
              "    <tr>\n",
              "      <th>751598</th>\n",
              "      <td>793188</td>\n",
              "      <td>LOS ANGELES</td>\n",
              "      <td>2011</td>\n",
              "      <td>2132-007-011-2011</td>\n",
              "      <td>Residential</td>\n",
              "      <td>Single Family Residence</td>\n",
              "      <td>63297</td>\n",
              "      <td>91335</td>\n",
              "    </tr>\n",
              "    <tr>\n",
              "      <th>751599</th>\n",
              "      <td>793189</td>\n",
              "      <td>LOS ANGELES</td>\n",
              "      <td>2011</td>\n",
              "      <td>2132-007-010-2011</td>\n",
              "      <td>Residential</td>\n",
              "      <td>Single Family Residence</td>\n",
              "      <td>276700</td>\n",
              "      <td>91335</td>\n",
              "    </tr>\n",
              "    <tr>\n",
              "      <th>751600</th>\n",
              "      <td>793190</td>\n",
              "      <td>LOS ANGELES</td>\n",
              "      <td>2011</td>\n",
              "      <td>2132-007-012-2011</td>\n",
              "      <td>Residential</td>\n",
              "      <td>Single Family Residence</td>\n",
              "      <td>288000</td>\n",
              "      <td>91335</td>\n",
              "    </tr>\n",
              "    <tr>\n",
              "      <th>751601</th>\n",
              "      <td>793191</td>\n",
              "      <td>LOS ANGELES</td>\n",
              "      <td>2011</td>\n",
              "      <td>2132-007-008-2011</td>\n",
              "      <td>Residential</td>\n",
              "      <td>Single Family Residence</td>\n",
              "      <td>62532</td>\n",
              "      <td>91335</td>\n",
              "    </tr>\n",
              "  </tbody>\n",
              "</table>\n",
              "<p>751602 rows × 8 columns</p>\n",
              "</div>"
            ],
            "text/plain": [
              "         index         city  year  ...             specific_use net_value zip_code\n",
              "0           17  LOS ANGELES  2011  ...  Single Family Residence    748233    91356\n",
              "1          122  LOS ANGELES  2011  ...                    Store    200000    91606\n",
              "2          137  LOS ANGELES  2011  ...               Commercial    106190    91601\n",
              "3          424  LOS ANGELES  2011  ...  Single Family Residence    918000    90291\n",
              "4          436  LOS ANGELES  2011  ...  Single Family Residence   3750000    90291\n",
              "...        ...          ...   ...  ...                      ...       ...      ...\n",
              "751597  793187  LOS ANGELES  2011  ...  Single Family Residence    295900    91335\n",
              "751598  793188  LOS ANGELES  2011  ...  Single Family Residence     63297    91335\n",
              "751599  793189  LOS ANGELES  2011  ...  Single Family Residence    276700    91335\n",
              "751600  793190  LOS ANGELES  2011  ...  Single Family Residence    288000    91335\n",
              "751601  793191  LOS ANGELES  2011  ...  Single Family Residence     62532    91335\n",
              "\n",
              "[751602 rows x 8 columns]"
            ]
          },
          "metadata": {
            "tags": []
          },
          "execution_count": 40
        }
      ]
    },
    {
      "cell_type": "code",
      "metadata": {
        "colab": {
          "base_uri": "https://localhost:8080/"
        },
        "id": "Utix0Z9B81v6",
        "outputId": "2957cbf3-9693-4625-b7d7-1fa6a5c1d89f"
      },
      "source": [
        "records_df.info()"
      ],
      "execution_count": null,
      "outputs": [
        {
          "output_type": "stream",
          "text": [
            "<class 'pandas.core.frame.DataFrame'>\n",
            "RangeIndex: 751602 entries, 0 to 751601\n",
            "Data columns (total 8 columns):\n",
            " #   Column        Non-Null Count   Dtype   \n",
            "---  ------        --------------   -----   \n",
            " 0   level_0       751602 non-null  int64   \n",
            " 1   city          751602 non-null  object  \n",
            " 2   year          751602 non-null  int64   \n",
            " 3   assessor_id   751602 non-null  category\n",
            " 4   general_use   751602 non-null  category\n",
            " 5   specific_use  751602 non-null  category\n",
            " 6   net_value     751602 non-null  int64   \n",
            " 7   zip_code      751602 non-null  int64   \n",
            "dtypes: category(3), int64(4), object(1)\n",
            "memory usage: 58.7+ MB\n"
          ],
          "name": "stdout"
        }
      ]
    },
    {
      "cell_type": "markdown",
      "metadata": {
        "id": "bzxGEx1u9j9Q"
      },
      "source": [
        "###Categorical Consistency "
      ]
    },
    {
      "cell_type": "code",
      "metadata": {
        "colab": {
          "base_uri": "https://localhost:8080/"
        },
        "id": "x7CqQViw9m2f",
        "outputId": "c185bdf8-524a-43ea-f03b-37955be2c767"
      },
      "source": [
        "#consistent \n",
        "records_df[\"general_use\"].unique()"
      ],
      "execution_count": null,
      "outputs": [
        {
          "output_type": "execute_result",
          "data": {
            "text/plain": [
              "['Residential', 'Commercial', 'Institutional', 'Recreational', 'Industrial', 'Miscellaneous', '(unavailable)', 'Irrigated Farm', 'Dry Farm']\n",
              "Categories (9, object): ['Residential', 'Commercial', 'Institutional', 'Recreational', ...,\n",
              "                         'Miscellaneous', '(unavailable)', 'Irrigated Farm', 'Dry Farm']"
            ]
          },
          "metadata": {
            "tags": []
          },
          "execution_count": 46
        }
      ]
    },
    {
      "cell_type": "code",
      "metadata": {
        "colab": {
          "base_uri": "https://localhost:8080/"
        },
        "id": "bMibny9_9_5R",
        "outputId": "50848c89-2ec7-4512-a0ad-6506e55113b4"
      },
      "source": [
        "#consistent \n",
        "records_df[\"specific_use\"]"
      ],
      "execution_count": null,
      "outputs": [
        {
          "output_type": "execute_result",
          "data": {
            "text/plain": [
              "0         Single Family Residence\n",
              "1                           Store\n",
              "2                      Commercial\n",
              "3         Single Family Residence\n",
              "4         Single Family Residence\n",
              "                   ...           \n",
              "751597    Single Family Residence\n",
              "751598    Single Family Residence\n",
              "751599    Single Family Residence\n",
              "751600    Single Family Residence\n",
              "751601    Single Family Residence\n",
              "Name: specific_use, Length: 751602, dtype: category\n",
              "Categories (69, object): [' ', '(unavailable)', 'Animal Kennel',\n",
              "                          'Athletic and Amusement Facility', ..., 'Warehousing, Distribution, Storage', 'Waste',\n",
              "                          'Water Recreation', 'Wholesale and Manufacturing Outlet']"
            ]
          },
          "metadata": {
            "tags": []
          },
          "execution_count": 47
        }
      ]
    },
    {
      "cell_type": "markdown",
      "metadata": {
        "id": "zXeLAAXO-jbL"
      },
      "source": [
        "###  Referential integrity"
      ]
    },
    {
      "cell_type": "code",
      "metadata": {
        "id": "9lA8x_6G-qgS"
      },
      "source": [
        "#making the assessor_id a unique ID per parcel per year\n",
        "records_df['assessor_id'] = records_df[\"assessor_id\"].apply(lambda x: x +\"-2011\")"
      ],
      "execution_count": null,
      "outputs": []
    },
    {
      "cell_type": "code",
      "metadata": {
        "colab": {
          "base_uri": "https://localhost:8080/",
          "height": 419
        },
        "id": "n_OkPZtP-xy-",
        "outputId": "366afee7-35be-4de3-bcea-42807f4b05ce"
      },
      "source": [
        "records_df"
      ],
      "execution_count": null,
      "outputs": [
        {
          "output_type": "execute_result",
          "data": {
            "text/html": [
              "<div>\n",
              "<style scoped>\n",
              "    .dataframe tbody tr th:only-of-type {\n",
              "        vertical-align: middle;\n",
              "    }\n",
              "\n",
              "    .dataframe tbody tr th {\n",
              "        vertical-align: top;\n",
              "    }\n",
              "\n",
              "    .dataframe thead th {\n",
              "        text-align: right;\n",
              "    }\n",
              "</style>\n",
              "<table border=\"1\" class=\"dataframe\">\n",
              "  <thead>\n",
              "    <tr style=\"text-align: right;\">\n",
              "      <th></th>\n",
              "      <th>level_0</th>\n",
              "      <th>city</th>\n",
              "      <th>year</th>\n",
              "      <th>assessor_id</th>\n",
              "      <th>general_use</th>\n",
              "      <th>specific_use</th>\n",
              "      <th>net_value</th>\n",
              "      <th>zip_code</th>\n",
              "    </tr>\n",
              "  </thead>\n",
              "  <tbody>\n",
              "    <tr>\n",
              "      <th>0</th>\n",
              "      <td>0</td>\n",
              "      <td>LOS ANGELES</td>\n",
              "      <td>2011</td>\n",
              "      <td>2163-002-055-2011-2011</td>\n",
              "      <td>Residential</td>\n",
              "      <td>Single Family Residence</td>\n",
              "      <td>748233</td>\n",
              "      <td>91356</td>\n",
              "    </tr>\n",
              "    <tr>\n",
              "      <th>1</th>\n",
              "      <td>1</td>\n",
              "      <td>LOS ANGELES</td>\n",
              "      <td>2011</td>\n",
              "      <td>2338-010-020-2011-2011</td>\n",
              "      <td>Commercial</td>\n",
              "      <td>Store</td>\n",
              "      <td>200000</td>\n",
              "      <td>91606</td>\n",
              "    </tr>\n",
              "    <tr>\n",
              "      <th>2</th>\n",
              "      <td>2</td>\n",
              "      <td>LOS ANGELES</td>\n",
              "      <td>2011</td>\n",
              "      <td>2350-016-003-2011-2011</td>\n",
              "      <td>Commercial</td>\n",
              "      <td>Commercial</td>\n",
              "      <td>106190</td>\n",
              "      <td>91601</td>\n",
              "    </tr>\n",
              "    <tr>\n",
              "      <th>3</th>\n",
              "      <td>3</td>\n",
              "      <td>LOS ANGELES</td>\n",
              "      <td>2011</td>\n",
              "      <td>4227-003-038-2011-2011</td>\n",
              "      <td>Residential</td>\n",
              "      <td>Single Family Residence</td>\n",
              "      <td>918000</td>\n",
              "      <td>90291</td>\n",
              "    </tr>\n",
              "    <tr>\n",
              "      <th>4</th>\n",
              "      <td>4</td>\n",
              "      <td>LOS ANGELES</td>\n",
              "      <td>2011</td>\n",
              "      <td>4238-011-037-2011-2011</td>\n",
              "      <td>Residential</td>\n",
              "      <td>Single Family Residence</td>\n",
              "      <td>3750000</td>\n",
              "      <td>90291</td>\n",
              "    </tr>\n",
              "    <tr>\n",
              "      <th>...</th>\n",
              "      <td>...</td>\n",
              "      <td>...</td>\n",
              "      <td>...</td>\n",
              "      <td>...</td>\n",
              "      <td>...</td>\n",
              "      <td>...</td>\n",
              "      <td>...</td>\n",
              "      <td>...</td>\n",
              "    </tr>\n",
              "    <tr>\n",
              "      <th>751597</th>\n",
              "      <td>751597</td>\n",
              "      <td>LOS ANGELES</td>\n",
              "      <td>2011</td>\n",
              "      <td>2132-007-013-2011-2011</td>\n",
              "      <td>Residential</td>\n",
              "      <td>Single Family Residence</td>\n",
              "      <td>295900</td>\n",
              "      <td>91335</td>\n",
              "    </tr>\n",
              "    <tr>\n",
              "      <th>751598</th>\n",
              "      <td>751598</td>\n",
              "      <td>LOS ANGELES</td>\n",
              "      <td>2011</td>\n",
              "      <td>2132-007-011-2011-2011</td>\n",
              "      <td>Residential</td>\n",
              "      <td>Single Family Residence</td>\n",
              "      <td>63297</td>\n",
              "      <td>91335</td>\n",
              "    </tr>\n",
              "    <tr>\n",
              "      <th>751599</th>\n",
              "      <td>751599</td>\n",
              "      <td>LOS ANGELES</td>\n",
              "      <td>2011</td>\n",
              "      <td>2132-007-010-2011-2011</td>\n",
              "      <td>Residential</td>\n",
              "      <td>Single Family Residence</td>\n",
              "      <td>276700</td>\n",
              "      <td>91335</td>\n",
              "    </tr>\n",
              "    <tr>\n",
              "      <th>751600</th>\n",
              "      <td>751600</td>\n",
              "      <td>LOS ANGELES</td>\n",
              "      <td>2011</td>\n",
              "      <td>2132-007-012-2011-2011</td>\n",
              "      <td>Residential</td>\n",
              "      <td>Single Family Residence</td>\n",
              "      <td>288000</td>\n",
              "      <td>91335</td>\n",
              "    </tr>\n",
              "    <tr>\n",
              "      <th>751601</th>\n",
              "      <td>751601</td>\n",
              "      <td>LOS ANGELES</td>\n",
              "      <td>2011</td>\n",
              "      <td>2132-007-008-2011-2011</td>\n",
              "      <td>Residential</td>\n",
              "      <td>Single Family Residence</td>\n",
              "      <td>62532</td>\n",
              "      <td>91335</td>\n",
              "    </tr>\n",
              "  </tbody>\n",
              "</table>\n",
              "<p>751602 rows × 8 columns</p>\n",
              "</div>"
            ],
            "text/plain": [
              "        level_0         city  ...  net_value zip_code\n",
              "0             0  LOS ANGELES  ...     748233    91356\n",
              "1             1  LOS ANGELES  ...     200000    91606\n",
              "2             2  LOS ANGELES  ...     106190    91601\n",
              "3             3  LOS ANGELES  ...     918000    90291\n",
              "4             4  LOS ANGELES  ...    3750000    90291\n",
              "...         ...          ...  ...        ...      ...\n",
              "751597   751597  LOS ANGELES  ...     295900    91335\n",
              "751598   751598  LOS ANGELES  ...      63297    91335\n",
              "751599   751599  LOS ANGELES  ...     276700    91335\n",
              "751600   751600  LOS ANGELES  ...     288000    91335\n",
              "751601   751601  LOS ANGELES  ...      62532    91335\n",
              "\n",
              "[751602 rows x 8 columns]"
            ]
          },
          "metadata": {
            "tags": []
          },
          "execution_count": 49
        }
      ]
    },
    {
      "cell_type": "code",
      "metadata": {
        "id": "q1rZT8Xu_C_d"
      },
      "source": [
        "records_df = records_df.drop(columns=[\"level_0\"])"
      ],
      "execution_count": null,
      "outputs": []
    },
    {
      "cell_type": "code",
      "metadata": {
        "colab": {
          "base_uri": "https://localhost:8080/",
          "height": 419
        },
        "id": "Fvjk8EnN-nfu",
        "outputId": "eabbfe61-8d74-44e0-8873-e11f8fd5a003"
      },
      "source": [
        "records_df"
      ],
      "execution_count": null,
      "outputs": [
        {
          "output_type": "execute_result",
          "data": {
            "text/html": [
              "<div>\n",
              "<style scoped>\n",
              "    .dataframe tbody tr th:only-of-type {\n",
              "        vertical-align: middle;\n",
              "    }\n",
              "\n",
              "    .dataframe tbody tr th {\n",
              "        vertical-align: top;\n",
              "    }\n",
              "\n",
              "    .dataframe thead th {\n",
              "        text-align: right;\n",
              "    }\n",
              "</style>\n",
              "<table border=\"1\" class=\"dataframe\">\n",
              "  <thead>\n",
              "    <tr style=\"text-align: right;\">\n",
              "      <th></th>\n",
              "      <th>city</th>\n",
              "      <th>year</th>\n",
              "      <th>assessor_id</th>\n",
              "      <th>general_use</th>\n",
              "      <th>specific_use</th>\n",
              "      <th>net_value</th>\n",
              "      <th>zip_code</th>\n",
              "    </tr>\n",
              "  </thead>\n",
              "  <tbody>\n",
              "    <tr>\n",
              "      <th>0</th>\n",
              "      <td>LOS ANGELES</td>\n",
              "      <td>2011</td>\n",
              "      <td>2163-002-055-2011-2011</td>\n",
              "      <td>Residential</td>\n",
              "      <td>Single Family Residence</td>\n",
              "      <td>748233</td>\n",
              "      <td>91356</td>\n",
              "    </tr>\n",
              "    <tr>\n",
              "      <th>1</th>\n",
              "      <td>LOS ANGELES</td>\n",
              "      <td>2011</td>\n",
              "      <td>2338-010-020-2011-2011</td>\n",
              "      <td>Commercial</td>\n",
              "      <td>Store</td>\n",
              "      <td>200000</td>\n",
              "      <td>91606</td>\n",
              "    </tr>\n",
              "    <tr>\n",
              "      <th>2</th>\n",
              "      <td>LOS ANGELES</td>\n",
              "      <td>2011</td>\n",
              "      <td>2350-016-003-2011-2011</td>\n",
              "      <td>Commercial</td>\n",
              "      <td>Commercial</td>\n",
              "      <td>106190</td>\n",
              "      <td>91601</td>\n",
              "    </tr>\n",
              "    <tr>\n",
              "      <th>3</th>\n",
              "      <td>LOS ANGELES</td>\n",
              "      <td>2011</td>\n",
              "      <td>4227-003-038-2011-2011</td>\n",
              "      <td>Residential</td>\n",
              "      <td>Single Family Residence</td>\n",
              "      <td>918000</td>\n",
              "      <td>90291</td>\n",
              "    </tr>\n",
              "    <tr>\n",
              "      <th>4</th>\n",
              "      <td>LOS ANGELES</td>\n",
              "      <td>2011</td>\n",
              "      <td>4238-011-037-2011-2011</td>\n",
              "      <td>Residential</td>\n",
              "      <td>Single Family Residence</td>\n",
              "      <td>3750000</td>\n",
              "      <td>90291</td>\n",
              "    </tr>\n",
              "    <tr>\n",
              "      <th>...</th>\n",
              "      <td>...</td>\n",
              "      <td>...</td>\n",
              "      <td>...</td>\n",
              "      <td>...</td>\n",
              "      <td>...</td>\n",
              "      <td>...</td>\n",
              "      <td>...</td>\n",
              "    </tr>\n",
              "    <tr>\n",
              "      <th>751597</th>\n",
              "      <td>LOS ANGELES</td>\n",
              "      <td>2011</td>\n",
              "      <td>2132-007-013-2011-2011</td>\n",
              "      <td>Residential</td>\n",
              "      <td>Single Family Residence</td>\n",
              "      <td>295900</td>\n",
              "      <td>91335</td>\n",
              "    </tr>\n",
              "    <tr>\n",
              "      <th>751598</th>\n",
              "      <td>LOS ANGELES</td>\n",
              "      <td>2011</td>\n",
              "      <td>2132-007-011-2011-2011</td>\n",
              "      <td>Residential</td>\n",
              "      <td>Single Family Residence</td>\n",
              "      <td>63297</td>\n",
              "      <td>91335</td>\n",
              "    </tr>\n",
              "    <tr>\n",
              "      <th>751599</th>\n",
              "      <td>LOS ANGELES</td>\n",
              "      <td>2011</td>\n",
              "      <td>2132-007-010-2011-2011</td>\n",
              "      <td>Residential</td>\n",
              "      <td>Single Family Residence</td>\n",
              "      <td>276700</td>\n",
              "      <td>91335</td>\n",
              "    </tr>\n",
              "    <tr>\n",
              "      <th>751600</th>\n",
              "      <td>LOS ANGELES</td>\n",
              "      <td>2011</td>\n",
              "      <td>2132-007-012-2011-2011</td>\n",
              "      <td>Residential</td>\n",
              "      <td>Single Family Residence</td>\n",
              "      <td>288000</td>\n",
              "      <td>91335</td>\n",
              "    </tr>\n",
              "    <tr>\n",
              "      <th>751601</th>\n",
              "      <td>LOS ANGELES</td>\n",
              "      <td>2011</td>\n",
              "      <td>2132-007-008-2011-2011</td>\n",
              "      <td>Residential</td>\n",
              "      <td>Single Family Residence</td>\n",
              "      <td>62532</td>\n",
              "      <td>91335</td>\n",
              "    </tr>\n",
              "  </tbody>\n",
              "</table>\n",
              "<p>751602 rows × 7 columns</p>\n",
              "</div>"
            ],
            "text/plain": [
              "               city  year  ... net_value zip_code\n",
              "0       LOS ANGELES  2011  ...    748233    91356\n",
              "1       LOS ANGELES  2011  ...    200000    91606\n",
              "2       LOS ANGELES  2011  ...    106190    91601\n",
              "3       LOS ANGELES  2011  ...    918000    90291\n",
              "4       LOS ANGELES  2011  ...   3750000    90291\n",
              "...             ...   ...  ...       ...      ...\n",
              "751597  LOS ANGELES  2011  ...    295900    91335\n",
              "751598  LOS ANGELES  2011  ...     63297    91335\n",
              "751599  LOS ANGELES  2011  ...    276700    91335\n",
              "751600  LOS ANGELES  2011  ...    288000    91335\n",
              "751601  LOS ANGELES  2011  ...     62532    91335\n",
              "\n",
              "[751602 rows x 7 columns]"
            ]
          },
          "metadata": {
            "tags": []
          },
          "execution_count": 52
        }
      ]
    },
    {
      "cell_type": "markdown",
      "metadata": {
        "id": "aYDRoKMS_nb5"
      },
      "source": [
        "##Exporting Data"
      ]
    },
    {
      "cell_type": "code",
      "metadata": {
        "id": "Wc8-dw69_qmW"
      },
      "source": [
        "records_df.to_csv(\"gdrive/My Drive/Team 93 Capstone Project/data/Assessor_Parcels_Data_2011_CLEANED.csv\")"
      ],
      "execution_count": null,
      "outputs": []
    },
    {
      "cell_type": "code",
      "metadata": {
        "id": "zHEo40z8_9R0"
      },
      "source": [
        ""
      ],
      "execution_count": null,
      "outputs": []
    }
  ]
}
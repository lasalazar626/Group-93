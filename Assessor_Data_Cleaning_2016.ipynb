{
  "nbformat": 4,
  "nbformat_minor": 0,
  "metadata": {
    "colab": {
      "name": "Assessor Data Cleaning - 2016.ipynb",
      "provenance": [],
      "collapsed_sections": [],
      "authorship_tag": "ABX9TyNsGSrP+VEQwc/n+4IyB8Wp",
      "include_colab_link": true
    },
    "kernelspec": {
      "name": "python3",
      "display_name": "Python 3"
    },
    "language_info": {
      "name": "python"
    }
  },
  "cells": [
    {
      "cell_type": "markdown",
      "metadata": {
        "id": "view-in-github",
        "colab_type": "text"
      },
      "source": [
        "<a href=\"https://colab.research.google.com/github/sorayabailey23/Group-93/blob/main/Assessor_Data_Cleaning_2016.ipynb\" target=\"_parent\"><img src=\"https://colab.research.google.com/assets/colab-badge.svg\" alt=\"Open In Colab\"/></a>"
      ]
    },
    {
      "cell_type": "markdown",
      "metadata": {
        "id": "NCkY_HRffOx3"
      },
      "source": [
        "# Assessor Data Cleaning - 2015\n",
        "\n",
        "---\n",
        "\n"
      ]
    },
    {
      "cell_type": "code",
      "metadata": {
        "colab": {
          "base_uri": "https://localhost:8080/"
        },
        "id": "-VAEn9kMc05w",
        "outputId": "94673c50-197e-4f63-df1a-62cbe34a19eb"
      },
      "source": [
        "#importing libraries + drive\n",
        "\n",
        "from google.colab import drive\n",
        "drive.mount('/content/gdrive')"
      ],
      "execution_count": 1,
      "outputs": [
        {
          "output_type": "stream",
          "text": [
            "Mounted at /content/gdrive\n"
          ],
          "name": "stdout"
        }
      ]
    },
    {
      "cell_type": "code",
      "metadata": {
        "id": "ljH4c6VVc-Yc"
      },
      "source": [
        "import numpy as np\n",
        "import pandas as pd\n",
        "import math"
      ],
      "execution_count": 2,
      "outputs": []
    },
    {
      "cell_type": "markdown",
      "metadata": {
        "id": "JuXhCc6DnxXp"
      },
      "source": [
        "##Uploading + Exploring the Data \n",
        "\n",
        "I'll first upload the raw data and see what features it includes.\n"
      ]
    },
    {
      "cell_type": "code",
      "metadata": {
        "colab": {
          "base_uri": "https://localhost:8080/"
        },
        "id": "lxrs7T_IddbX",
        "outputId": "98f5adcd-8059-4043-d13f-229b7ae8c2eb"
      },
      "source": [
        "#Importing data from 2014 in Los Angeles \n",
        "records_df = pd.read_csv(\"gdrive/My Drive/Team 93 Capstone Project/data/Assessor_Parcels_Data_2016.csv\")"
      ],
      "execution_count": 3,
      "outputs": [
        {
          "output_type": "stream",
          "text": [
            "/usr/local/lib/python3.7/dist-packages/IPython/core/interactiveshell.py:2718: DtypeWarning: Columns (37) have mixed types.Specify dtype option on import or set low_memory=False.\n",
            "  interactivity=interactivity, compiler=compiler, result=result)\n"
          ],
          "name": "stderr"
        }
      ]
    },
    {
      "cell_type": "code",
      "metadata": {
        "colab": {
          "base_uri": "https://localhost:8080/",
          "height": 496
        },
        "id": "vMCCCrxGflQ0",
        "outputId": "5797b4ba-88de-42a7-e4b5-7fb4560fa4cf"
      },
      "source": [
        "records_df.head()"
      ],
      "execution_count": 4,
      "outputs": [
        {
          "output_type": "execute_result",
          "data": {
            "text/html": [
              "<div>\n",
              "<style scoped>\n",
              "    .dataframe tbody tr th:only-of-type {\n",
              "        vertical-align: middle;\n",
              "    }\n",
              "\n",
              "    .dataframe tbody tr th {\n",
              "        vertical-align: top;\n",
              "    }\n",
              "\n",
              "    .dataframe thead th {\n",
              "        text-align: right;\n",
              "    }\n",
              "</style>\n",
              "<table border=\"1\" class=\"dataframe\">\n",
              "  <thead>\n",
              "    <tr style=\"text-align: right;\">\n",
              "      <th></th>\n",
              "      <th>Unnamed: 0</th>\n",
              "      <th>situszip</th>\n",
              "      <th>taxratearea_city</th>\n",
              "      <th>ain</th>\n",
              "      <th>rollyear</th>\n",
              "      <th>taxratearea</th>\n",
              "      <th>assessorid</th>\n",
              "      <th>usetype</th>\n",
              "      <th>usecode</th>\n",
              "      <th>usecodedescchar1</th>\n",
              "      <th>usecodedescchar2</th>\n",
              "      <th>usecodedescchar3</th>\n",
              "      <th>usecodedescchar4</th>\n",
              "      <th>totbuildingdatalines</th>\n",
              "      <th>yearbuilt</th>\n",
              "      <th>effectiveyearbuilt</th>\n",
              "      <th>sqftmain</th>\n",
              "      <th>bedrooms</th>\n",
              "      <th>bathrooms</th>\n",
              "      <th>units</th>\n",
              "      <th>recordingdate</th>\n",
              "      <th>roll_landvalue</th>\n",
              "      <th>roll_landbaseyear</th>\n",
              "      <th>roll_impvalue</th>\n",
              "      <th>roll_impbaseyear</th>\n",
              "      <th>roll_totlandimp</th>\n",
              "      <th>roll_homeownersexemp</th>\n",
              "      <th>roll_realestateexemp</th>\n",
              "      <th>roll_fixturevalue</th>\n",
              "      <th>roll_fixtureexemp</th>\n",
              "      <th>roll_perspropvalue</th>\n",
              "      <th>roll_perspropexemp</th>\n",
              "      <th>istaxableparcel</th>\n",
              "      <th>roll_totalvalue</th>\n",
              "      <th>roll_totalexemption</th>\n",
              "      <th>nettaxablevalue</th>\n",
              "      <th>parcelclassification</th>\n",
              "      <th>adminregion</th>\n",
              "      <th>cluster</th>\n",
              "      <th>parcelboundarydescription</th>\n",
              "      <th>situshouseno</th>\n",
              "      <th>situsfraction</th>\n",
              "      <th>situsdirection</th>\n",
              "      <th>situsstreet</th>\n",
              "      <th>situsunit</th>\n",
              "      <th>situscity</th>\n",
              "      <th>rowid</th>\n",
              "      <th>center_lat</th>\n",
              "      <th>center_lon</th>\n",
              "      <th>location_1</th>\n",
              "      <th>propertylocation</th>\n",
              "      <th>situszip5</th>\n",
              "    </tr>\n",
              "  </thead>\n",
              "  <tbody>\n",
              "    <tr>\n",
              "      <th>0</th>\n",
              "      <td>0</td>\n",
              "      <td></td>\n",
              "      <td>LOS ANGELES</td>\n",
              "      <td>2501020108</td>\n",
              "      <td>2016</td>\n",
              "      <td>16</td>\n",
              "      <td>2501-020-108</td>\n",
              "      <td>VAC</td>\n",
              "      <td>010V</td>\n",
              "      <td>Residential</td>\n",
              "      <td>Single Family Residence</td>\n",
              "      <td></td>\n",
              "      <td>Vacant Land</td>\n",
              "      <td>0</td>\n",
              "      <td>0</td>\n",
              "      <td>0</td>\n",
              "      <td>0</td>\n",
              "      <td>0</td>\n",
              "      <td>0</td>\n",
              "      <td>0</td>\n",
              "      <td>20140812</td>\n",
              "      <td>208126</td>\n",
              "      <td>2015</td>\n",
              "      <td>0</td>\n",
              "      <td>2015</td>\n",
              "      <td>208126</td>\n",
              "      <td>0</td>\n",
              "      <td>0</td>\n",
              "      <td>0</td>\n",
              "      <td>0</td>\n",
              "      <td>0</td>\n",
              "      <td>0</td>\n",
              "      <td>Y</td>\n",
              "      <td>208126</td>\n",
              "      <td>0</td>\n",
              "      <td>208126</td>\n",
              "      <td></td>\n",
              "      <td>03</td>\n",
              "      <td>3125</td>\n",
              "      <td>P M 214-58-59 LOT B</td>\n",
              "      <td>0</td>\n",
              "      <td></td>\n",
              "      <td></td>\n",
              "      <td></td>\n",
              "      <td></td>\n",
              "      <td></td>\n",
              "      <td>20162501020108</td>\n",
              "      <td>34.316322</td>\n",
              "      <td>-118.463550</td>\n",
              "      <td>{'latitude': '34.31632226', 'longitude': '-118...</td>\n",
              "      <td>NaN</td>\n",
              "      <td>NaN</td>\n",
              "    </tr>\n",
              "    <tr>\n",
              "      <th>1</th>\n",
              "      <td>1</td>\n",
              "      <td></td>\n",
              "      <td>LOS ANGELES</td>\n",
              "      <td>2512008900</td>\n",
              "      <td>2016</td>\n",
              "      <td>16</td>\n",
              "      <td>2512-008-900</td>\n",
              "      <td>SFR</td>\n",
              "      <td>0100</td>\n",
              "      <td>Residential</td>\n",
              "      <td>Single Family Residence</td>\n",
              "      <td></td>\n",
              "      <td></td>\n",
              "      <td>0</td>\n",
              "      <td>0</td>\n",
              "      <td>0</td>\n",
              "      <td>0</td>\n",
              "      <td>0</td>\n",
              "      <td>0</td>\n",
              "      <td>0</td>\n",
              "      <td>19681126</td>\n",
              "      <td>0</td>\n",
              "      <td>1975</td>\n",
              "      <td>0</td>\n",
              "      <td>1975</td>\n",
              "      <td>0</td>\n",
              "      <td>0</td>\n",
              "      <td>0</td>\n",
              "      <td>0</td>\n",
              "      <td>0</td>\n",
              "      <td>0</td>\n",
              "      <td>0</td>\n",
              "      <td>N</td>\n",
              "      <td>0</td>\n",
              "      <td>0</td>\n",
              "      <td>0</td>\n",
              "      <td>Public (non-taxable government-owned)</td>\n",
              "      <td>03</td>\n",
              "      <td>3123</td>\n",
              "      <td>TRACT NO 25146 LOT   62</td>\n",
              "      <td>0</td>\n",
              "      <td></td>\n",
              "      <td></td>\n",
              "      <td></td>\n",
              "      <td></td>\n",
              "      <td></td>\n",
              "      <td>20162512008900</td>\n",
              "      <td>34.306218</td>\n",
              "      <td>-118.421359</td>\n",
              "      <td>{'latitude': '34.30621771', 'longitude': '-118...</td>\n",
              "      <td>NaN</td>\n",
              "      <td>NaN</td>\n",
              "    </tr>\n",
              "    <tr>\n",
              "      <th>2</th>\n",
              "      <td>2</td>\n",
              "      <td></td>\n",
              "      <td>LOS ANGELES</td>\n",
              "      <td>2537003083</td>\n",
              "      <td>2016</td>\n",
              "      <td>8856</td>\n",
              "      <td>2537-003-083</td>\n",
              "      <td>VAC</td>\n",
              "      <td>010V</td>\n",
              "      <td>Residential</td>\n",
              "      <td>Single Family Residence</td>\n",
              "      <td></td>\n",
              "      <td>Vacant Land</td>\n",
              "      <td>0</td>\n",
              "      <td>0</td>\n",
              "      <td>0</td>\n",
              "      <td>0</td>\n",
              "      <td>0</td>\n",
              "      <td>0</td>\n",
              "      <td>0</td>\n",
              "      <td>20121130</td>\n",
              "      <td>35229</td>\n",
              "      <td>2013</td>\n",
              "      <td>0</td>\n",
              "      <td>2013</td>\n",
              "      <td>35229</td>\n",
              "      <td>0</td>\n",
              "      <td>0</td>\n",
              "      <td>0</td>\n",
              "      <td>0</td>\n",
              "      <td>0</td>\n",
              "      <td>0</td>\n",
              "      <td>Y</td>\n",
              "      <td>35229</td>\n",
              "      <td>0</td>\n",
              "      <td>35229</td>\n",
              "      <td></td>\n",
              "      <td>03</td>\n",
              "      <td>3127</td>\n",
              "      <td>TR=61685 LOT 4</td>\n",
              "      <td>0</td>\n",
              "      <td></td>\n",
              "      <td></td>\n",
              "      <td></td>\n",
              "      <td></td>\n",
              "      <td></td>\n",
              "      <td>20162537003083</td>\n",
              "      <td>34.258921</td>\n",
              "      <td>-118.402325</td>\n",
              "      <td>{'latitude': '34.25892098', 'longitude': '-118...</td>\n",
              "      <td>NaN</td>\n",
              "      <td>NaN</td>\n",
              "    </tr>\n",
              "    <tr>\n",
              "      <th>3</th>\n",
              "      <td>3</td>\n",
              "      <td></td>\n",
              "      <td>LOS ANGELES</td>\n",
              "      <td>2513019053</td>\n",
              "      <td>2016</td>\n",
              "      <td>16</td>\n",
              "      <td>2513-019-053</td>\n",
              "      <td>VAC</td>\n",
              "      <td>010V</td>\n",
              "      <td>Residential</td>\n",
              "      <td>Single Family Residence</td>\n",
              "      <td></td>\n",
              "      <td>Vacant Land</td>\n",
              "      <td>0</td>\n",
              "      <td>0</td>\n",
              "      <td>0</td>\n",
              "      <td>0</td>\n",
              "      <td>0</td>\n",
              "      <td>0</td>\n",
              "      <td>0</td>\n",
              "      <td>20010524</td>\n",
              "      <td>2455</td>\n",
              "      <td>1987</td>\n",
              "      <td>0</td>\n",
              "      <td>1987</td>\n",
              "      <td>2455</td>\n",
              "      <td>0</td>\n",
              "      <td>0</td>\n",
              "      <td>0</td>\n",
              "      <td>0</td>\n",
              "      <td>0</td>\n",
              "      <td>0</td>\n",
              "      <td>Y</td>\n",
              "      <td>2455</td>\n",
              "      <td>0</td>\n",
              "      <td>2455</td>\n",
              "      <td></td>\n",
              "      <td>03</td>\n",
              "      <td>3126</td>\n",
              "      <td>TRACT # 5481 NE 35 FT OF LOT  123</td>\n",
              "      <td>0</td>\n",
              "      <td></td>\n",
              "      <td></td>\n",
              "      <td></td>\n",
              "      <td></td>\n",
              "      <td></td>\n",
              "      <td>20162513019053</td>\n",
              "      <td>34.297833</td>\n",
              "      <td>-118.424992</td>\n",
              "      <td>{'latitude': '34.29783318', 'longitude': '-118...</td>\n",
              "      <td>NaN</td>\n",
              "      <td>NaN</td>\n",
              "    </tr>\n",
              "    <tr>\n",
              "      <th>4</th>\n",
              "      <td>4</td>\n",
              "      <td></td>\n",
              "      <td>LOS ANGELES</td>\n",
              "      <td>2528008904</td>\n",
              "      <td>2016</td>\n",
              "      <td>13</td>\n",
              "      <td>2528-008-904</td>\n",
              "      <td>VAC</td>\n",
              "      <td>880V</td>\n",
              "      <td>Miscellaneous</td>\n",
              "      <td>Government Owned Property</td>\n",
              "      <td></td>\n",
              "      <td></td>\n",
              "      <td>0</td>\n",
              "      <td>0</td>\n",
              "      <td>0</td>\n",
              "      <td>0</td>\n",
              "      <td>0</td>\n",
              "      <td>0</td>\n",
              "      <td>0</td>\n",
              "      <td>19800701</td>\n",
              "      <td>0</td>\n",
              "      <td>1981</td>\n",
              "      <td>0</td>\n",
              "      <td>1975</td>\n",
              "      <td>0</td>\n",
              "      <td>0</td>\n",
              "      <td>0</td>\n",
              "      <td>0</td>\n",
              "      <td>0</td>\n",
              "      <td>0</td>\n",
              "      <td>0</td>\n",
              "      <td>N</td>\n",
              "      <td>0</td>\n",
              "      <td>0</td>\n",
              "      <td>0</td>\n",
              "      <td>Public (non-taxable government-owned)</td>\n",
              "      <td>03</td>\n",
              "      <td>3900</td>\n",
              "      <td>*TR=32258 LOT    3</td>\n",
              "      <td>0</td>\n",
              "      <td></td>\n",
              "      <td></td>\n",
              "      <td></td>\n",
              "      <td></td>\n",
              "      <td></td>\n",
              "      <td>20162528008904</td>\n",
              "      <td>34.256060</td>\n",
              "      <td>-118.391445</td>\n",
              "      <td>{'latitude': '34.25605994', 'longitude': '-118...</td>\n",
              "      <td>NaN</td>\n",
              "      <td>NaN</td>\n",
              "    </tr>\n",
              "  </tbody>\n",
              "</table>\n",
              "</div>"
            ],
            "text/plain": [
              "   Unnamed: 0 situszip  ... propertylocation  situszip5\n",
              "0           0           ...              NaN        NaN\n",
              "1           1           ...              NaN        NaN\n",
              "2           2           ...              NaN        NaN\n",
              "3           3           ...              NaN        NaN\n",
              "4           4           ...              NaN        NaN\n",
              "\n",
              "[5 rows x 52 columns]"
            ]
          },
          "metadata": {
            "tags": []
          },
          "execution_count": 4
        }
      ]
    },
    {
      "cell_type": "code",
      "metadata": {
        "colab": {
          "base_uri": "https://localhost:8080/"
        },
        "id": "gQbh0Kgye-UL",
        "outputId": "6d521782-a6f0-4ac1-afda-8d7d344a2799"
      },
      "source": [
        "records_df.columns"
      ],
      "execution_count": 5,
      "outputs": [
        {
          "output_type": "execute_result",
          "data": {
            "text/plain": [
              "Index(['Unnamed: 0', 'situszip', 'taxratearea_city', 'ain', 'rollyear',\n",
              "       'taxratearea', 'assessorid', 'usetype', 'usecode', 'usecodedescchar1',\n",
              "       'usecodedescchar2', 'usecodedescchar3', 'usecodedescchar4',\n",
              "       'totbuildingdatalines', 'yearbuilt', 'effectiveyearbuilt', 'sqftmain',\n",
              "       'bedrooms', 'bathrooms', 'units', 'recordingdate', 'roll_landvalue',\n",
              "       'roll_landbaseyear', 'roll_impvalue', 'roll_impbaseyear',\n",
              "       'roll_totlandimp', 'roll_homeownersexemp', 'roll_realestateexemp',\n",
              "       'roll_fixturevalue', 'roll_fixtureexemp', 'roll_perspropvalue',\n",
              "       'roll_perspropexemp', 'istaxableparcel', 'roll_totalvalue',\n",
              "       'roll_totalexemption', 'nettaxablevalue', 'parcelclassification',\n",
              "       'adminregion', 'cluster', 'parcelboundarydescription', 'situshouseno',\n",
              "       'situsfraction', 'situsdirection', 'situsstreet', 'situsunit',\n",
              "       'situscity', 'rowid', 'center_lat', 'center_lon', 'location_1',\n",
              "       'propertylocation', 'situszip5'],\n",
              "      dtype='object')"
            ]
          },
          "metadata": {
            "tags": []
          },
          "execution_count": 5
        }
      ]
    },
    {
      "cell_type": "code",
      "metadata": {
        "colab": {
          "base_uri": "https://localhost:8080/"
        },
        "id": "lfqk_ipUfD13",
        "outputId": "5eb687b9-bd07-4cd9-dc27-35ffaa828230"
      },
      "source": [
        "#verifying that we pulled data for the correct city + year \n",
        "records_df[\"taxratearea_city\"].unique()\n"
      ],
      "execution_count": 6,
      "outputs": [
        {
          "output_type": "execute_result",
          "data": {
            "text/plain": [
              "array(['LOS ANGELES'], dtype=object)"
            ]
          },
          "metadata": {
            "tags": []
          },
          "execution_count": 6
        }
      ]
    },
    {
      "cell_type": "code",
      "metadata": {
        "colab": {
          "base_uri": "https://localhost:8080/"
        },
        "id": "GYuUpNCe4QkN",
        "outputId": "005ba10e-9584-490a-f6e2-ec04e901db42"
      },
      "source": [
        "records_df[\"rollyear\"].unique()\n"
      ],
      "execution_count": 7,
      "outputs": [
        {
          "output_type": "execute_result",
          "data": {
            "text/plain": [
              "array([2016])"
            ]
          },
          "metadata": {
            "tags": []
          },
          "execution_count": 7
        }
      ]
    },
    {
      "cell_type": "code",
      "metadata": {
        "colab": {
          "base_uri": "https://localhost:8080/"
        },
        "id": "M2J81KULgBsX",
        "outputId": "ed90c536-266a-4d01-ab8b-4385079fe408"
      },
      "source": [
        "records_df.info()"
      ],
      "execution_count": 8,
      "outputs": [
        {
          "output_type": "stream",
          "text": [
            "<class 'pandas.core.frame.DataFrame'>\n",
            "RangeIndex: 797128 entries, 0 to 797127\n",
            "Data columns (total 52 columns):\n",
            " #   Column                     Non-Null Count   Dtype  \n",
            "---  ------                     --------------   -----  \n",
            " 0   Unnamed: 0                 797128 non-null  int64  \n",
            " 1   situszip                   797128 non-null  object \n",
            " 2   taxratearea_city           797128 non-null  object \n",
            " 3   ain                        797128 non-null  int64  \n",
            " 4   rollyear                   797128 non-null  int64  \n",
            " 5   taxratearea                797128 non-null  int64  \n",
            " 6   assessorid                 797128 non-null  object \n",
            " 7   usetype                    797128 non-null  object \n",
            " 8   usecode                    797128 non-null  object \n",
            " 9   usecodedescchar1           797128 non-null  object \n",
            " 10  usecodedescchar2           797128 non-null  object \n",
            " 11  usecodedescchar3           797128 non-null  object \n",
            " 12  usecodedescchar4           797128 non-null  object \n",
            " 13  totbuildingdatalines       797128 non-null  int64  \n",
            " 14  yearbuilt                  797128 non-null  int64  \n",
            " 15  effectiveyearbuilt         797128 non-null  int64  \n",
            " 16  sqftmain                   797128 non-null  int64  \n",
            " 17  bedrooms                   797128 non-null  int64  \n",
            " 18  bathrooms                  797128 non-null  int64  \n",
            " 19  units                      797128 non-null  int64  \n",
            " 20  recordingdate              797128 non-null  int64  \n",
            " 21  roll_landvalue             797128 non-null  int64  \n",
            " 22  roll_landbaseyear          797128 non-null  int64  \n",
            " 23  roll_impvalue              797128 non-null  int64  \n",
            " 24  roll_impbaseyear           797128 non-null  int64  \n",
            " 25  roll_totlandimp            797128 non-null  int64  \n",
            " 26  roll_homeownersexemp       797128 non-null  int64  \n",
            " 27  roll_realestateexemp       797128 non-null  int64  \n",
            " 28  roll_fixturevalue          797128 non-null  int64  \n",
            " 29  roll_fixtureexemp          797128 non-null  int64  \n",
            " 30  roll_perspropvalue         797128 non-null  int64  \n",
            " 31  roll_perspropexemp         797128 non-null  int64  \n",
            " 32  istaxableparcel            797128 non-null  object \n",
            " 33  roll_totalvalue            797128 non-null  int64  \n",
            " 34  roll_totalexemption        797128 non-null  int64  \n",
            " 35  nettaxablevalue            797128 non-null  int64  \n",
            " 36  parcelclassification       797128 non-null  object \n",
            " 37  adminregion                797128 non-null  object \n",
            " 38  cluster                    797128 non-null  int64  \n",
            " 39  parcelboundarydescription  797128 non-null  object \n",
            " 40  situshouseno               797128 non-null  int64  \n",
            " 41  situsfraction              797128 non-null  object \n",
            " 42  situsdirection             797128 non-null  object \n",
            " 43  situsstreet                797128 non-null  object \n",
            " 44  situsunit                  797128 non-null  object \n",
            " 45  situscity                  797128 non-null  object \n",
            " 46  rowid                      797128 non-null  int64  \n",
            " 47  center_lat                 797003 non-null  float64\n",
            " 48  center_lon                 797003 non-null  float64\n",
            " 49  location_1                 797003 non-null  object \n",
            " 50  propertylocation           756374 non-null  object \n",
            " 51  situszip5                  756308 non-null  float64\n",
            "dtypes: float64(3), int64(29), object(20)\n",
            "memory usage: 316.2+ MB\n"
          ],
          "name": "stdout"
        }
      ]
    },
    {
      "cell_type": "markdown",
      "metadata": {
        "id": "YnAWXm-moobd"
      },
      "source": [
        "## Relevance \n",
        "\n",
        "The dataset includes a lot of information that I don't need. For this section, I'll \n",
        "\n",
        "\n",
        "1.   Drop the columns that I don't need \n",
        "2.   Check the remaining columns for unique values\n",
        "1.   Handle missing values, including dropping data that does not include zip codes\n",
        "\n",
        "\n",
        "\n",
        "\n"
      ]
    },
    {
      "cell_type": "markdown",
      "metadata": {
        "id": "7gfuNxT-vPjj"
      },
      "source": [
        "###Determining which columns to drop"
      ]
    },
    {
      "cell_type": "code",
      "metadata": {
        "id": "eADWVKnugHQ_"
      },
      "source": [
        "#dropping irrelevant columns\n",
        "\n",
        "records_df = records_df.drop(columns=['Unnamed: 0', 'situszip','ain',\n",
        "       'taxratearea', 'usetype', 'usecode','usecodedescchar3', 'usecodedescchar4',\n",
        "       'totbuildingdatalines', 'yearbuilt', 'effectiveyearbuilt', 'sqftmain',\n",
        "       'bedrooms', 'bathrooms', 'units', 'recordingdate', 'roll_landvalue',\n",
        "       'roll_landbaseyear', 'roll_impvalue', 'roll_impbaseyear',\n",
        "       'roll_totlandimp', 'roll_homeownersexemp', 'roll_realestateexemp',\n",
        "       'roll_fixturevalue', 'roll_fixtureexemp', 'roll_perspropvalue',\n",
        "       'roll_perspropexemp', 'istaxableparcel', 'roll_totalvalue',\n",
        "       'roll_totalexemption',\n",
        "       'adminregion', 'cluster', 'parcelboundarydescription', 'situshouseno',\n",
        "       'situsfraction', 'situsdirection', 'situsstreet', 'situsunit',\n",
        "       'situscity', 'rowid', 'center_lat', 'center_lon', 'location_1','propertylocation', \"parcelclassification\"])\n"
      ],
      "execution_count": 9,
      "outputs": []
    },
    {
      "cell_type": "code",
      "metadata": {
        "colab": {
          "base_uri": "https://localhost:8080/",
          "height": 204
        },
        "id": "eO3Qf49aiSfa",
        "outputId": "286f9712-c428-4d27-ab4c-1a38e57d787b"
      },
      "source": [
        "records_df.head()"
      ],
      "execution_count": 10,
      "outputs": [
        {
          "output_type": "execute_result",
          "data": {
            "text/html": [
              "<div>\n",
              "<style scoped>\n",
              "    .dataframe tbody tr th:only-of-type {\n",
              "        vertical-align: middle;\n",
              "    }\n",
              "\n",
              "    .dataframe tbody tr th {\n",
              "        vertical-align: top;\n",
              "    }\n",
              "\n",
              "    .dataframe thead th {\n",
              "        text-align: right;\n",
              "    }\n",
              "</style>\n",
              "<table border=\"1\" class=\"dataframe\">\n",
              "  <thead>\n",
              "    <tr style=\"text-align: right;\">\n",
              "      <th></th>\n",
              "      <th>taxratearea_city</th>\n",
              "      <th>rollyear</th>\n",
              "      <th>assessorid</th>\n",
              "      <th>usecodedescchar1</th>\n",
              "      <th>usecodedescchar2</th>\n",
              "      <th>nettaxablevalue</th>\n",
              "      <th>situszip5</th>\n",
              "    </tr>\n",
              "  </thead>\n",
              "  <tbody>\n",
              "    <tr>\n",
              "      <th>0</th>\n",
              "      <td>LOS ANGELES</td>\n",
              "      <td>2016</td>\n",
              "      <td>2501-020-108</td>\n",
              "      <td>Residential</td>\n",
              "      <td>Single Family Residence</td>\n",
              "      <td>208126</td>\n",
              "      <td>NaN</td>\n",
              "    </tr>\n",
              "    <tr>\n",
              "      <th>1</th>\n",
              "      <td>LOS ANGELES</td>\n",
              "      <td>2016</td>\n",
              "      <td>2512-008-900</td>\n",
              "      <td>Residential</td>\n",
              "      <td>Single Family Residence</td>\n",
              "      <td>0</td>\n",
              "      <td>NaN</td>\n",
              "    </tr>\n",
              "    <tr>\n",
              "      <th>2</th>\n",
              "      <td>LOS ANGELES</td>\n",
              "      <td>2016</td>\n",
              "      <td>2537-003-083</td>\n",
              "      <td>Residential</td>\n",
              "      <td>Single Family Residence</td>\n",
              "      <td>35229</td>\n",
              "      <td>NaN</td>\n",
              "    </tr>\n",
              "    <tr>\n",
              "      <th>3</th>\n",
              "      <td>LOS ANGELES</td>\n",
              "      <td>2016</td>\n",
              "      <td>2513-019-053</td>\n",
              "      <td>Residential</td>\n",
              "      <td>Single Family Residence</td>\n",
              "      <td>2455</td>\n",
              "      <td>NaN</td>\n",
              "    </tr>\n",
              "    <tr>\n",
              "      <th>4</th>\n",
              "      <td>LOS ANGELES</td>\n",
              "      <td>2016</td>\n",
              "      <td>2528-008-904</td>\n",
              "      <td>Miscellaneous</td>\n",
              "      <td>Government Owned Property</td>\n",
              "      <td>0</td>\n",
              "      <td>NaN</td>\n",
              "    </tr>\n",
              "  </tbody>\n",
              "</table>\n",
              "</div>"
            ],
            "text/plain": [
              "  taxratearea_city  rollyear  ... nettaxablevalue situszip5\n",
              "0      LOS ANGELES      2016  ...          208126       NaN\n",
              "1      LOS ANGELES      2016  ...               0       NaN\n",
              "2      LOS ANGELES      2016  ...           35229       NaN\n",
              "3      LOS ANGELES      2016  ...            2455       NaN\n",
              "4      LOS ANGELES      2016  ...               0       NaN\n",
              "\n",
              "[5 rows x 7 columns]"
            ]
          },
          "metadata": {
            "tags": []
          },
          "execution_count": 10
        }
      ]
    },
    {
      "cell_type": "code",
      "metadata": {
        "id": "dTZFuqdtjZhG"
      },
      "source": [
        "#renaming columns to more recongizable names\n",
        "records_df.columns=[\"city\", \"year\", \"assessor_id\",\"general_use\", \"specific_use\",\"net_value\", \"zip_code\"]"
      ],
      "execution_count": 11,
      "outputs": []
    },
    {
      "cell_type": "markdown",
      "metadata": {
        "id": "7CDOlnKKy3QF"
      },
      "source": [
        "###Handling Missing Values in [\"assessor_id\"] (none!)"
      ]
    },
    {
      "cell_type": "code",
      "metadata": {
        "colab": {
          "base_uri": "https://localhost:8080/"
        },
        "id": "hd6pxjgay4UW",
        "outputId": "05bd7464-3183-41c9-e1a9-1dc28f97bff8"
      },
      "source": [
        "len(records_df['assessor_id'].unique())"
      ],
      "execution_count": 12,
      "outputs": [
        {
          "output_type": "execute_result",
          "data": {
            "text/plain": [
              "797128"
            ]
          },
          "metadata": {
            "tags": []
          },
          "execution_count": 12
        }
      ]
    },
    {
      "cell_type": "code",
      "metadata": {
        "colab": {
          "base_uri": "https://localhost:8080/"
        },
        "id": "y7h03GazzKd_",
        "outputId": "c69c0700-4bcb-4032-a618-2487b8f121a6"
      },
      "source": [
        "records_df['assessor_id'].isnull().sum()"
      ],
      "execution_count": 13,
      "outputs": [
        {
          "output_type": "execute_result",
          "data": {
            "text/plain": [
              "0"
            ]
          },
          "metadata": {
            "tags": []
          },
          "execution_count": 13
        }
      ]
    },
    {
      "cell_type": "code",
      "metadata": {
        "id": "2cFxx0KyzW7m"
      },
      "source": [
        "#this series is good to go"
      ],
      "execution_count": null,
      "outputs": []
    },
    {
      "cell_type": "markdown",
      "metadata": {
        "id": "ReWrRY0oporI"
      },
      "source": [
        "### Handling Missing Values in [\"general_use\"]"
      ]
    },
    {
      "cell_type": "code",
      "metadata": {
        "colab": {
          "base_uri": "https://localhost:8080/"
        },
        "id": "l4e1TOk4jt9R",
        "outputId": "05a70749-3c14-44bc-de25-09f5e4d11244"
      },
      "source": [
        "#we have entries w/ nan and (unavailable) string\n",
        "records_df[\"general_use\"].unique()"
      ],
      "execution_count": 14,
      "outputs": [
        {
          "output_type": "execute_result",
          "data": {
            "text/plain": [
              "array(['Residential', 'Miscellaneous', 'Industrial', 'Institutional',\n",
              "       'Commercial', '(missing)', 'Recreational', 'Dry Farm',\n",
              "       'Irrigated Farm'], dtype=object)"
            ]
          },
          "metadata": {
            "tags": []
          },
          "execution_count": 14
        }
      ]
    },
    {
      "cell_type": "code",
      "metadata": {
        "colab": {
          "base_uri": "https://localhost:8080/"
        },
        "id": "WDSETMuEmk0f",
        "outputId": "0399caae-adea-4c57-a790-a23241c2a504"
      },
      "source": [
        "#checking how many nans in general_use\n",
        "records_df['general_use'].isnull().sum()"
      ],
      "execution_count": null,
      "outputs": [
        {
          "output_type": "execute_result",
          "data": {
            "text/plain": [
              "11"
            ]
          },
          "metadata": {
            "tags": []
          },
          "execution_count": 15
        }
      ]
    },
    {
      "cell_type": "code",
      "metadata": {
        "colab": {
          "base_uri": "https://localhost:8080/"
        },
        "id": "piYOjeBwnJDo",
        "outputId": "14dd7f91-185b-4627-8ab2-fdf9621a32c7"
      },
      "source": [
        "#replacing nan with (unavailable)\n",
        "records_df[\"general_use\"] = records_df[\"general_use\"].fillna('(unavailable)')\n",
        "records_df[\"general_use\"].unique()"
      ],
      "execution_count": 15,
      "outputs": [
        {
          "output_type": "execute_result",
          "data": {
            "text/plain": [
              "array(['Residential', 'Miscellaneous', 'Industrial', 'Institutional',\n",
              "       'Commercial', '(missing)', 'Recreational', 'Dry Farm',\n",
              "       'Irrigated Farm'], dtype=object)"
            ]
          },
          "metadata": {
            "tags": []
          },
          "execution_count": 15
        }
      ]
    },
    {
      "cell_type": "markdown",
      "metadata": {
        "id": "0GufVSxFqCKE"
      },
      "source": [
        "###Handling Missing Values in [\"specific_use\"]"
      ]
    },
    {
      "cell_type": "code",
      "metadata": {
        "colab": {
          "base_uri": "https://localhost:8080/"
        },
        "id": "HAHuT5nbluSs",
        "outputId": "7f1e755b-1eed-4bad-95ee-cc10deb4005f"
      },
      "source": [
        "#there is an empty string in this column that we should replace with nan or Not Available \n",
        "records_df[\"specific_use\"].unique()"
      ],
      "execution_count": 16,
      "outputs": [
        {
          "output_type": "execute_result",
          "data": {
            "text/plain": [
              "array(['Single Family Residence', 'Government Owned Property', 'Utility',\n",
              "       'Industrial', 'School (Private)', 'Commercial', 'Open Storage',\n",
              "       '(missing)', 'Parking Lot (Commercial Use Property)',\n",
              "       'Light Manufacturing', 'Double, Duplex, or Two Units',\n",
              "       'Five or More Units or Apartments (Any Combination)',\n",
              "       'Service Station', 'Store', 'Church', 'Golf Course',\n",
              "       'Office Building', 'Motion Picture, Radio and Television Industry',\n",
              "       'Parking Lot (Industrial Use Property)', 'Store Combination',\n",
              "       'Rights of Way', 'Shopping Center (Regional)',\n",
              "       'Four Units  (Any Combination)', 'Heavy Manufacturing',\n",
              "       'Mineral Processing', 'Desert', 'Food Processing Plant',\n",
              "       'Auto, Recreation Equipment, Construction Equipment Sales and Service',\n",
              "       'Warehousing, Distribution, Storage',\n",
              "       'Three Units (Any Combination)', 'Manufactured Home Park',\n",
              "       'Hotel and Motel', 'Homes for Aged and Others',\n",
              "       'Cemetery, Mausoleum, Mortuary', \"Children's Day Care Center\",\n",
              "       'Professional Building',\n",
              "       'Club, Lodge Hall, Fraternal Organization',\n",
              "       'Athletic and Amusement Facility', 'Manufactured Home',\n",
              "       'Restaurant, Cocktail Lounge',\n",
              "       'Shopping Center (Neighborhood, Community)',\n",
              "       'Nursery or Greenhouse', 'Hospital', 'Bank, Savings and Loan',\n",
              "       'Supermarket',\n",
              "       'Non-Auto Service and Repair Shop, Paint Shop, or Laundry', ' ',\n",
              "       'Dairy', 'Race Track', 'Senior Day Care Center',\n",
              "       'Department Store', 'Lumber Yard', 'Animal Kennel', 'Dump Site',\n",
              "       'Privately Owned', 'Waste', 'Poultry, etc.', 'Pipeline, Canal',\n",
              "       'Theater', 'Camp', 'Wholesale and Manufacturing Outlet',\n",
              "       'Rooming/Boarding House', 'Rivers and Lakes', 'Pasture',\n",
              "       'Skating Rink', 'College, University (Private)', 'Bowling Alley',\n",
              "       'Fruits and Nuts', 'Water Recreation', 'Petroleum and Gas',\n",
              "       'Field Crops', 'Timber - Pine'], dtype=object)"
            ]
          },
          "metadata": {
            "tags": []
          },
          "execution_count": 16
        }
      ]
    },
    {
      "cell_type": "code",
      "metadata": {
        "id": "jq8kMCG_rEXt"
      },
      "source": [
        "records_df[\"specific_use\"]= records_df[\"specific_use\"].fillna('(unavailable)')"
      ],
      "execution_count": 17,
      "outputs": []
    },
    {
      "cell_type": "code",
      "metadata": {
        "colab": {
          "base_uri": "https://localhost:8080/"
        },
        "id": "uh9gY_ejrrnt",
        "outputId": "025ff495-694a-4921-f85f-8233291ab507"
      },
      "source": [
        "records_df[\"specific_use\"].unique()"
      ],
      "execution_count": 18,
      "outputs": [
        {
          "output_type": "execute_result",
          "data": {
            "text/plain": [
              "array(['Single Family Residence', 'Government Owned Property', 'Utility',\n",
              "       'Industrial', 'School (Private)', 'Commercial', 'Open Storage',\n",
              "       '(missing)', 'Parking Lot (Commercial Use Property)',\n",
              "       'Light Manufacturing', 'Double, Duplex, or Two Units',\n",
              "       'Five or More Units or Apartments (Any Combination)',\n",
              "       'Service Station', 'Store', 'Church', 'Golf Course',\n",
              "       'Office Building', 'Motion Picture, Radio and Television Industry',\n",
              "       'Parking Lot (Industrial Use Property)', 'Store Combination',\n",
              "       'Rights of Way', 'Shopping Center (Regional)',\n",
              "       'Four Units  (Any Combination)', 'Heavy Manufacturing',\n",
              "       'Mineral Processing', 'Desert', 'Food Processing Plant',\n",
              "       'Auto, Recreation Equipment, Construction Equipment Sales and Service',\n",
              "       'Warehousing, Distribution, Storage',\n",
              "       'Three Units (Any Combination)', 'Manufactured Home Park',\n",
              "       'Hotel and Motel', 'Homes for Aged and Others',\n",
              "       'Cemetery, Mausoleum, Mortuary', \"Children's Day Care Center\",\n",
              "       'Professional Building',\n",
              "       'Club, Lodge Hall, Fraternal Organization',\n",
              "       'Athletic and Amusement Facility', 'Manufactured Home',\n",
              "       'Restaurant, Cocktail Lounge',\n",
              "       'Shopping Center (Neighborhood, Community)',\n",
              "       'Nursery or Greenhouse', 'Hospital', 'Bank, Savings and Loan',\n",
              "       'Supermarket',\n",
              "       'Non-Auto Service and Repair Shop, Paint Shop, or Laundry', ' ',\n",
              "       'Dairy', 'Race Track', 'Senior Day Care Center',\n",
              "       'Department Store', 'Lumber Yard', 'Animal Kennel', 'Dump Site',\n",
              "       'Privately Owned', 'Waste', 'Poultry, etc.', 'Pipeline, Canal',\n",
              "       'Theater', 'Camp', 'Wholesale and Manufacturing Outlet',\n",
              "       'Rooming/Boarding House', 'Rivers and Lakes', 'Pasture',\n",
              "       'Skating Rink', 'College, University (Private)', 'Bowling Alley',\n",
              "       'Fruits and Nuts', 'Water Recreation', 'Petroleum and Gas',\n",
              "       'Field Crops', 'Timber - Pine'], dtype=object)"
            ]
          },
          "metadata": {
            "tags": []
          },
          "execution_count": 18
        }
      ]
    },
    {
      "cell_type": "markdown",
      "metadata": {
        "id": "Z7qACCGMsjCh"
      },
      "source": [
        "###Handling Missing Values in [\"net_value\"]"
      ]
    },
    {
      "cell_type": "code",
      "metadata": {
        "colab": {
          "base_uri": "https://localhost:8080/"
        },
        "id": "HrviLMgEsqx0",
        "outputId": "58e795d1-013d-4df9-d3de-97ba17937be3"
      },
      "source": [
        "#this is good to go\n",
        "records_df['net_value'].isnull().sum()"
      ],
      "execution_count": 19,
      "outputs": [
        {
          "output_type": "execute_result",
          "data": {
            "text/plain": [
              "0"
            ]
          },
          "metadata": {
            "tags": []
          },
          "execution_count": 19
        }
      ]
    },
    {
      "cell_type": "markdown",
      "metadata": {
        "id": "-e6SP1P5tWl2"
      },
      "source": [
        "###Handling Missing Values in [\"zip_code\"]"
      ]
    },
    {
      "cell_type": "code",
      "metadata": {
        "colab": {
          "base_uri": "https://localhost:8080/"
        },
        "id": "c25sl2oHtsKp",
        "outputId": "3ed654b5-aa96-49e2-c9a8-a4084a700f38"
      },
      "source": [
        "#good to go\n",
        "records_df['zip_code'].unique()"
      ],
      "execution_count": 20,
      "outputs": [
        {
          "output_type": "execute_result",
          "data": {
            "text/plain": [
              "array([   nan, 91343., 91405., 90064., 90033., 91342., 91345., 91402.,\n",
              "       91406., 91335., 91324., 91306., 91344., 91387., 91340., 91331.,\n",
              "       91352., 91040., 91311., 91042., 91024., 90057., 91214., 91353.,\n",
              "       91605., 90045., 91346., 91307., 91304., 91303., 91367., 91364.,\n",
              "       91356., 91302., 91325., 91316., 91401., 91606., 91411., 90230.,\n",
              "       91423., 91403., 91436., 90210., 90077., 91243., 90049., 90001.,\n",
              "       91607., 91601., 99606., 91066., 90066., 91006., 90068., 91602.,\n",
              "       91604., 91499., 91064., 90046., 91504., 91505., 93510., 91612.,\n",
              "       90601., 91608., 91329., 91326., 91362., 93063., 91330., 91301.,\n",
              "       90056., 90043., 90302., 90047., 90036., 90293., 90040., 90291.,\n",
              "       90009., 90245., 90094., 90232., 90292., 90034., 90016., 90041.,\n",
              "       90015., 90011., 90063., 92008., 90037., 90006., 90031., 90023.,\n",
              "       90012., 90019., 90065., 90014., 90017., 95648., 90405., 90026.,\n",
              "       90025., 90402., 90403., 90042., 90035., 90290., 90297., 90048.,\n",
              "       90067., 90024., 90212., 90069., 90211., 94513., 90095., 90039.,\n",
              "       90027., 90022., 90631., 90272., 90020., 94707., 90270., 90053.,\n",
              "       90265., 90044., 90062., 90003., 90058., 90018., 90008., 90007.,\n",
              "       90089., 90005., 90028., 90021., 90029., 90010., 90038., 90013.,\n",
              "       90004., 90079., 90032., 90071., 92806., 91030., 91204., 91205.,\n",
              "       60038., 91201., 91206., 91105., 91101., 90732., 90209., 90052.,\n",
              "       90002., 90059., 90239., 90061., 90051., 90247., 90248., 90501.,\n",
              "       90744., 90745., 90813., 90810., 90746., 90502., 90717., 90710.,\n",
              "       90731., 90712., 90734., 92805., 90815., 90748., 90733., 90822.,\n",
              "       90275., 92802.])"
            ]
          },
          "metadata": {
            "tags": []
          },
          "execution_count": 20
        }
      ]
    },
    {
      "cell_type": "markdown",
      "metadata": {
        "id": "ts4jqOcDvaDz"
      },
      "source": [
        ""
      ]
    },
    {
      "cell_type": "markdown",
      "metadata": {
        "id": "lY2D0rTM1LBf"
      },
      "source": [
        "###Dropping Data w/o Zip Codes"
      ]
    },
    {
      "cell_type": "code",
      "metadata": {
        "id": "iGDU6SRZ1V2_"
      },
      "source": [
        "records_df = records_df[records_df['zip_code'].notna()]"
      ],
      "execution_count": 21,
      "outputs": []
    },
    {
      "cell_type": "code",
      "metadata": {
        "id": "txKUvLdi38Lc"
      },
      "source": [
        "records_df = records_df.reset_index()\n",
        "records_df = records_df.drop(columns=['index'])"
      ],
      "execution_count": 22,
      "outputs": []
    },
    {
      "cell_type": "markdown",
      "metadata": {
        "id": "6JgE_Lf0vcMY"
      },
      "source": [
        "##Consistency\n",
        "Now that I've handles missing values, I will check consistency over: \n",
        "\n",
        "\n",
        "1.   Data type\n",
        "2.   Categorical \n",
        "2.  Referential integrity\n",
        "\n",
        "\n"
      ]
    },
    {
      "cell_type": "markdown",
      "metadata": {
        "id": "QXWw3cnZzgKu"
      },
      "source": [
        "###Data type"
      ]
    },
    {
      "cell_type": "code",
      "metadata": {
        "colab": {
          "base_uri": "https://localhost:8080/"
        },
        "id": "c1uhByKgzy8L",
        "outputId": "1b603790-b116-4335-c34c-b09c36442ae9"
      },
      "source": [
        "records_df.info()"
      ],
      "execution_count": 23,
      "outputs": [
        {
          "output_type": "stream",
          "text": [
            "<class 'pandas.core.frame.DataFrame'>\n",
            "RangeIndex: 756308 entries, 0 to 756307\n",
            "Data columns (total 7 columns):\n",
            " #   Column        Non-Null Count   Dtype  \n",
            "---  ------        --------------   -----  \n",
            " 0   city          756308 non-null  object \n",
            " 1   year          756308 non-null  int64  \n",
            " 2   assessor_id   756308 non-null  object \n",
            " 3   general_use   756308 non-null  object \n",
            " 4   specific_use  756308 non-null  object \n",
            " 5   net_value     756308 non-null  int64  \n",
            " 6   zip_code      756308 non-null  float64\n",
            "dtypes: float64(1), int64(2), object(4)\n",
            "memory usage: 40.4+ MB\n"
          ],
          "name": "stdout"
        }
      ]
    },
    {
      "cell_type": "code",
      "metadata": {
        "id": "-2O6lEu0z68z"
      },
      "source": [
        "#changing to category type \n",
        "records_df[\"assessor_id\"] = records_df[\"assessor_id\"].astype(\"category\")\n",
        "records_df[\"general_use\"] = records_df[\"general_use\"].astype(\"category\")\n",
        "records_df[\"specific_use\"] = records_df[\"specific_use\"].astype(\"category\")\n",
        "\n",
        "#since all NaN have been removed, change type of zip code column to int. this may change later\n",
        "records_df[\"zip_code\"] = records_df[\"zip_code\"].astype(\"int\")\n",
        "\n",
        "#change year to datetime format\n",
        "records_df[\"year\"] = pd.to_datetime(records_df['year'], format='%Y')"
      ],
      "execution_count": 25,
      "outputs": []
    },
    {
      "cell_type": "code",
      "metadata": {
        "id": "Lqz_AATz7DwX"
      },
      "source": [
        "records_df[\"year\"] = records_df[\"year\"].dt.year"
      ],
      "execution_count": 26,
      "outputs": []
    },
    {
      "cell_type": "code",
      "metadata": {
        "colab": {
          "base_uri": "https://localhost:8080/",
          "height": 419
        },
        "id": "_xgmtqrP9K7G",
        "outputId": "0b05bb8b-07c5-4686-9e74-e9cb4f5339f6"
      },
      "source": [
        "records_df"
      ],
      "execution_count": 27,
      "outputs": [
        {
          "output_type": "execute_result",
          "data": {
            "text/html": [
              "<div>\n",
              "<style scoped>\n",
              "    .dataframe tbody tr th:only-of-type {\n",
              "        vertical-align: middle;\n",
              "    }\n",
              "\n",
              "    .dataframe tbody tr th {\n",
              "        vertical-align: top;\n",
              "    }\n",
              "\n",
              "    .dataframe thead th {\n",
              "        text-align: right;\n",
              "    }\n",
              "</style>\n",
              "<table border=\"1\" class=\"dataframe\">\n",
              "  <thead>\n",
              "    <tr style=\"text-align: right;\">\n",
              "      <th></th>\n",
              "      <th>city</th>\n",
              "      <th>year</th>\n",
              "      <th>assessor_id</th>\n",
              "      <th>general_use</th>\n",
              "      <th>specific_use</th>\n",
              "      <th>net_value</th>\n",
              "      <th>zip_code</th>\n",
              "    </tr>\n",
              "  </thead>\n",
              "  <tbody>\n",
              "    <tr>\n",
              "      <th>0</th>\n",
              "      <td>LOS ANGELES</td>\n",
              "      <td>2016</td>\n",
              "      <td>2656-022-014</td>\n",
              "      <td>Residential</td>\n",
              "      <td>Single Family Residence</td>\n",
              "      <td>536051</td>\n",
              "      <td>91343</td>\n",
              "    </tr>\n",
              "    <tr>\n",
              "      <th>1</th>\n",
              "      <td>LOS ANGELES</td>\n",
              "      <td>2016</td>\n",
              "      <td>2216-031-027</td>\n",
              "      <td>Residential</td>\n",
              "      <td>Single Family Residence</td>\n",
              "      <td>75986</td>\n",
              "      <td>91405</td>\n",
              "    </tr>\n",
              "    <tr>\n",
              "      <th>2</th>\n",
              "      <td>LOS ANGELES</td>\n",
              "      <td>2016</td>\n",
              "      <td>4322-016-028</td>\n",
              "      <td>Residential</td>\n",
              "      <td>Single Family Residence</td>\n",
              "      <td>1200000</td>\n",
              "      <td>90064</td>\n",
              "    </tr>\n",
              "    <tr>\n",
              "      <th>3</th>\n",
              "      <td>LOS ANGELES</td>\n",
              "      <td>2016</td>\n",
              "      <td>5175-032-021</td>\n",
              "      <td>Residential</td>\n",
              "      <td>Five or More Units or Apartments (Any Combinat...</td>\n",
              "      <td>348677</td>\n",
              "      <td>90033</td>\n",
              "    </tr>\n",
              "    <tr>\n",
              "      <th>4</th>\n",
              "      <td>LOS ANGELES</td>\n",
              "      <td>2016</td>\n",
              "      <td>2529-019-005</td>\n",
              "      <td>Residential</td>\n",
              "      <td>Single Family Residence</td>\n",
              "      <td>529400</td>\n",
              "      <td>91342</td>\n",
              "    </tr>\n",
              "    <tr>\n",
              "      <th>...</th>\n",
              "      <td>...</td>\n",
              "      <td>...</td>\n",
              "      <td>...</td>\n",
              "      <td>...</td>\n",
              "      <td>...</td>\n",
              "      <td>...</td>\n",
              "      <td>...</td>\n",
              "    </tr>\n",
              "    <tr>\n",
              "      <th>756303</th>\n",
              "      <td>LOS ANGELES</td>\n",
              "      <td>2016</td>\n",
              "      <td>7563-031-006</td>\n",
              "      <td>Residential</td>\n",
              "      <td>Single Family Residence</td>\n",
              "      <td>487757</td>\n",
              "      <td>90732</td>\n",
              "    </tr>\n",
              "    <tr>\n",
              "      <th>756304</th>\n",
              "      <td>LOS ANGELES</td>\n",
              "      <td>2016</td>\n",
              "      <td>7563-031-013</td>\n",
              "      <td>Residential</td>\n",
              "      <td>Single Family Residence</td>\n",
              "      <td>75381</td>\n",
              "      <td>90732</td>\n",
              "    </tr>\n",
              "    <tr>\n",
              "      <th>756305</th>\n",
              "      <td>LOS ANGELES</td>\n",
              "      <td>2016</td>\n",
              "      <td>7563-037-055</td>\n",
              "      <td>Residential</td>\n",
              "      <td>Single Family Residence</td>\n",
              "      <td>114301</td>\n",
              "      <td>90732</td>\n",
              "    </tr>\n",
              "    <tr>\n",
              "      <th>756306</th>\n",
              "      <td>LOS ANGELES</td>\n",
              "      <td>2016</td>\n",
              "      <td>7563-032-001</td>\n",
              "      <td>Residential</td>\n",
              "      <td>Single Family Residence</td>\n",
              "      <td>104171</td>\n",
              "      <td>90732</td>\n",
              "    </tr>\n",
              "    <tr>\n",
              "      <th>756307</th>\n",
              "      <td>LOS ANGELES</td>\n",
              "      <td>2016</td>\n",
              "      <td>7563-026-003</td>\n",
              "      <td>Residential</td>\n",
              "      <td>Single Family Residence</td>\n",
              "      <td>164457</td>\n",
              "      <td>90732</td>\n",
              "    </tr>\n",
              "  </tbody>\n",
              "</table>\n",
              "<p>756308 rows × 7 columns</p>\n",
              "</div>"
            ],
            "text/plain": [
              "               city  year  ... net_value zip_code\n",
              "0       LOS ANGELES  2016  ...    536051    91343\n",
              "1       LOS ANGELES  2016  ...     75986    91405\n",
              "2       LOS ANGELES  2016  ...   1200000    90064\n",
              "3       LOS ANGELES  2016  ...    348677    90033\n",
              "4       LOS ANGELES  2016  ...    529400    91342\n",
              "...             ...   ...  ...       ...      ...\n",
              "756303  LOS ANGELES  2016  ...    487757    90732\n",
              "756304  LOS ANGELES  2016  ...     75381    90732\n",
              "756305  LOS ANGELES  2016  ...    114301    90732\n",
              "756306  LOS ANGELES  2016  ...    104171    90732\n",
              "756307  LOS ANGELES  2016  ...    164457    90732\n",
              "\n",
              "[756308 rows x 7 columns]"
            ]
          },
          "metadata": {
            "tags": []
          },
          "execution_count": 27
        }
      ]
    },
    {
      "cell_type": "code",
      "metadata": {
        "colab": {
          "base_uri": "https://localhost:8080/"
        },
        "id": "Utix0Z9B81v6",
        "outputId": "76bd3d00-c193-4769-aa0f-d83881396eb4"
      },
      "source": [
        "records_df.info()"
      ],
      "execution_count": 28,
      "outputs": [
        {
          "output_type": "stream",
          "text": [
            "<class 'pandas.core.frame.DataFrame'>\n",
            "RangeIndex: 756308 entries, 0 to 756307\n",
            "Data columns (total 7 columns):\n",
            " #   Column        Non-Null Count   Dtype   \n",
            "---  ------        --------------   -----   \n",
            " 0   city          756308 non-null  object  \n",
            " 1   year          756308 non-null  int64   \n",
            " 2   assessor_id   756308 non-null  category\n",
            " 3   general_use   756308 non-null  category\n",
            " 4   specific_use  756308 non-null  category\n",
            " 5   net_value     756308 non-null  int64   \n",
            " 6   zip_code      756308 non-null  int64   \n",
            "dtypes: category(3), int64(3), object(1)\n",
            "memory usage: 53.2+ MB\n"
          ],
          "name": "stdout"
        }
      ]
    },
    {
      "cell_type": "markdown",
      "metadata": {
        "id": "bzxGEx1u9j9Q"
      },
      "source": [
        "###Categorical Consistency "
      ]
    },
    {
      "cell_type": "code",
      "metadata": {
        "colab": {
          "base_uri": "https://localhost:8080/"
        },
        "id": "x7CqQViw9m2f",
        "outputId": "f1b68b25-401e-48e6-ad15-b18744ee7110"
      },
      "source": [
        "#consistent \n",
        "records_df[\"general_use\"].unique()"
      ],
      "execution_count": 29,
      "outputs": [
        {
          "output_type": "execute_result",
          "data": {
            "text/plain": [
              "['Residential', 'Commercial', 'Industrial', 'Institutional', 'Miscellaneous', 'Recreational', 'Irrigated Farm', 'Dry Farm', '(missing)']\n",
              "Categories (9, object): ['Residential', 'Commercial', 'Industrial', 'Institutional', ...,\n",
              "                         'Recreational', 'Irrigated Farm', 'Dry Farm', '(missing)']"
            ]
          },
          "metadata": {
            "tags": []
          },
          "execution_count": 29
        }
      ]
    },
    {
      "cell_type": "code",
      "metadata": {
        "colab": {
          "base_uri": "https://localhost:8080/"
        },
        "id": "bMibny9_9_5R",
        "outputId": "d298b4e0-62f0-4bec-85d4-7a38a068c95c"
      },
      "source": [
        "#consistent \n",
        "records_df[\"specific_use\"]"
      ],
      "execution_count": 30,
      "outputs": [
        {
          "output_type": "execute_result",
          "data": {
            "text/plain": [
              "0                                   Single Family Residence\n",
              "1                                   Single Family Residence\n",
              "2                                   Single Family Residence\n",
              "3         Five or More Units or Apartments (Any Combinat...\n",
              "4                                   Single Family Residence\n",
              "                                ...                        \n",
              "756303                              Single Family Residence\n",
              "756304                              Single Family Residence\n",
              "756305                              Single Family Residence\n",
              "756306                              Single Family Residence\n",
              "756307                              Single Family Residence\n",
              "Name: specific_use, Length: 756308, dtype: category\n",
              "Categories (69, object): [' ', '(missing)', 'Animal Kennel',\n",
              "                          'Athletic and Amusement Facility', ..., 'Warehousing, Distribution, Storage', 'Waste',\n",
              "                          'Water Recreation', 'Wholesale and Manufacturing Outlet']"
            ]
          },
          "metadata": {
            "tags": []
          },
          "execution_count": 30
        }
      ]
    },
    {
      "cell_type": "markdown",
      "metadata": {
        "id": "zXeLAAXO-jbL"
      },
      "source": [
        "###  Referential integrity"
      ]
    },
    {
      "cell_type": "code",
      "metadata": {
        "id": "9lA8x_6G-qgS"
      },
      "source": [
        "#making the assessor_id a unique ID per parcel per year\n",
        "records_df['assessor_id'] = records_df[\"assessor_id\"].apply(lambda x: x +\"-2016\")"
      ],
      "execution_count": 31,
      "outputs": []
    },
    {
      "cell_type": "code",
      "metadata": {
        "colab": {
          "base_uri": "https://localhost:8080/",
          "height": 419
        },
        "id": "n_OkPZtP-xy-",
        "outputId": "17cd6852-1e06-49f0-cde1-de60b2f4aa91"
      },
      "source": [
        "records_df"
      ],
      "execution_count": 32,
      "outputs": [
        {
          "output_type": "execute_result",
          "data": {
            "text/html": [
              "<div>\n",
              "<style scoped>\n",
              "    .dataframe tbody tr th:only-of-type {\n",
              "        vertical-align: middle;\n",
              "    }\n",
              "\n",
              "    .dataframe tbody tr th {\n",
              "        vertical-align: top;\n",
              "    }\n",
              "\n",
              "    .dataframe thead th {\n",
              "        text-align: right;\n",
              "    }\n",
              "</style>\n",
              "<table border=\"1\" class=\"dataframe\">\n",
              "  <thead>\n",
              "    <tr style=\"text-align: right;\">\n",
              "      <th></th>\n",
              "      <th>city</th>\n",
              "      <th>year</th>\n",
              "      <th>assessor_id</th>\n",
              "      <th>general_use</th>\n",
              "      <th>specific_use</th>\n",
              "      <th>net_value</th>\n",
              "      <th>zip_code</th>\n",
              "    </tr>\n",
              "  </thead>\n",
              "  <tbody>\n",
              "    <tr>\n",
              "      <th>0</th>\n",
              "      <td>LOS ANGELES</td>\n",
              "      <td>2016</td>\n",
              "      <td>2656-022-014-2016</td>\n",
              "      <td>Residential</td>\n",
              "      <td>Single Family Residence</td>\n",
              "      <td>536051</td>\n",
              "      <td>91343</td>\n",
              "    </tr>\n",
              "    <tr>\n",
              "      <th>1</th>\n",
              "      <td>LOS ANGELES</td>\n",
              "      <td>2016</td>\n",
              "      <td>2216-031-027-2016</td>\n",
              "      <td>Residential</td>\n",
              "      <td>Single Family Residence</td>\n",
              "      <td>75986</td>\n",
              "      <td>91405</td>\n",
              "    </tr>\n",
              "    <tr>\n",
              "      <th>2</th>\n",
              "      <td>LOS ANGELES</td>\n",
              "      <td>2016</td>\n",
              "      <td>4322-016-028-2016</td>\n",
              "      <td>Residential</td>\n",
              "      <td>Single Family Residence</td>\n",
              "      <td>1200000</td>\n",
              "      <td>90064</td>\n",
              "    </tr>\n",
              "    <tr>\n",
              "      <th>3</th>\n",
              "      <td>LOS ANGELES</td>\n",
              "      <td>2016</td>\n",
              "      <td>5175-032-021-2016</td>\n",
              "      <td>Residential</td>\n",
              "      <td>Five or More Units or Apartments (Any Combinat...</td>\n",
              "      <td>348677</td>\n",
              "      <td>90033</td>\n",
              "    </tr>\n",
              "    <tr>\n",
              "      <th>4</th>\n",
              "      <td>LOS ANGELES</td>\n",
              "      <td>2016</td>\n",
              "      <td>2529-019-005-2016</td>\n",
              "      <td>Residential</td>\n",
              "      <td>Single Family Residence</td>\n",
              "      <td>529400</td>\n",
              "      <td>91342</td>\n",
              "    </tr>\n",
              "    <tr>\n",
              "      <th>...</th>\n",
              "      <td>...</td>\n",
              "      <td>...</td>\n",
              "      <td>...</td>\n",
              "      <td>...</td>\n",
              "      <td>...</td>\n",
              "      <td>...</td>\n",
              "      <td>...</td>\n",
              "    </tr>\n",
              "    <tr>\n",
              "      <th>756303</th>\n",
              "      <td>LOS ANGELES</td>\n",
              "      <td>2016</td>\n",
              "      <td>7563-031-006-2016</td>\n",
              "      <td>Residential</td>\n",
              "      <td>Single Family Residence</td>\n",
              "      <td>487757</td>\n",
              "      <td>90732</td>\n",
              "    </tr>\n",
              "    <tr>\n",
              "      <th>756304</th>\n",
              "      <td>LOS ANGELES</td>\n",
              "      <td>2016</td>\n",
              "      <td>7563-031-013-2016</td>\n",
              "      <td>Residential</td>\n",
              "      <td>Single Family Residence</td>\n",
              "      <td>75381</td>\n",
              "      <td>90732</td>\n",
              "    </tr>\n",
              "    <tr>\n",
              "      <th>756305</th>\n",
              "      <td>LOS ANGELES</td>\n",
              "      <td>2016</td>\n",
              "      <td>7563-037-055-2016</td>\n",
              "      <td>Residential</td>\n",
              "      <td>Single Family Residence</td>\n",
              "      <td>114301</td>\n",
              "      <td>90732</td>\n",
              "    </tr>\n",
              "    <tr>\n",
              "      <th>756306</th>\n",
              "      <td>LOS ANGELES</td>\n",
              "      <td>2016</td>\n",
              "      <td>7563-032-001-2016</td>\n",
              "      <td>Residential</td>\n",
              "      <td>Single Family Residence</td>\n",
              "      <td>104171</td>\n",
              "      <td>90732</td>\n",
              "    </tr>\n",
              "    <tr>\n",
              "      <th>756307</th>\n",
              "      <td>LOS ANGELES</td>\n",
              "      <td>2016</td>\n",
              "      <td>7563-026-003-2016</td>\n",
              "      <td>Residential</td>\n",
              "      <td>Single Family Residence</td>\n",
              "      <td>164457</td>\n",
              "      <td>90732</td>\n",
              "    </tr>\n",
              "  </tbody>\n",
              "</table>\n",
              "<p>756308 rows × 7 columns</p>\n",
              "</div>"
            ],
            "text/plain": [
              "               city  year  ... net_value zip_code\n",
              "0       LOS ANGELES  2016  ...    536051    91343\n",
              "1       LOS ANGELES  2016  ...     75986    91405\n",
              "2       LOS ANGELES  2016  ...   1200000    90064\n",
              "3       LOS ANGELES  2016  ...    348677    90033\n",
              "4       LOS ANGELES  2016  ...    529400    91342\n",
              "...             ...   ...  ...       ...      ...\n",
              "756303  LOS ANGELES  2016  ...    487757    90732\n",
              "756304  LOS ANGELES  2016  ...     75381    90732\n",
              "756305  LOS ANGELES  2016  ...    114301    90732\n",
              "756306  LOS ANGELES  2016  ...    104171    90732\n",
              "756307  LOS ANGELES  2016  ...    164457    90732\n",
              "\n",
              "[756308 rows x 7 columns]"
            ]
          },
          "metadata": {
            "tags": []
          },
          "execution_count": 32
        }
      ]
    },
    {
      "cell_type": "markdown",
      "metadata": {
        "id": "aYDRoKMS_nb5"
      },
      "source": [
        "##Exporting Data"
      ]
    },
    {
      "cell_type": "code",
      "metadata": {
        "id": "Wc8-dw69_qmW"
      },
      "source": [
        "records_df.to_csv(\"gdrive/My Drive/Team 93 Capstone Project/data/Assessor_Parcels_Data_2016_CLEANED.csv\")"
      ],
      "execution_count": 33,
      "outputs": []
    },
    {
      "cell_type": "code",
      "metadata": {
        "id": "zHEo40z8_9R0"
      },
      "source": [
        ""
      ],
      "execution_count": null,
      "outputs": []
    }
  ]
}
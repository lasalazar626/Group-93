{
  "nbformat": 4,
  "nbformat_minor": 0,
  "metadata": {
    "colab": {
      "name": "Assessor Data Cleaning - 2012.ipynb",
      "provenance": [],
      "collapsed_sections": [],
      "authorship_tag": "ABX9TyP78IYBs3ojeCgoieSI65x+",
      "include_colab_link": true
    },
    "kernelspec": {
      "name": "python3",
      "display_name": "Python 3"
    },
    "language_info": {
      "name": "python"
    }
  },
  "cells": [
    {
      "cell_type": "markdown",
      "metadata": {
        "id": "view-in-github",
        "colab_type": "text"
      },
      "source": [
        "<a href=\"https://colab.research.google.com/github/sorayabailey23/Group-93/blob/main/Assessor_Data_Cleaning_2012.ipynb\" target=\"_parent\"><img src=\"https://colab.research.google.com/assets/colab-badge.svg\" alt=\"Open In Colab\"/></a>"
      ]
    },
    {
      "cell_type": "markdown",
      "metadata": {
        "id": "NCkY_HRffOx3"
      },
      "source": [
        "# Assessor Data Cleaning - 2012\n",
        "\n",
        "\n"
      ]
    },
    {
      "cell_type": "code",
      "metadata": {
        "colab": {
          "base_uri": "https://localhost:8080/"
        },
        "id": "-VAEn9kMc05w",
        "outputId": "48edae0d-5c57-4182-d20b-3d818443894b"
      },
      "source": [
        "#importing libraries + drive\n",
        "\n",
        "from google.colab import drive\n",
        "drive.mount('/content/gdrive')"
      ],
      "execution_count": null,
      "outputs": [
        {
          "output_type": "stream",
          "text": [
            "Mounted at /content/gdrive\n"
          ],
          "name": "stdout"
        }
      ]
    },
    {
      "cell_type": "code",
      "metadata": {
        "id": "ljH4c6VVc-Yc"
      },
      "source": [
        "import numpy as np\n",
        "import pandas as pd\n",
        "import math"
      ],
      "execution_count": null,
      "outputs": []
    },
    {
      "cell_type": "markdown",
      "metadata": {
        "id": "JuXhCc6DnxXp"
      },
      "source": [
        "##Uploading + Exploring the Data \n",
        "\n",
        "I'll first upload the raw data and see what features it includes.\n"
      ]
    },
    {
      "cell_type": "code",
      "metadata": {
        "colab": {
          "base_uri": "https://localhost:8080/"
        },
        "id": "lxrs7T_IddbX",
        "outputId": "bea29e0d-aa74-4baa-8b05-5ea6eddf5b1e"
      },
      "source": [
        "#Importing data from 2012 in Los Angeles \n",
        "records_df = pd.read_csv(\"gdrive/My Drive/Team 93 Capstone Project/data/Assessor_Parcels_Data_2012.csv\")"
      ],
      "execution_count": null,
      "outputs": [
        {
          "output_type": "stream",
          "text": [
            "/usr/local/lib/python3.7/dist-packages/IPython/core/interactiveshell.py:2718: DtypeWarning: Columns (37) have mixed types.Specify dtype option on import or set low_memory=False.\n",
            "  interactivity=interactivity, compiler=compiler, result=result)\n"
          ],
          "name": "stderr"
        }
      ]
    },
    {
      "cell_type": "code",
      "metadata": {
        "colab": {
          "base_uri": "https://localhost:8080/",
          "height": 496
        },
        "id": "vMCCCrxGflQ0",
        "outputId": "d8054732-a46b-4831-eb80-5784217c16cb"
      },
      "source": [
        "records_df.head()"
      ],
      "execution_count": null,
      "outputs": [
        {
          "output_type": "execute_result",
          "data": {
            "text/html": [
              "<div>\n",
              "<style scoped>\n",
              "    .dataframe tbody tr th:only-of-type {\n",
              "        vertical-align: middle;\n",
              "    }\n",
              "\n",
              "    .dataframe tbody tr th {\n",
              "        vertical-align: top;\n",
              "    }\n",
              "\n",
              "    .dataframe thead th {\n",
              "        text-align: right;\n",
              "    }\n",
              "</style>\n",
              "<table border=\"1\" class=\"dataframe\">\n",
              "  <thead>\n",
              "    <tr style=\"text-align: right;\">\n",
              "      <th></th>\n",
              "      <th>Unnamed: 0</th>\n",
              "      <th>situszip</th>\n",
              "      <th>taxratearea_city</th>\n",
              "      <th>ain</th>\n",
              "      <th>rollyear</th>\n",
              "      <th>taxratearea</th>\n",
              "      <th>assessorid</th>\n",
              "      <th>usetype</th>\n",
              "      <th>usecode</th>\n",
              "      <th>usecodedescchar1</th>\n",
              "      <th>usecodedescchar2</th>\n",
              "      <th>usecodedescchar3</th>\n",
              "      <th>usecodedescchar4</th>\n",
              "      <th>totbuildingdatalines</th>\n",
              "      <th>yearbuilt</th>\n",
              "      <th>effectiveyearbuilt</th>\n",
              "      <th>sqftmain</th>\n",
              "      <th>bedrooms</th>\n",
              "      <th>bathrooms</th>\n",
              "      <th>units</th>\n",
              "      <th>recordingdate</th>\n",
              "      <th>roll_landvalue</th>\n",
              "      <th>roll_landbaseyear</th>\n",
              "      <th>roll_impvalue</th>\n",
              "      <th>roll_impbaseyear</th>\n",
              "      <th>roll_totlandimp</th>\n",
              "      <th>roll_homeownersexemp</th>\n",
              "      <th>roll_realestateexemp</th>\n",
              "      <th>roll_fixturevalue</th>\n",
              "      <th>roll_fixtureexemp</th>\n",
              "      <th>roll_perspropvalue</th>\n",
              "      <th>roll_perspropexemp</th>\n",
              "      <th>istaxableparcel</th>\n",
              "      <th>roll_totalvalue</th>\n",
              "      <th>roll_totalexemption</th>\n",
              "      <th>nettaxablevalue</th>\n",
              "      <th>parcelclassification</th>\n",
              "      <th>adminregion</th>\n",
              "      <th>cluster</th>\n",
              "      <th>parcelboundarydescription</th>\n",
              "      <th>situshouseno</th>\n",
              "      <th>situsfraction</th>\n",
              "      <th>situsdirection</th>\n",
              "      <th>situsstreet</th>\n",
              "      <th>situsunit</th>\n",
              "      <th>situscity</th>\n",
              "      <th>rowid</th>\n",
              "      <th>center_lat</th>\n",
              "      <th>center_lon</th>\n",
              "      <th>location_1</th>\n",
              "      <th>propertylocation</th>\n",
              "      <th>situszip5</th>\n",
              "    </tr>\n",
              "  </thead>\n",
              "  <tbody>\n",
              "    <tr>\n",
              "      <th>0</th>\n",
              "      <td>0</td>\n",
              "      <td></td>\n",
              "      <td>LOS ANGELES</td>\n",
              "      <td>2137011901</td>\n",
              "      <td>2012</td>\n",
              "      <td>16</td>\n",
              "      <td>2137-011-901</td>\n",
              "      <td>OTH</td>\n",
              "      <td>8800</td>\n",
              "      <td>Miscellaneous</td>\n",
              "      <td>Government Owned Property</td>\n",
              "      <td></td>\n",
              "      <td></td>\n",
              "      <td>0</td>\n",
              "      <td>0</td>\n",
              "      <td>0</td>\n",
              "      <td>0</td>\n",
              "      <td>0</td>\n",
              "      <td>0</td>\n",
              "      <td>0</td>\n",
              "      <td>19590311</td>\n",
              "      <td>0</td>\n",
              "      <td>1975</td>\n",
              "      <td>0</td>\n",
              "      <td>1975</td>\n",
              "      <td>0</td>\n",
              "      <td>0</td>\n",
              "      <td>0</td>\n",
              "      <td>0</td>\n",
              "      <td>0</td>\n",
              "      <td>0</td>\n",
              "      <td>0</td>\n",
              "      <td>N</td>\n",
              "      <td>0</td>\n",
              "      <td>0</td>\n",
              "      <td>0</td>\n",
              "      <td>Public (non-taxable government-owned)</td>\n",
              "      <td>02</td>\n",
              "      <td>2150</td>\n",
              "      <td>TRACT # 19212 SW 5 FT MEASURED RADIALLY TO SW...</td>\n",
              "      <td>0</td>\n",
              "      <td></td>\n",
              "      <td></td>\n",
              "      <td></td>\n",
              "      <td></td>\n",
              "      <td></td>\n",
              "      <td>20122137011901</td>\n",
              "      <td>34.195156</td>\n",
              "      <td>-118.580389</td>\n",
              "      <td>{'latitude': '34.19515585', 'longitude': '-118...</td>\n",
              "      <td>NaN</td>\n",
              "      <td>NaN</td>\n",
              "    </tr>\n",
              "    <tr>\n",
              "      <th>1</th>\n",
              "      <td>1</td>\n",
              "      <td></td>\n",
              "      <td>LOS ANGELES</td>\n",
              "      <td>2137011904</td>\n",
              "      <td>2012</td>\n",
              "      <td>16</td>\n",
              "      <td>2137-011-904</td>\n",
              "      <td>OTH</td>\n",
              "      <td>8800</td>\n",
              "      <td>Miscellaneous</td>\n",
              "      <td>Government Owned Property</td>\n",
              "      <td></td>\n",
              "      <td></td>\n",
              "      <td>0</td>\n",
              "      <td>0</td>\n",
              "      <td>0</td>\n",
              "      <td>0</td>\n",
              "      <td>0</td>\n",
              "      <td>0</td>\n",
              "      <td>0</td>\n",
              "      <td>19590818</td>\n",
              "      <td>0</td>\n",
              "      <td>1975</td>\n",
              "      <td>0</td>\n",
              "      <td>1975</td>\n",
              "      <td>0</td>\n",
              "      <td>0</td>\n",
              "      <td>0</td>\n",
              "      <td>0</td>\n",
              "      <td>0</td>\n",
              "      <td>0</td>\n",
              "      <td>0</td>\n",
              "      <td>N</td>\n",
              "      <td>0</td>\n",
              "      <td>0</td>\n",
              "      <td>0</td>\n",
              "      <td>Public (non-taxable government-owned)</td>\n",
              "      <td>02</td>\n",
              "      <td>2150</td>\n",
              "      <td>TRACT # 19212 SW 5 FT MEASURED RADIALLY TO SW ...</td>\n",
              "      <td>0</td>\n",
              "      <td></td>\n",
              "      <td></td>\n",
              "      <td></td>\n",
              "      <td></td>\n",
              "      <td></td>\n",
              "      <td>20122137011904</td>\n",
              "      <td>34.195082</td>\n",
              "      <td>-118.580164</td>\n",
              "      <td>{'latitude': '34.19508201', 'longitude': '-118...</td>\n",
              "      <td>NaN</td>\n",
              "      <td>NaN</td>\n",
              "    </tr>\n",
              "    <tr>\n",
              "      <th>2</th>\n",
              "      <td>2</td>\n",
              "      <td></td>\n",
              "      <td>LOS ANGELES</td>\n",
              "      <td>2137019903</td>\n",
              "      <td>2012</td>\n",
              "      <td>16</td>\n",
              "      <td>2137-019-903</td>\n",
              "      <td>OTH</td>\n",
              "      <td>8800</td>\n",
              "      <td>Miscellaneous</td>\n",
              "      <td>Government Owned Property</td>\n",
              "      <td></td>\n",
              "      <td></td>\n",
              "      <td>0</td>\n",
              "      <td>0</td>\n",
              "      <td>0</td>\n",
              "      <td>0</td>\n",
              "      <td>0</td>\n",
              "      <td>0</td>\n",
              "      <td>0</td>\n",
              "      <td>19800523</td>\n",
              "      <td>0</td>\n",
              "      <td>1980</td>\n",
              "      <td>0</td>\n",
              "      <td>1975</td>\n",
              "      <td>0</td>\n",
              "      <td>0</td>\n",
              "      <td>0</td>\n",
              "      <td>0</td>\n",
              "      <td>0</td>\n",
              "      <td>0</td>\n",
              "      <td>0</td>\n",
              "      <td>N</td>\n",
              "      <td>0</td>\n",
              "      <td>0</td>\n",
              "      <td>0</td>\n",
              "      <td>Public (non-taxable government-owned)</td>\n",
              "      <td>02</td>\n",
              "      <td>2150</td>\n",
              "      <td>*TR=1339*S 285.07 FT (EX OF STS) OF LOT   48</td>\n",
              "      <td>0</td>\n",
              "      <td></td>\n",
              "      <td></td>\n",
              "      <td></td>\n",
              "      <td></td>\n",
              "      <td></td>\n",
              "      <td>20122137019903</td>\n",
              "      <td>34.197830</td>\n",
              "      <td>-118.587828</td>\n",
              "      <td>{'latitude': '34.19783011', 'longitude': '-118...</td>\n",
              "      <td>NaN</td>\n",
              "      <td>NaN</td>\n",
              "    </tr>\n",
              "    <tr>\n",
              "      <th>3</th>\n",
              "      <td>3</td>\n",
              "      <td></td>\n",
              "      <td>LOS ANGELES</td>\n",
              "      <td>2138029902</td>\n",
              "      <td>2012</td>\n",
              "      <td>16</td>\n",
              "      <td>2138-029-902</td>\n",
              "      <td>OTH</td>\n",
              "      <td>8800</td>\n",
              "      <td>Miscellaneous</td>\n",
              "      <td>Government Owned Property</td>\n",
              "      <td></td>\n",
              "      <td></td>\n",
              "      <td>0</td>\n",
              "      <td>0</td>\n",
              "      <td>0</td>\n",
              "      <td>0</td>\n",
              "      <td>0</td>\n",
              "      <td>0</td>\n",
              "      <td>0</td>\n",
              "      <td>19450126</td>\n",
              "      <td>0</td>\n",
              "      <td>1975</td>\n",
              "      <td>0</td>\n",
              "      <td>0</td>\n",
              "      <td>0</td>\n",
              "      <td>0</td>\n",
              "      <td>0</td>\n",
              "      <td>0</td>\n",
              "      <td>0</td>\n",
              "      <td>0</td>\n",
              "      <td>0</td>\n",
              "      <td>N</td>\n",
              "      <td>0</td>\n",
              "      <td>0</td>\n",
              "      <td>0</td>\n",
              "      <td>Public (non-taxable government-owned)</td>\n",
              "      <td>02</td>\n",
              "      <td>2150</td>\n",
              "      <td>TR=7348 EX OF ST LOTS 11 AND 12 AND ALL OF LOT...</td>\n",
              "      <td>0</td>\n",
              "      <td></td>\n",
              "      <td></td>\n",
              "      <td></td>\n",
              "      <td></td>\n",
              "      <td></td>\n",
              "      <td>20122138029902</td>\n",
              "      <td>34.195232</td>\n",
              "      <td>-118.589554</td>\n",
              "      <td>{'latitude': '34.19523174', 'longitude': '-118...</td>\n",
              "      <td>NaN</td>\n",
              "      <td>NaN</td>\n",
              "    </tr>\n",
              "    <tr>\n",
              "      <th>4</th>\n",
              "      <td>4</td>\n",
              "      <td></td>\n",
              "      <td>LOS ANGELES</td>\n",
              "      <td>2138011900</td>\n",
              "      <td>2012</td>\n",
              "      <td>8852</td>\n",
              "      <td>2138-011-900</td>\n",
              "      <td>OTH</td>\n",
              "      <td>8800</td>\n",
              "      <td>Miscellaneous</td>\n",
              "      <td>Government Owned Property</td>\n",
              "      <td></td>\n",
              "      <td></td>\n",
              "      <td>0</td>\n",
              "      <td>0</td>\n",
              "      <td>0</td>\n",
              "      <td>0</td>\n",
              "      <td>0</td>\n",
              "      <td>0</td>\n",
              "      <td>0</td>\n",
              "      <td>19670245</td>\n",
              "      <td>0</td>\n",
              "      <td>1975</td>\n",
              "      <td>0</td>\n",
              "      <td>1975</td>\n",
              "      <td>0</td>\n",
              "      <td>0</td>\n",
              "      <td>0</td>\n",
              "      <td>0</td>\n",
              "      <td>0</td>\n",
              "      <td>0</td>\n",
              "      <td>0</td>\n",
              "      <td>N</td>\n",
              "      <td>0</td>\n",
              "      <td>0</td>\n",
              "      <td>0</td>\n",
              "      <td>Public (non-taxable government-owned)</td>\n",
              "      <td>02</td>\n",
              "      <td>2141</td>\n",
              "      <td>OWENSMOUTH LOT 1 AND N 80 FT OF LOT    2 BLK  105</td>\n",
              "      <td>0</td>\n",
              "      <td></td>\n",
              "      <td></td>\n",
              "      <td></td>\n",
              "      <td></td>\n",
              "      <td></td>\n",
              "      <td>20122138011900</td>\n",
              "      <td>34.195174</td>\n",
              "      <td>-118.599631</td>\n",
              "      <td>{'latitude': '34.19517417', 'longitude': '-118...</td>\n",
              "      <td>NaN</td>\n",
              "      <td>NaN</td>\n",
              "    </tr>\n",
              "  </tbody>\n",
              "</table>\n",
              "</div>"
            ],
            "text/plain": [
              "   Unnamed: 0 situszip  ... propertylocation  situszip5\n",
              "0           0           ...              NaN        NaN\n",
              "1           1           ...              NaN        NaN\n",
              "2           2           ...              NaN        NaN\n",
              "3           3           ...              NaN        NaN\n",
              "4           4           ...              NaN        NaN\n",
              "\n",
              "[5 rows x 52 columns]"
            ]
          },
          "metadata": {
            "tags": []
          },
          "execution_count": 4
        }
      ]
    },
    {
      "cell_type": "code",
      "metadata": {
        "colab": {
          "base_uri": "https://localhost:8080/"
        },
        "id": "gQbh0Kgye-UL",
        "outputId": "abde1156-6d6e-425d-f515-bda23f66d9e4"
      },
      "source": [
        "records_df.columns"
      ],
      "execution_count": null,
      "outputs": [
        {
          "output_type": "execute_result",
          "data": {
            "text/plain": [
              "Index(['Unnamed: 0', 'situszip', 'taxratearea_city', 'ain', 'rollyear',\n",
              "       'taxratearea', 'assessorid', 'usetype', 'usecode', 'usecodedescchar1',\n",
              "       'usecodedescchar2', 'usecodedescchar3', 'usecodedescchar4',\n",
              "       'totbuildingdatalines', 'yearbuilt', 'effectiveyearbuilt', 'sqftmain',\n",
              "       'bedrooms', 'bathrooms', 'units', 'recordingdate', 'roll_landvalue',\n",
              "       'roll_landbaseyear', 'roll_impvalue', 'roll_impbaseyear',\n",
              "       'roll_totlandimp', 'roll_homeownersexemp', 'roll_realestateexemp',\n",
              "       'roll_fixturevalue', 'roll_fixtureexemp', 'roll_perspropvalue',\n",
              "       'roll_perspropexemp', 'istaxableparcel', 'roll_totalvalue',\n",
              "       'roll_totalexemption', 'nettaxablevalue', 'parcelclassification',\n",
              "       'adminregion', 'cluster', 'parcelboundarydescription', 'situshouseno',\n",
              "       'situsfraction', 'situsdirection', 'situsstreet', 'situsunit',\n",
              "       'situscity', 'rowid', 'center_lat', 'center_lon', 'location_1',\n",
              "       'propertylocation', 'situszip5'],\n",
              "      dtype='object')"
            ]
          },
          "metadata": {
            "tags": []
          },
          "execution_count": 5
        }
      ]
    },
    {
      "cell_type": "code",
      "metadata": {
        "colab": {
          "base_uri": "https://localhost:8080/"
        },
        "id": "lfqk_ipUfD13",
        "outputId": "52d7a450-ab09-4f0e-9428-3a99d4655395"
      },
      "source": [
        "#verifying that we pulled data for the correct city + year \n",
        "records_df[\"taxratearea_city\"].unique()"
      ],
      "execution_count": null,
      "outputs": [
        {
          "output_type": "execute_result",
          "data": {
            "text/plain": [
              "array(['LOS ANGELES'], dtype=object)"
            ]
          },
          "metadata": {
            "tags": []
          },
          "execution_count": 6
        }
      ]
    },
    {
      "cell_type": "code",
      "metadata": {
        "colab": {
          "base_uri": "https://localhost:8080/"
        },
        "id": "GYuUpNCe4QkN",
        "outputId": "0b8535ad-df67-4ffc-a81f-e1cb3885f1a0"
      },
      "source": [
        "records_df[\"rollyear\"].unique()"
      ],
      "execution_count": null,
      "outputs": [
        {
          "output_type": "execute_result",
          "data": {
            "text/plain": [
              "array([2012])"
            ]
          },
          "metadata": {
            "tags": []
          },
          "execution_count": 7
        }
      ]
    },
    {
      "cell_type": "code",
      "metadata": {
        "colab": {
          "base_uri": "https://localhost:8080/"
        },
        "id": "M2J81KULgBsX",
        "outputId": "58a3b1a0-e686-4479-e12c-6bed8f7dcfcc"
      },
      "source": [
        "records_df.info()"
      ],
      "execution_count": null,
      "outputs": [
        {
          "output_type": "stream",
          "text": [
            "<class 'pandas.core.frame.DataFrame'>\n",
            "RangeIndex: 794012 entries, 0 to 794011\n",
            "Data columns (total 52 columns):\n",
            " #   Column                     Non-Null Count   Dtype  \n",
            "---  ------                     --------------   -----  \n",
            " 0   Unnamed: 0                 794012 non-null  int64  \n",
            " 1   situszip                   794012 non-null  object \n",
            " 2   taxratearea_city           794012 non-null  object \n",
            " 3   ain                        794012 non-null  int64  \n",
            " 4   rollyear                   794012 non-null  int64  \n",
            " 5   taxratearea                794012 non-null  int64  \n",
            " 6   assessorid                 794012 non-null  object \n",
            " 7   usetype                    793985 non-null  object \n",
            " 8   usecode                    794012 non-null  object \n",
            " 9   usecodedescchar1           793985 non-null  object \n",
            " 10  usecodedescchar2           793985 non-null  object \n",
            " 11  usecodedescchar3           793985 non-null  object \n",
            " 12  usecodedescchar4           793985 non-null  object \n",
            " 13  totbuildingdatalines       794012 non-null  int64  \n",
            " 14  yearbuilt                  794012 non-null  int64  \n",
            " 15  effectiveyearbuilt         794012 non-null  int64  \n",
            " 16  sqftmain                   794012 non-null  int64  \n",
            " 17  bedrooms                   794012 non-null  int64  \n",
            " 18  bathrooms                  794012 non-null  int64  \n",
            " 19  units                      794012 non-null  int64  \n",
            " 20  recordingdate              794012 non-null  int64  \n",
            " 21  roll_landvalue             794012 non-null  int64  \n",
            " 22  roll_landbaseyear          794012 non-null  int64  \n",
            " 23  roll_impvalue              794012 non-null  int64  \n",
            " 24  roll_impbaseyear           794012 non-null  int64  \n",
            " 25  roll_totlandimp            794012 non-null  int64  \n",
            " 26  roll_homeownersexemp       794012 non-null  int64  \n",
            " 27  roll_realestateexemp       794012 non-null  int64  \n",
            " 28  roll_fixturevalue          794012 non-null  int64  \n",
            " 29  roll_fixtureexemp          794012 non-null  int64  \n",
            " 30  roll_perspropvalue         794012 non-null  int64  \n",
            " 31  roll_perspropexemp         794012 non-null  int64  \n",
            " 32  istaxableparcel            794012 non-null  object \n",
            " 33  roll_totalvalue            794012 non-null  int64  \n",
            " 34  roll_totalexemption        794012 non-null  int64  \n",
            " 35  nettaxablevalue            794012 non-null  int64  \n",
            " 36  parcelclassification       794012 non-null  object \n",
            " 37  adminregion                794012 non-null  object \n",
            " 38  cluster                    794012 non-null  int64  \n",
            " 39  parcelboundarydescription  794012 non-null  object \n",
            " 40  situshouseno               794012 non-null  int64  \n",
            " 41  situsfraction              794012 non-null  object \n",
            " 42  situsdirection             794012 non-null  object \n",
            " 43  situsstreet                794012 non-null  object \n",
            " 44  situsunit                  794012 non-null  object \n",
            " 45  situscity                  794012 non-null  object \n",
            " 46  rowid                      794012 non-null  int64  \n",
            " 47  center_lat                 793923 non-null  float64\n",
            " 48  center_lon                 793923 non-null  float64\n",
            " 49  location_1                 793923 non-null  object \n",
            " 50  propertylocation           752708 non-null  object \n",
            " 51  situszip5                  752695 non-null  float64\n",
            "dtypes: float64(3), int64(29), object(20)\n",
            "memory usage: 315.0+ MB\n"
          ],
          "name": "stdout"
        }
      ]
    },
    {
      "cell_type": "markdown",
      "metadata": {
        "id": "YnAWXm-moobd"
      },
      "source": [
        "## Relevance \n",
        "\n",
        "The dataset includes a lot of information that I don't need. For this section, I'll \n",
        "\n",
        "\n",
        "1.   Drop the columns that I don't need \n",
        "2.   Check the remaining columns for unique values\n",
        "1.   Handle missing values, including dropping data that does not include zip codes\n",
        "\n",
        "\n",
        "\n",
        "\n"
      ]
    },
    {
      "cell_type": "markdown",
      "metadata": {
        "id": "7gfuNxT-vPjj"
      },
      "source": [
        "###Determining which columns to drop"
      ]
    },
    {
      "cell_type": "code",
      "metadata": {
        "id": "eADWVKnugHQ_"
      },
      "source": [
        "#dropping irrelevant columns\n",
        "\n",
        "records_df = records_df.drop(columns=['Unnamed: 0', 'situszip','ain',\n",
        "       'taxratearea', 'usetype', 'usecode','usecodedescchar3', 'usecodedescchar4',\n",
        "       'totbuildingdatalines', 'yearbuilt', 'effectiveyearbuilt', 'sqftmain',\n",
        "       'bedrooms', 'bathrooms', 'units', 'recordingdate', 'roll_landvalue',\n",
        "       'roll_landbaseyear', 'roll_impvalue', 'roll_impbaseyear',\n",
        "       'roll_totlandimp', 'roll_homeownersexemp', 'roll_realestateexemp',\n",
        "       'roll_fixturevalue', 'roll_fixtureexemp', 'roll_perspropvalue',\n",
        "       'roll_perspropexemp', 'istaxableparcel', 'roll_totalvalue',\n",
        "       'roll_totalexemption',\n",
        "       'adminregion', 'cluster', 'parcelboundarydescription', 'situshouseno',\n",
        "       'situsfraction', 'situsdirection', 'situsstreet', 'situsunit',\n",
        "       'situscity', 'rowid', 'center_lat', 'center_lon', 'location_1','propertylocation', \"parcelclassification\"])\n"
      ],
      "execution_count": null,
      "outputs": []
    },
    {
      "cell_type": "code",
      "metadata": {
        "colab": {
          "base_uri": "https://localhost:8080/",
          "height": 204
        },
        "id": "eO3Qf49aiSfa",
        "outputId": "5d81d717-639c-4248-cef1-a08349b23778"
      },
      "source": [
        "records_df.head()"
      ],
      "execution_count": null,
      "outputs": [
        {
          "output_type": "execute_result",
          "data": {
            "text/html": [
              "<div>\n",
              "<style scoped>\n",
              "    .dataframe tbody tr th:only-of-type {\n",
              "        vertical-align: middle;\n",
              "    }\n",
              "\n",
              "    .dataframe tbody tr th {\n",
              "        vertical-align: top;\n",
              "    }\n",
              "\n",
              "    .dataframe thead th {\n",
              "        text-align: right;\n",
              "    }\n",
              "</style>\n",
              "<table border=\"1\" class=\"dataframe\">\n",
              "  <thead>\n",
              "    <tr style=\"text-align: right;\">\n",
              "      <th></th>\n",
              "      <th>taxratearea_city</th>\n",
              "      <th>rollyear</th>\n",
              "      <th>assessorid</th>\n",
              "      <th>usecodedescchar1</th>\n",
              "      <th>usecodedescchar2</th>\n",
              "      <th>nettaxablevalue</th>\n",
              "      <th>situszip5</th>\n",
              "    </tr>\n",
              "  </thead>\n",
              "  <tbody>\n",
              "    <tr>\n",
              "      <th>0</th>\n",
              "      <td>LOS ANGELES</td>\n",
              "      <td>2012</td>\n",
              "      <td>2137-011-901</td>\n",
              "      <td>Miscellaneous</td>\n",
              "      <td>Government Owned Property</td>\n",
              "      <td>0</td>\n",
              "      <td>NaN</td>\n",
              "    </tr>\n",
              "    <tr>\n",
              "      <th>1</th>\n",
              "      <td>LOS ANGELES</td>\n",
              "      <td>2012</td>\n",
              "      <td>2137-011-904</td>\n",
              "      <td>Miscellaneous</td>\n",
              "      <td>Government Owned Property</td>\n",
              "      <td>0</td>\n",
              "      <td>NaN</td>\n",
              "    </tr>\n",
              "    <tr>\n",
              "      <th>2</th>\n",
              "      <td>LOS ANGELES</td>\n",
              "      <td>2012</td>\n",
              "      <td>2137-019-903</td>\n",
              "      <td>Miscellaneous</td>\n",
              "      <td>Government Owned Property</td>\n",
              "      <td>0</td>\n",
              "      <td>NaN</td>\n",
              "    </tr>\n",
              "    <tr>\n",
              "      <th>3</th>\n",
              "      <td>LOS ANGELES</td>\n",
              "      <td>2012</td>\n",
              "      <td>2138-029-902</td>\n",
              "      <td>Miscellaneous</td>\n",
              "      <td>Government Owned Property</td>\n",
              "      <td>0</td>\n",
              "      <td>NaN</td>\n",
              "    </tr>\n",
              "    <tr>\n",
              "      <th>4</th>\n",
              "      <td>LOS ANGELES</td>\n",
              "      <td>2012</td>\n",
              "      <td>2138-011-900</td>\n",
              "      <td>Miscellaneous</td>\n",
              "      <td>Government Owned Property</td>\n",
              "      <td>0</td>\n",
              "      <td>NaN</td>\n",
              "    </tr>\n",
              "  </tbody>\n",
              "</table>\n",
              "</div>"
            ],
            "text/plain": [
              "  taxratearea_city  rollyear  ... nettaxablevalue situszip5\n",
              "0      LOS ANGELES      2012  ...               0       NaN\n",
              "1      LOS ANGELES      2012  ...               0       NaN\n",
              "2      LOS ANGELES      2012  ...               0       NaN\n",
              "3      LOS ANGELES      2012  ...               0       NaN\n",
              "4      LOS ANGELES      2012  ...               0       NaN\n",
              "\n",
              "[5 rows x 7 columns]"
            ]
          },
          "metadata": {
            "tags": []
          },
          "execution_count": 10
        }
      ]
    },
    {
      "cell_type": "code",
      "metadata": {
        "id": "dTZFuqdtjZhG"
      },
      "source": [
        "#renaming columns to more recongizable names\n",
        "records_df.columns=[\"city\", \"year\", \"assessor_id\",\"general_use\", \"specific_use\",\"net_value\", \"zip_code\"]"
      ],
      "execution_count": null,
      "outputs": []
    },
    {
      "cell_type": "markdown",
      "metadata": {
        "id": "7CDOlnKKy3QF"
      },
      "source": [
        "###Handling Missing Values in [\"assessor_id\"] (none!)"
      ]
    },
    {
      "cell_type": "code",
      "metadata": {
        "colab": {
          "base_uri": "https://localhost:8080/"
        },
        "id": "hd6pxjgay4UW",
        "outputId": "a5898107-a634-4dd3-e32a-a531ca10f303"
      },
      "source": [
        "len(records_df['assessor_id'].unique())"
      ],
      "execution_count": null,
      "outputs": [
        {
          "output_type": "execute_result",
          "data": {
            "text/plain": [
              "794012"
            ]
          },
          "metadata": {
            "tags": []
          },
          "execution_count": 12
        }
      ]
    },
    {
      "cell_type": "code",
      "metadata": {
        "colab": {
          "base_uri": "https://localhost:8080/"
        },
        "id": "y7h03GazzKd_",
        "outputId": "289c2440-31ec-4427-b030-94b5f379975c"
      },
      "source": [
        "records_df['assessor_id'].isnull().sum()"
      ],
      "execution_count": null,
      "outputs": [
        {
          "output_type": "execute_result",
          "data": {
            "text/plain": [
              "0"
            ]
          },
          "metadata": {
            "tags": []
          },
          "execution_count": 13
        }
      ]
    },
    {
      "cell_type": "code",
      "metadata": {
        "id": "2cFxx0KyzW7m"
      },
      "source": [
        "#this series is good to go"
      ],
      "execution_count": null,
      "outputs": []
    },
    {
      "cell_type": "markdown",
      "metadata": {
        "id": "ReWrRY0oporI"
      },
      "source": [
        "### Handling Missing Values in [\"general_use\"]"
      ]
    },
    {
      "cell_type": "code",
      "metadata": {
        "colab": {
          "base_uri": "https://localhost:8080/"
        },
        "id": "l4e1TOk4jt9R",
        "outputId": "b1f432d3-8c7c-4f68-dfab-785a048f0efc"
      },
      "source": [
        "#we have entries w/ nan and (unavailable) string\n",
        "records_df[\"general_use\"].unique()"
      ],
      "execution_count": null,
      "outputs": [
        {
          "output_type": "execute_result",
          "data": {
            "text/plain": [
              "array(['Miscellaneous', 'Residential', 'Industrial', 'Commercial', nan,\n",
              "       '(unavailable)', 'Recreational', 'Dry Farm', 'Institutional',\n",
              "       'Irrigated Farm'], dtype=object)"
            ]
          },
          "metadata": {
            "tags": []
          },
          "execution_count": 14
        }
      ]
    },
    {
      "cell_type": "code",
      "metadata": {
        "colab": {
          "base_uri": "https://localhost:8080/"
        },
        "id": "WDSETMuEmk0f",
        "outputId": "7387623a-997d-4221-f98b-365a482cd77f"
      },
      "source": [
        "#checking how many nans in general_use\n",
        "records_df['general_use'].isnull().sum()"
      ],
      "execution_count": null,
      "outputs": [
        {
          "output_type": "execute_result",
          "data": {
            "text/plain": [
              "27"
            ]
          },
          "metadata": {
            "tags": []
          },
          "execution_count": 15
        }
      ]
    },
    {
      "cell_type": "code",
      "metadata": {
        "colab": {
          "base_uri": "https://localhost:8080/"
        },
        "id": "piYOjeBwnJDo",
        "outputId": "a95fbdca-baeb-43ca-fc0c-ee821a76152d"
      },
      "source": [
        "#replacing nan with (unavailable)\n",
        "records_df[\"general_use\"] = records_df[\"general_use\"].fillna('(unavailable)')\n",
        "records_df[\"general_use\"].unique()"
      ],
      "execution_count": null,
      "outputs": [
        {
          "output_type": "execute_result",
          "data": {
            "text/plain": [
              "array(['Miscellaneous', 'Residential', 'Industrial', 'Commercial',\n",
              "       '(unavailable)', 'Recreational', 'Dry Farm', 'Institutional',\n",
              "       'Irrigated Farm'], dtype=object)"
            ]
          },
          "metadata": {
            "tags": []
          },
          "execution_count": 16
        }
      ]
    },
    {
      "cell_type": "markdown",
      "metadata": {
        "id": "0GufVSxFqCKE"
      },
      "source": [
        "###Handling Missing Values in [\"specific_use\"]"
      ]
    },
    {
      "cell_type": "code",
      "metadata": {
        "colab": {
          "base_uri": "https://localhost:8080/"
        },
        "id": "HAHuT5nbluSs",
        "outputId": "fc551b6d-e5cf-421d-b93c-624adda4e994"
      },
      "source": [
        "#there is an empty string in this column that we should replace with nan or Not Available \n",
        "records_df[\"specific_use\"].unique()"
      ],
      "execution_count": null,
      "outputs": [
        {
          "output_type": "execute_result",
          "data": {
            "text/plain": [
              "array(['Government Owned Property', 'Single Family Residence',\n",
              "       'Industrial', 'Store', 'Parking Lot (Commercial Use Property)',\n",
              "       'Auto, Recreation Equipment, Construction Equipment Sales and Service',\n",
              "       'Privately Owned', 'Heavy Manufacturing',\n",
              "       'Five or More Units or Apartments (Any Combination)', 'Commercial',\n",
              "       nan, '(unavailable)', 'Utility', 'Light Manufacturing',\n",
              "       'Office Building', 'Double, Duplex, or Two Units', 'Golf Course',\n",
              "       'Desert', 'Shopping Center (Neighborhood, Community)',\n",
              "       'Shopping Center (Regional)', 'Waste',\n",
              "       'Three Units (Any Combination)',\n",
              "       'Parking Lot (Industrial Use Property)', 'Hotel and Motel',\n",
              "       'Church', 'Store Combination', 'Four Units  (Any Combination)',\n",
              "       ' ', 'Open Storage', 'Homes for Aged and Others',\n",
              "       'Warehousing, Distribution, Storage',\n",
              "       'Restaurant, Cocktail Lounge', \"Children's Day Care Center\",\n",
              "       'Professional Building', 'Bowling Alley', 'School (Private)',\n",
              "       'Club, Lodge Hall, Fraternal Organization', 'Service Station',\n",
              "       'Hospital', 'Manufactured Home', 'Cemetery, Mausoleum, Mortuary',\n",
              "       'Non-Auto Service and Repair Shop, Paint Shop, or Laundry',\n",
              "       'Animal Kennel', 'Bank, Savings and Loan', 'Department Store',\n",
              "       'Athletic and Amusement Facility', 'College, University (Private)',\n",
              "       'Nursery or Greenhouse',\n",
              "       'Motion Picture, Radio and Television Industry', 'Supermarket',\n",
              "       'Skating Rink', 'Manufactured Home Park', 'Theater', 'Lumber Yard',\n",
              "       'Food Processing Plant', 'Rights of Way', 'Rooming/Boarding House',\n",
              "       'Mineral Processing', 'Wholesale and Manufacturing Outlet',\n",
              "       'Dump Site', 'Poultry, etc.', 'Rivers and Lakes', 'Dairy',\n",
              "       'Race Track', 'Pipeline, Canal', 'Camp', 'Pasture',\n",
              "       'Fruits and Nuts', 'Water Recreation', 'Senior Day Care Center',\n",
              "       'Petroleum and Gas', 'Field Crops'], dtype=object)"
            ]
          },
          "metadata": {
            "tags": []
          },
          "execution_count": 17
        }
      ]
    },
    {
      "cell_type": "code",
      "metadata": {
        "id": "jq8kMCG_rEXt"
      },
      "source": [
        "records_df[\"specific_use\"]= records_df[\"specific_use\"].fillna('(unavailable)')"
      ],
      "execution_count": null,
      "outputs": []
    },
    {
      "cell_type": "code",
      "metadata": {
        "colab": {
          "base_uri": "https://localhost:8080/"
        },
        "id": "uh9gY_ejrrnt",
        "outputId": "20e29beb-f444-4959-f3e3-a6e75e5fa99d"
      },
      "source": [
        "records_df[\"specific_use\"].unique()"
      ],
      "execution_count": null,
      "outputs": [
        {
          "output_type": "execute_result",
          "data": {
            "text/plain": [
              "array(['Government Owned Property', 'Single Family Residence',\n",
              "       'Industrial', 'Store', 'Parking Lot (Commercial Use Property)',\n",
              "       'Auto, Recreation Equipment, Construction Equipment Sales and Service',\n",
              "       'Privately Owned', 'Heavy Manufacturing',\n",
              "       'Five or More Units or Apartments (Any Combination)', 'Commercial',\n",
              "       '(unavailable)', 'Utility', 'Light Manufacturing',\n",
              "       'Office Building', 'Double, Duplex, or Two Units', 'Golf Course',\n",
              "       'Desert', 'Shopping Center (Neighborhood, Community)',\n",
              "       'Shopping Center (Regional)', 'Waste',\n",
              "       'Three Units (Any Combination)',\n",
              "       'Parking Lot (Industrial Use Property)', 'Hotel and Motel',\n",
              "       'Church', 'Store Combination', 'Four Units  (Any Combination)',\n",
              "       ' ', 'Open Storage', 'Homes for Aged and Others',\n",
              "       'Warehousing, Distribution, Storage',\n",
              "       'Restaurant, Cocktail Lounge', \"Children's Day Care Center\",\n",
              "       'Professional Building', 'Bowling Alley', 'School (Private)',\n",
              "       'Club, Lodge Hall, Fraternal Organization', 'Service Station',\n",
              "       'Hospital', 'Manufactured Home', 'Cemetery, Mausoleum, Mortuary',\n",
              "       'Non-Auto Service and Repair Shop, Paint Shop, or Laundry',\n",
              "       'Animal Kennel', 'Bank, Savings and Loan', 'Department Store',\n",
              "       'Athletic and Amusement Facility', 'College, University (Private)',\n",
              "       'Nursery or Greenhouse',\n",
              "       'Motion Picture, Radio and Television Industry', 'Supermarket',\n",
              "       'Skating Rink', 'Manufactured Home Park', 'Theater', 'Lumber Yard',\n",
              "       'Food Processing Plant', 'Rights of Way', 'Rooming/Boarding House',\n",
              "       'Mineral Processing', 'Wholesale and Manufacturing Outlet',\n",
              "       'Dump Site', 'Poultry, etc.', 'Rivers and Lakes', 'Dairy',\n",
              "       'Race Track', 'Pipeline, Canal', 'Camp', 'Pasture',\n",
              "       'Fruits and Nuts', 'Water Recreation', 'Senior Day Care Center',\n",
              "       'Petroleum and Gas', 'Field Crops'], dtype=object)"
            ]
          },
          "metadata": {
            "tags": []
          },
          "execution_count": 19
        }
      ]
    },
    {
      "cell_type": "markdown",
      "metadata": {
        "id": "Z7qACCGMsjCh"
      },
      "source": [
        "###Handling Missing Values in [\"net_value\"]"
      ]
    },
    {
      "cell_type": "code",
      "metadata": {
        "colab": {
          "base_uri": "https://localhost:8080/"
        },
        "id": "HrviLMgEsqx0",
        "outputId": "20b544ef-e137-4a2d-9cb0-13ad76bbeba0"
      },
      "source": [
        "#this is good to go\n",
        "records_df['net_value'].isnull().sum()"
      ],
      "execution_count": null,
      "outputs": [
        {
          "output_type": "execute_result",
          "data": {
            "text/plain": [
              "0"
            ]
          },
          "metadata": {
            "tags": []
          },
          "execution_count": 20
        }
      ]
    },
    {
      "cell_type": "markdown",
      "metadata": {
        "id": "-e6SP1P5tWl2"
      },
      "source": [
        "###Handling Missing Values in [\"zip_code\"]"
      ]
    },
    {
      "cell_type": "code",
      "metadata": {
        "colab": {
          "base_uri": "https://localhost:8080/"
        },
        "id": "c25sl2oHtsKp",
        "outputId": "8709d630-daec-43df-f9d1-1cf44545d016"
      },
      "source": [
        "#good to go\n",
        "records_df['zip_code'].unique()"
      ],
      "execution_count": null,
      "outputs": [
        {
          "output_type": "execute_result",
          "data": {
            "text/plain": [
              "array([   nan, 91367., 91352., 91331., 91342., 90291., 90035., 90037.,\n",
              "       90020., 90036., 90069., 90027., 90003., 90732., 91335., 91306.,\n",
              "       91303., 91307., 91364., 91356., 91406., 91316., 91325., 91405.,\n",
              "       91343., 91402., 90045., 91423., 91401., 91411., 90230., 91403.,\n",
              "       91436., 91346., 90210., 91602., 91607., 91243., 90077., 90049.,\n",
              "       91605., 90001., 91606., 99606., 90066., 91066., 91006., 91601.,\n",
              "       90068., 91604., 91499., 91064., 90046., 91340., 91040., 91311.,\n",
              "       91042., 91024., 91214., 91344., 91345., 91353., 91504., 91505.,\n",
              "       93510., 91612., 90601., 91608., 90064., 91387., 91324., 91329.,\n",
              "       91326., 93063., 91330., 91304., 91301., 90043., 90056., 90302.,\n",
              "       90047., 90293., 90040., 90009., 90304., 90245., 90016., 90232.,\n",
              "       90034., 90025., 90094., 90292., 90041., 90042., 90015., 90057.,\n",
              "       90011., 90005., 90063., 92008., 90031., 90006., 90023., 90065.,\n",
              "       90012., 90019., 90014., 90013., 95648., 90017., 90405., 90026.,\n",
              "       90007., 90402., 90403., 90290., 90297., 90067., 90024., 90212.,\n",
              "       90048., 90211., 94513., 90095., 90039., 90631., 90022., 90272.,\n",
              "       94707., 90270., 90053., 90062., 90265., 90044., 90058., 90018.,\n",
              "       90008., 90089., 90028., 90021., 90029., 90010., 90038., 90004.,\n",
              "       90079., 90071., 90033., 92806., 92801., 90032., 91204., 91205.,\n",
              "       91030., 91201., 91206., 91105., 91101., 90209., 90052., 90002.,\n",
              "       90059., 90061., 90051., 90248., 90501., 90247., 90744., 90745.,\n",
              "       90813., 90810., 90746., 90502., 90731., 90717., 90710., 90712.,\n",
              "       90734., 90815., 92805., 90748., 90733., 90822., 90275., 92802.,\n",
              "       91302.])"
            ]
          },
          "metadata": {
            "tags": []
          },
          "execution_count": 21
        }
      ]
    },
    {
      "cell_type": "markdown",
      "metadata": {
        "id": "lY2D0rTM1LBf"
      },
      "source": [
        "###Dropping Data w/o Zip Codes"
      ]
    },
    {
      "cell_type": "code",
      "metadata": {
        "id": "iGDU6SRZ1V2_"
      },
      "source": [
        "records_df = records_df[records_df['zip_code'].notna()]"
      ],
      "execution_count": null,
      "outputs": []
    },
    {
      "cell_type": "code",
      "metadata": {
        "id": "txKUvLdi38Lc"
      },
      "source": [
        "records_df = records_df.reset_index()\n",
        "records_df = records_df.drop(columns=['index'])\n"
      ],
      "execution_count": null,
      "outputs": []
    },
    {
      "cell_type": "markdown",
      "metadata": {
        "id": "6JgE_Lf0vcMY"
      },
      "source": [
        "##Consistency\n",
        "Now that I've handles missing values, I will check consistency over: \n",
        "\n",
        "\n",
        "1.   Data type\n",
        "2.   Categorical \n",
        "2.  Referential integrity\n",
        "\n",
        "\n"
      ]
    },
    {
      "cell_type": "markdown",
      "metadata": {
        "id": "QXWw3cnZzgKu"
      },
      "source": [
        "###Data type"
      ]
    },
    {
      "cell_type": "code",
      "metadata": {
        "colab": {
          "base_uri": "https://localhost:8080/"
        },
        "id": "c1uhByKgzy8L",
        "outputId": "5c89581c-cc18-41c1-b41a-3d888a4c0d63"
      },
      "source": [
        "records_df.info()"
      ],
      "execution_count": null,
      "outputs": [
        {
          "output_type": "stream",
          "text": [
            "<class 'pandas.core.frame.DataFrame'>\n",
            "RangeIndex: 752695 entries, 0 to 752694\n",
            "Data columns (total 7 columns):\n",
            " #   Column        Non-Null Count   Dtype  \n",
            "---  ------        --------------   -----  \n",
            " 0   city          752695 non-null  object \n",
            " 1   year          752695 non-null  int64  \n",
            " 2   assessor_id   752695 non-null  object \n",
            " 3   general_use   752695 non-null  object \n",
            " 4   specific_use  752695 non-null  object \n",
            " 5   net_value     752695 non-null  int64  \n",
            " 6   zip_code      752695 non-null  float64\n",
            "dtypes: float64(1), int64(2), object(4)\n",
            "memory usage: 40.2+ MB\n"
          ],
          "name": "stdout"
        }
      ]
    },
    {
      "cell_type": "code",
      "metadata": {
        "id": "-2O6lEu0z68z"
      },
      "source": [
        "#changing to category type \n",
        "records_df[\"assessor_id\"] = records_df[\"assessor_id\"].astype(\"category\")\n",
        "records_df[\"general_use\"] = records_df[\"general_use\"].astype(\"category\")\n",
        "records_df[\"specific_use\"] = records_df[\"specific_use\"].astype(\"category\")\n",
        "\n",
        "#since all NaN have been removed, change type of zip code column to int. this may change later\n",
        "records_df[\"zip_code\"] = records_df[\"zip_code\"].astype(\"int\")\n",
        "\n",
        "#change year to datetime format\n",
        "records_df[\"year\"] = pd.to_datetime(records_df['year'], format='%Y')"
      ],
      "execution_count": null,
      "outputs": []
    },
    {
      "cell_type": "code",
      "metadata": {
        "id": "Lqz_AATz7DwX"
      },
      "source": [
        "records_df[\"year\"] = records_df[\"year\"].dt.year"
      ],
      "execution_count": null,
      "outputs": []
    },
    {
      "cell_type": "code",
      "metadata": {
        "colab": {
          "base_uri": "https://localhost:8080/"
        },
        "id": "Utix0Z9B81v6",
        "outputId": "7cc7a075-3133-4bfa-d3d4-8d8a030216b9"
      },
      "source": [
        "records_df.info()"
      ],
      "execution_count": null,
      "outputs": [
        {
          "output_type": "stream",
          "text": [
            "<class 'pandas.core.frame.DataFrame'>\n",
            "RangeIndex: 752695 entries, 0 to 752694\n",
            "Data columns (total 7 columns):\n",
            " #   Column        Non-Null Count   Dtype   \n",
            "---  ------        --------------   -----   \n",
            " 0   city          752695 non-null  object  \n",
            " 1   year          752695 non-null  int64   \n",
            " 2   assessor_id   752695 non-null  category\n",
            " 3   general_use   752695 non-null  category\n",
            " 4   specific_use  752695 non-null  category\n",
            " 5   net_value     752695 non-null  int64   \n",
            " 6   zip_code      752695 non-null  int64   \n",
            "dtypes: category(3), int64(3), object(1)\n",
            "memory usage: 53.0+ MB\n"
          ],
          "name": "stdout"
        }
      ]
    },
    {
      "cell_type": "markdown",
      "metadata": {
        "id": "bzxGEx1u9j9Q"
      },
      "source": [
        "###Categorical Consistency "
      ]
    },
    {
      "cell_type": "code",
      "metadata": {
        "colab": {
          "base_uri": "https://localhost:8080/"
        },
        "id": "x7CqQViw9m2f",
        "outputId": "e73da9a6-7875-4cf6-d06f-486edea68f8f"
      },
      "source": [
        "#consistent \n",
        "records_df[\"general_use\"].unique()"
      ],
      "execution_count": null,
      "outputs": [
        {
          "output_type": "execute_result",
          "data": {
            "text/plain": [
              "['Commercial', '(unavailable)', 'Residential', 'Industrial', 'Institutional', 'Recreational', 'Miscellaneous', 'Irrigated Farm', 'Dry Farm']\n",
              "Categories (9, object): ['Commercial', '(unavailable)', 'Residential', 'Industrial', ...,\n",
              "                         'Recreational', 'Miscellaneous', 'Irrigated Farm', 'Dry Farm']"
            ]
          },
          "metadata": {
            "tags": []
          },
          "execution_count": 30
        }
      ]
    },
    {
      "cell_type": "code",
      "metadata": {
        "colab": {
          "base_uri": "https://localhost:8080/"
        },
        "id": "bMibny9_9_5R",
        "outputId": "77eac487-e029-4672-947a-ee7ea0fe3e1f"
      },
      "source": [
        "#consistent \n",
        "records_df[\"specific_use\"].unique()"
      ],
      "execution_count": null,
      "outputs": [
        {
          "output_type": "execute_result",
          "data": {
            "text/plain": [
              "['Store', '(unavailable)', 'Commercial', 'Single Family Residence', 'Industrial', ..., 'Water Recreation', 'Petroleum and Gas', 'Fruits and Nuts', 'Rights of Way', 'Field Crops']\n",
              "Length: 69\n",
              "Categories (69, object): ['Store', '(unavailable)', 'Commercial', 'Single Family Residence',\n",
              "                          ..., 'Petroleum and Gas', 'Fruits and Nuts', 'Rights of Way',\n",
              "                          'Field Crops']"
            ]
          },
          "metadata": {
            "tags": []
          },
          "execution_count": 32
        }
      ]
    },
    {
      "cell_type": "markdown",
      "metadata": {
        "id": "zXeLAAXO-jbL"
      },
      "source": [
        "###  Referential integrity"
      ]
    },
    {
      "cell_type": "code",
      "metadata": {
        "id": "9lA8x_6G-qgS"
      },
      "source": [
        "#making the assessor_id a unique ID per parcel per year\n",
        "records_df['assessor_id'] = records_df[\"assessor_id\"].apply(lambda x: x +\"-2012\")"
      ],
      "execution_count": null,
      "outputs": []
    },
    {
      "cell_type": "code",
      "metadata": {
        "colab": {
          "base_uri": "https://localhost:8080/",
          "height": 419
        },
        "id": "n_OkPZtP-xy-",
        "outputId": "bb66238d-5f9f-4c9c-b10d-230193141994"
      },
      "source": [
        "records_df"
      ],
      "execution_count": null,
      "outputs": [
        {
          "output_type": "execute_result",
          "data": {
            "text/html": [
              "<div>\n",
              "<style scoped>\n",
              "    .dataframe tbody tr th:only-of-type {\n",
              "        vertical-align: middle;\n",
              "    }\n",
              "\n",
              "    .dataframe tbody tr th {\n",
              "        vertical-align: top;\n",
              "    }\n",
              "\n",
              "    .dataframe thead th {\n",
              "        text-align: right;\n",
              "    }\n",
              "</style>\n",
              "<table border=\"1\" class=\"dataframe\">\n",
              "  <thead>\n",
              "    <tr style=\"text-align: right;\">\n",
              "      <th></th>\n",
              "      <th>city</th>\n",
              "      <th>year</th>\n",
              "      <th>assessor_id</th>\n",
              "      <th>general_use</th>\n",
              "      <th>specific_use</th>\n",
              "      <th>net_value</th>\n",
              "      <th>zip_code</th>\n",
              "    </tr>\n",
              "  </thead>\n",
              "  <tbody>\n",
              "    <tr>\n",
              "      <th>0</th>\n",
              "      <td>LOS ANGELES</td>\n",
              "      <td>2012</td>\n",
              "      <td>2149-019-010-2012</td>\n",
              "      <td>Commercial</td>\n",
              "      <td>Store</td>\n",
              "      <td>4700000</td>\n",
              "      <td>91367</td>\n",
              "    </tr>\n",
              "    <tr>\n",
              "      <th>1</th>\n",
              "      <td>LOS ANGELES</td>\n",
              "      <td>2012</td>\n",
              "      <td>2311-002-001-2012</td>\n",
              "      <td>(unavailable)</td>\n",
              "      <td>(unavailable)</td>\n",
              "      <td>866855</td>\n",
              "      <td>91352</td>\n",
              "    </tr>\n",
              "    <tr>\n",
              "      <th>2</th>\n",
              "      <td>LOS ANGELES</td>\n",
              "      <td>2012</td>\n",
              "      <td>2537-014-040-2012</td>\n",
              "      <td>Commercial</td>\n",
              "      <td>Commercial</td>\n",
              "      <td>530390</td>\n",
              "      <td>91331</td>\n",
              "    </tr>\n",
              "    <tr>\n",
              "      <th>3</th>\n",
              "      <td>LOS ANGELES</td>\n",
              "      <td>2012</td>\n",
              "      <td>2603-026-009-2012</td>\n",
              "      <td>Residential</td>\n",
              "      <td>Single Family Residence</td>\n",
              "      <td>331700</td>\n",
              "      <td>91342</td>\n",
              "    </tr>\n",
              "    <tr>\n",
              "      <th>4</th>\n",
              "      <td>LOS ANGELES</td>\n",
              "      <td>2012</td>\n",
              "      <td>4241-006-035-2012</td>\n",
              "      <td>Residential</td>\n",
              "      <td>Single Family Residence</td>\n",
              "      <td>201599</td>\n",
              "      <td>90291</td>\n",
              "    </tr>\n",
              "    <tr>\n",
              "      <th>...</th>\n",
              "      <td>...</td>\n",
              "      <td>...</td>\n",
              "      <td>...</td>\n",
              "      <td>...</td>\n",
              "      <td>...</td>\n",
              "      <td>...</td>\n",
              "      <td>...</td>\n",
              "    </tr>\n",
              "    <tr>\n",
              "      <th>752690</th>\n",
              "      <td>LOS ANGELES</td>\n",
              "      <td>2012</td>\n",
              "      <td>2132-007-007-2012</td>\n",
              "      <td>Residential</td>\n",
              "      <td>Single Family Residence</td>\n",
              "      <td>356000</td>\n",
              "      <td>91335</td>\n",
              "    </tr>\n",
              "    <tr>\n",
              "      <th>752691</th>\n",
              "      <td>LOS ANGELES</td>\n",
              "      <td>2012</td>\n",
              "      <td>2132-007-013-2012</td>\n",
              "      <td>Residential</td>\n",
              "      <td>Single Family Residence</td>\n",
              "      <td>269000</td>\n",
              "      <td>91335</td>\n",
              "    </tr>\n",
              "    <tr>\n",
              "      <th>752692</th>\n",
              "      <td>LOS ANGELES</td>\n",
              "      <td>2012</td>\n",
              "      <td>2132-007-008-2012</td>\n",
              "      <td>Residential</td>\n",
              "      <td>Single Family Residence</td>\n",
              "      <td>63782</td>\n",
              "      <td>91335</td>\n",
              "    </tr>\n",
              "    <tr>\n",
              "      <th>752693</th>\n",
              "      <td>LOS ANGELES</td>\n",
              "      <td>2012</td>\n",
              "      <td>2132-007-009-2012</td>\n",
              "      <td>Residential</td>\n",
              "      <td>Single Family Residence</td>\n",
              "      <td>338512</td>\n",
              "      <td>91335</td>\n",
              "    </tr>\n",
              "    <tr>\n",
              "      <th>752694</th>\n",
              "      <td>LOS ANGELES</td>\n",
              "      <td>2012</td>\n",
              "      <td>2132-007-010-2012</td>\n",
              "      <td>Residential</td>\n",
              "      <td>Single Family Residence</td>\n",
              "      <td>276700</td>\n",
              "      <td>91335</td>\n",
              "    </tr>\n",
              "  </tbody>\n",
              "</table>\n",
              "<p>752695 rows × 7 columns</p>\n",
              "</div>"
            ],
            "text/plain": [
              "               city  year  ... net_value zip_code\n",
              "0       LOS ANGELES  2012  ...   4700000    91367\n",
              "1       LOS ANGELES  2012  ...    866855    91352\n",
              "2       LOS ANGELES  2012  ...    530390    91331\n",
              "3       LOS ANGELES  2012  ...    331700    91342\n",
              "4       LOS ANGELES  2012  ...    201599    90291\n",
              "...             ...   ...  ...       ...      ...\n",
              "752690  LOS ANGELES  2012  ...    356000    91335\n",
              "752691  LOS ANGELES  2012  ...    269000    91335\n",
              "752692  LOS ANGELES  2012  ...     63782    91335\n",
              "752693  LOS ANGELES  2012  ...    338512    91335\n",
              "752694  LOS ANGELES  2012  ...    276700    91335\n",
              "\n",
              "[752695 rows x 7 columns]"
            ]
          },
          "metadata": {
            "tags": []
          },
          "execution_count": 34
        }
      ]
    },
    {
      "cell_type": "code",
      "metadata": {
        "id": "q1rZT8Xu_C_d",
        "colab": {
          "base_uri": "https://localhost:8080/"
        },
        "outputId": "133523fd-1030-4f0f-f86e-90a9eba3ed05"
      },
      "source": [
        "len(records_df['zip_code'].unique())"
      ],
      "execution_count": null,
      "outputs": [
        {
          "output_type": "execute_result",
          "data": {
            "text/plain": [
              "184"
            ]
          },
          "metadata": {
            "tags": []
          },
          "execution_count": 33
        }
      ]
    },
    {
      "cell_type": "markdown",
      "metadata": {
        "id": "aYDRoKMS_nb5"
      },
      "source": [
        "##Exporting Data"
      ]
    },
    {
      "cell_type": "code",
      "metadata": {
        "id": "Wc8-dw69_qmW"
      },
      "source": [
        "records_df.to_csv(\"gdrive/My Drive/Team 93 Capstone Project/data/Assessor_Parcels_Data_2012_CLEANED.csv\")"
      ],
      "execution_count": null,
      "outputs": []
    },
    {
      "cell_type": "code",
      "metadata": {
        "id": "zHEo40z8_9R0"
      },
      "source": [
        ""
      ],
      "execution_count": null,
      "outputs": []
    }
  ]
}
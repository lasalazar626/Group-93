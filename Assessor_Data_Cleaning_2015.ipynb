{
  "nbformat": 4,
  "nbformat_minor": 0,
  "metadata": {
    "colab": {
      "name": "Assessor Data Cleaning - 2015.ipynb",
      "provenance": [],
      "collapsed_sections": [],
      "authorship_tag": "ABX9TyOKxyTCHyYdSEAudLK3RO5Q",
      "include_colab_link": true
    },
    "kernelspec": {
      "name": "python3",
      "display_name": "Python 3"
    },
    "language_info": {
      "name": "python"
    }
  },
  "cells": [
    {
      "cell_type": "markdown",
      "metadata": {
        "id": "view-in-github",
        "colab_type": "text"
      },
      "source": [
        "<a href=\"https://colab.research.google.com/github/sorayabailey23/Group-93/blob/main/Assessor_Data_Cleaning_2015.ipynb\" target=\"_parent\"><img src=\"https://colab.research.google.com/assets/colab-badge.svg\" alt=\"Open In Colab\"/></a>"
      ]
    },
    {
      "cell_type": "markdown",
      "metadata": {
        "id": "NCkY_HRffOx3"
      },
      "source": [
        "# Assessor Data Cleaning - 2015\n",
        "\n",
        "---\n",
        "\n"
      ]
    },
    {
      "cell_type": "code",
      "metadata": {
        "colab": {
          "base_uri": "https://localhost:8080/"
        },
        "id": "-VAEn9kMc05w",
        "outputId": "dad913af-8b5c-4ec2-8594-5eeb7e3c4f23"
      },
      "source": [
        "#importing libraries + drive\n",
        "\n",
        "from google.colab import drive\n",
        "drive.mount('/content/gdrive')"
      ],
      "execution_count": 1,
      "outputs": [
        {
          "output_type": "stream",
          "text": [
            "Mounted at /content/gdrive\n"
          ],
          "name": "stdout"
        }
      ]
    },
    {
      "cell_type": "code",
      "metadata": {
        "id": "ljH4c6VVc-Yc"
      },
      "source": [
        "import numpy as np\n",
        "import pandas as pd\n",
        "import math"
      ],
      "execution_count": 2,
      "outputs": []
    },
    {
      "cell_type": "markdown",
      "metadata": {
        "id": "JuXhCc6DnxXp"
      },
      "source": [
        "##Uploading + Exploring the Data \n",
        "\n",
        "I'll first upload the raw data and see what features it includes.\n"
      ]
    },
    {
      "cell_type": "code",
      "metadata": {
        "colab": {
          "base_uri": "https://localhost:8080/"
        },
        "id": "lxrs7T_IddbX",
        "outputId": "b7e50400-398f-466c-f01f-b6b20b72486b"
      },
      "source": [
        "#Importing data from 2014 in Los Angeles \n",
        "records_df = pd.read_csv(\"gdrive/My Drive/Team 93 Capstone Project/data/Assessor_Parcels_Data_2015.csv\")"
      ],
      "execution_count": 3,
      "outputs": [
        {
          "output_type": "stream",
          "text": [
            "/usr/local/lib/python3.7/dist-packages/IPython/core/interactiveshell.py:2718: DtypeWarning: Columns (37) have mixed types.Specify dtype option on import or set low_memory=False.\n",
            "  interactivity=interactivity, compiler=compiler, result=result)\n"
          ],
          "name": "stderr"
        }
      ]
    },
    {
      "cell_type": "code",
      "metadata": {
        "colab": {
          "base_uri": "https://localhost:8080/",
          "height": 496
        },
        "id": "vMCCCrxGflQ0",
        "outputId": "d15ba125-a438-44ce-8beb-46a0d2c4f01b"
      },
      "source": [
        "records_df.head()"
      ],
      "execution_count": 4,
      "outputs": [
        {
          "output_type": "execute_result",
          "data": {
            "text/html": [
              "<div>\n",
              "<style scoped>\n",
              "    .dataframe tbody tr th:only-of-type {\n",
              "        vertical-align: middle;\n",
              "    }\n",
              "\n",
              "    .dataframe tbody tr th {\n",
              "        vertical-align: top;\n",
              "    }\n",
              "\n",
              "    .dataframe thead th {\n",
              "        text-align: right;\n",
              "    }\n",
              "</style>\n",
              "<table border=\"1\" class=\"dataframe\">\n",
              "  <thead>\n",
              "    <tr style=\"text-align: right;\">\n",
              "      <th></th>\n",
              "      <th>Unnamed: 0</th>\n",
              "      <th>situszip</th>\n",
              "      <th>taxratearea_city</th>\n",
              "      <th>ain</th>\n",
              "      <th>rollyear</th>\n",
              "      <th>taxratearea</th>\n",
              "      <th>assessorid</th>\n",
              "      <th>usetype</th>\n",
              "      <th>usecode</th>\n",
              "      <th>usecodedescchar1</th>\n",
              "      <th>usecodedescchar2</th>\n",
              "      <th>usecodedescchar3</th>\n",
              "      <th>usecodedescchar4</th>\n",
              "      <th>totbuildingdatalines</th>\n",
              "      <th>yearbuilt</th>\n",
              "      <th>effectiveyearbuilt</th>\n",
              "      <th>sqftmain</th>\n",
              "      <th>bedrooms</th>\n",
              "      <th>bathrooms</th>\n",
              "      <th>units</th>\n",
              "      <th>recordingdate</th>\n",
              "      <th>roll_landvalue</th>\n",
              "      <th>roll_landbaseyear</th>\n",
              "      <th>roll_impvalue</th>\n",
              "      <th>roll_impbaseyear</th>\n",
              "      <th>roll_totlandimp</th>\n",
              "      <th>roll_homeownersexemp</th>\n",
              "      <th>roll_realestateexemp</th>\n",
              "      <th>roll_fixturevalue</th>\n",
              "      <th>roll_fixtureexemp</th>\n",
              "      <th>roll_perspropvalue</th>\n",
              "      <th>roll_perspropexemp</th>\n",
              "      <th>istaxableparcel</th>\n",
              "      <th>roll_totalvalue</th>\n",
              "      <th>roll_totalexemption</th>\n",
              "      <th>nettaxablevalue</th>\n",
              "      <th>parcelclassification</th>\n",
              "      <th>adminregion</th>\n",
              "      <th>cluster</th>\n",
              "      <th>parcelboundarydescription</th>\n",
              "      <th>situshouseno</th>\n",
              "      <th>situsfraction</th>\n",
              "      <th>situsdirection</th>\n",
              "      <th>situsstreet</th>\n",
              "      <th>situsunit</th>\n",
              "      <th>situscity</th>\n",
              "      <th>rowid</th>\n",
              "      <th>center_lat</th>\n",
              "      <th>center_lon</th>\n",
              "      <th>location_1</th>\n",
              "      <th>propertylocation</th>\n",
              "      <th>situszip5</th>\n",
              "    </tr>\n",
              "  </thead>\n",
              "  <tbody>\n",
              "    <tr>\n",
              "      <th>0</th>\n",
              "      <td>0</td>\n",
              "      <td></td>\n",
              "      <td>LOS ANGELES</td>\n",
              "      <td>2137019904</td>\n",
              "      <td>2015</td>\n",
              "      <td>16</td>\n",
              "      <td>2137-019-904</td>\n",
              "      <td>OTH</td>\n",
              "      <td>8800</td>\n",
              "      <td>Miscellaneous</td>\n",
              "      <td>Government Owned Property</td>\n",
              "      <td></td>\n",
              "      <td></td>\n",
              "      <td>0</td>\n",
              "      <td>0</td>\n",
              "      <td>0</td>\n",
              "      <td>0</td>\n",
              "      <td>0</td>\n",
              "      <td>0</td>\n",
              "      <td>0</td>\n",
              "      <td>19840201</td>\n",
              "      <td>0</td>\n",
              "      <td>1984</td>\n",
              "      <td>0</td>\n",
              "      <td>1975</td>\n",
              "      <td>0</td>\n",
              "      <td>0</td>\n",
              "      <td>0</td>\n",
              "      <td>0</td>\n",
              "      <td>0</td>\n",
              "      <td>0</td>\n",
              "      <td>0</td>\n",
              "      <td>N</td>\n",
              "      <td>0</td>\n",
              "      <td>0</td>\n",
              "      <td>0</td>\n",
              "      <td>Public (non-taxable government-owned)</td>\n",
              "      <td>02</td>\n",
              "      <td>2150</td>\n",
              "      <td>TR=1339*N 100 FT OF S 485.07 FT (EX OF ST) OF ...</td>\n",
              "      <td>0</td>\n",
              "      <td></td>\n",
              "      <td></td>\n",
              "      <td></td>\n",
              "      <td></td>\n",
              "      <td></td>\n",
              "      <td>20152137019904</td>\n",
              "      <td>34.198602</td>\n",
              "      <td>-118.587825</td>\n",
              "      <td>{'latitude': '34.1986019', 'longitude': '-118....</td>\n",
              "      <td>NaN</td>\n",
              "      <td>NaN</td>\n",
              "    </tr>\n",
              "    <tr>\n",
              "      <th>1</th>\n",
              "      <td>1</td>\n",
              "      <td></td>\n",
              "      <td>LOS ANGELES</td>\n",
              "      <td>2137019905</td>\n",
              "      <td>2015</td>\n",
              "      <td>16</td>\n",
              "      <td>2137-019-905</td>\n",
              "      <td>OTH</td>\n",
              "      <td>8800</td>\n",
              "      <td>Miscellaneous</td>\n",
              "      <td>Government Owned Property</td>\n",
              "      <td></td>\n",
              "      <td></td>\n",
              "      <td>0</td>\n",
              "      <td>0</td>\n",
              "      <td>0</td>\n",
              "      <td>0</td>\n",
              "      <td>0</td>\n",
              "      <td>0</td>\n",
              "      <td>0</td>\n",
              "      <td>19821015</td>\n",
              "      <td>0</td>\n",
              "      <td>1985</td>\n",
              "      <td>0</td>\n",
              "      <td>1975</td>\n",
              "      <td>0</td>\n",
              "      <td>0</td>\n",
              "      <td>0</td>\n",
              "      <td>0</td>\n",
              "      <td>0</td>\n",
              "      <td>0</td>\n",
              "      <td>0</td>\n",
              "      <td>N</td>\n",
              "      <td>0</td>\n",
              "      <td>0</td>\n",
              "      <td>0</td>\n",
              "      <td>Public (non-taxable government-owned)</td>\n",
              "      <td>02</td>\n",
              "      <td>2150</td>\n",
              "      <td>TR=1339*N 100 FT OF S 385.07 FT (EX OF ST) OF ...</td>\n",
              "      <td>0</td>\n",
              "      <td></td>\n",
              "      <td></td>\n",
              "      <td></td>\n",
              "      <td></td>\n",
              "      <td></td>\n",
              "      <td>20152137019905</td>\n",
              "      <td>34.198327</td>\n",
              "      <td>-118.587824</td>\n",
              "      <td>{'latitude': '34.19832711', 'longitude': '-118...</td>\n",
              "      <td>NaN</td>\n",
              "      <td>NaN</td>\n",
              "    </tr>\n",
              "    <tr>\n",
              "      <th>2</th>\n",
              "      <td>2</td>\n",
              "      <td></td>\n",
              "      <td>LOS ANGELES</td>\n",
              "      <td>2138012021</td>\n",
              "      <td>2015</td>\n",
              "      <td>8852</td>\n",
              "      <td>2138-012-021</td>\n",
              "      <td>VAC</td>\n",
              "      <td>300V</td>\n",
              "      <td>Industrial</td>\n",
              "      <td>Industrial</td>\n",
              "      <td></td>\n",
              "      <td>Vacant Land</td>\n",
              "      <td>0</td>\n",
              "      <td>0</td>\n",
              "      <td>0</td>\n",
              "      <td>0</td>\n",
              "      <td>0</td>\n",
              "      <td>0</td>\n",
              "      <td>0</td>\n",
              "      <td>20140123</td>\n",
              "      <td>42410</td>\n",
              "      <td>1975</td>\n",
              "      <td>0</td>\n",
              "      <td>1975</td>\n",
              "      <td>42410</td>\n",
              "      <td>0</td>\n",
              "      <td>0</td>\n",
              "      <td>0</td>\n",
              "      <td>0</td>\n",
              "      <td>0</td>\n",
              "      <td>0</td>\n",
              "      <td>Y</td>\n",
              "      <td>42410</td>\n",
              "      <td>0</td>\n",
              "      <td>42410</td>\n",
              "      <td></td>\n",
              "      <td>24</td>\n",
              "      <td>24820</td>\n",
              "      <td>OWENSMOUTH S 50 FT OF N 100 FT OF W 231.43 FT ...</td>\n",
              "      <td>0</td>\n",
              "      <td></td>\n",
              "      <td></td>\n",
              "      <td></td>\n",
              "      <td></td>\n",
              "      <td></td>\n",
              "      <td>20152138012021</td>\n",
              "      <td>34.196276</td>\n",
              "      <td>-118.597994</td>\n",
              "      <td>{'latitude': '34.19627608', 'longitude': '-118...</td>\n",
              "      <td>NaN</td>\n",
              "      <td>NaN</td>\n",
              "    </tr>\n",
              "    <tr>\n",
              "      <th>3</th>\n",
              "      <td>3</td>\n",
              "      <td></td>\n",
              "      <td>LOS ANGELES</td>\n",
              "      <td>2138029902</td>\n",
              "      <td>2015</td>\n",
              "      <td>16</td>\n",
              "      <td>2138-029-902</td>\n",
              "      <td>OTH</td>\n",
              "      <td>8800</td>\n",
              "      <td>Miscellaneous</td>\n",
              "      <td>Government Owned Property</td>\n",
              "      <td></td>\n",
              "      <td></td>\n",
              "      <td>0</td>\n",
              "      <td>0</td>\n",
              "      <td>0</td>\n",
              "      <td>0</td>\n",
              "      <td>0</td>\n",
              "      <td>0</td>\n",
              "      <td>0</td>\n",
              "      <td>19450126</td>\n",
              "      <td>0</td>\n",
              "      <td>1975</td>\n",
              "      <td>0</td>\n",
              "      <td>0</td>\n",
              "      <td>0</td>\n",
              "      <td>0</td>\n",
              "      <td>0</td>\n",
              "      <td>0</td>\n",
              "      <td>0</td>\n",
              "      <td>0</td>\n",
              "      <td>0</td>\n",
              "      <td>N</td>\n",
              "      <td>0</td>\n",
              "      <td>0</td>\n",
              "      <td>0</td>\n",
              "      <td>Public (non-taxable government-owned)</td>\n",
              "      <td>02</td>\n",
              "      <td>2150</td>\n",
              "      <td>TR=7348 EX OF ST LOTS 11 AND 12 AND ALL OF LOT...</td>\n",
              "      <td>0</td>\n",
              "      <td></td>\n",
              "      <td></td>\n",
              "      <td></td>\n",
              "      <td></td>\n",
              "      <td></td>\n",
              "      <td>20152138029902</td>\n",
              "      <td>34.195232</td>\n",
              "      <td>-118.589554</td>\n",
              "      <td>{'latitude': '34.19523174', 'longitude': '-118...</td>\n",
              "      <td>NaN</td>\n",
              "      <td>NaN</td>\n",
              "    </tr>\n",
              "    <tr>\n",
              "      <th>4</th>\n",
              "      <td>4</td>\n",
              "      <td></td>\n",
              "      <td>LOS ANGELES</td>\n",
              "      <td>2146016020</td>\n",
              "      <td>2015</td>\n",
              "      <td>16</td>\n",
              "      <td>2146-016-020</td>\n",
              "      <td>VAC</td>\n",
              "      <td>010V</td>\n",
              "      <td>Residential</td>\n",
              "      <td>Single Family Residence</td>\n",
              "      <td></td>\n",
              "      <td>Vacant Land</td>\n",
              "      <td>0</td>\n",
              "      <td>0</td>\n",
              "      <td>0</td>\n",
              "      <td>0</td>\n",
              "      <td>0</td>\n",
              "      <td>0</td>\n",
              "      <td>0</td>\n",
              "      <td>20141112</td>\n",
              "      <td>28000</td>\n",
              "      <td>2015</td>\n",
              "      <td>0</td>\n",
              "      <td>2015</td>\n",
              "      <td>28000</td>\n",
              "      <td>0</td>\n",
              "      <td>0</td>\n",
              "      <td>0</td>\n",
              "      <td>0</td>\n",
              "      <td>0</td>\n",
              "      <td>0</td>\n",
              "      <td>Y</td>\n",
              "      <td>28000</td>\n",
              "      <td>0</td>\n",
              "      <td>28000</td>\n",
              "      <td></td>\n",
              "      <td>02</td>\n",
              "      <td>2163</td>\n",
              "      <td>*LAND DESC IN DOC 0002484, 76-4-26 *TR=22481*P...</td>\n",
              "      <td>0</td>\n",
              "      <td></td>\n",
              "      <td></td>\n",
              "      <td></td>\n",
              "      <td></td>\n",
              "      <td></td>\n",
              "      <td>20152146016020</td>\n",
              "      <td>34.177912</td>\n",
              "      <td>-118.606336</td>\n",
              "      <td>{'latitude': '34.17791177', 'longitude': '-118...</td>\n",
              "      <td>NaN</td>\n",
              "      <td>NaN</td>\n",
              "    </tr>\n",
              "  </tbody>\n",
              "</table>\n",
              "</div>"
            ],
            "text/plain": [
              "   Unnamed: 0 situszip  ... propertylocation  situszip5\n",
              "0           0           ...              NaN        NaN\n",
              "1           1           ...              NaN        NaN\n",
              "2           2           ...              NaN        NaN\n",
              "3           3           ...              NaN        NaN\n",
              "4           4           ...              NaN        NaN\n",
              "\n",
              "[5 rows x 52 columns]"
            ]
          },
          "metadata": {
            "tags": []
          },
          "execution_count": 4
        }
      ]
    },
    {
      "cell_type": "code",
      "metadata": {
        "colab": {
          "base_uri": "https://localhost:8080/"
        },
        "id": "gQbh0Kgye-UL",
        "outputId": "ee7535d9-53eb-4c99-a08c-2426c13fc17b"
      },
      "source": [
        "records_df.columns"
      ],
      "execution_count": 5,
      "outputs": [
        {
          "output_type": "execute_result",
          "data": {
            "text/plain": [
              "Index(['Unnamed: 0', 'situszip', 'taxratearea_city', 'ain', 'rollyear',\n",
              "       'taxratearea', 'assessorid', 'usetype', 'usecode', 'usecodedescchar1',\n",
              "       'usecodedescchar2', 'usecodedescchar3', 'usecodedescchar4',\n",
              "       'totbuildingdatalines', 'yearbuilt', 'effectiveyearbuilt', 'sqftmain',\n",
              "       'bedrooms', 'bathrooms', 'units', 'recordingdate', 'roll_landvalue',\n",
              "       'roll_landbaseyear', 'roll_impvalue', 'roll_impbaseyear',\n",
              "       'roll_totlandimp', 'roll_homeownersexemp', 'roll_realestateexemp',\n",
              "       'roll_fixturevalue', 'roll_fixtureexemp', 'roll_perspropvalue',\n",
              "       'roll_perspropexemp', 'istaxableparcel', 'roll_totalvalue',\n",
              "       'roll_totalexemption', 'nettaxablevalue', 'parcelclassification',\n",
              "       'adminregion', 'cluster', 'parcelboundarydescription', 'situshouseno',\n",
              "       'situsfraction', 'situsdirection', 'situsstreet', 'situsunit',\n",
              "       'situscity', 'rowid', 'center_lat', 'center_lon', 'location_1',\n",
              "       'propertylocation', 'situszip5'],\n",
              "      dtype='object')"
            ]
          },
          "metadata": {
            "tags": []
          },
          "execution_count": 5
        }
      ]
    },
    {
      "cell_type": "code",
      "metadata": {
        "colab": {
          "base_uri": "https://localhost:8080/"
        },
        "id": "lfqk_ipUfD13",
        "outputId": "2156a990-ac3f-4180-e232-c0e6e29cc0bf"
      },
      "source": [
        "#verifying that we pulled data for the correct city + year \n",
        "records_df[\"taxratearea_city\"].unique()\n"
      ],
      "execution_count": 6,
      "outputs": [
        {
          "output_type": "execute_result",
          "data": {
            "text/plain": [
              "array(['LOS ANGELES'], dtype=object)"
            ]
          },
          "metadata": {
            "tags": []
          },
          "execution_count": 6
        }
      ]
    },
    {
      "cell_type": "code",
      "metadata": {
        "colab": {
          "base_uri": "https://localhost:8080/"
        },
        "id": "GYuUpNCe4QkN",
        "outputId": "4326fe10-90be-4e98-ace3-c9119d66218f"
      },
      "source": [
        "records_df[\"rollyear\"].unique()\n"
      ],
      "execution_count": 7,
      "outputs": [
        {
          "output_type": "execute_result",
          "data": {
            "text/plain": [
              "array([2015])"
            ]
          },
          "metadata": {
            "tags": []
          },
          "execution_count": 7
        }
      ]
    },
    {
      "cell_type": "code",
      "metadata": {
        "colab": {
          "base_uri": "https://localhost:8080/"
        },
        "id": "M2J81KULgBsX",
        "outputId": "c64f48c8-c709-47e7-dc32-70373320d699"
      },
      "source": [
        "records_df.info()"
      ],
      "execution_count": 8,
      "outputs": [
        {
          "output_type": "stream",
          "text": [
            "<class 'pandas.core.frame.DataFrame'>\n",
            "RangeIndex: 795851 entries, 0 to 795850\n",
            "Data columns (total 52 columns):\n",
            " #   Column                     Non-Null Count   Dtype  \n",
            "---  ------                     --------------   -----  \n",
            " 0   Unnamed: 0                 795851 non-null  int64  \n",
            " 1   situszip                   795851 non-null  object \n",
            " 2   taxratearea_city           795851 non-null  object \n",
            " 3   ain                        795851 non-null  int64  \n",
            " 4   rollyear                   795851 non-null  int64  \n",
            " 5   taxratearea                795851 non-null  int64  \n",
            " 6   assessorid                 795851 non-null  object \n",
            " 7   usetype                    795840 non-null  object \n",
            " 8   usecode                    795851 non-null  object \n",
            " 9   usecodedescchar1           795840 non-null  object \n",
            " 10  usecodedescchar2           795840 non-null  object \n",
            " 11  usecodedescchar3           795840 non-null  object \n",
            " 12  usecodedescchar4           795840 non-null  object \n",
            " 13  totbuildingdatalines       795851 non-null  int64  \n",
            " 14  yearbuilt                  795851 non-null  int64  \n",
            " 15  effectiveyearbuilt         795851 non-null  int64  \n",
            " 16  sqftmain                   795851 non-null  int64  \n",
            " 17  bedrooms                   795851 non-null  int64  \n",
            " 18  bathrooms                  795851 non-null  int64  \n",
            " 19  units                      795851 non-null  int64  \n",
            " 20  recordingdate              795851 non-null  int64  \n",
            " 21  roll_landvalue             795851 non-null  int64  \n",
            " 22  roll_landbaseyear          795851 non-null  int64  \n",
            " 23  roll_impvalue              795851 non-null  int64  \n",
            " 24  roll_impbaseyear           795851 non-null  int64  \n",
            " 25  roll_totlandimp            795851 non-null  int64  \n",
            " 26  roll_homeownersexemp       795851 non-null  int64  \n",
            " 27  roll_realestateexemp       795851 non-null  int64  \n",
            " 28  roll_fixturevalue          795851 non-null  int64  \n",
            " 29  roll_fixtureexemp          795851 non-null  int64  \n",
            " 30  roll_perspropvalue         795851 non-null  int64  \n",
            " 31  roll_perspropexemp         795851 non-null  int64  \n",
            " 32  istaxableparcel            795851 non-null  object \n",
            " 33  roll_totalvalue            795851 non-null  int64  \n",
            " 34  roll_totalexemption        795851 non-null  int64  \n",
            " 35  nettaxablevalue            795851 non-null  int64  \n",
            " 36  parcelclassification       795851 non-null  object \n",
            " 37  adminregion                795851 non-null  object \n",
            " 38  cluster                    795851 non-null  int64  \n",
            " 39  parcelboundarydescription  795851 non-null  object \n",
            " 40  situshouseno               795851 non-null  int64  \n",
            " 41  situsfraction              795851 non-null  object \n",
            " 42  situsdirection             795851 non-null  object \n",
            " 43  situsstreet                795851 non-null  object \n",
            " 44  situsunit                  795851 non-null  object \n",
            " 45  situscity                  795851 non-null  object \n",
            " 46  rowid                      795851 non-null  int64  \n",
            " 47  center_lat                 795777 non-null  float64\n",
            " 48  center_lon                 795777 non-null  float64\n",
            " 49  location_1                 795777 non-null  object \n",
            " 50  propertylocation           754951 non-null  object \n",
            " 51  situszip5                  754898 non-null  float64\n",
            "dtypes: float64(3), int64(29), object(20)\n",
            "memory usage: 315.7+ MB\n"
          ],
          "name": "stdout"
        }
      ]
    },
    {
      "cell_type": "markdown",
      "metadata": {
        "id": "YnAWXm-moobd"
      },
      "source": [
        "## Relevance \n",
        "\n",
        "The dataset includes a lot of information that I don't need. For this section, I'll \n",
        "\n",
        "\n",
        "1.   Drop the columns that I don't need \n",
        "2.   Check the remaining columns for unique values\n",
        "1.   Handle missing values, including dropping data that does not include zip codes\n",
        "\n",
        "\n",
        "\n",
        "\n"
      ]
    },
    {
      "cell_type": "markdown",
      "metadata": {
        "id": "7gfuNxT-vPjj"
      },
      "source": [
        "###Determining which columns to drop"
      ]
    },
    {
      "cell_type": "code",
      "metadata": {
        "id": "eADWVKnugHQ_"
      },
      "source": [
        "#dropping irrelevant columns\n",
        "\n",
        "records_df = records_df.drop(columns=['Unnamed: 0', 'situszip','ain',\n",
        "       'taxratearea', 'usetype', 'usecode','usecodedescchar3', 'usecodedescchar4',\n",
        "       'totbuildingdatalines', 'yearbuilt', 'effectiveyearbuilt', 'sqftmain',\n",
        "       'bedrooms', 'bathrooms', 'units', 'recordingdate', 'roll_landvalue',\n",
        "       'roll_landbaseyear', 'roll_impvalue', 'roll_impbaseyear',\n",
        "       'roll_totlandimp', 'roll_homeownersexemp', 'roll_realestateexemp',\n",
        "       'roll_fixturevalue', 'roll_fixtureexemp', 'roll_perspropvalue',\n",
        "       'roll_perspropexemp', 'istaxableparcel', 'roll_totalvalue',\n",
        "       'roll_totalexemption',\n",
        "       'adminregion', 'cluster', 'parcelboundarydescription', 'situshouseno',\n",
        "       'situsfraction', 'situsdirection', 'situsstreet', 'situsunit',\n",
        "       'situscity', 'rowid', 'center_lat', 'center_lon', 'location_1','propertylocation', \"parcelclassification\"])\n"
      ],
      "execution_count": 9,
      "outputs": []
    },
    {
      "cell_type": "code",
      "metadata": {
        "colab": {
          "base_uri": "https://localhost:8080/",
          "height": 204
        },
        "id": "eO3Qf49aiSfa",
        "outputId": "b8781516-180a-4b8e-e321-10e3e5bf6c32"
      },
      "source": [
        "records_df.head()"
      ],
      "execution_count": 10,
      "outputs": [
        {
          "output_type": "execute_result",
          "data": {
            "text/html": [
              "<div>\n",
              "<style scoped>\n",
              "    .dataframe tbody tr th:only-of-type {\n",
              "        vertical-align: middle;\n",
              "    }\n",
              "\n",
              "    .dataframe tbody tr th {\n",
              "        vertical-align: top;\n",
              "    }\n",
              "\n",
              "    .dataframe thead th {\n",
              "        text-align: right;\n",
              "    }\n",
              "</style>\n",
              "<table border=\"1\" class=\"dataframe\">\n",
              "  <thead>\n",
              "    <tr style=\"text-align: right;\">\n",
              "      <th></th>\n",
              "      <th>taxratearea_city</th>\n",
              "      <th>rollyear</th>\n",
              "      <th>assessorid</th>\n",
              "      <th>usecodedescchar1</th>\n",
              "      <th>usecodedescchar2</th>\n",
              "      <th>nettaxablevalue</th>\n",
              "      <th>situszip5</th>\n",
              "    </tr>\n",
              "  </thead>\n",
              "  <tbody>\n",
              "    <tr>\n",
              "      <th>0</th>\n",
              "      <td>LOS ANGELES</td>\n",
              "      <td>2015</td>\n",
              "      <td>2137-019-904</td>\n",
              "      <td>Miscellaneous</td>\n",
              "      <td>Government Owned Property</td>\n",
              "      <td>0</td>\n",
              "      <td>NaN</td>\n",
              "    </tr>\n",
              "    <tr>\n",
              "      <th>1</th>\n",
              "      <td>LOS ANGELES</td>\n",
              "      <td>2015</td>\n",
              "      <td>2137-019-905</td>\n",
              "      <td>Miscellaneous</td>\n",
              "      <td>Government Owned Property</td>\n",
              "      <td>0</td>\n",
              "      <td>NaN</td>\n",
              "    </tr>\n",
              "    <tr>\n",
              "      <th>2</th>\n",
              "      <td>LOS ANGELES</td>\n",
              "      <td>2015</td>\n",
              "      <td>2138-012-021</td>\n",
              "      <td>Industrial</td>\n",
              "      <td>Industrial</td>\n",
              "      <td>42410</td>\n",
              "      <td>NaN</td>\n",
              "    </tr>\n",
              "    <tr>\n",
              "      <th>3</th>\n",
              "      <td>LOS ANGELES</td>\n",
              "      <td>2015</td>\n",
              "      <td>2138-029-902</td>\n",
              "      <td>Miscellaneous</td>\n",
              "      <td>Government Owned Property</td>\n",
              "      <td>0</td>\n",
              "      <td>NaN</td>\n",
              "    </tr>\n",
              "    <tr>\n",
              "      <th>4</th>\n",
              "      <td>LOS ANGELES</td>\n",
              "      <td>2015</td>\n",
              "      <td>2146-016-020</td>\n",
              "      <td>Residential</td>\n",
              "      <td>Single Family Residence</td>\n",
              "      <td>28000</td>\n",
              "      <td>NaN</td>\n",
              "    </tr>\n",
              "  </tbody>\n",
              "</table>\n",
              "</div>"
            ],
            "text/plain": [
              "  taxratearea_city  rollyear  ... nettaxablevalue situszip5\n",
              "0      LOS ANGELES      2015  ...               0       NaN\n",
              "1      LOS ANGELES      2015  ...               0       NaN\n",
              "2      LOS ANGELES      2015  ...           42410       NaN\n",
              "3      LOS ANGELES      2015  ...               0       NaN\n",
              "4      LOS ANGELES      2015  ...           28000       NaN\n",
              "\n",
              "[5 rows x 7 columns]"
            ]
          },
          "metadata": {
            "tags": []
          },
          "execution_count": 10
        }
      ]
    },
    {
      "cell_type": "code",
      "metadata": {
        "id": "dTZFuqdtjZhG"
      },
      "source": [
        "#renaming columns to more recongizable names\n",
        "records_df.columns=[\"city\", \"year\", \"assessor_id\",\"general_use\", \"specific_use\",\"net_value\", \"zip_code\"]"
      ],
      "execution_count": 11,
      "outputs": []
    },
    {
      "cell_type": "markdown",
      "metadata": {
        "id": "7CDOlnKKy3QF"
      },
      "source": [
        "###Handling Missing Values in [\"assessor_id\"] (none!)"
      ]
    },
    {
      "cell_type": "code",
      "metadata": {
        "colab": {
          "base_uri": "https://localhost:8080/"
        },
        "id": "hd6pxjgay4UW",
        "outputId": "bab5c244-3670-44df-973f-55e8e4004551"
      },
      "source": [
        "len(records_df['assessor_id'].unique())"
      ],
      "execution_count": 12,
      "outputs": [
        {
          "output_type": "execute_result",
          "data": {
            "text/plain": [
              "795851"
            ]
          },
          "metadata": {
            "tags": []
          },
          "execution_count": 12
        }
      ]
    },
    {
      "cell_type": "code",
      "metadata": {
        "colab": {
          "base_uri": "https://localhost:8080/"
        },
        "id": "y7h03GazzKd_",
        "outputId": "81a337e9-7408-48c8-8490-7cb4cda9b724"
      },
      "source": [
        "records_df['assessor_id'].isnull().sum()"
      ],
      "execution_count": 13,
      "outputs": [
        {
          "output_type": "execute_result",
          "data": {
            "text/plain": [
              "0"
            ]
          },
          "metadata": {
            "tags": []
          },
          "execution_count": 13
        }
      ]
    },
    {
      "cell_type": "code",
      "metadata": {
        "id": "2cFxx0KyzW7m"
      },
      "source": [
        "#this series is good to go"
      ],
      "execution_count": null,
      "outputs": []
    },
    {
      "cell_type": "markdown",
      "metadata": {
        "id": "ReWrRY0oporI"
      },
      "source": [
        "### Handling Missing Values in [\"general_use\"]"
      ]
    },
    {
      "cell_type": "code",
      "metadata": {
        "colab": {
          "base_uri": "https://localhost:8080/"
        },
        "id": "l4e1TOk4jt9R",
        "outputId": "5a101f92-b259-43ac-d252-39129c6e129c"
      },
      "source": [
        "#we have entries w/ nan and (unavailable) string\n",
        "records_df[\"general_use\"].unique()"
      ],
      "execution_count": 14,
      "outputs": [
        {
          "output_type": "execute_result",
          "data": {
            "text/plain": [
              "array(['Miscellaneous', 'Industrial', 'Residential', 'Commercial',\n",
              "       'Institutional', '(unavailable)', 'Recreational', 'Dry Farm', nan,\n",
              "       'Irrigated Farm'], dtype=object)"
            ]
          },
          "metadata": {
            "tags": []
          },
          "execution_count": 14
        }
      ]
    },
    {
      "cell_type": "code",
      "metadata": {
        "colab": {
          "base_uri": "https://localhost:8080/"
        },
        "id": "WDSETMuEmk0f",
        "outputId": "0399caae-adea-4c57-a790-a23241c2a504"
      },
      "source": [
        "#checking how many nans in general_use\n",
        "records_df['general_use'].isnull().sum()"
      ],
      "execution_count": 15,
      "outputs": [
        {
          "output_type": "execute_result",
          "data": {
            "text/plain": [
              "11"
            ]
          },
          "metadata": {
            "tags": []
          },
          "execution_count": 15
        }
      ]
    },
    {
      "cell_type": "code",
      "metadata": {
        "colab": {
          "base_uri": "https://localhost:8080/"
        },
        "id": "piYOjeBwnJDo",
        "outputId": "1fb9f35b-3fe2-447c-b86f-9c12ab6dc550"
      },
      "source": [
        "#replacing nan with (unavailable)\n",
        "records_df[\"general_use\"] = records_df[\"general_use\"].fillna('(unavailable)')\n",
        "records_df[\"general_use\"].unique()"
      ],
      "execution_count": 16,
      "outputs": [
        {
          "output_type": "execute_result",
          "data": {
            "text/plain": [
              "array(['Miscellaneous', 'Industrial', 'Residential', 'Commercial',\n",
              "       'Institutional', '(unavailable)', 'Recreational', 'Dry Farm',\n",
              "       'Irrigated Farm'], dtype=object)"
            ]
          },
          "metadata": {
            "tags": []
          },
          "execution_count": 16
        }
      ]
    },
    {
      "cell_type": "markdown",
      "metadata": {
        "id": "0GufVSxFqCKE"
      },
      "source": [
        "###Handling Missing Values in [\"specific_use\"]"
      ]
    },
    {
      "cell_type": "code",
      "metadata": {
        "colab": {
          "base_uri": "https://localhost:8080/"
        },
        "id": "HAHuT5nbluSs",
        "outputId": "b3d12900-4c28-482d-8786-c3f410c73bef"
      },
      "source": [
        "#there is an empty string in this column that we should replace with nan or Not Available \n",
        "records_df[\"specific_use\"].unique()"
      ],
      "execution_count": 17,
      "outputs": [
        {
          "output_type": "execute_result",
          "data": {
            "text/plain": [
              "array(['Government Owned Property', 'Industrial',\n",
              "       'Single Family Residence', 'Heavy Manufacturing',\n",
              "       'Five or More Units or Apartments (Any Combination)',\n",
              "       'Parking Lot (Commercial Use Property)', 'Department Store',\n",
              "       'Office Building',\n",
              "       'Auto, Recreation Equipment, Construction Equipment Sales and Service',\n",
              "       'Commercial', 'Utility', 'Church', 'Privately Owned',\n",
              "       'Light Manufacturing', '(unavailable)', 'Golf Course',\n",
              "       'Rivers and Lakes', 'Shopping Center (Regional)', 'Open Storage',\n",
              "       'Shopping Center (Neighborhood, Community)', 'School (Private)',\n",
              "       'Cemetery, Mausoleum, Mortuary', 'Waste',\n",
              "       'Three Units (Any Combination)', 'Double, Duplex, or Two Units',\n",
              "       'Parking Lot (Industrial Use Property)', 'Pasture',\n",
              "       'Warehousing, Distribution, Storage', 'Store',\n",
              "       'College, University (Private)', ' ',\n",
              "       'Four Units  (Any Combination)', 'Petroleum and Gas', 'Hospital',\n",
              "       'Store Combination',\n",
              "       'Motion Picture, Radio and Television Industry',\n",
              "       'Manufactured Home Park', nan, \"Children's Day Care Center\",\n",
              "       'Restaurant, Cocktail Lounge', 'Bowling Alley',\n",
              "       'Professional Building',\n",
              "       'Club, Lodge Hall, Fraternal Organization', 'Service Station',\n",
              "       'Hotel and Motel', 'Manufactured Home', 'Animal Kennel',\n",
              "       'Non-Auto Service and Repair Shop, Paint Shop, or Laundry',\n",
              "       'Bank, Savings and Loan', 'Athletic and Amusement Facility',\n",
              "       'Homes for Aged and Others', 'Nursery or Greenhouse',\n",
              "       'Supermarket', 'Skating Rink', 'Theater', 'Lumber Yard',\n",
              "       'Food Processing Plant', 'Rights of Way', 'Rooming/Boarding House',\n",
              "       'Mineral Processing', 'Wholesale and Manufacturing Outlet',\n",
              "       'Dump Site', 'Poultry, etc.', 'Desert', 'Dairy', 'Race Track',\n",
              "       'Senior Day Care Center', 'Pipeline, Canal', 'Camp',\n",
              "       'Fruits and Nuts', 'Water Recreation', 'Field Crops'], dtype=object)"
            ]
          },
          "metadata": {
            "tags": []
          },
          "execution_count": 17
        }
      ]
    },
    {
      "cell_type": "code",
      "metadata": {
        "id": "jq8kMCG_rEXt"
      },
      "source": [
        "records_df[\"specific_use\"]= records_df[\"specific_use\"].fillna('(unavailable)')"
      ],
      "execution_count": 18,
      "outputs": []
    },
    {
      "cell_type": "code",
      "metadata": {
        "colab": {
          "base_uri": "https://localhost:8080/"
        },
        "id": "uh9gY_ejrrnt",
        "outputId": "12ad755f-3601-4256-ca1a-2ab7c136f223"
      },
      "source": [
        "records_df[\"specific_use\"].unique()"
      ],
      "execution_count": 19,
      "outputs": [
        {
          "output_type": "execute_result",
          "data": {
            "text/plain": [
              "array(['Government Owned Property', 'Industrial',\n",
              "       'Single Family Residence', 'Heavy Manufacturing',\n",
              "       'Five or More Units or Apartments (Any Combination)',\n",
              "       'Parking Lot (Commercial Use Property)', 'Department Store',\n",
              "       'Office Building',\n",
              "       'Auto, Recreation Equipment, Construction Equipment Sales and Service',\n",
              "       'Commercial', 'Utility', 'Church', 'Privately Owned',\n",
              "       'Light Manufacturing', '(unavailable)', 'Golf Course',\n",
              "       'Rivers and Lakes', 'Shopping Center (Regional)', 'Open Storage',\n",
              "       'Shopping Center (Neighborhood, Community)', 'School (Private)',\n",
              "       'Cemetery, Mausoleum, Mortuary', 'Waste',\n",
              "       'Three Units (Any Combination)', 'Double, Duplex, or Two Units',\n",
              "       'Parking Lot (Industrial Use Property)', 'Pasture',\n",
              "       'Warehousing, Distribution, Storage', 'Store',\n",
              "       'College, University (Private)', ' ',\n",
              "       'Four Units  (Any Combination)', 'Petroleum and Gas', 'Hospital',\n",
              "       'Store Combination',\n",
              "       'Motion Picture, Radio and Television Industry',\n",
              "       'Manufactured Home Park', \"Children's Day Care Center\",\n",
              "       'Restaurant, Cocktail Lounge', 'Bowling Alley',\n",
              "       'Professional Building',\n",
              "       'Club, Lodge Hall, Fraternal Organization', 'Service Station',\n",
              "       'Hotel and Motel', 'Manufactured Home', 'Animal Kennel',\n",
              "       'Non-Auto Service and Repair Shop, Paint Shop, or Laundry',\n",
              "       'Bank, Savings and Loan', 'Athletic and Amusement Facility',\n",
              "       'Homes for Aged and Others', 'Nursery or Greenhouse',\n",
              "       'Supermarket', 'Skating Rink', 'Theater', 'Lumber Yard',\n",
              "       'Food Processing Plant', 'Rights of Way', 'Rooming/Boarding House',\n",
              "       'Mineral Processing', 'Wholesale and Manufacturing Outlet',\n",
              "       'Dump Site', 'Poultry, etc.', 'Desert', 'Dairy', 'Race Track',\n",
              "       'Senior Day Care Center', 'Pipeline, Canal', 'Camp',\n",
              "       'Fruits and Nuts', 'Water Recreation', 'Field Crops'], dtype=object)"
            ]
          },
          "metadata": {
            "tags": []
          },
          "execution_count": 19
        }
      ]
    },
    {
      "cell_type": "markdown",
      "metadata": {
        "id": "Z7qACCGMsjCh"
      },
      "source": [
        "###Handling Missing Values in [\"net_value\"]"
      ]
    },
    {
      "cell_type": "code",
      "metadata": {
        "colab": {
          "base_uri": "https://localhost:8080/"
        },
        "id": "HrviLMgEsqx0",
        "outputId": "43bbf784-0470-4549-e783-e3aefde1251a"
      },
      "source": [
        "#this is good to go\n",
        "records_df['net_value'].isnull().sum()"
      ],
      "execution_count": 20,
      "outputs": [
        {
          "output_type": "execute_result",
          "data": {
            "text/plain": [
              "0"
            ]
          },
          "metadata": {
            "tags": []
          },
          "execution_count": 20
        }
      ]
    },
    {
      "cell_type": "markdown",
      "metadata": {
        "id": "-e6SP1P5tWl2"
      },
      "source": [
        "###Handling Missing Values in [\"zip_code\"]"
      ]
    },
    {
      "cell_type": "code",
      "metadata": {
        "colab": {
          "base_uri": "https://localhost:8080/"
        },
        "id": "c25sl2oHtsKp",
        "outputId": "c2a762fd-bf54-4571-8c25-61238a440900"
      },
      "source": [
        "#good to go\n",
        "records_df['zip_code'].unique()"
      ],
      "execution_count": 21,
      "outputs": [
        {
          "output_type": "execute_result",
          "data": {
            "text/plain": [
              "array([   nan, 91316., 90045., 90291., 90043., 90069., 90003., 91335.,\n",
              "       91306., 91367., 91303., 91307., 91364., 91356., 91406., 91402.,\n",
              "       91411., 91325., 91405., 91343., 91423., 91401., 90230., 91403.,\n",
              "       91436., 91346., 90210., 91602., 91243., 90077., 90049., 91605.,\n",
              "       91352., 91331., 90001., 91606., 90066., 91066., 99606., 91006.,\n",
              "       91601., 90068., 91607., 91604., 91499., 91064., 91342., 90046.,\n",
              "       91340., 91040., 91311., 91042., 91024., 90057., 91214., 91344.,\n",
              "       91345., 91353., 91504., 91505., 93510., 91612., 90601., 91608.,\n",
              "       90064., 91387., 91329., 91326., 91362., 93063., 91324., 91330.,\n",
              "       91304., 91301., 90056., 90302., 90047., 90036., 90293., 90040.,\n",
              "       90009., 90245., 90016., 90232., 90034., 90094., 90292., 90041.,\n",
              "       90015., 90011., 90005., 90063., 92008., 90037., 90031., 90006.,\n",
              "       90023., 90012., 90019., 90065., 90013., 90014., 95648., 90017.,\n",
              "       90405., 90025., 90026., 90402., 90403., 90297., 90290., 90035.,\n",
              "       90067., 90024., 90212., 90048., 90211., 90062., 94513., 90095.,\n",
              "       90039., 90631., 90027., 90022., 90272., 90020., 94707., 90270.,\n",
              "       90053., 90265., 90044., 90042., 90058., 90018., 90008., 90007.,\n",
              "       90089., 90028., 90021., 90029., 90010., 90038., 90004., 90079.,\n",
              "       90071., 90033., 92806., 90032., 91204., 91205., 91030., 91201.,\n",
              "       91206., 91105., 91101., 90209., 90052., 90002., 90059., 90239.,\n",
              "       90061., 90051., 90248., 90501., 90247., 90744., 90813., 90745.,\n",
              "       90810., 90746., 90502., 90717., 90710., 90712., 90732., 90731.,\n",
              "       90734., 90815., 92805., 90748., 90733., 90822., 90275., 92802.,\n",
              "       91302.])"
            ]
          },
          "metadata": {
            "tags": []
          },
          "execution_count": 21
        }
      ]
    },
    {
      "cell_type": "markdown",
      "metadata": {
        "id": "ts4jqOcDvaDz"
      },
      "source": [
        ""
      ]
    },
    {
      "cell_type": "markdown",
      "metadata": {
        "id": "lY2D0rTM1LBf"
      },
      "source": [
        "###Dropping Data w/o Zip Codes"
      ]
    },
    {
      "cell_type": "code",
      "metadata": {
        "id": "iGDU6SRZ1V2_"
      },
      "source": [
        "records_df = records_df[records_df['zip_code'].notna()]"
      ],
      "execution_count": 22,
      "outputs": []
    },
    {
      "cell_type": "code",
      "metadata": {
        "id": "txKUvLdi38Lc"
      },
      "source": [
        "records_df = records_df.reset_index()\n",
        "records_df = records_df.drop(columns=['index'])"
      ],
      "execution_count": 23,
      "outputs": []
    },
    {
      "cell_type": "markdown",
      "metadata": {
        "id": "6JgE_Lf0vcMY"
      },
      "source": [
        "##Consistency\n",
        "Now that I've handles missing values, I will check consistency over: \n",
        "\n",
        "\n",
        "1.   Data type\n",
        "2.   Categorical \n",
        "2.  Referential integrity\n",
        "\n",
        "\n"
      ]
    },
    {
      "cell_type": "markdown",
      "metadata": {
        "id": "QXWw3cnZzgKu"
      },
      "source": [
        "###Data type"
      ]
    },
    {
      "cell_type": "code",
      "metadata": {
        "colab": {
          "base_uri": "https://localhost:8080/"
        },
        "id": "c1uhByKgzy8L",
        "outputId": "99e4fef8-e120-4dd9-82aa-25f972cc2633"
      },
      "source": [
        "records_df.info()"
      ],
      "execution_count": 24,
      "outputs": [
        {
          "output_type": "stream",
          "text": [
            "<class 'pandas.core.frame.DataFrame'>\n",
            "RangeIndex: 754898 entries, 0 to 754897\n",
            "Data columns (total 7 columns):\n",
            " #   Column        Non-Null Count   Dtype  \n",
            "---  ------        --------------   -----  \n",
            " 0   city          754898 non-null  object \n",
            " 1   year          754898 non-null  int64  \n",
            " 2   assessor_id   754898 non-null  object \n",
            " 3   general_use   754898 non-null  object \n",
            " 4   specific_use  754898 non-null  object \n",
            " 5   net_value     754898 non-null  int64  \n",
            " 6   zip_code      754898 non-null  float64\n",
            "dtypes: float64(1), int64(2), object(4)\n",
            "memory usage: 40.3+ MB\n"
          ],
          "name": "stdout"
        }
      ]
    },
    {
      "cell_type": "code",
      "metadata": {
        "id": "-2O6lEu0z68z"
      },
      "source": [
        "#changing to category type \n",
        "records_df[\"assessor_id\"] = records_df[\"assessor_id\"].astype(\"category\")\n",
        "records_df[\"general_use\"] = records_df[\"general_use\"].astype(\"category\")\n",
        "records_df[\"specific_use\"] = records_df[\"specific_use\"].astype(\"category\")\n",
        "\n",
        "#since all NaN have been removed, change type of zip code column to int. this may change later\n",
        "records_df[\"zip_code\"] = records_df[\"zip_code\"].astype(\"int\")\n",
        "\n",
        "#change year to datetime format\n",
        "records_df[\"year\"] = pd.to_datetime(records_df['year'], format='%Y')"
      ],
      "execution_count": 25,
      "outputs": []
    },
    {
      "cell_type": "code",
      "metadata": {
        "id": "Lqz_AATz7DwX"
      },
      "source": [
        "records_df[\"year\"] = records_df[\"year\"].dt.year"
      ],
      "execution_count": 26,
      "outputs": []
    },
    {
      "cell_type": "code",
      "metadata": {
        "colab": {
          "base_uri": "https://localhost:8080/",
          "height": 419
        },
        "id": "_xgmtqrP9K7G",
        "outputId": "d61f1644-8cb8-4c10-f080-edbb5288edf4"
      },
      "source": [
        "records_df"
      ],
      "execution_count": 27,
      "outputs": [
        {
          "output_type": "execute_result",
          "data": {
            "text/html": [
              "<div>\n",
              "<style scoped>\n",
              "    .dataframe tbody tr th:only-of-type {\n",
              "        vertical-align: middle;\n",
              "    }\n",
              "\n",
              "    .dataframe tbody tr th {\n",
              "        vertical-align: top;\n",
              "    }\n",
              "\n",
              "    .dataframe thead th {\n",
              "        text-align: right;\n",
              "    }\n",
              "</style>\n",
              "<table border=\"1\" class=\"dataframe\">\n",
              "  <thead>\n",
              "    <tr style=\"text-align: right;\">\n",
              "      <th></th>\n",
              "      <th>city</th>\n",
              "      <th>year</th>\n",
              "      <th>assessor_id</th>\n",
              "      <th>general_use</th>\n",
              "      <th>specific_use</th>\n",
              "      <th>net_value</th>\n",
              "      <th>zip_code</th>\n",
              "    </tr>\n",
              "  </thead>\n",
              "  <tbody>\n",
              "    <tr>\n",
              "      <th>0</th>\n",
              "      <td>LOS ANGELES</td>\n",
              "      <td>2015</td>\n",
              "      <td>2162-012-008</td>\n",
              "      <td>Commercial</td>\n",
              "      <td>Office Building</td>\n",
              "      <td>2361783</td>\n",
              "      <td>91316</td>\n",
              "    </tr>\n",
              "    <tr>\n",
              "      <th>1</th>\n",
              "      <td>LOS ANGELES</td>\n",
              "      <td>2015</td>\n",
              "      <td>4119-002-005</td>\n",
              "      <td>Residential</td>\n",
              "      <td>Single Family Residence</td>\n",
              "      <td>562900</td>\n",
              "      <td>90045</td>\n",
              "    </tr>\n",
              "    <tr>\n",
              "      <th>2</th>\n",
              "      <td>LOS ANGELES</td>\n",
              "      <td>2015</td>\n",
              "      <td>4240-001-003</td>\n",
              "      <td>Commercial</td>\n",
              "      <td>Commercial</td>\n",
              "      <td>819688</td>\n",
              "      <td>90291</td>\n",
              "    </tr>\n",
              "    <tr>\n",
              "      <th>3</th>\n",
              "      <td>LOS ANGELES</td>\n",
              "      <td>2015</td>\n",
              "      <td>5013-019-033</td>\n",
              "      <td>Commercial</td>\n",
              "      <td>Commercial</td>\n",
              "      <td>286890</td>\n",
              "      <td>90043</td>\n",
              "    </tr>\n",
              "    <tr>\n",
              "      <th>4</th>\n",
              "      <td>LOS ANGELES</td>\n",
              "      <td>2015</td>\n",
              "      <td>5561-015-013</td>\n",
              "      <td>Residential</td>\n",
              "      <td>Single Family Residence</td>\n",
              "      <td>1754670</td>\n",
              "      <td>90069</td>\n",
              "    </tr>\n",
              "    <tr>\n",
              "      <th>...</th>\n",
              "      <td>...</td>\n",
              "      <td>...</td>\n",
              "      <td>...</td>\n",
              "      <td>...</td>\n",
              "      <td>...</td>\n",
              "      <td>...</td>\n",
              "      <td>...</td>\n",
              "    </tr>\n",
              "    <tr>\n",
              "      <th>754893</th>\n",
              "      <td>LOS ANGELES</td>\n",
              "      <td>2015</td>\n",
              "      <td>2132-007-007</td>\n",
              "      <td>Residential</td>\n",
              "      <td>Single Family Residence</td>\n",
              "      <td>478000</td>\n",
              "      <td>91335</td>\n",
              "    </tr>\n",
              "    <tr>\n",
              "      <th>754894</th>\n",
              "      <td>LOS ANGELES</td>\n",
              "      <td>2015</td>\n",
              "      <td>2132-007-012</td>\n",
              "      <td>Residential</td>\n",
              "      <td>Single Family Residence</td>\n",
              "      <td>404000</td>\n",
              "      <td>91335</td>\n",
              "    </tr>\n",
              "    <tr>\n",
              "      <th>754895</th>\n",
              "      <td>LOS ANGELES</td>\n",
              "      <td>2015</td>\n",
              "      <td>2132-007-011</td>\n",
              "      <td>Residential</td>\n",
              "      <td>Single Family Residence</td>\n",
              "      <td>67472</td>\n",
              "      <td>91335</td>\n",
              "    </tr>\n",
              "    <tr>\n",
              "      <th>754896</th>\n",
              "      <td>LOS ANGELES</td>\n",
              "      <td>2015</td>\n",
              "      <td>2132-007-010</td>\n",
              "      <td>Residential</td>\n",
              "      <td>Single Family Residence</td>\n",
              "      <td>343439</td>\n",
              "      <td>91335</td>\n",
              "    </tr>\n",
              "    <tr>\n",
              "      <th>754897</th>\n",
              "      <td>LOS ANGELES</td>\n",
              "      <td>2015</td>\n",
              "      <td>2132-007-008</td>\n",
              "      <td>Residential</td>\n",
              "      <td>Single Family Residence</td>\n",
              "      <td>66656</td>\n",
              "      <td>91335</td>\n",
              "    </tr>\n",
              "  </tbody>\n",
              "</table>\n",
              "<p>754898 rows × 7 columns</p>\n",
              "</div>"
            ],
            "text/plain": [
              "               city  year  ... net_value zip_code\n",
              "0       LOS ANGELES  2015  ...   2361783    91316\n",
              "1       LOS ANGELES  2015  ...    562900    90045\n",
              "2       LOS ANGELES  2015  ...    819688    90291\n",
              "3       LOS ANGELES  2015  ...    286890    90043\n",
              "4       LOS ANGELES  2015  ...   1754670    90069\n",
              "...             ...   ...  ...       ...      ...\n",
              "754893  LOS ANGELES  2015  ...    478000    91335\n",
              "754894  LOS ANGELES  2015  ...    404000    91335\n",
              "754895  LOS ANGELES  2015  ...     67472    91335\n",
              "754896  LOS ANGELES  2015  ...    343439    91335\n",
              "754897  LOS ANGELES  2015  ...     66656    91335\n",
              "\n",
              "[754898 rows x 7 columns]"
            ]
          },
          "metadata": {
            "tags": []
          },
          "execution_count": 27
        }
      ]
    },
    {
      "cell_type": "code",
      "metadata": {
        "colab": {
          "base_uri": "https://localhost:8080/"
        },
        "id": "Utix0Z9B81v6",
        "outputId": "8923adca-24f2-4a0a-b498-de2fc22d0b14"
      },
      "source": [
        "records_df.info()"
      ],
      "execution_count": 28,
      "outputs": [
        {
          "output_type": "stream",
          "text": [
            "<class 'pandas.core.frame.DataFrame'>\n",
            "RangeIndex: 754898 entries, 0 to 754897\n",
            "Data columns (total 7 columns):\n",
            " #   Column        Non-Null Count   Dtype   \n",
            "---  ------        --------------   -----   \n",
            " 0   city          754898 non-null  object  \n",
            " 1   year          754898 non-null  int64   \n",
            " 2   assessor_id   754898 non-null  category\n",
            " 3   general_use   754898 non-null  category\n",
            " 4   specific_use  754898 non-null  category\n",
            " 5   net_value     754898 non-null  int64   \n",
            " 6   zip_code      754898 non-null  int64   \n",
            "dtypes: category(3), int64(3), object(1)\n",
            "memory usage: 53.1+ MB\n"
          ],
          "name": "stdout"
        }
      ]
    },
    {
      "cell_type": "markdown",
      "metadata": {
        "id": "bzxGEx1u9j9Q"
      },
      "source": [
        "###Categorical Consistency "
      ]
    },
    {
      "cell_type": "code",
      "metadata": {
        "colab": {
          "base_uri": "https://localhost:8080/"
        },
        "id": "x7CqQViw9m2f",
        "outputId": "8aabd3e6-fcce-4a73-9b9e-9c2d86f7b4cc"
      },
      "source": [
        "#consistent \n",
        "records_df[\"general_use\"].unique()"
      ],
      "execution_count": 29,
      "outputs": [
        {
          "output_type": "execute_result",
          "data": {
            "text/plain": [
              "['Commercial', 'Residential', 'Institutional', 'Recreational', 'Industrial', 'Miscellaneous', '(unavailable)', 'Irrigated Farm', 'Dry Farm']\n",
              "Categories (9, object): ['Commercial', 'Residential', 'Institutional', 'Recreational', ...,\n",
              "                         'Miscellaneous', '(unavailable)', 'Irrigated Farm', 'Dry Farm']"
            ]
          },
          "metadata": {
            "tags": []
          },
          "execution_count": 29
        }
      ]
    },
    {
      "cell_type": "code",
      "metadata": {
        "colab": {
          "base_uri": "https://localhost:8080/"
        },
        "id": "bMibny9_9_5R",
        "outputId": "699d2840-ba75-43db-ccc7-8e0032da20de"
      },
      "source": [
        "#consistent \n",
        "records_df[\"specific_use\"]"
      ],
      "execution_count": 30,
      "outputs": [
        {
          "output_type": "execute_result",
          "data": {
            "text/plain": [
              "0                 Office Building\n",
              "1         Single Family Residence\n",
              "2                      Commercial\n",
              "3                      Commercial\n",
              "4         Single Family Residence\n",
              "                   ...           \n",
              "754893    Single Family Residence\n",
              "754894    Single Family Residence\n",
              "754895    Single Family Residence\n",
              "754896    Single Family Residence\n",
              "754897    Single Family Residence\n",
              "Name: specific_use, Length: 754898, dtype: category\n",
              "Categories (68, object): [' ', '(unavailable)', 'Animal Kennel',\n",
              "                          'Athletic and Amusement Facility', ..., 'Warehousing, Distribution, Storage', 'Waste',\n",
              "                          'Water Recreation', 'Wholesale and Manufacturing Outlet']"
            ]
          },
          "metadata": {
            "tags": []
          },
          "execution_count": 30
        }
      ]
    },
    {
      "cell_type": "markdown",
      "metadata": {
        "id": "zXeLAAXO-jbL"
      },
      "source": [
        "###  Referential integrity"
      ]
    },
    {
      "cell_type": "code",
      "metadata": {
        "id": "9lA8x_6G-qgS"
      },
      "source": [
        "#making the assessor_id a unique ID per parcel per year\n",
        "records_df['assessor_id'] = records_df[\"assessor_id\"].apply(lambda x: x +\"-2015\")"
      ],
      "execution_count": 31,
      "outputs": []
    },
    {
      "cell_type": "code",
      "metadata": {
        "colab": {
          "base_uri": "https://localhost:8080/",
          "height": 419
        },
        "id": "n_OkPZtP-xy-",
        "outputId": "1a00a0e0-7a3e-423d-c202-5618bf271901"
      },
      "source": [
        "records_df"
      ],
      "execution_count": 32,
      "outputs": [
        {
          "output_type": "execute_result",
          "data": {
            "text/html": [
              "<div>\n",
              "<style scoped>\n",
              "    .dataframe tbody tr th:only-of-type {\n",
              "        vertical-align: middle;\n",
              "    }\n",
              "\n",
              "    .dataframe tbody tr th {\n",
              "        vertical-align: top;\n",
              "    }\n",
              "\n",
              "    .dataframe thead th {\n",
              "        text-align: right;\n",
              "    }\n",
              "</style>\n",
              "<table border=\"1\" class=\"dataframe\">\n",
              "  <thead>\n",
              "    <tr style=\"text-align: right;\">\n",
              "      <th></th>\n",
              "      <th>city</th>\n",
              "      <th>year</th>\n",
              "      <th>assessor_id</th>\n",
              "      <th>general_use</th>\n",
              "      <th>specific_use</th>\n",
              "      <th>net_value</th>\n",
              "      <th>zip_code</th>\n",
              "    </tr>\n",
              "  </thead>\n",
              "  <tbody>\n",
              "    <tr>\n",
              "      <th>0</th>\n",
              "      <td>LOS ANGELES</td>\n",
              "      <td>2015</td>\n",
              "      <td>2162-012-008-2015</td>\n",
              "      <td>Commercial</td>\n",
              "      <td>Office Building</td>\n",
              "      <td>2361783</td>\n",
              "      <td>91316</td>\n",
              "    </tr>\n",
              "    <tr>\n",
              "      <th>1</th>\n",
              "      <td>LOS ANGELES</td>\n",
              "      <td>2015</td>\n",
              "      <td>4119-002-005-2015</td>\n",
              "      <td>Residential</td>\n",
              "      <td>Single Family Residence</td>\n",
              "      <td>562900</td>\n",
              "      <td>90045</td>\n",
              "    </tr>\n",
              "    <tr>\n",
              "      <th>2</th>\n",
              "      <td>LOS ANGELES</td>\n",
              "      <td>2015</td>\n",
              "      <td>4240-001-003-2015</td>\n",
              "      <td>Commercial</td>\n",
              "      <td>Commercial</td>\n",
              "      <td>819688</td>\n",
              "      <td>90291</td>\n",
              "    </tr>\n",
              "    <tr>\n",
              "      <th>3</th>\n",
              "      <td>LOS ANGELES</td>\n",
              "      <td>2015</td>\n",
              "      <td>5013-019-033-2015</td>\n",
              "      <td>Commercial</td>\n",
              "      <td>Commercial</td>\n",
              "      <td>286890</td>\n",
              "      <td>90043</td>\n",
              "    </tr>\n",
              "    <tr>\n",
              "      <th>4</th>\n",
              "      <td>LOS ANGELES</td>\n",
              "      <td>2015</td>\n",
              "      <td>5561-015-013-2015</td>\n",
              "      <td>Residential</td>\n",
              "      <td>Single Family Residence</td>\n",
              "      <td>1754670</td>\n",
              "      <td>90069</td>\n",
              "    </tr>\n",
              "    <tr>\n",
              "      <th>...</th>\n",
              "      <td>...</td>\n",
              "      <td>...</td>\n",
              "      <td>...</td>\n",
              "      <td>...</td>\n",
              "      <td>...</td>\n",
              "      <td>...</td>\n",
              "      <td>...</td>\n",
              "    </tr>\n",
              "    <tr>\n",
              "      <th>754893</th>\n",
              "      <td>LOS ANGELES</td>\n",
              "      <td>2015</td>\n",
              "      <td>2132-007-007-2015</td>\n",
              "      <td>Residential</td>\n",
              "      <td>Single Family Residence</td>\n",
              "      <td>478000</td>\n",
              "      <td>91335</td>\n",
              "    </tr>\n",
              "    <tr>\n",
              "      <th>754894</th>\n",
              "      <td>LOS ANGELES</td>\n",
              "      <td>2015</td>\n",
              "      <td>2132-007-012-2015</td>\n",
              "      <td>Residential</td>\n",
              "      <td>Single Family Residence</td>\n",
              "      <td>404000</td>\n",
              "      <td>91335</td>\n",
              "    </tr>\n",
              "    <tr>\n",
              "      <th>754895</th>\n",
              "      <td>LOS ANGELES</td>\n",
              "      <td>2015</td>\n",
              "      <td>2132-007-011-2015</td>\n",
              "      <td>Residential</td>\n",
              "      <td>Single Family Residence</td>\n",
              "      <td>67472</td>\n",
              "      <td>91335</td>\n",
              "    </tr>\n",
              "    <tr>\n",
              "      <th>754896</th>\n",
              "      <td>LOS ANGELES</td>\n",
              "      <td>2015</td>\n",
              "      <td>2132-007-010-2015</td>\n",
              "      <td>Residential</td>\n",
              "      <td>Single Family Residence</td>\n",
              "      <td>343439</td>\n",
              "      <td>91335</td>\n",
              "    </tr>\n",
              "    <tr>\n",
              "      <th>754897</th>\n",
              "      <td>LOS ANGELES</td>\n",
              "      <td>2015</td>\n",
              "      <td>2132-007-008-2015</td>\n",
              "      <td>Residential</td>\n",
              "      <td>Single Family Residence</td>\n",
              "      <td>66656</td>\n",
              "      <td>91335</td>\n",
              "    </tr>\n",
              "  </tbody>\n",
              "</table>\n",
              "<p>754898 rows × 7 columns</p>\n",
              "</div>"
            ],
            "text/plain": [
              "               city  year  ... net_value zip_code\n",
              "0       LOS ANGELES  2015  ...   2361783    91316\n",
              "1       LOS ANGELES  2015  ...    562900    90045\n",
              "2       LOS ANGELES  2015  ...    819688    90291\n",
              "3       LOS ANGELES  2015  ...    286890    90043\n",
              "4       LOS ANGELES  2015  ...   1754670    90069\n",
              "...             ...   ...  ...       ...      ...\n",
              "754893  LOS ANGELES  2015  ...    478000    91335\n",
              "754894  LOS ANGELES  2015  ...    404000    91335\n",
              "754895  LOS ANGELES  2015  ...     67472    91335\n",
              "754896  LOS ANGELES  2015  ...    343439    91335\n",
              "754897  LOS ANGELES  2015  ...     66656    91335\n",
              "\n",
              "[754898 rows x 7 columns]"
            ]
          },
          "metadata": {
            "tags": []
          },
          "execution_count": 32
        }
      ]
    },
    {
      "cell_type": "markdown",
      "metadata": {
        "id": "aYDRoKMS_nb5"
      },
      "source": [
        "##Exporting Data"
      ]
    },
    {
      "cell_type": "code",
      "metadata": {
        "id": "Wc8-dw69_qmW"
      },
      "source": [
        "records_df.to_csv(\"gdrive/My Drive/Team 93 Capstone Project/data/Assessor_Parcels_Data_2015_CLEANED.csv\")"
      ],
      "execution_count": 33,
      "outputs": []
    },
    {
      "cell_type": "code",
      "metadata": {
        "id": "zHEo40z8_9R0"
      },
      "source": [
        ""
      ],
      "execution_count": null,
      "outputs": []
    }
  ]
}